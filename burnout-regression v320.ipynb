{
 "cells": [
  {
   "cell_type": "markdown",
   "id": "f721a883-067c-40ae-a77b-5dd452577d5f",
   "metadata": {},
   "source": [
    "## Upgrade & Import Libraries"
   ]
  },
  {
   "cell_type": "code",
   "execution_count": 1,
   "id": "46ad16a1-4f8f-44f8-ae2f-4a4fb6017c24",
   "metadata": {
    "tags": []
   },
   "outputs": [
    {
     "name": "stdout",
     "output_type": "stream",
     "text": [
      "Requirement already satisfied: numexpr in /home/ec2-user/anaconda3/envs/python3/lib/python3.10/site-packages (2.8.8)\n",
      "Collecting numexpr\n",
      "  Downloading numexpr-2.9.0-cp310-cp310-manylinux_2_17_x86_64.manylinux2014_x86_64.whl.metadata (7.9 kB)\n",
      "Requirement already satisfied: numpy>=1.13.3 in /home/ec2-user/anaconda3/envs/python3/lib/python3.10/site-packages (from numexpr) (1.22.4)\n",
      "Downloading numexpr-2.9.0-cp310-cp310-manylinux_2_17_x86_64.manylinux2014_x86_64.whl (375 kB)\n",
      "\u001b[2K   \u001b[90m━━━━━━━━━━━━━━━━━━━━━━━━━━━━━━━━━━━━━━━━\u001b[0m \u001b[32m375.2/375.2 kB\u001b[0m \u001b[31m8.1 MB/s\u001b[0m eta \u001b[36m0:00:00\u001b[0m:00:01\u001b[0m\n",
      "\u001b[?25hInstalling collected packages: numexpr\n",
      "  Attempting uninstall: numexpr\n",
      "    Found existing installation: numexpr 2.8.8\n",
      "    Uninstalling numexpr-2.8.8:\n",
      "      Successfully uninstalled numexpr-2.8.8\n",
      "Successfully installed numexpr-2.9.0\n"
     ]
    }
   ],
   "source": [
    "# This command upgrades the 'numexpr' library using pip\n",
    "!pip install --upgrade numexpr"
   ]
  },
  {
   "cell_type": "code",
   "execution_count": 2,
   "id": "986cfbb3-246e-4cf0-a775-48cfab96c242",
   "metadata": {
    "tags": []
   },
   "outputs": [
    {
     "name": "stdout",
     "output_type": "stream",
     "text": [
      "sagemaker.config INFO - Not applying SDK defaults from location: /etc/xdg/sagemaker/config.yaml\n",
      "sagemaker.config INFO - Not applying SDK defaults from location: /home/ec2-user/.config/sagemaker/config.yaml\n"
     ]
    }
   ],
   "source": [
    "# Import necessary libraries and modules from SageMaker and boto3\n",
    "import sagemaker\n",
    "from sagemaker import get_execution_role\n",
    "from sagemaker.amazon.amazon_estimator import get_image_uri\n",
    "from sagemaker.inputs import TrainingInput\n",
    "import boto3\n",
    "import os\n",
    "import numpy as np"
   ]
  },
  {
   "cell_type": "markdown",
   "id": "2da39860-356b-49a0-a452-90da369a242e",
   "metadata": {},
   "source": [
    "## Set Up SageMaker Session and Role"
   ]
  },
  {
   "cell_type": "code",
   "execution_count": 3,
   "id": "9e99787b-2c4e-4b74-a973-73ac06ccf30d",
   "metadata": {
    "tags": []
   },
   "outputs": [],
   "source": [
    "# Create a SageMaker session, which manages interactions with SageMaker services\n",
    "sagemaker_session = sagemaker.Session()\n",
    "\n",
    "# Get the IAM execution role used for SageMaker to access AWS resources\n",
    "role = get_execution_role()\n",
    "\n",
    "# Get the AWS region associated with the SageMaker session\n",
    "region = sagemaker_session.boto_region_name"
   ]
  },
  {
   "cell_type": "code",
   "execution_count": 4,
   "id": "c281ef64-298c-47a6-9008-acc53e771d38",
   "metadata": {
    "tags": []
   },
   "outputs": [
    {
     "name": "stdout",
     "output_type": "stream",
     "text": [
      "arn:aws:iam::637423178109:role/LabRole\n",
      "us-east-1\n"
     ]
    }
   ],
   "source": [
    "print(role)\n",
    "print(region)"
   ]
  },
  {
   "cell_type": "markdown",
   "id": "86bcbe85-1ebe-401e-8551-3578948c2db7",
   "metadata": {},
   "source": [
    "## Data Loading"
   ]
  },
  {
   "cell_type": "code",
   "execution_count": 5,
   "id": "acdbaca8-5dcf-4917-84a8-45f5d4f6db11",
   "metadata": {
    "tags": []
   },
   "outputs": [],
   "source": [
    "# Import the pandas library as 'pd' for data manipulation and analysis\n",
    "import pandas as pd\n",
    "\n",
    "# Import the train_test_split function from scikit-learn for data splitting\n",
    "from sklearn.model_selection import train_test_split"
   ]
  },
  {
   "cell_type": "code",
   "execution_count": 6,
   "id": "3b02aa4d-c3d2-4b2f-aad2-865026ec6dac",
   "metadata": {
    "tags": []
   },
   "outputs": [],
   "source": [
    "burnout_data = pd.read_csv('burnoutdata.csv')"
   ]
  },
  {
   "cell_type": "code",
   "execution_count": 7,
   "id": "41e5ef34-ee71-4462-8ec2-50ae25191b6e",
   "metadata": {
    "tags": []
   },
   "outputs": [
    {
     "data": {
      "text/html": [
       "<div>\n",
       "<style scoped>\n",
       "    .dataframe tbody tr th:only-of-type {\n",
       "        vertical-align: middle;\n",
       "    }\n",
       "\n",
       "    .dataframe tbody tr th {\n",
       "        vertical-align: top;\n",
       "    }\n",
       "\n",
       "    .dataframe thead th {\n",
       "        text-align: right;\n",
       "    }\n",
       "</style>\n",
       "<table border=\"1\" class=\"dataframe\">\n",
       "  <thead>\n",
       "    <tr style=\"text-align: right;\">\n",
       "      <th></th>\n",
       "      <th>Employee ID</th>\n",
       "      <th>Date of Joining</th>\n",
       "      <th>Gender</th>\n",
       "      <th>Company Type</th>\n",
       "      <th>WFH Setup Available</th>\n",
       "      <th>Designation</th>\n",
       "      <th>Resource Allocation</th>\n",
       "      <th>Mental Fatigue Score</th>\n",
       "      <th>Burn Rate</th>\n",
       "    </tr>\n",
       "  </thead>\n",
       "  <tbody>\n",
       "    <tr>\n",
       "      <th>0</th>\n",
       "      <td>fffe32003000360033003200</td>\n",
       "      <td>2008-09-30</td>\n",
       "      <td>Female</td>\n",
       "      <td>Service</td>\n",
       "      <td>No</td>\n",
       "      <td>2.0</td>\n",
       "      <td>3.0</td>\n",
       "      <td>3.8</td>\n",
       "      <td>0.16</td>\n",
       "    </tr>\n",
       "    <tr>\n",
       "      <th>1</th>\n",
       "      <td>fffe3700360033003500</td>\n",
       "      <td>2008-11-30</td>\n",
       "      <td>Male</td>\n",
       "      <td>Service</td>\n",
       "      <td>Yes</td>\n",
       "      <td>1.0</td>\n",
       "      <td>2.0</td>\n",
       "      <td>5.0</td>\n",
       "      <td>0.36</td>\n",
       "    </tr>\n",
       "    <tr>\n",
       "      <th>2</th>\n",
       "      <td>fffe31003300320037003900</td>\n",
       "      <td>2008-03-10</td>\n",
       "      <td>Female</td>\n",
       "      <td>Product</td>\n",
       "      <td>Yes</td>\n",
       "      <td>2.0</td>\n",
       "      <td>NaN</td>\n",
       "      <td>5.8</td>\n",
       "      <td>0.49</td>\n",
       "    </tr>\n",
       "    <tr>\n",
       "      <th>3</th>\n",
       "      <td>fffe32003400380032003900</td>\n",
       "      <td>2008-11-03</td>\n",
       "      <td>Male</td>\n",
       "      <td>Service</td>\n",
       "      <td>Yes</td>\n",
       "      <td>1.0</td>\n",
       "      <td>1.0</td>\n",
       "      <td>2.6</td>\n",
       "      <td>0.20</td>\n",
       "    </tr>\n",
       "    <tr>\n",
       "      <th>4</th>\n",
       "      <td>fffe31003900340031003600</td>\n",
       "      <td>2008-07-24</td>\n",
       "      <td>Female</td>\n",
       "      <td>Service</td>\n",
       "      <td>No</td>\n",
       "      <td>3.0</td>\n",
       "      <td>7.0</td>\n",
       "      <td>6.9</td>\n",
       "      <td>0.52</td>\n",
       "    </tr>\n",
       "    <tr>\n",
       "      <th>...</th>\n",
       "      <td>...</td>\n",
       "      <td>...</td>\n",
       "      <td>...</td>\n",
       "      <td>...</td>\n",
       "      <td>...</td>\n",
       "      <td>...</td>\n",
       "      <td>...</td>\n",
       "      <td>...</td>\n",
       "      <td>...</td>\n",
       "    </tr>\n",
       "    <tr>\n",
       "      <th>22745</th>\n",
       "      <td>fffe31003500370039003100</td>\n",
       "      <td>2008-12-30</td>\n",
       "      <td>Female</td>\n",
       "      <td>Service</td>\n",
       "      <td>No</td>\n",
       "      <td>1.0</td>\n",
       "      <td>3.0</td>\n",
       "      <td>NaN</td>\n",
       "      <td>0.41</td>\n",
       "    </tr>\n",
       "    <tr>\n",
       "      <th>22746</th>\n",
       "      <td>fffe33003000350031003800</td>\n",
       "      <td>2008-01-19</td>\n",
       "      <td>Female</td>\n",
       "      <td>Product</td>\n",
       "      <td>Yes</td>\n",
       "      <td>3.0</td>\n",
       "      <td>6.0</td>\n",
       "      <td>6.7</td>\n",
       "      <td>0.59</td>\n",
       "    </tr>\n",
       "    <tr>\n",
       "      <th>22747</th>\n",
       "      <td>fffe390032003000</td>\n",
       "      <td>2008-11-05</td>\n",
       "      <td>Male</td>\n",
       "      <td>Service</td>\n",
       "      <td>Yes</td>\n",
       "      <td>3.0</td>\n",
       "      <td>7.0</td>\n",
       "      <td>NaN</td>\n",
       "      <td>0.72</td>\n",
       "    </tr>\n",
       "    <tr>\n",
       "      <th>22748</th>\n",
       "      <td>fffe33003300320036003900</td>\n",
       "      <td>2008-01-10</td>\n",
       "      <td>Female</td>\n",
       "      <td>Service</td>\n",
       "      <td>No</td>\n",
       "      <td>2.0</td>\n",
       "      <td>5.0</td>\n",
       "      <td>5.9</td>\n",
       "      <td>0.52</td>\n",
       "    </tr>\n",
       "    <tr>\n",
       "      <th>22749</th>\n",
       "      <td>fffe3400350031003800</td>\n",
       "      <td>2008-01-06</td>\n",
       "      <td>Male</td>\n",
       "      <td>Product</td>\n",
       "      <td>No</td>\n",
       "      <td>3.0</td>\n",
       "      <td>6.0</td>\n",
       "      <td>7.8</td>\n",
       "      <td>0.61</td>\n",
       "    </tr>\n",
       "  </tbody>\n",
       "</table>\n",
       "<p>22750 rows × 9 columns</p>\n",
       "</div>"
      ],
      "text/plain": [
       "                    Employee ID Date of Joining  Gender Company Type  \\\n",
       "0      fffe32003000360033003200      2008-09-30  Female      Service   \n",
       "1          fffe3700360033003500      2008-11-30    Male      Service   \n",
       "2      fffe31003300320037003900      2008-03-10  Female      Product   \n",
       "3      fffe32003400380032003900      2008-11-03    Male      Service   \n",
       "4      fffe31003900340031003600      2008-07-24  Female      Service   \n",
       "...                         ...             ...     ...          ...   \n",
       "22745  fffe31003500370039003100      2008-12-30  Female      Service   \n",
       "22746  fffe33003000350031003800      2008-01-19  Female      Product   \n",
       "22747          fffe390032003000      2008-11-05    Male      Service   \n",
       "22748  fffe33003300320036003900      2008-01-10  Female      Service   \n",
       "22749      fffe3400350031003800      2008-01-06    Male      Product   \n",
       "\n",
       "      WFH Setup Available  Designation  Resource Allocation  \\\n",
       "0                      No          2.0                  3.0   \n",
       "1                     Yes          1.0                  2.0   \n",
       "2                     Yes          2.0                  NaN   \n",
       "3                     Yes          1.0                  1.0   \n",
       "4                      No          3.0                  7.0   \n",
       "...                   ...          ...                  ...   \n",
       "22745                  No          1.0                  3.0   \n",
       "22746                 Yes          3.0                  6.0   \n",
       "22747                 Yes          3.0                  7.0   \n",
       "22748                  No          2.0                  5.0   \n",
       "22749                  No          3.0                  6.0   \n",
       "\n",
       "       Mental Fatigue Score  Burn Rate  \n",
       "0                       3.8       0.16  \n",
       "1                       5.0       0.36  \n",
       "2                       5.8       0.49  \n",
       "3                       2.6       0.20  \n",
       "4                       6.9       0.52  \n",
       "...                     ...        ...  \n",
       "22745                   NaN       0.41  \n",
       "22746                   6.7       0.59  \n",
       "22747                   NaN       0.72  \n",
       "22748                   5.9       0.52  \n",
       "22749                   7.8       0.61  \n",
       "\n",
       "[22750 rows x 9 columns]"
      ]
     },
     "execution_count": 7,
     "metadata": {},
     "output_type": "execute_result"
    }
   ],
   "source": [
    "burnout_data"
   ]
  },
  {
   "cell_type": "markdown",
   "id": "e82c6817-b070-4b58-ab3f-1f15e6918828",
   "metadata": {
    "tags": []
   },
   "source": [
    "## Data Cleaning"
   ]
  },
  {
   "cell_type": "code",
   "execution_count": 8,
   "id": "c8c1a8b5-7718-47d1-8502-9d6a957ae31b",
   "metadata": {
    "tags": []
   },
   "outputs": [
    {
     "data": {
      "text/html": [
       "<div>\n",
       "<style scoped>\n",
       "    .dataframe tbody tr th:only-of-type {\n",
       "        vertical-align: middle;\n",
       "    }\n",
       "\n",
       "    .dataframe tbody tr th {\n",
       "        vertical-align: top;\n",
       "    }\n",
       "\n",
       "    .dataframe thead th {\n",
       "        text-align: right;\n",
       "    }\n",
       "</style>\n",
       "<table border=\"1\" class=\"dataframe\">\n",
       "  <thead>\n",
       "    <tr style=\"text-align: right;\">\n",
       "      <th></th>\n",
       "      <th>Designation</th>\n",
       "      <th>Resource Allocation</th>\n",
       "      <th>Mental Fatigue Score</th>\n",
       "      <th>Burn Rate</th>\n",
       "    </tr>\n",
       "  </thead>\n",
       "  <tbody>\n",
       "    <tr>\n",
       "      <th>count</th>\n",
       "      <td>22750.000000</td>\n",
       "      <td>21369.000000</td>\n",
       "      <td>20633.000000</td>\n",
       "      <td>21626.000000</td>\n",
       "    </tr>\n",
       "    <tr>\n",
       "      <th>mean</th>\n",
       "      <td>2.178725</td>\n",
       "      <td>4.481398</td>\n",
       "      <td>5.728188</td>\n",
       "      <td>0.452005</td>\n",
       "    </tr>\n",
       "    <tr>\n",
       "      <th>std</th>\n",
       "      <td>1.135145</td>\n",
       "      <td>2.047211</td>\n",
       "      <td>1.920839</td>\n",
       "      <td>0.198226</td>\n",
       "    </tr>\n",
       "    <tr>\n",
       "      <th>min</th>\n",
       "      <td>0.000000</td>\n",
       "      <td>1.000000</td>\n",
       "      <td>0.000000</td>\n",
       "      <td>0.000000</td>\n",
       "    </tr>\n",
       "    <tr>\n",
       "      <th>25%</th>\n",
       "      <td>1.000000</td>\n",
       "      <td>3.000000</td>\n",
       "      <td>4.600000</td>\n",
       "      <td>0.310000</td>\n",
       "    </tr>\n",
       "    <tr>\n",
       "      <th>50%</th>\n",
       "      <td>2.000000</td>\n",
       "      <td>4.000000</td>\n",
       "      <td>5.900000</td>\n",
       "      <td>0.450000</td>\n",
       "    </tr>\n",
       "    <tr>\n",
       "      <th>75%</th>\n",
       "      <td>3.000000</td>\n",
       "      <td>6.000000</td>\n",
       "      <td>7.100000</td>\n",
       "      <td>0.590000</td>\n",
       "    </tr>\n",
       "    <tr>\n",
       "      <th>max</th>\n",
       "      <td>5.000000</td>\n",
       "      <td>10.000000</td>\n",
       "      <td>10.000000</td>\n",
       "      <td>1.000000</td>\n",
       "    </tr>\n",
       "  </tbody>\n",
       "</table>\n",
       "</div>"
      ],
      "text/plain": [
       "        Designation  Resource Allocation  Mental Fatigue Score     Burn Rate\n",
       "count  22750.000000         21369.000000          20633.000000  21626.000000\n",
       "mean       2.178725             4.481398              5.728188      0.452005\n",
       "std        1.135145             2.047211              1.920839      0.198226\n",
       "min        0.000000             1.000000              0.000000      0.000000\n",
       "25%        1.000000             3.000000              4.600000      0.310000\n",
       "50%        2.000000             4.000000              5.900000      0.450000\n",
       "75%        3.000000             6.000000              7.100000      0.590000\n",
       "max        5.000000            10.000000             10.000000      1.000000"
      ]
     },
     "execution_count": 8,
     "metadata": {},
     "output_type": "execute_result"
    }
   ],
   "source": [
    "burnout_data.describe()"
   ]
  },
  {
   "cell_type": "code",
   "execution_count": 9,
   "id": "2913b1df-5a29-4a08-be6b-8314fadca43a",
   "metadata": {
    "tags": []
   },
   "outputs": [],
   "source": [
    "# Designation is a score of an employee's seniority, rated from 0.0 to 5.0\n",
    "# Resource Allocation is a score of an employee's work hour load, rated from 1.0 to 10.0\n",
    "# Mental Fatigue is a score of an employee's stress, rated from 0.0 to 10.0\n",
    "# Burn Rate is a float in the range of 0.0 to 1.0"
   ]
  },
  {
   "cell_type": "code",
   "execution_count": 10,
   "id": "8b476b74-b330-4583-86bc-43033948ecb9",
   "metadata": {
    "tags": []
   },
   "outputs": [],
   "source": [
    "# Dropping Employee ID which is a non-numerical field\n",
    "burnout_data = burnout_data.drop(['Employee ID'], axis=1)"
   ]
  },
  {
   "cell_type": "code",
   "execution_count": 11,
   "id": "49cb4881-5ede-4046-b8ab-f8a8b297bc2c",
   "metadata": {
    "tags": []
   },
   "outputs": [
    {
     "data": {
      "text/html": [
       "<div>\n",
       "<style scoped>\n",
       "    .dataframe tbody tr th:only-of-type {\n",
       "        vertical-align: middle;\n",
       "    }\n",
       "\n",
       "    .dataframe tbody tr th {\n",
       "        vertical-align: top;\n",
       "    }\n",
       "\n",
       "    .dataframe thead th {\n",
       "        text-align: right;\n",
       "    }\n",
       "</style>\n",
       "<table border=\"1\" class=\"dataframe\">\n",
       "  <thead>\n",
       "    <tr style=\"text-align: right;\">\n",
       "      <th></th>\n",
       "      <th>Date of Joining</th>\n",
       "      <th>Gender</th>\n",
       "      <th>Company Type</th>\n",
       "      <th>WFH Setup Available</th>\n",
       "      <th>Designation</th>\n",
       "      <th>Resource Allocation</th>\n",
       "      <th>Mental Fatigue Score</th>\n",
       "      <th>Burn Rate</th>\n",
       "    </tr>\n",
       "  </thead>\n",
       "  <tbody>\n",
       "    <tr>\n",
       "      <th>0</th>\n",
       "      <td>False</td>\n",
       "      <td>False</td>\n",
       "      <td>False</td>\n",
       "      <td>False</td>\n",
       "      <td>False</td>\n",
       "      <td>False</td>\n",
       "      <td>False</td>\n",
       "      <td>False</td>\n",
       "    </tr>\n",
       "    <tr>\n",
       "      <th>1</th>\n",
       "      <td>False</td>\n",
       "      <td>False</td>\n",
       "      <td>False</td>\n",
       "      <td>False</td>\n",
       "      <td>False</td>\n",
       "      <td>False</td>\n",
       "      <td>False</td>\n",
       "      <td>False</td>\n",
       "    </tr>\n",
       "    <tr>\n",
       "      <th>2</th>\n",
       "      <td>False</td>\n",
       "      <td>False</td>\n",
       "      <td>False</td>\n",
       "      <td>False</td>\n",
       "      <td>False</td>\n",
       "      <td>True</td>\n",
       "      <td>False</td>\n",
       "      <td>False</td>\n",
       "    </tr>\n",
       "    <tr>\n",
       "      <th>3</th>\n",
       "      <td>False</td>\n",
       "      <td>False</td>\n",
       "      <td>False</td>\n",
       "      <td>False</td>\n",
       "      <td>False</td>\n",
       "      <td>False</td>\n",
       "      <td>False</td>\n",
       "      <td>False</td>\n",
       "    </tr>\n",
       "    <tr>\n",
       "      <th>4</th>\n",
       "      <td>False</td>\n",
       "      <td>False</td>\n",
       "      <td>False</td>\n",
       "      <td>False</td>\n",
       "      <td>False</td>\n",
       "      <td>False</td>\n",
       "      <td>False</td>\n",
       "      <td>False</td>\n",
       "    </tr>\n",
       "    <tr>\n",
       "      <th>...</th>\n",
       "      <td>...</td>\n",
       "      <td>...</td>\n",
       "      <td>...</td>\n",
       "      <td>...</td>\n",
       "      <td>...</td>\n",
       "      <td>...</td>\n",
       "      <td>...</td>\n",
       "      <td>...</td>\n",
       "    </tr>\n",
       "    <tr>\n",
       "      <th>22745</th>\n",
       "      <td>False</td>\n",
       "      <td>False</td>\n",
       "      <td>False</td>\n",
       "      <td>False</td>\n",
       "      <td>False</td>\n",
       "      <td>False</td>\n",
       "      <td>True</td>\n",
       "      <td>False</td>\n",
       "    </tr>\n",
       "    <tr>\n",
       "      <th>22746</th>\n",
       "      <td>False</td>\n",
       "      <td>False</td>\n",
       "      <td>False</td>\n",
       "      <td>False</td>\n",
       "      <td>False</td>\n",
       "      <td>False</td>\n",
       "      <td>False</td>\n",
       "      <td>False</td>\n",
       "    </tr>\n",
       "    <tr>\n",
       "      <th>22747</th>\n",
       "      <td>False</td>\n",
       "      <td>False</td>\n",
       "      <td>False</td>\n",
       "      <td>False</td>\n",
       "      <td>False</td>\n",
       "      <td>False</td>\n",
       "      <td>True</td>\n",
       "      <td>False</td>\n",
       "    </tr>\n",
       "    <tr>\n",
       "      <th>22748</th>\n",
       "      <td>False</td>\n",
       "      <td>False</td>\n",
       "      <td>False</td>\n",
       "      <td>False</td>\n",
       "      <td>False</td>\n",
       "      <td>False</td>\n",
       "      <td>False</td>\n",
       "      <td>False</td>\n",
       "    </tr>\n",
       "    <tr>\n",
       "      <th>22749</th>\n",
       "      <td>False</td>\n",
       "      <td>False</td>\n",
       "      <td>False</td>\n",
       "      <td>False</td>\n",
       "      <td>False</td>\n",
       "      <td>False</td>\n",
       "      <td>False</td>\n",
       "      <td>False</td>\n",
       "    </tr>\n",
       "  </tbody>\n",
       "</table>\n",
       "<p>22750 rows × 8 columns</p>\n",
       "</div>"
      ],
      "text/plain": [
       "       Date of Joining  Gender  Company Type  WFH Setup Available  \\\n",
       "0                False   False         False                False   \n",
       "1                False   False         False                False   \n",
       "2                False   False         False                False   \n",
       "3                False   False         False                False   \n",
       "4                False   False         False                False   \n",
       "...                ...     ...           ...                  ...   \n",
       "22745            False   False         False                False   \n",
       "22746            False   False         False                False   \n",
       "22747            False   False         False                False   \n",
       "22748            False   False         False                False   \n",
       "22749            False   False         False                False   \n",
       "\n",
       "       Designation  Resource Allocation  Mental Fatigue Score  Burn Rate  \n",
       "0            False                False                 False      False  \n",
       "1            False                False                 False      False  \n",
       "2            False                 True                 False      False  \n",
       "3            False                False                 False      False  \n",
       "4            False                False                 False      False  \n",
       "...            ...                  ...                   ...        ...  \n",
       "22745        False                False                  True      False  \n",
       "22746        False                False                 False      False  \n",
       "22747        False                False                  True      False  \n",
       "22748        False                False                 False      False  \n",
       "22749        False                False                 False      False  \n",
       "\n",
       "[22750 rows x 8 columns]"
      ]
     },
     "execution_count": 11,
     "metadata": {},
     "output_type": "execute_result"
    }
   ],
   "source": [
    "# Checking for missing values (NaN)\n",
    "\n",
    "burnout_data.isna()"
   ]
  },
  {
   "cell_type": "code",
   "execution_count": 12,
   "id": "f874d2a5-9ab1-48d2-b798-7cc6dbe4cff4",
   "metadata": {
    "tags": []
   },
   "outputs": [],
   "source": [
    "# Removing rows with missing data from the DataFrame\n",
    "burnout_data = burnout_data.dropna()"
   ]
  },
  {
   "cell_type": "code",
   "execution_count": 13,
   "id": "b9475949-e5c0-4880-a024-95d7a4fb7a4c",
   "metadata": {
    "tags": []
   },
   "outputs": [
    {
     "data": {
      "text/plain": [
       "Date of Joining         0.0\n",
       "Gender                  0.0\n",
       "Company Type            0.0\n",
       "WFH Setup Available     0.0\n",
       "Designation             0.0\n",
       "Resource Allocation     0.0\n",
       "Mental Fatigue Score    0.0\n",
       "Burn Rate               0.0\n",
       "dtype: float64"
      ]
     },
     "execution_count": 13,
     "metadata": {},
     "output_type": "execute_result"
    }
   ],
   "source": [
    "# Checking that all missing data has been removed\n",
    "burnout_data.isna().mean()"
   ]
  },
  {
   "cell_type": "code",
   "execution_count": 14,
   "id": "22752f48-81ca-46bf-b6fc-187f08e7b713",
   "metadata": {
    "tags": []
   },
   "outputs": [],
   "source": [
    "# Renaming attributes to more sensible names\n",
    "\n",
    "burnout_data = burnout_data.rename({'Date of Joining': 'Start_Date',\n",
    "                                    'Company Type': 'Service',\n",
    "                                    'WFH Setup Available': 'WFH_Status',\n",
    "                                    'Designation': 'Seniority',\n",
    "                                    'Resource Allocation': 'Work_Hour_Load',\n",
    "                                    'Mental Fatigue Score': 'Mental_Fatigue',\n",
    "                                    'Burn Rate': 'Burn_Rate'\n",
    "                                   }, axis = 1)"
   ]
  },
  {
   "cell_type": "code",
   "execution_count": 15,
   "id": "43f5e8f7-02e8-477f-86f7-f6c07b5508e2",
   "metadata": {
    "tags": []
   },
   "outputs": [],
   "source": [
    "# Convert Start_Date data format from string to int for processing\n",
    "\n",
    "burnout_data['Start_Date'] = burnout_data['Start_Date'].str.replace(\"-\",\"\").astype(int)"
   ]
  },
  {
   "cell_type": "code",
   "execution_count": null,
   "id": "0c55bae9-7a89-4ffe-811a-a6a81e4963c8",
   "metadata": {},
   "outputs": [],
   "source": [
    "# Identifying the range of start dates\n",
    "\n",
    "start_date_min = burnout_data['Start_Date'].min()\n",
    "print(\"Min: \", start_date_min)\n",
    "\n",
    "start_date_max = burnout_data['Start_Date'].max()\n",
    "print(\"Max: \", start_date_max)"
   ]
  },
  {
   "cell_type": "code",
   "execution_count": 78,
   "id": "eb01015e-ef82-4707-b868-679f7eb7b731",
   "metadata": {
    "tags": []
   },
   "outputs": [],
   "source": [
    "# Min-max scaling start dates to accentuate the differences in start dates rather than the large absolute value\n",
    "from sklearn.preprocessing import MinMaxScaler\n",
    "\n",
    "scaler = MinMaxScaler()\n",
    "burnout_data['Start_Date'] = scaler.fit_transform(burnout_data[['Start_Date']])"
   ]
  },
  {
   "cell_type": "code",
   "execution_count": 16,
   "id": "3b40c6d1-9be4-497a-acfb-c16eb30da108",
   "metadata": {
    "tags": []
   },
   "outputs": [
    {
     "data": {
      "text/plain": [
       "array(['Female', 'Male'], dtype=object)"
      ]
     },
     "execution_count": 16,
     "metadata": {},
     "output_type": "execute_result"
    }
   ],
   "source": [
    "burnout_data['Gender'].unique()"
   ]
  },
  {
   "cell_type": "code",
   "execution_count": 17,
   "id": "4731c134-7ef3-49f2-80de-05d4acbe6c9b",
   "metadata": {
    "tags": []
   },
   "outputs": [
    {
     "name": "stderr",
     "output_type": "stream",
     "text": [
      "/tmp/ipykernel_9758/2899508213.py:2: FutureWarning: Downcasting behavior in `replace` is deprecated and will be removed in a future version. To retain the old behavior, explicitly call `result.infer_objects(copy=False)`. To opt-in to the future behavior, set `pd.set_option('future.no_silent_downcasting', True)`\n",
      "  burnout_data['Gender'] = burnout_data['Gender'].replace({'Male': 1,\n"
     ]
    }
   ],
   "source": [
    "# One-hot encoding gender attribute data\n",
    "burnout_data['Gender'] = burnout_data['Gender'].replace({'Male': 1,\n",
    "                                                         'Female': 0}).ffill()"
   ]
  },
  {
   "cell_type": "code",
   "execution_count": 19,
   "id": "21fcf69f-763a-4bc8-9fc9-f7648bf92ce8",
   "metadata": {
    "tags": []
   },
   "outputs": [
    {
     "data": {
      "text/plain": [
       "Service\n",
       "Service    12174\n",
       "Product     6416\n",
       "Name: count, dtype: int64"
      ]
     },
     "execution_count": 19,
     "metadata": {},
     "output_type": "execute_result"
    }
   ],
   "source": [
    "burnout_data['Service'].value_counts()"
   ]
  },
  {
   "cell_type": "code",
   "execution_count": 20,
   "id": "8363264c-0e9e-47bb-822b-054cb74e7a96",
   "metadata": {
    "tags": []
   },
   "outputs": [
    {
     "name": "stderr",
     "output_type": "stream",
     "text": [
      "/tmp/ipykernel_9758/1420026879.py:3: FutureWarning: Downcasting behavior in `replace` is deprecated and will be removed in a future version. To retain the old behavior, explicitly call `result.infer_objects(copy=False)`. To opt-in to the future behavior, set `pd.set_option('future.no_silent_downcasting', True)`\n",
      "  burnout_data['Service'] = burnout_data['Service'].replace({'Service': 1,\n"
     ]
    }
   ],
   "source": [
    "# One-hot encoding company type attribute data\n",
    "\n",
    "burnout_data['Service'] = burnout_data['Service'].replace({'Service': 1,\n",
    "                                                           'Product': 0}).ffill()"
   ]
  },
  {
   "cell_type": "code",
   "execution_count": 21,
   "id": "b0ecca3e-bf60-4250-94ad-9d46e72085e6",
   "metadata": {
    "tags": []
   },
   "outputs": [],
   "source": [
    "# Drop all rows with Service = 0, leaving only service companies in the DataFrame\n",
    "\n",
    "service_column = ['Service']\n",
    "burnout_data = burnout_data.replace(0, np.nan).dropna(axis=0, how='any', subset=service_column).fillna(0)"
   ]
  },
  {
   "cell_type": "code",
   "execution_count": 22,
   "id": "8fe36265-3a27-487d-9262-221e16dfc7bd",
   "metadata": {
    "tags": []
   },
   "outputs": [
    {
     "data": {
      "text/plain": [
       "count    12174.0\n",
       "mean         1.0\n",
       "std          0.0\n",
       "min          1.0\n",
       "25%          1.0\n",
       "50%          1.0\n",
       "75%          1.0\n",
       "max          1.0\n",
       "Name: Service, dtype: float64"
      ]
     },
     "execution_count": 22,
     "metadata": {},
     "output_type": "execute_result"
    }
   ],
   "source": [
    "# Check that all product company rows have been removed\n",
    "burnout_data['Service'].describe()"
   ]
  },
  {
   "cell_type": "code",
   "execution_count": 23,
   "id": "9a5f470e-3005-4136-bc04-38a8ac9850c4",
   "metadata": {
    "tags": []
   },
   "outputs": [],
   "source": [
    "# Drop the Service attribute\n",
    "\n",
    "burnout_data = burnout_data.drop(['Service'], axis=1)"
   ]
  },
  {
   "cell_type": "code",
   "execution_count": 24,
   "id": "c5f3bf11-1e7b-4260-9a32-f456a6ab6607",
   "metadata": {
    "tags": []
   },
   "outputs": [
    {
     "data": {
      "text/plain": [
       "WFH_Status\n",
       "Yes    6565\n",
       "No     5609\n",
       "Name: count, dtype: int64"
      ]
     },
     "execution_count": 24,
     "metadata": {},
     "output_type": "execute_result"
    }
   ],
   "source": [
    "burnout_data['WFH_Status'].value_counts()"
   ]
  },
  {
   "cell_type": "code",
   "execution_count": 25,
   "id": "a63a7583-1825-436c-a5b0-d08e39b4ce62",
   "metadata": {
    "tags": []
   },
   "outputs": [
    {
     "name": "stderr",
     "output_type": "stream",
     "text": [
      "/tmp/ipykernel_9758/2491054149.py:3: FutureWarning: Downcasting behavior in `replace` is deprecated and will be removed in a future version. To retain the old behavior, explicitly call `result.infer_objects(copy=False)`. To opt-in to the future behavior, set `pd.set_option('future.no_silent_downcasting', True)`\n",
      "  burnout_data['WFH_Status'] = burnout_data['WFH_Status'].replace({'Yes': 1,\n"
     ]
    }
   ],
   "source": [
    "# One-hot encoding WFH Status attribute data\n",
    "\n",
    "burnout_data['WFH_Status'] = burnout_data['WFH_Status'].replace({'Yes': 1,\n",
    "                                                                 'No': 0}).ffill()"
   ]
  },
  {
   "cell_type": "code",
   "execution_count": 26,
   "id": "4d5fdaa9-febb-4b48-98f1-05adc668ed46",
   "metadata": {
    "tags": []
   },
   "outputs": [
    {
     "data": {
      "text/html": [
       "<div>\n",
       "<style scoped>\n",
       "    .dataframe tbody tr th:only-of-type {\n",
       "        vertical-align: middle;\n",
       "    }\n",
       "\n",
       "    .dataframe tbody tr th {\n",
       "        vertical-align: top;\n",
       "    }\n",
       "\n",
       "    .dataframe thead th {\n",
       "        text-align: right;\n",
       "    }\n",
       "</style>\n",
       "<table border=\"1\" class=\"dataframe\">\n",
       "  <thead>\n",
       "    <tr style=\"text-align: right;\">\n",
       "      <th></th>\n",
       "      <th>Start_Date</th>\n",
       "      <th>Gender</th>\n",
       "      <th>WFH_Status</th>\n",
       "      <th>Seniority</th>\n",
       "      <th>Work_Hour_Load</th>\n",
       "      <th>Mental_Fatigue</th>\n",
       "      <th>Burn_Rate</th>\n",
       "    </tr>\n",
       "  </thead>\n",
       "  <tbody>\n",
       "    <tr>\n",
       "      <th>0</th>\n",
       "      <td>20080930</td>\n",
       "      <td>0.0</td>\n",
       "      <td>0</td>\n",
       "      <td>2.0</td>\n",
       "      <td>3.0</td>\n",
       "      <td>3.8</td>\n",
       "      <td>0.16</td>\n",
       "    </tr>\n",
       "    <tr>\n",
       "      <th>1</th>\n",
       "      <td>20081130</td>\n",
       "      <td>1.0</td>\n",
       "      <td>1</td>\n",
       "      <td>1.0</td>\n",
       "      <td>2.0</td>\n",
       "      <td>5.0</td>\n",
       "      <td>0.36</td>\n",
       "    </tr>\n",
       "    <tr>\n",
       "      <th>3</th>\n",
       "      <td>20081103</td>\n",
       "      <td>1.0</td>\n",
       "      <td>1</td>\n",
       "      <td>1.0</td>\n",
       "      <td>1.0</td>\n",
       "      <td>2.6</td>\n",
       "      <td>0.20</td>\n",
       "    </tr>\n",
       "    <tr>\n",
       "      <th>4</th>\n",
       "      <td>20080724</td>\n",
       "      <td>0.0</td>\n",
       "      <td>0</td>\n",
       "      <td>3.0</td>\n",
       "      <td>7.0</td>\n",
       "      <td>6.9</td>\n",
       "      <td>0.52</td>\n",
       "    </tr>\n",
       "    <tr>\n",
       "      <th>6</th>\n",
       "      <td>20080102</td>\n",
       "      <td>0.0</td>\n",
       "      <td>0</td>\n",
       "      <td>3.0</td>\n",
       "      <td>6.0</td>\n",
       "      <td>7.9</td>\n",
       "      <td>0.62</td>\n",
       "    </tr>\n",
       "    <tr>\n",
       "      <th>...</th>\n",
       "      <td>...</td>\n",
       "      <td>...</td>\n",
       "      <td>...</td>\n",
       "      <td>...</td>\n",
       "      <td>...</td>\n",
       "      <td>...</td>\n",
       "      <td>...</td>\n",
       "    </tr>\n",
       "    <tr>\n",
       "      <th>22735</th>\n",
       "      <td>20080726</td>\n",
       "      <td>1.0</td>\n",
       "      <td>0</td>\n",
       "      <td>3.0</td>\n",
       "      <td>7.0</td>\n",
       "      <td>7.3</td>\n",
       "      <td>0.64</td>\n",
       "    </tr>\n",
       "    <tr>\n",
       "      <th>22736</th>\n",
       "      <td>20080418</td>\n",
       "      <td>1.0</td>\n",
       "      <td>1</td>\n",
       "      <td>4.0</td>\n",
       "      <td>7.0</td>\n",
       "      <td>7.7</td>\n",
       "      <td>0.65</td>\n",
       "    </tr>\n",
       "    <tr>\n",
       "      <th>22738</th>\n",
       "      <td>20081223</td>\n",
       "      <td>1.0</td>\n",
       "      <td>1</td>\n",
       "      <td>0.0</td>\n",
       "      <td>1.0</td>\n",
       "      <td>4.9</td>\n",
       "      <td>0.29</td>\n",
       "    </tr>\n",
       "    <tr>\n",
       "      <th>22739</th>\n",
       "      <td>20080206</td>\n",
       "      <td>1.0</td>\n",
       "      <td>0</td>\n",
       "      <td>2.0</td>\n",
       "      <td>5.0</td>\n",
       "      <td>8.5</td>\n",
       "      <td>0.67</td>\n",
       "    </tr>\n",
       "    <tr>\n",
       "      <th>22748</th>\n",
       "      <td>20080110</td>\n",
       "      <td>0.0</td>\n",
       "      <td>0</td>\n",
       "      <td>2.0</td>\n",
       "      <td>5.0</td>\n",
       "      <td>5.9</td>\n",
       "      <td>0.52</td>\n",
       "    </tr>\n",
       "  </tbody>\n",
       "</table>\n",
       "<p>12174 rows × 7 columns</p>\n",
       "</div>"
      ],
      "text/plain": [
       "       Start_Date  Gender  WFH_Status  Seniority  Work_Hour_Load  \\\n",
       "0        20080930     0.0           0        2.0             3.0   \n",
       "1        20081130     1.0           1        1.0             2.0   \n",
       "3        20081103     1.0           1        1.0             1.0   \n",
       "4        20080724     0.0           0        3.0             7.0   \n",
       "6        20080102     0.0           0        3.0             6.0   \n",
       "...           ...     ...         ...        ...             ...   \n",
       "22735    20080726     1.0           0        3.0             7.0   \n",
       "22736    20080418     1.0           1        4.0             7.0   \n",
       "22738    20081223     1.0           1        0.0             1.0   \n",
       "22739    20080206     1.0           0        2.0             5.0   \n",
       "22748    20080110     0.0           0        2.0             5.0   \n",
       "\n",
       "       Mental_Fatigue  Burn_Rate  \n",
       "0                 3.8       0.16  \n",
       "1                 5.0       0.36  \n",
       "3                 2.6       0.20  \n",
       "4                 6.9       0.52  \n",
       "6                 7.9       0.62  \n",
       "...               ...        ...  \n",
       "22735             7.3       0.64  \n",
       "22736             7.7       0.65  \n",
       "22738             4.9       0.29  \n",
       "22739             8.5       0.67  \n",
       "22748             5.9       0.52  \n",
       "\n",
       "[12174 rows x 7 columns]"
      ]
     },
     "execution_count": 26,
     "metadata": {},
     "output_type": "execute_result"
    }
   ],
   "source": [
    "# Viewing cleaned data\n",
    "burnout_data"
   ]
  },
  {
   "cell_type": "code",
   "execution_count": 72,
   "id": "ee1d3f39-9742-429c-b801-8271ced612a5",
   "metadata": {
    "tags": []
   },
   "outputs": [
    {
     "name": "stderr",
     "output_type": "stream",
     "text": [
      "INFO:matplotlib.font_manager:generated new fontManager\n"
     ]
    }
   ],
   "source": [
    "# Data Visualization\n",
    "import seaborn as sns\n",
    "import matplotlib.pyplot as plt"
   ]
  },
  {
   "cell_type": "code",
   "execution_count": 79,
   "id": "fa311c93-b32f-40e6-88f1-cad0d07cf0c0",
   "metadata": {
    "tags": []
   },
   "outputs": [
    {
     "data": {
      "image/png": "[encoded data removed]",
      "text/plain": [
       "<Figure size 800x600 with 2 Axes>"
      ]
     },
     "metadata": {},
     "output_type": "display_data"
    }
   ],
   "source": [
    "# Correlation Heatmap with Seaborn\n",
    "# Setting up the size of the Matplotlib figure\n",
    "f, ax = plt.subplots(figsize=(8,6))\n",
    "\n",
    "sns.heatmap(burnout_data.corr(), cmap=\"GnBu\", annot=True, linewidths=0.5,fmt='.1f', ax=ax)\n",
    "\n",
    "plt.show()"
   ]
  },
  {
   "cell_type": "code",
   "execution_count": 80,
   "id": "d4495cd0-865c-4bdb-afe4-73e7ed95cc58",
   "metadata": {
    "tags": []
   },
   "outputs": [
    {
     "data": {
      "text/plain": [
       "WFH_Status       -0.299770\n",
       "Start_Date        0.002155\n",
       "Gender            0.160129\n",
       "Seniority         0.735499\n",
       "Work_Hour_Load    0.854853\n",
       "Mental_Fatigue    0.944698\n",
       "Burn_Rate         1.000000\n",
       "Name: Burn_Rate, dtype: float64"
      ]
     },
     "execution_count": 80,
     "metadata": {},
     "output_type": "execute_result"
    }
   ],
   "source": [
    "# Sorting Correlation Values\n",
    "burnout_data.corr().Burn_Rate.sort_values()"
   ]
  },
  {
   "cell_type": "markdown",
   "id": "baa91abc-880a-468f-aa8b-fe83f3c74fea",
   "metadata": {},
   "source": [
    "## Preparing The Training and Testing Data"
   ]
  },
  {
   "cell_type": "code",
   "execution_count": 27,
   "id": "3bc18201-f18b-4d8f-8435-ff7156a0b9bc",
   "metadata": {
    "tags": []
   },
   "outputs": [],
   "source": [
    "# The target variable attribute is called 'Burn_Rate'\n",
    "\n",
    "# Create the feature X as the dataset without the target\n",
    "X = burnout_data.drop('Burn_Rate', axis=1)\n",
    "\n",
    "# Create the target variable Y as the burn rate, kept as a float\n",
    "y = burnout_data['Burn_Rate']\n",
    "\n",
    "# Splitting the data into training and validation sets\n",
    "X_train, X_test, y_train, y_test = train_test_split(X, y, test_size=0.2, random_state=42)"
   ]
  },
  {
   "cell_type": "code",
   "execution_count": 28,
   "id": "8d4ff63f-082b-46fd-a325-75543b73adae",
   "metadata": {
    "tags": []
   },
   "outputs": [],
   "source": [
    "# Concatenate the features and labels back into one DataFrame for training data\n",
    "burnout_train_data = pd.concat([y_train, X_train], axis=1)\n",
    "\n",
    "# Concatenate the features and labels back into one DataFrame for validation data\n",
    "burnout_test_data = pd.concat([y_test, X_test], axis=1)\n",
    "\n",
    "# Save the training data to a CSV file without headers and indices\n",
    "burnout_train_data.to_csv('Burnout_train.csv', header=False, index=False)\n",
    "\n",
    "# Save the validation data to a CSV file without headers and indices\n",
    "burnout_test_data.to_csv('Burnout_test.csv', header=False, index=False)"
   ]
  },
  {
   "cell_type": "code",
   "execution_count": 29,
   "id": "462db3b0-b475-43b8-82ff-275216671c63",
   "metadata": {
    "tags": []
   },
   "outputs": [],
   "source": [
    "# Define Amazon S3 bucket and prefix for data storage\n",
    "bucket = sagemaker_session.default_bucket()\n",
    "prefix = 'sagemaker/burnout/regression'\n",
    "\n",
    "# Paths to local data files\n",
    "local_train = 'Burnout_train.csv'\n",
    "local_test = 'Burnout_test.csv'\n",
    "\n",
    "# Upload the local training data to the specified S3 bucket and prefix\n",
    "train_uri = sagemaker_session.upload_data(local_train, bucket=bucket, key_prefix=prefix)\n",
    "\n",
    "# Upload the local validation data to the specified S3 bucket and prefix\n",
    "test_uri = sagemaker_session.upload_data(local_test, bucket=bucket, key_prefix=prefix)"
   ]
  },
  {
   "cell_type": "code",
   "execution_count": 30,
   "id": "f3deffe6-fb32-4a75-90d6-d3b21be0db95",
   "metadata": {
    "tags": []
   },
   "outputs": [
    {
     "name": "stdout",
     "output_type": "stream",
     "text": [
      "Training URI:  s3://sagemaker-us-east-1-637423178109/sagemaker/burnout/regression/Burnout_train.csv\n",
      "Validation URI:  s3://sagemaker-us-east-1-637423178109/sagemaker/burnout/regression/Burnout_test.csv\n"
     ]
    }
   ],
   "source": [
    "# Print the S3 URI for the training data\n",
    "print(\"Training URI: \", train_uri)\n",
    "\n",
    "# Print the S3 URI for the validation data\n",
    "print(\"Validation URI: \", test_uri)"
   ]
  },
  {
   "cell_type": "markdown",
   "id": "8f1b233a-c2ae-4c00-b53a-c2401b75196d",
   "metadata": {},
   "source": [
    "## Get the Linear Learner Image URI"
   ]
  },
  {
   "cell_type": "code",
   "execution_count": 31,
   "id": "7d636822-b0b0-4c51-906a-32ebd10210e2",
   "metadata": {
    "tags": []
   },
   "outputs": [
    {
     "name": "stdout",
     "output_type": "stream",
     "text": [
      "Container:  382416733822.dkr.ecr.us-east-1.amazonaws.com/linear-learner:1\n"
     ]
    }
   ],
   "source": [
    "from sagemaker import image_uris\n",
    "\n",
    "# Retrieve the container image URI for the SageMaker Linear Learner algorithm\n",
    "container = image_uris.retrieve(framework='linear-learner', region=region)\n",
    "\n",
    "print(\"Container: \", container)"
   ]
  },
  {
   "cell_type": "markdown",
   "id": "625a3159-a4b0-4963-a0d8-a530f5c5671b",
   "metadata": {},
   "source": [
    "## Configuring the SageMaker Linear Learner Estimator"
   ]
  },
  {
   "cell_type": "code",
   "execution_count": 32,
   "id": "bde75648-49bb-4fd0-8ef1-26888a714236",
   "metadata": {
    "tags": []
   },
   "outputs": [
    {
     "name": "stdout",
     "output_type": "stream",
     "text": [
      "Number of Rows:  12174\n",
      "Number of Features:  7\n"
     ]
    }
   ],
   "source": [
    "# Calculate the number of rows and features in the burnout_data DataFrame\n",
    "num_rows, num_features = burnout_data.shape\n",
    "\n",
    "# Print the number of rows and features\n",
    "print(\"Number of Rows: \", num_rows)\n",
    "print(\"Number of Features: \", num_features)"
   ]
  },
  {
   "cell_type": "code",
   "execution_count": 33,
   "id": "1e0a4bd6-0156-4e5e-82a8-74bbd86206bb",
   "metadata": {
    "tags": []
   },
   "outputs": [],
   "source": [
    "# Create a SageMaker Linear Learner estimator\n",
    "linear_learner = sagemaker.estimator.Estimator(container,\n",
    "                                               role,\n",
    "                                               instance_count=1,\n",
    "                                               instance_type='ml.m5.large',\n",
    "                                               output_path=f's3://{bucket}/{prefix}/output',\n",
    "                                               sagemaker_session=sagemaker_session)\n",
    "\n",
    "# Set hyperparameters for the Linear Learner\n",
    "linear_learner.set_hyperparameters(feature_dim=6, # Number of input features excluding target\n",
    "                                   mini_batch_size=64, # Size of mini-batches for training. Using more than standard 32 due to large number of rows\n",
    "                                   predictor_type='regressor', # We are performing a regression\n",
    "                                   normalize_data=True, # Normalize input features\n",
    "                                   normalize_label=True) # Normalize target variable"
   ]
  },
  {
   "cell_type": "markdown",
   "id": "a36080af-cdd9-4cb8-93be-3a806025147c",
   "metadata": {},
   "source": [
    "## Training the Model"
   ]
  },
  {
   "cell_type": "code",
   "execution_count": 34,
   "id": "59e54ab7-1985-4180-82d1-151d27ff584e",
   "metadata": {
    "tags": []
   },
   "outputs": [
    {
     "name": "stderr",
     "output_type": "stream",
     "text": [
      "INFO:sagemaker:Creating training-job with name: linear-learner-2024-03-20-18-40-20-791\n"
     ]
    },
    {
     "name": "stdout",
     "output_type": "stream",
     "text": [
      "2024-03-20 18:40:21 Starting - Starting the training job...\n",
      "2024-03-20 18:40:37 Starting - Preparing the instances for training...\n",
      "2024-03-20 18:41:16 Downloading - Downloading input data......\n",
      "2024-03-20 18:41:55 Downloading - Downloading the training image......\n",
      "2024-03-20 18:43:11 Training - Training image download completed. Training in progress..\u001b[34mDocker entrypoint called with argument(s): train\u001b[0m\n",
      "\u001b[34mRunning default environment configuration script\u001b[0m\n",
      "\u001b[34m[03/20/2024 18:43:16 INFO 139961683208000] Reading default configuration from /opt/amazon/lib/python3.8/site-packages/algorithm/resources/default-input.json: {'mini_batch_size': '1000', 'epochs': '15', 'feature_dim': 'auto', 'use_bias': 'true', 'binary_classifier_model_selection_criteria': 'accuracy', 'f_beta': '1.0', 'target_recall': '0.8', 'target_precision': '0.8', 'num_models': 'auto', 'num_calibration_samples': '10000000', 'init_method': 'uniform', 'init_scale': '0.07', 'init_sigma': '0.01', 'init_bias': '0.0', 'optimizer': 'auto', 'loss': 'auto', 'margin': '1.0', 'quantile': '0.5', 'loss_insensitivity': '0.01', 'huber_delta': '1.0', 'num_classes': '1', 'accuracy_top_k': '3', 'wd': 'auto', 'l1': 'auto', 'momentum': 'auto', 'learning_rate': 'auto', 'beta_1': 'auto', 'beta_2': 'auto', 'bias_lr_mult': 'auto', 'bias_wd_mult': 'auto', 'use_lr_scheduler': 'true', 'lr_scheduler_step': 'auto', 'lr_scheduler_factor': 'auto', 'lr_scheduler_minimum_lr': 'auto', 'positive_example_weight_mult': '1.0', 'balance_multiclass_weights': 'false', 'normalize_data': 'true', 'normalize_label': 'auto', 'unbias_data': 'auto', 'unbias_label': 'auto', 'num_point_for_scaler': '10000', '_kvstore': 'auto', '_num_gpus': 'auto', '_num_kv_servers': 'auto', '_log_level': 'info', '_tuning_objective_metric': '', 'early_stopping_patience': '3', 'early_stopping_tolerance': '0.001', '_enable_profiler': 'false'}\u001b[0m\n",
      "\u001b[34m[03/20/2024 18:43:16 INFO 139961683208000] Merging with provided configuration from /opt/ml/input/config/hyperparameters.json: {'feature_dim': '6', 'mini_batch_size': '64', 'normalize_data': 'True', 'normalize_label': 'True', 'predictor_type': 'regressor'}\u001b[0m\n",
      "\u001b[34m[03/20/2024 18:43:16 INFO 139961683208000] Final configuration: {'mini_batch_size': '64', 'epochs': '15', 'feature_dim': '6', 'use_bias': 'true', 'binary_classifier_model_selection_criteria': 'accuracy', 'f_beta': '1.0', 'target_recall': '0.8', 'target_precision': '0.8', 'num_models': 'auto', 'num_calibration_samples': '10000000', 'init_method': 'uniform', 'init_scale': '0.07', 'init_sigma': '0.01', 'init_bias': '0.0', 'optimizer': 'auto', 'loss': 'auto', 'margin': '1.0', 'quantile': '0.5', 'loss_insensitivity': '0.01', 'huber_delta': '1.0', 'num_classes': '1', 'accuracy_top_k': '3', 'wd': 'auto', 'l1': 'auto', 'momentum': 'auto', 'learning_rate': 'auto', 'beta_1': 'auto', 'beta_2': 'auto', 'bias_lr_mult': 'auto', 'bias_wd_mult': 'auto', 'use_lr_scheduler': 'true', 'lr_scheduler_step': 'auto', 'lr_scheduler_factor': 'auto', 'lr_scheduler_minimum_lr': 'auto', 'positive_example_weight_mult': '1.0', 'balance_multiclass_weights': 'false', 'normalize_data': 'True', 'normalize_label': 'True', 'unbias_data': 'auto', 'unbias_label': 'auto', 'num_point_for_scaler': '10000', '_kvstore': 'auto', '_num_gpus': 'auto', '_num_kv_servers': 'auto', '_log_level': 'info', '_tuning_objective_metric': '', 'early_stopping_patience': '3', 'early_stopping_tolerance': '0.001', '_enable_profiler': 'false', 'predictor_type': 'regressor'}\u001b[0m\n",
      "\u001b[34m/opt/amazon/lib/python3.8/site-packages/mxnet/model.py:97: SyntaxWarning: \"is\" with a literal. Did you mean \"==\"?\n",
      "  if num_device is 1 and 'dist' not in kvstore:\u001b[0m\n",
      "\u001b[34m/opt/amazon/lib/python3.8/site-packages/scipy/optimize/_shgo.py:495: SyntaxWarning: \"is\" with a literal. Did you mean \"==\"?\n",
      "  if cons['type'] is 'ineq':\u001b[0m\n",
      "\u001b[34m/opt/amazon/lib/python3.8/site-packages/scipy/optimize/_shgo.py:743: SyntaxWarning: \"is not\" with a literal. Did you mean \"!=\"?\n",
      "  if len(self.X_min) is not 0:\u001b[0m\n",
      "\u001b[34m[03/20/2024 18:43:19 WARNING 139961683208000] Loggers have already been setup.\u001b[0m\n",
      "\u001b[34m[03/20/2024 18:43:19 INFO 139961683208000] Final configuration: {'mini_batch_size': '64', 'epochs': '15', 'feature_dim': '6', 'use_bias': 'true', 'binary_classifier_model_selection_criteria': 'accuracy', 'f_beta': '1.0', 'target_recall': '0.8', 'target_precision': '0.8', 'num_models': 'auto', 'num_calibration_samples': '10000000', 'init_method': 'uniform', 'init_scale': '0.07', 'init_sigma': '0.01', 'init_bias': '0.0', 'optimizer': 'auto', 'loss': 'auto', 'margin': '1.0', 'quantile': '0.5', 'loss_insensitivity': '0.01', 'huber_delta': '1.0', 'num_classes': '1', 'accuracy_top_k': '3', 'wd': 'auto', 'l1': 'auto', 'momentum': 'auto', 'learning_rate': 'auto', 'beta_1': 'auto', 'beta_2': 'auto', 'bias_lr_mult': 'auto', 'bias_wd_mult': 'auto', 'use_lr_scheduler': 'true', 'lr_scheduler_step': 'auto', 'lr_scheduler_factor': 'auto', 'lr_scheduler_minimum_lr': 'auto', 'positive_example_weight_mult': '1.0', 'balance_multiclass_weights': 'false', 'normalize_data': 'True', 'normalize_label': 'True', 'unbias_data': 'auto', 'unbias_label': 'auto', 'num_point_for_scaler': '10000', '_kvstore': 'auto', '_num_gpus': 'auto', '_num_kv_servers': 'auto', '_log_level': 'info', '_tuning_objective_metric': '', 'early_stopping_patience': '3', 'early_stopping_tolerance': '0.001', '_enable_profiler': 'false', 'predictor_type': 'regressor'}\u001b[0m\n",
      "\u001b[34m[03/20/2024 18:43:19 WARNING 139961683208000] Loggers have already been setup.\u001b[0m\n",
      "\u001b[34mProcess 7 is a worker.\u001b[0m\n",
      "\u001b[34m[03/20/2024 18:43:19 INFO 139961683208000] Using default worker.\u001b[0m\n",
      "\u001b[34m[03/20/2024 18:43:19 INFO 139961683208000] Checkpoint loading and saving are disabled.\u001b[0m\n",
      "\u001b[34m[03/20/2024 18:43:19 INFO 139961683208000] Create Store: local\u001b[0m\n",
      "\u001b[34m[03/20/2024 18:43:20 INFO 139961683208000] Scaler algorithm parameters\n",
      " <algorithm.scaler.ScalerAlgorithmStable object at 0x7f4ad753ee50>\u001b[0m\n",
      "\u001b[34m[03/20/2024 18:43:20 INFO 139961683208000] Scaling model computed with parameters:\n",
      " {'stdev_label': \u001b[0m\n",
      "\u001b[34m[0.19774584]\u001b[0m\n",
      "\u001b[34m<NDArray 1 @cpu(0)>, 'stdev_weight': \u001b[0m\n",
      "\u001b[34m[344.4587       0.49938077   0.49800584   1.1281819    2.0413926\n",
      "   1.923071  ]\u001b[0m\n",
      "\u001b[34m<NDArray 6 @cpu(0)>, 'mean_label': \u001b[0m\n",
      "\u001b[34m[0.45309848]\u001b[0m\n",
      "\u001b[34m<NDArray 1 @cpu(0)>, 'mean_weight': \u001b[0m\n",
      "\u001b[34m[2.0080662e+07 4.7512332e-01 5.4461354e-01 2.1881173e+00 4.4917769e+00\n",
      " 5.7380023e+00]\u001b[0m\n",
      "\u001b[34m<NDArray 6 @cpu(0)>}\u001b[0m\n",
      "\u001b[34m/opt/amazon/python3.8/lib/python3.8/subprocess.py:848: RuntimeWarning: line buffering (buffering=1) isn't supported in binary mode, the default buffer size will be used\n",
      "  self.stdout = io.open(c2pread, 'rb', bufsize)\u001b[0m\n",
      "\u001b[34m[03/20/2024 18:43:20 INFO 139961683208000] nvidia-smi: took 0.032 seconds to run.\u001b[0m\n",
      "\u001b[34m[03/20/2024 18:43:20 INFO 139961683208000] nvidia-smi identified 0 GPUs.\u001b[0m\n",
      "\u001b[34m[03/20/2024 18:43:20 INFO 139961683208000] Number of GPUs being used: 0\u001b[0m\n",
      "\u001b[34m#metrics {\"StartTime\": 1710960200.2413237, \"EndTime\": 1710960200.2413619, \"Dimensions\": {\"Algorithm\": \"Linear Learner\", \"Host\": \"algo-1\", \"Operation\": \"training\", \"Meta\": \"init_train_data_iter\"}, \"Metrics\": {\"Total Records Seen\": {\"sum\": 9803.0, \"count\": 1, \"min\": 9803, \"max\": 9803}, \"Total Batches Seen\": {\"sum\": 154.0, \"count\": 1, \"min\": 154, \"max\": 154}, \"Max Records Seen Between Resets\": {\"sum\": 9739.0, \"count\": 1, \"min\": 9739, \"max\": 9739}, \"Max Batches Seen Between Resets\": {\"sum\": 153.0, \"count\": 1, \"min\": 153, \"max\": 153}, \"Reset Count\": {\"sum\": 2.0, \"count\": 1, \"min\": 2, \"max\": 2}, \"Number of Records Since Last Reset\": {\"sum\": 0.0, \"count\": 1, \"min\": 0, \"max\": 0}, \"Number of Batches Since Last Reset\": {\"sum\": 0.0, \"count\": 1, \"min\": 0, \"max\": 0}}}\u001b[0m\n",
      "\u001b[34m#metrics {\"StartTime\": 1710960202.8570645, \"EndTime\": 1710960202.857122, \"Dimensions\": {\"Algorithm\": \"Linear Learner\", \"Host\": \"algo-1\", \"Operation\": \"training\", \"epoch\": 0, \"model\": 0}, \"Metrics\": {\"train_mse_objective\": {\"sum\": 0.24183226239524389, \"count\": 1, \"min\": 0.24183226239524389, \"max\": 0.24183226239524389}}}\u001b[0m\n",
      "\u001b[34m#metrics {\"StartTime\": 1710960202.8571947, \"EndTime\": 1710960202.857207, \"Dimensions\": {\"Algorithm\": \"Linear Learner\", \"Host\": \"algo-1\", \"Operation\": \"training\", \"epoch\": 0, \"model\": 1}, \"Metrics\": {\"train_mse_objective\": {\"sum\": 0.3125993713344398, \"count\": 1, \"min\": 0.3125993713344398, \"max\": 0.3125993713344398}}}\u001b[0m\n",
      "\u001b[34m#metrics {\"StartTime\": 1710960202.8574684, \"EndTime\": 1710960202.8574922, \"Dimensions\": {\"Algorithm\": \"Linear Learner\", \"Host\": \"algo-1\", \"Operation\": \"training\", \"epoch\": 0, \"model\": 2}, \"Metrics\": {\"train_mse_objective\": {\"sum\": 0.24955400829448512, \"count\": 1, \"min\": 0.24955400829448512, \"max\": 0.24955400829448512}}}\u001b[0m\n",
      "\u001b[34m#metrics {\"StartTime\": 1710960202.8575985, \"EndTime\": 1710960202.8576124, \"Dimensions\": {\"Algorithm\": \"Linear Learner\", \"Host\": \"algo-1\", \"Operation\": \"training\", \"epoch\": 0, \"model\": 3}, \"Metrics\": {\"train_mse_objective\": {\"sum\": 0.2991229087898606, \"count\": 1, \"min\": 0.2991229087898606, \"max\": 0.2991229087898606}}}\u001b[0m\n",
      "\u001b[34m#metrics {\"StartTime\": 1710960202.8576684, \"EndTime\": 1710960202.8576791, \"Dimensions\": {\"Algorithm\": \"Linear Learner\", \"Host\": \"algo-1\", \"Operation\": \"training\", \"epoch\": 0, \"model\": 4}, \"Metrics\": {\"train_mse_objective\": {\"sum\": 0.14353498390042468, \"count\": 1, \"min\": 0.14353498390042468, \"max\": 0.14353498390042468}}}\u001b[0m\n",
      "\u001b[34m#metrics {\"StartTime\": 1710960202.8577178, \"EndTime\": 1710960202.857727, \"Dimensions\": {\"Algorithm\": \"Linear Learner\", \"Host\": \"algo-1\", \"Operation\": \"training\", \"epoch\": 0, \"model\": 5}, \"Metrics\": {\"train_mse_objective\": {\"sum\": 0.14481090006761646, \"count\": 1, \"min\": 0.14481090006761646, \"max\": 0.14481090006761646}}}\u001b[0m\n",
      "\u001b[34m#metrics {\"StartTime\": 1710960202.8577602, \"EndTime\": 1710960202.8577693, \"Dimensions\": {\"Algorithm\": \"Linear Learner\", \"Host\": \"algo-1\", \"Operation\": \"training\", \"epoch\": 0, \"model\": 6}, \"Metrics\": {\"train_mse_objective\": {\"sum\": 0.14004543144255877, \"count\": 1, \"min\": 0.14004543144255877, \"max\": 0.14004543144255877}}}\u001b[0m\n",
      "\u001b[34m#metrics {\"StartTime\": 1710960202.8578134, \"EndTime\": 1710960202.8578227, \"Dimensions\": {\"Algorithm\": \"Linear Learner\", \"Host\": \"algo-1\", \"Operation\": \"training\", \"epoch\": 0, \"model\": 7}, \"Metrics\": {\"train_mse_objective\": {\"sum\": 0.1446649209155064, \"count\": 1, \"min\": 0.1446649209155064, \"max\": 0.1446649209155064}}}\u001b[0m\n",
      "\u001b[34m#metrics {\"StartTime\": 1710960202.8580265, \"EndTime\": 1710960202.8580418, \"Dimensions\": {\"Algorithm\": \"Linear Learner\", \"Host\": \"algo-1\", \"Operation\": \"training\", \"epoch\": 0, \"model\": 8}, \"Metrics\": {\"train_mse_objective\": {\"sum\": 0.2861542838478559, \"count\": 1, \"min\": 0.2861542838478559, \"max\": 0.2861542838478559}}}\u001b[0m\n",
      "\u001b[34m#metrics {\"StartTime\": 1710960202.8580923, \"EndTime\": 1710960202.8581028, \"Dimensions\": {\"Algorithm\": \"Linear Learner\", \"Host\": \"algo-1\", \"Operation\": \"training\", \"epoch\": 0, \"model\": 9}, \"Metrics\": {\"train_mse_objective\": {\"sum\": 0.3166791515326814, \"count\": 1, \"min\": 0.3166791515326814, \"max\": 0.3166791515326814}}}\u001b[0m\n",
      "\u001b[34m#metrics {\"StartTime\": 1710960202.8581386, \"EndTime\": 1710960202.8581483, \"Dimensions\": {\"Algorithm\": \"Linear Learner\", \"Host\": \"algo-1\", \"Operation\": \"training\", \"epoch\": 0, \"model\": 10}, \"Metrics\": {\"train_mse_objective\": {\"sum\": 0.281981594223333, \"count\": 1, \"min\": 0.281981594223333, \"max\": 0.281981594223333}}}\u001b[0m\n",
      "\u001b[34m#metrics {\"StartTime\": 1710960202.858182, \"EndTime\": 1710960202.8581913, \"Dimensions\": {\"Algorithm\": \"Linear Learner\", \"Host\": \"algo-1\", \"Operation\": \"training\", \"epoch\": 0, \"model\": 11}, \"Metrics\": {\"train_mse_objective\": {\"sum\": 0.29856555874606494, \"count\": 1, \"min\": 0.29856555874606494, \"max\": 0.29856555874606494}}}\u001b[0m\n",
      "\u001b[34m#metrics {\"StartTime\": 1710960202.8583724, \"EndTime\": 1710960202.8583922, \"Dimensions\": {\"Algorithm\": \"Linear Learner\", \"Host\": \"algo-1\", \"Operation\": \"training\", \"epoch\": 0, \"model\": 12}, \"Metrics\": {\"train_mse_objective\": {\"sum\": 0.1437378737487291, \"count\": 1, \"min\": 0.1437378737487291, \"max\": 0.1437378737487291}}}\u001b[0m\n",
      "\u001b[34m#metrics {\"StartTime\": 1710960202.8584397, \"EndTime\": 1710960202.8584516, \"Dimensions\": {\"Algorithm\": \"Linear Learner\", \"Host\": \"algo-1\", \"Operation\": \"training\", \"epoch\": 0, \"model\": 13}, \"Metrics\": {\"train_mse_objective\": {\"sum\": 0.14690731183968878, \"count\": 1, \"min\": 0.14690731183968878, \"max\": 0.14690731183968878}}}\u001b[0m\n",
      "\u001b[34m#metrics {\"StartTime\": 1710960202.858487, \"EndTime\": 1710960202.8584971, \"Dimensions\": {\"Algorithm\": \"Linear Learner\", \"Host\": \"algo-1\", \"Operation\": \"training\", \"epoch\": 0, \"model\": 14}, \"Metrics\": {\"train_mse_objective\": {\"sum\": 0.1403835643278925, \"count\": 1, \"min\": 0.1403835643278925, \"max\": 0.1403835643278925}}}\u001b[0m\n",
      "\u001b[34m#metrics {\"StartTime\": 1710960202.8585308, \"EndTime\": 1710960202.858541, \"Dimensions\": {\"Algorithm\": \"Linear Learner\", \"Host\": \"algo-1\", \"Operation\": \"training\", \"epoch\": 0, \"model\": 15}, \"Metrics\": {\"train_mse_objective\": {\"sum\": 0.1418728066461259, \"count\": 1, \"min\": 0.1418728066461259, \"max\": 0.1418728066461259}}}\u001b[0m\n",
      "\u001b[34m#metrics {\"StartTime\": 1710960202.858576, \"EndTime\": 1710960202.8585856, \"Dimensions\": {\"Algorithm\": \"Linear Learner\", \"Host\": \"algo-1\", \"Operation\": \"training\", \"epoch\": 0, \"model\": 16}, \"Metrics\": {\"train_mse_objective\": {\"sum\": 0.29586417139752913, \"count\": 1, \"min\": 0.29586417139752913, \"max\": 0.29586417139752913}}}\u001b[0m\n",
      "\u001b[34m#metrics {\"StartTime\": 1710960202.8586452, \"EndTime\": 1710960202.858657, \"Dimensions\": {\"Algorithm\": \"Linear Learner\", \"Host\": \"algo-1\", \"Operation\": \"training\", \"epoch\": 0, \"model\": 17}, \"Metrics\": {\"train_mse_objective\": {\"sum\": 0.337282673014622, \"count\": 1, \"min\": 0.337282673014622, \"max\": 0.337282673014622}}}\u001b[0m\n",
      "\u001b[34m#metrics {\"StartTime\": 1710960202.8587236, \"EndTime\": 1710960202.8587353, \"Dimensions\": {\"Algorithm\": \"Linear Learner\", \"Host\": \"algo-1\", \"Operation\": \"training\", \"epoch\": 0, \"model\": 18}, \"Metrics\": {\"train_mse_objective\": {\"sum\": 0.34778675270315845, \"count\": 1, \"min\": 0.34778675270315845, \"max\": 0.34778675270315845}}}\u001b[0m\n",
      "\u001b[34m#metrics {\"StartTime\": 1710960202.858773, \"EndTime\": 1710960202.8587835, \"Dimensions\": {\"Algorithm\": \"Linear Learner\", \"Host\": \"algo-1\", \"Operation\": \"training\", \"epoch\": 0, \"model\": 19}, \"Metrics\": {\"train_mse_objective\": {\"sum\": 0.3450507429477416, \"count\": 1, \"min\": 0.3450507429477416, \"max\": 0.3450507429477416}}}\u001b[0m\n",
      "\u001b[34m#metrics {\"StartTime\": 1710960202.8588207, \"EndTime\": 1710960202.8588297, \"Dimensions\": {\"Algorithm\": \"Linear Learner\", \"Host\": \"algo-1\", \"Operation\": \"training\", \"epoch\": 0, \"model\": 20}, \"Metrics\": {\"train_mse_objective\": {\"sum\": 0.2389339103706573, \"count\": 1, \"min\": 0.2389339103706573, \"max\": 0.2389339103706573}}}\u001b[0m\n",
      "\u001b[34m#metrics {\"StartTime\": 1710960202.8588908, \"EndTime\": 1710960202.8589013, \"Dimensions\": {\"Algorithm\": \"Linear Learner\", \"Host\": \"algo-1\", \"Operation\": \"training\", \"epoch\": 0, \"model\": 21}, \"Metrics\": {\"train_mse_objective\": {\"sum\": 0.24170871177002004, \"count\": 1, \"min\": 0.24170871177002004, \"max\": 0.24170871177002004}}}\u001b[0m\n",
      "\u001b[34m#metrics {\"StartTime\": 1710960202.8589332, \"EndTime\": 1710960202.8589427, \"Dimensions\": {\"Algorithm\": \"Linear Learner\", \"Host\": \"algo-1\", \"Operation\": \"training\", \"epoch\": 0, \"model\": 22}, \"Metrics\": {\"train_mse_objective\": {\"sum\": 0.2403645220849859, \"count\": 1, \"min\": 0.2403645220849859, \"max\": 0.2403645220849859}}}\u001b[0m\n",
      "\u001b[34m#metrics {\"StartTime\": 1710960202.8589785, \"EndTime\": 1710960202.8589892, \"Dimensions\": {\"Algorithm\": \"Linear Learner\", \"Host\": \"algo-1\", \"Operation\": \"training\", \"epoch\": 0, \"model\": 23}, \"Metrics\": {\"train_mse_objective\": {\"sum\": 0.24487697975219866, \"count\": 1, \"min\": 0.24487697975219866, \"max\": 0.24487697975219866}}}\u001b[0m\n",
      "\u001b[34m#metrics {\"StartTime\": 1710960202.8590217, \"EndTime\": 1710960202.8590314, \"Dimensions\": {\"Algorithm\": \"Linear Learner\", \"Host\": \"algo-1\", \"Operation\": \"training\", \"epoch\": 0, \"model\": 24}, \"Metrics\": {\"train_mse_objective\": {\"sum\": 0.964827690861727, \"count\": 1, \"min\": 0.964827690861727, \"max\": 0.964827690861727}}}\u001b[0m\n",
      "\u001b[34m#metrics {\"StartTime\": 1710960202.8590684, \"EndTime\": 1710960202.8590772, \"Dimensions\": {\"Algorithm\": \"Linear Learner\", \"Host\": \"algo-1\", \"Operation\": \"training\", \"epoch\": 0, \"model\": 25}, \"Metrics\": {\"train_mse_objective\": {\"sum\": 0.9616242372675946, \"count\": 1, \"min\": 0.9616242372675946, \"max\": 0.9616242372675946}}}\u001b[0m\n",
      "\u001b[34m#metrics {\"StartTime\": 1710960202.85911, \"EndTime\": 1710960202.8591197, \"Dimensions\": {\"Algorithm\": \"Linear Learner\", \"Host\": \"algo-1\", \"Operation\": \"training\", \"epoch\": 0, \"model\": 26}, \"Metrics\": {\"train_mse_objective\": {\"sum\": 0.9559263594840702, \"count\": 1, \"min\": 0.9559263594840702, \"max\": 0.9559263594840702}}}\u001b[0m\n",
      "\u001b[34m#metrics {\"StartTime\": 1710960202.859157, \"EndTime\": 1710960202.8591661, \"Dimensions\": {\"Algorithm\": \"Linear Learner\", \"Host\": \"algo-1\", \"Operation\": \"training\", \"epoch\": 0, \"model\": 27}, \"Metrics\": {\"train_mse_objective\": {\"sum\": 0.9597919253926528, \"count\": 1, \"min\": 0.9597919253926528, \"max\": 0.9597919253926528}}}\u001b[0m\n",
      "\u001b[34m#metrics {\"StartTime\": 1710960202.8592002, \"EndTime\": 1710960202.8592095, \"Dimensions\": {\"Algorithm\": \"Linear Learner\", \"Host\": \"algo-1\", \"Operation\": \"training\", \"epoch\": 0, \"model\": 28}, \"Metrics\": {\"train_mse_objective\": {\"sum\": 0.9967343995445653, \"count\": 1, \"min\": 0.9967343995445653, \"max\": 0.9967343995445653}}}\u001b[0m\n",
      "\u001b[34m#metrics {\"StartTime\": 1710960202.8592424, \"EndTime\": 1710960202.8592508, \"Dimensions\": {\"Algorithm\": \"Linear Learner\", \"Host\": \"algo-1\", \"Operation\": \"training\", \"epoch\": 0, \"model\": 29}, \"Metrics\": {\"train_mse_objective\": {\"sum\": 1.0009144360297604, \"count\": 1, \"min\": 1.0009144360297604, \"max\": 1.0009144360297604}}}\u001b[0m\n",
      "\u001b[34m#metrics {\"StartTime\": 1710960202.8592858, \"EndTime\": 1710960202.8592944, \"Dimensions\": {\"Algorithm\": \"Linear Learner\", \"Host\": \"algo-1\", \"Operation\": \"training\", \"epoch\": 0, \"model\": 30}, \"Metrics\": {\"train_mse_objective\": {\"sum\": 0.9974001540165198, \"count\": 1, \"min\": 0.9974001540165198, \"max\": 0.9974001540165198}}}\u001b[0m\n",
      "\u001b[34m#metrics {\"StartTime\": 1710960202.859329, \"EndTime\": 1710960202.8593378, \"Dimensions\": {\"Algorithm\": \"Linear Learner\", \"Host\": \"algo-1\", \"Operation\": \"training\", \"epoch\": 0, \"model\": 31}, \"Metrics\": {\"train_mse_objective\": {\"sum\": 1.0005024910757416, \"count\": 1, \"min\": 1.0005024910757416, \"max\": 1.0005024910757416}}}\u001b[0m\n",
      "\u001b[34m[03/20/2024 18:43:22 INFO 139961683208000] #quality_metric: host=algo-1, epoch=0, train mse_objective <loss>=0.24183226239524389\u001b[0m\n",
      "\u001b[34m#metrics {\"StartTime\": 1710960203.236766, \"EndTime\": 1710960203.2368155, \"Dimensions\": {\"Algorithm\": \"Linear Learner\", \"Host\": \"algo-1\", \"Operation\": \"training\", \"epoch\": 0, \"model\": 0}, \"Metrics\": {\"validation_mse_objective\": {\"sum\": 0.0048620469371445894, \"count\": 1, \"min\": 0.0048620469371445894, \"max\": 0.0048620469371445894}}}\u001b[0m\n",
      "\u001b[34m#metrics {\"StartTime\": 1710960203.2368865, \"EndTime\": 1710960203.2368996, \"Dimensions\": {\"Algorithm\": \"Linear Learner\", \"Host\": \"algo-1\", \"Operation\": \"training\", \"epoch\": 0, \"model\": 1}, \"Metrics\": {\"validation_mse_objective\": {\"sum\": 0.005366976479798923, \"count\": 1, \"min\": 0.005366976479798923, \"max\": 0.005366976479798923}}}\u001b[0m\n",
      "\u001b[34m#metrics {\"StartTime\": 1710960203.2369382, \"EndTime\": 1710960203.2369473, \"Dimensions\": {\"Algorithm\": \"Linear Learner\", \"Host\": \"algo-1\", \"Operation\": \"training\", \"epoch\": 0, \"model\": 2}, \"Metrics\": {\"validation_mse_objective\": {\"sum\": 0.004935915211934665, \"count\": 1, \"min\": 0.004935915211934665, \"max\": 0.004935915211934665}}}\u001b[0m\n",
      "\u001b[34m#metrics {\"StartTime\": 1710960203.2369788, \"EndTime\": 1710960203.2369864, \"Dimensions\": {\"Algorithm\": \"Linear Learner\", \"Host\": \"algo-1\", \"Operation\": \"training\", \"epoch\": 0, \"model\": 3}, \"Metrics\": {\"validation_mse_objective\": {\"sum\": 0.005426259525885205, \"count\": 1, \"min\": 0.005426259525885205, \"max\": 0.005426259525885205}}}\u001b[0m\n",
      "\u001b[34m#metrics {\"StartTime\": 1710960203.237018, \"EndTime\": 1710960203.2370255, \"Dimensions\": {\"Algorithm\": \"Linear Learner\", \"Host\": \"algo-1\", \"Operation\": \"training\", \"epoch\": 0, \"model\": 4}, \"Metrics\": {\"validation_mse_objective\": {\"sum\": 0.0034235795818315148, \"count\": 1, \"min\": 0.0034235795818315148, \"max\": 0.0034235795818315148}}}\u001b[0m\n",
      "\u001b[34m#metrics {\"StartTime\": 1710960203.2370532, \"EndTime\": 1710960203.2370608, \"Dimensions\": {\"Algorithm\": \"Linear Learner\", \"Host\": \"algo-1\", \"Operation\": \"training\", \"epoch\": 0, \"model\": 5}, \"Metrics\": {\"validation_mse_objective\": {\"sum\": 0.00336022631129445, \"count\": 1, \"min\": 0.00336022631129445, \"max\": 0.00336022631129445}}}\u001b[0m\n",
      "\u001b[34m#metrics {\"StartTime\": 1710960203.2370884, \"EndTime\": 1710960203.2370965, \"Dimensions\": {\"Algorithm\": \"Linear Learner\", \"Host\": \"algo-1\", \"Operation\": \"training\", \"epoch\": 0, \"model\": 6}, \"Metrics\": {\"validation_mse_objective\": {\"sum\": 0.003436551500471343, \"count\": 1, \"min\": 0.003436551500471343, \"max\": 0.003436551500471343}}}\u001b[0m\n",
      "\u001b[34m#metrics {\"StartTime\": 1710960203.2371237, \"EndTime\": 1710960203.2371306, \"Dimensions\": {\"Algorithm\": \"Linear Learner\", \"Host\": \"algo-1\", \"Operation\": \"training\", \"epoch\": 0, \"model\": 7}, \"Metrics\": {\"validation_mse_objective\": {\"sum\": 0.003360688201203422, \"count\": 1, \"min\": 0.003360688201203422, \"max\": 0.003360688201203422}}}\u001b[0m\n",
      "\u001b[34m#metrics {\"StartTime\": 1710960203.2371585, \"EndTime\": 1710960203.2371674, \"Dimensions\": {\"Algorithm\": \"Linear Learner\", \"Host\": \"algo-1\", \"Operation\": \"training\", \"epoch\": 0, \"model\": 8}, \"Metrics\": {\"validation_mse_objective\": {\"sum\": 0.005273822256606799, \"count\": 1, \"min\": 0.005273822256606799, \"max\": 0.005273822256606799}}}\u001b[0m\n",
      "\u001b[34m#metrics {\"StartTime\": 1710960203.2371967, \"EndTime\": 1710960203.237205, \"Dimensions\": {\"Algorithm\": \"Linear Learner\", \"Host\": \"algo-1\", \"Operation\": \"training\", \"epoch\": 0, \"model\": 9}, \"Metrics\": {\"validation_mse_objective\": {\"sum\": 0.00516135845882187, \"count\": 1, \"min\": 0.00516135845882187, \"max\": 0.00516135845882187}}}\u001b[0m\n",
      "\u001b[34m#metrics {\"StartTime\": 1710960203.237237, \"EndTime\": 1710960203.2372465, \"Dimensions\": {\"Algorithm\": \"Linear Learner\", \"Host\": \"algo-1\", \"Operation\": \"training\", \"epoch\": 0, \"model\": 10}, \"Metrics\": {\"validation_mse_objective\": {\"sum\": 0.005325304023018853, \"count\": 1, \"min\": 0.005325304023018853, \"max\": 0.005325304023018853}}}\u001b[0m\n",
      "\u001b[34m#metrics {\"StartTime\": 1710960203.2372828, \"EndTime\": 1710960203.237291, \"Dimensions\": {\"Algorithm\": \"Linear Learner\", \"Host\": \"algo-1\", \"Operation\": \"training\", \"epoch\": 0, \"model\": 11}, \"Metrics\": {\"validation_mse_objective\": {\"sum\": 0.005143751850298145, \"count\": 1, \"min\": 0.005143751850298145, \"max\": 0.005143751850298145}}}\u001b[0m\n",
      "\u001b[34m#metrics {\"StartTime\": 1710960203.237324, \"EndTime\": 1710960203.2373335, \"Dimensions\": {\"Algorithm\": \"Linear Learner\", \"Host\": \"algo-1\", \"Operation\": \"training\", \"epoch\": 0, \"model\": 12}, \"Metrics\": {\"validation_mse_objective\": {\"sum\": 0.003441223092721412, \"count\": 1, \"min\": 0.003441223092721412, \"max\": 0.003441223092721412}}}\u001b[0m\n",
      "\u001b[34m#metrics {\"StartTime\": 1710960203.2373648, \"EndTime\": 1710960203.2373743, \"Dimensions\": {\"Algorithm\": \"Linear Learner\", \"Host\": \"algo-1\", \"Operation\": \"training\", \"epoch\": 0, \"model\": 13}, \"Metrics\": {\"validation_mse_objective\": {\"sum\": 0.003363341696223806, \"count\": 1, \"min\": 0.003363341696223806, \"max\": 0.003363341696223806}}}\u001b[0m\n",
      "\u001b[34m#metrics {\"StartTime\": 1710960203.2374048, \"EndTime\": 1710960203.2374134, \"Dimensions\": {\"Algorithm\": \"Linear Learner\", \"Host\": \"algo-1\", \"Operation\": \"training\", \"epoch\": 0, \"model\": 14}, \"Metrics\": {\"validation_mse_objective\": {\"sum\": 0.003438991216036206, \"count\": 1, \"min\": 0.003438991216036206, \"max\": 0.003438991216036206}}}\u001b[0m\n",
      "\u001b[34m#metrics {\"StartTime\": 1710960203.237446, \"EndTime\": 1710960203.2374551, \"Dimensions\": {\"Algorithm\": \"Linear Learner\", \"Host\": \"algo-1\", \"Operation\": \"training\", \"epoch\": 0, \"model\": 15}, \"Metrics\": {\"validation_mse_objective\": {\"sum\": 0.0033704684102559726, \"count\": 1, \"min\": 0.0033704684102559726, \"max\": 0.0033704684102559726}}}\u001b[0m\n",
      "\u001b[34m#metrics {\"StartTime\": 1710960203.2374883, \"EndTime\": 1710960203.237497, \"Dimensions\": {\"Algorithm\": \"Linear Learner\", \"Host\": \"algo-1\", \"Operation\": \"training\", \"epoch\": 0, \"model\": 16}, \"Metrics\": {\"validation_mse_objective\": {\"sum\": 0.00760215638048595, \"count\": 1, \"min\": 0.00760215638048595, \"max\": 0.00760215638048595}}}\u001b[0m\n",
      "\u001b[34m#metrics {\"StartTime\": 1710960203.2375305, \"EndTime\": 1710960203.2375398, \"Dimensions\": {\"Algorithm\": \"Linear Learner\", \"Host\": \"algo-1\", \"Operation\": \"training\", \"epoch\": 0, \"model\": 17}, \"Metrics\": {\"validation_mse_objective\": {\"sum\": 0.007671651774654031, \"count\": 1, \"min\": 0.007671651774654031, \"max\": 0.007671651774654031}}}\u001b[0m\n",
      "\u001b[34m#metrics {\"StartTime\": 1710960203.2375748, \"EndTime\": 1710960203.2375848, \"Dimensions\": {\"Algorithm\": \"Linear Learner\", \"Host\": \"algo-1\", \"Operation\": \"training\", \"epoch\": 0, \"model\": 18}, \"Metrics\": {\"validation_mse_objective\": {\"sum\": 0.0077571952355991155, \"count\": 1, \"min\": 0.0077571952355991155, \"max\": 0.0077571952355991155}}}\u001b[0m\n",
      "\u001b[34m#metrics {\"StartTime\": 1710960203.2376196, \"EndTime\": 1710960203.2376292, \"Dimensions\": {\"Algorithm\": \"Linear Learner\", \"Host\": \"algo-1\", \"Operation\": \"training\", \"epoch\": 0, \"model\": 19}, \"Metrics\": {\"validation_mse_objective\": {\"sum\": 0.007801910444092028, \"count\": 1, \"min\": 0.007801910444092028, \"max\": 0.007801910444092028}}}\u001b[0m\n",
      "\u001b[34m#metrics {\"StartTime\": 1710960203.2376645, \"EndTime\": 1710960203.2376738, \"Dimensions\": {\"Algorithm\": \"Linear Learner\", \"Host\": \"algo-1\", \"Operation\": \"training\", \"epoch\": 0, \"model\": 20}, \"Metrics\": {\"validation_mse_objective\": {\"sum\": 0.007175386049909024, \"count\": 1, \"min\": 0.007175386049909024, \"max\": 0.007175386049909024}}}\u001b[0m\n",
      "\u001b[34m#metrics {\"StartTime\": 1710960203.2377102, \"EndTime\": 1710960203.2377195, \"Dimensions\": {\"Algorithm\": \"Linear Learner\", \"Host\": \"algo-1\", \"Operation\": \"training\", \"epoch\": 0, \"model\": 21}, \"Metrics\": {\"validation_mse_objective\": {\"sum\": 0.006905545304802837, \"count\": 1, \"min\": 0.006905545304802837, \"max\": 0.006905545304802837}}}\u001b[0m\n",
      "\u001b[34m#metrics {\"StartTime\": 1710960203.237755, \"EndTime\": 1710960203.2377653, \"Dimensions\": {\"Algorithm\": \"Linear Learner\", \"Host\": \"algo-1\", \"Operation\": \"training\", \"epoch\": 0, \"model\": 22}, \"Metrics\": {\"validation_mse_objective\": {\"sum\": 0.007481327428801838, \"count\": 1, \"min\": 0.007481327428801838, \"max\": 0.007481327428801838}}}\u001b[0m\n",
      "\u001b[34m#metrics {\"StartTime\": 1710960203.2378018, \"EndTime\": 1710960203.2378123, \"Dimensions\": {\"Algorithm\": \"Linear Learner\", \"Host\": \"algo-1\", \"Operation\": \"training\", \"epoch\": 0, \"model\": 23}, \"Metrics\": {\"validation_mse_objective\": {\"sum\": 0.0073341414896538, \"count\": 1, \"min\": 0.0073341414896538, \"max\": 0.0073341414896538}}}\u001b[0m\n",
      "\u001b[34m#metrics {\"StartTime\": 1710960203.2378478, \"EndTime\": 1710960203.2378578, \"Dimensions\": {\"Algorithm\": \"Linear Learner\", \"Host\": \"algo-1\", \"Operation\": \"training\", \"epoch\": 0, \"model\": 24}, \"Metrics\": {\"validation_mse_objective\": {\"sum\": 0.03700399684587788, \"count\": 1, \"min\": 0.03700399684587788, \"max\": 0.03700399684587788}}}\u001b[0m\n",
      "\u001b[34m#metrics {\"StartTime\": 1710960203.2378926, \"EndTime\": 1710960203.2379026, \"Dimensions\": {\"Algorithm\": \"Linear Learner\", \"Host\": \"algo-1\", \"Operation\": \"training\", \"epoch\": 0, \"model\": 25}, \"Metrics\": {\"validation_mse_objective\": {\"sum\": 0.03691503260843073, \"count\": 1, \"min\": 0.03691503260843073, \"max\": 0.03691503260843073}}}\u001b[0m\n",
      "\u001b[34m#metrics {\"StartTime\": 1710960203.2379372, \"EndTime\": 1710960203.2379458, \"Dimensions\": {\"Algorithm\": \"Linear Learner\", \"Host\": \"algo-1\", \"Operation\": \"training\", \"epoch\": 0, \"model\": 26}, \"Metrics\": {\"validation_mse_objective\": {\"sum\": 0.03699595036264318, \"count\": 1, \"min\": 0.03699595036264318, \"max\": 0.03699595036264318}}}\u001b[0m\n",
      "\u001b[34m#metrics {\"StartTime\": 1710960203.237982, \"EndTime\": 1710960203.2379923, \"Dimensions\": {\"Algorithm\": \"Linear Learner\", \"Host\": \"algo-1\", \"Operation\": \"training\", \"epoch\": 0, \"model\": 27}, \"Metrics\": {\"validation_mse_objective\": {\"sum\": 0.03709573863070359, \"count\": 1, \"min\": 0.03709573863070359, \"max\": 0.03709573863070359}}}\u001b[0m\n",
      "\u001b[34m#metrics {\"StartTime\": 1710960203.2380278, \"EndTime\": 1710960203.2380366, \"Dimensions\": {\"Algorithm\": \"Linear Learner\", \"Host\": \"algo-1\", \"Operation\": \"training\", \"epoch\": 0, \"model\": 28}, \"Metrics\": {\"validation_mse_objective\": {\"sum\": 0.0376642693836219, \"count\": 1, \"min\": 0.0376642693836219, \"max\": 0.0376642693836219}}}\u001b[0m\n",
      "\u001b[34m#metrics {\"StartTime\": 1710960203.23807, \"EndTime\": 1710960203.2380776, \"Dimensions\": {\"Algorithm\": \"Linear Learner\", \"Host\": \"algo-1\", \"Operation\": \"training\", \"epoch\": 0, \"model\": 29}, \"Metrics\": {\"validation_mse_objective\": {\"sum\": 0.03721380149926493, \"count\": 1, \"min\": 0.03721380149926493, \"max\": 0.03721380149926493}}}\u001b[0m\n",
      "\u001b[34m#metrics {\"StartTime\": 1710960203.2381055, \"EndTime\": 1710960203.2381136, \"Dimensions\": {\"Algorithm\": \"Linear Learner\", \"Host\": \"algo-1\", \"Operation\": \"training\", \"epoch\": 0, \"model\": 30}, \"Metrics\": {\"validation_mse_objective\": {\"sum\": 0.03752793821007074, \"count\": 1, \"min\": 0.03752793821007074, \"max\": 0.03752793821007074}}}\u001b[0m\n",
      "\u001b[34m#metrics {\"StartTime\": 1710960203.238149, \"EndTime\": 1710960203.2381582, \"Dimensions\": {\"Algorithm\": \"Linear Learner\", \"Host\": \"algo-1\", \"Operation\": \"training\", \"epoch\": 0, \"model\": 31}, \"Metrics\": {\"validation_mse_objective\": {\"sum\": 0.03760857505291639, \"count\": 1, \"min\": 0.03760857505291639, \"max\": 0.03760857505291639}}}\u001b[0m\n",
      "\u001b[34m[03/20/2024 18:43:23 INFO 139961683208000] #quality_metric: host=algo-1, epoch=0, validation mse_objective <loss>=0.0048620469371445894\u001b[0m\n",
      "\u001b[34m[03/20/2024 18:43:23 INFO 139961683208000] #early_stopping_criteria_metric: host=algo-1, epoch=0, criteria=mse_objective, value=0.00336022631129445\u001b[0m\n",
      "\u001b[34m[03/20/2024 18:43:23 INFO 139961683208000] Epoch 0: Loss improved. Updating best model\u001b[0m\n",
      "\u001b[34m[03/20/2024 18:43:23 INFO 139961683208000] Saving model for epoch: 0\u001b[0m\n",
      "\u001b[34m[03/20/2024 18:43:23 INFO 139961683208000] Saved checkpoint to \"/tmp/tmpx4128rgs/mx-mod-0000.params\"\u001b[0m\n",
      "\u001b[34m[03/20/2024 18:43:23 INFO 139961683208000] #progress_metric: host=algo-1, completed 6.666666666666667 % of epochs\u001b[0m\n",
      "\u001b[34m#metrics {\"StartTime\": 1710960200.241678, \"EndTime\": 1710960203.2474427, \"Dimensions\": {\"Algorithm\": \"Linear Learner\", \"Host\": \"algo-1\", \"Operation\": \"training\", \"epoch\": 0, \"Meta\": \"training_data_iter\"}, \"Metrics\": {\"Total Records Seen\": {\"sum\": 19542.0, \"count\": 1, \"min\": 19542, \"max\": 19542}, \"Total Batches Seen\": {\"sum\": 307.0, \"count\": 1, \"min\": 307, \"max\": 307}, \"Max Records Seen Between Resets\": {\"sum\": 9739.0, \"count\": 1, \"min\": 9739, \"max\": 9739}, \"Max Batches Seen Between Resets\": {\"sum\": 153.0, \"count\": 1, \"min\": 153, \"max\": 153}, \"Reset Count\": {\"sum\": 3.0, \"count\": 1, \"min\": 3, \"max\": 3}, \"Number of Records Since Last Reset\": {\"sum\": 9739.0, \"count\": 1, \"min\": 9739, \"max\": 9739}, \"Number of Batches Since Last Reset\": {\"sum\": 153.0, \"count\": 1, \"min\": 153, \"max\": 153}}}\u001b[0m\n",
      "\u001b[34m[03/20/2024 18:43:23 INFO 139961683208000] #throughput_metric: host=algo-1, train throughput=3239.925019115151 records/second\u001b[0m\n",
      "\u001b[34m#metrics {\"StartTime\": 1710960205.8287184, \"EndTime\": 1710960205.8287687, \"Dimensions\": {\"Algorithm\": \"Linear Learner\", \"Host\": \"algo-1\", \"Operation\": \"training\", \"epoch\": 1, \"model\": 0}, \"Metrics\": {\"train_mse_objective\": {\"sum\": 0.09936874563266572, \"count\": 1, \"min\": 0.09936874563266572, \"max\": 0.09936874563266572}}}\u001b[0m\n",
      "\u001b[34m#metrics {\"StartTime\": 1710960205.8288367, \"EndTime\": 1710960205.8288488, \"Dimensions\": {\"Algorithm\": \"Linear Learner\", \"Host\": \"algo-1\", \"Operation\": \"training\", \"epoch\": 1, \"model\": 1}, \"Metrics\": {\"train_mse_objective\": {\"sum\": 0.10707288924114484, \"count\": 1, \"min\": 0.10707288924114484, \"max\": 0.10707288924114484}}}\u001b[0m\n",
      "\u001b[34m#metrics {\"StartTime\": 1710960205.8288927, \"EndTime\": 1710960205.8289022, \"Dimensions\": {\"Algorithm\": \"Linear Learner\", \"Host\": \"algo-1\", \"Operation\": \"training\", \"epoch\": 1, \"model\": 2}, \"Metrics\": {\"train_mse_objective\": {\"sum\": 0.10089690534790095, \"count\": 1, \"min\": 0.10089690534790095, \"max\": 0.10089690534790095}}}\u001b[0m\n",
      "\u001b[34m#metrics {\"StartTime\": 1710960205.8289342, \"EndTime\": 1710960205.8289418, \"Dimensions\": {\"Algorithm\": \"Linear Learner\", \"Host\": \"algo-1\", \"Operation\": \"training\", \"epoch\": 1, \"model\": 3}, \"Metrics\": {\"train_mse_objective\": {\"sum\": 0.1063960920529146, \"count\": 1, \"min\": 0.1063960920529146, \"max\": 0.1063960920529146}}}\u001b[0m\n",
      "\u001b[34m#metrics {\"StartTime\": 1710960205.828974, \"EndTime\": 1710960205.828982, \"Dimensions\": {\"Algorithm\": \"Linear Learner\", \"Host\": \"algo-1\", \"Operation\": \"training\", \"epoch\": 1, \"model\": 4}, \"Metrics\": {\"train_mse_objective\": {\"sum\": 0.08538095942257266, \"count\": 1, \"min\": 0.08538095942257266, \"max\": 0.08538095942257266}}}\u001b[0m\n",
      "\u001b[34m#metrics {\"StartTime\": 1710960205.8290126, \"EndTime\": 1710960205.8290203, \"Dimensions\": {\"Algorithm\": \"Linear Learner\", \"Host\": \"algo-1\", \"Operation\": \"training\", \"epoch\": 1, \"model\": 5}, \"Metrics\": {\"train_mse_objective\": {\"sum\": 0.08846350188220017, \"count\": 1, \"min\": 0.08846350188220017, \"max\": 0.08846350188220017}}}\u001b[0m\n",
      "\u001b[34m#metrics {\"StartTime\": 1710960205.8290472, \"EndTime\": 1710960205.829055, \"Dimensions\": {\"Algorithm\": \"Linear Learner\", \"Host\": \"algo-1\", \"Operation\": \"training\", \"epoch\": 1, \"model\": 6}, \"Metrics\": {\"train_mse_objective\": {\"sum\": 0.08566299169079254, \"count\": 1, \"min\": 0.08566299169079254, \"max\": 0.08566299169079254}}}\u001b[0m\n",
      "\u001b[34m#metrics {\"StartTime\": 1710960205.8290818, \"EndTime\": 1710960205.8290899, \"Dimensions\": {\"Algorithm\": \"Linear Learner\", \"Host\": \"algo-1\", \"Operation\": \"training\", \"epoch\": 1, \"model\": 7}, \"Metrics\": {\"train_mse_objective\": {\"sum\": 0.088622121851107, \"count\": 1, \"min\": 0.088622121851107, \"max\": 0.088622121851107}}}\u001b[0m\n",
      "\u001b[34m#metrics {\"StartTime\": 1710960205.829119, \"EndTime\": 1710960205.8291283, \"Dimensions\": {\"Algorithm\": \"Linear Learner\", \"Host\": \"algo-1\", \"Operation\": \"training\", \"epoch\": 1, \"model\": 8}, \"Metrics\": {\"train_mse_objective\": {\"sum\": 0.10706067516615517, \"count\": 1, \"min\": 0.10706067516615517, \"max\": 0.10706067516615517}}}\u001b[0m\n",
      "\u001b[34m#metrics {\"StartTime\": 1710960205.8291616, \"EndTime\": 1710960205.82917, \"Dimensions\": {\"Algorithm\": \"Linear Learner\", \"Host\": \"algo-1\", \"Operation\": \"training\", \"epoch\": 1, \"model\": 9}, \"Metrics\": {\"train_mse_objective\": {\"sum\": 0.10464811538297095, \"count\": 1, \"min\": 0.10464811538297095, \"max\": 0.10464811538297095}}}\u001b[0m\n",
      "\u001b[34m#metrics {\"StartTime\": 1710960205.8292062, \"EndTime\": 1710960205.829216, \"Dimensions\": {\"Algorithm\": \"Linear Learner\", \"Host\": \"algo-1\", \"Operation\": \"training\", \"epoch\": 1, \"model\": 10}, \"Metrics\": {\"train_mse_objective\": {\"sum\": 0.1077881332143749, \"count\": 1, \"min\": 0.1077881332143749, \"max\": 0.1077881332143749}}}\u001b[0m\n",
      "\u001b[34m#metrics {\"StartTime\": 1710960205.829271, \"EndTime\": 1710960205.829283, \"Dimensions\": {\"Algorithm\": \"Linear Learner\", \"Host\": \"algo-1\", \"Operation\": \"training\", \"epoch\": 1, \"model\": 11}, \"Metrics\": {\"train_mse_objective\": {\"sum\": 0.10456162406817864, \"count\": 1, \"min\": 0.10456162406817864, \"max\": 0.10456162406817864}}}\u001b[0m\n",
      "\u001b[34m#metrics {\"StartTime\": 1710960205.829379, \"EndTime\": 1710960205.8293931, \"Dimensions\": {\"Algorithm\": \"Linear Learner\", \"Host\": \"algo-1\", \"Operation\": \"training\", \"epoch\": 1, \"model\": 12}, \"Metrics\": {\"train_mse_objective\": {\"sum\": 0.08552185240152635, \"count\": 1, \"min\": 0.08552185240152635, \"max\": 0.08552185240152635}}}\u001b[0m\n",
      "\u001b[34m#metrics {\"StartTime\": 1710960205.8294518, \"EndTime\": 1710960205.8294635, \"Dimensions\": {\"Algorithm\": \"Linear Learner\", \"Host\": \"algo-1\", \"Operation\": \"training\", \"epoch\": 1, \"model\": 13}, \"Metrics\": {\"train_mse_objective\": {\"sum\": 0.08850450083417327, \"count\": 1, \"min\": 0.08850450083417327, \"max\": 0.08850450083417327}}}\u001b[0m\n",
      "\u001b[34m#metrics {\"StartTime\": 1710960205.8295379, \"EndTime\": 1710960205.8295503, \"Dimensions\": {\"Algorithm\": \"Linear Learner\", \"Host\": \"algo-1\", \"Operation\": \"training\", \"epoch\": 1, \"model\": 14}, \"Metrics\": {\"train_mse_objective\": {\"sum\": 0.08556478953381118, \"count\": 1, \"min\": 0.08556478953381118, \"max\": 0.08556478953381118}}}\u001b[0m\n",
      "\u001b[34m#metrics {\"StartTime\": 1710960205.8296049, \"EndTime\": 1710960205.8296466, \"Dimensions\": {\"Algorithm\": \"Linear Learner\", \"Host\": \"algo-1\", \"Operation\": \"training\", \"epoch\": 1, \"model\": 15}, \"Metrics\": {\"train_mse_objective\": {\"sum\": 0.08868064699498446, \"count\": 1, \"min\": 0.08868064699498446, \"max\": 0.08868064699498446}}}\u001b[0m\n",
      "\u001b[34m#metrics {\"StartTime\": 1710960205.829691, \"EndTime\": 1710960205.829717, \"Dimensions\": {\"Algorithm\": \"Linear Learner\", \"Host\": \"algo-1\", \"Operation\": \"training\", \"epoch\": 1, \"model\": 16}, \"Metrics\": {\"train_mse_objective\": {\"sum\": 0.19410225298059613, \"count\": 1, \"min\": 0.19410225298059613, \"max\": 0.19410225298059613}}}\u001b[0m\n",
      "\u001b[34m#metrics {\"StartTime\": 1710960205.829789, \"EndTime\": 1710960205.8298025, \"Dimensions\": {\"Algorithm\": \"Linear Learner\", \"Host\": \"algo-1\", \"Operation\": \"training\", \"epoch\": 1, \"model\": 17}, \"Metrics\": {\"train_mse_objective\": {\"sum\": 0.19446227395612942, \"count\": 1, \"min\": 0.19446227395612942, \"max\": 0.19446227395612942}}}\u001b[0m\n",
      "\u001b[34m#metrics {\"StartTime\": 1710960205.829859, \"EndTime\": 1710960205.8298714, \"Dimensions\": {\"Algorithm\": \"Linear Learner\", \"Host\": \"algo-1\", \"Operation\": \"training\", \"epoch\": 1, \"model\": 18}, \"Metrics\": {\"train_mse_objective\": {\"sum\": 0.19500947773064436, \"count\": 1, \"min\": 0.19500947773064436, \"max\": 0.19500947773064436}}}\u001b[0m\n",
      "\u001b[34m#metrics {\"StartTime\": 1710960205.8299441, \"EndTime\": 1710960205.8299568, \"Dimensions\": {\"Algorithm\": \"Linear Learner\", \"Host\": \"algo-1\", \"Operation\": \"training\", \"epoch\": 1, \"model\": 19}, \"Metrics\": {\"train_mse_objective\": {\"sum\": 0.19539242556416675, \"count\": 1, \"min\": 0.19539242556416675, \"max\": 0.19539242556416675}}}\u001b[0m\n",
      "\u001b[34m#metrics {\"StartTime\": 1710960205.8300111, \"EndTime\": 1710960205.8300514, \"Dimensions\": {\"Algorithm\": \"Linear Learner\", \"Host\": \"algo-1\", \"Operation\": \"training\", \"epoch\": 1, \"model\": 20}, \"Metrics\": {\"train_mse_objective\": {\"sum\": 0.20455304891067116, \"count\": 1, \"min\": 0.20455304891067116, \"max\": 0.20455304891067116}}}\u001b[0m\n",
      "\u001b[34m#metrics {\"StartTime\": 1710960205.8300967, \"EndTime\": 1710960205.8301086, \"Dimensions\": {\"Algorithm\": \"Linear Learner\", \"Host\": \"algo-1\", \"Operation\": \"training\", \"epoch\": 1, \"model\": 21}, \"Metrics\": {\"train_mse_objective\": {\"sum\": 0.2056724913418293, \"count\": 1, \"min\": 0.2056724913418293, \"max\": 0.2056724913418293}}}\u001b[0m\n",
      "\u001b[34m#metrics {\"StartTime\": 1710960205.8301625, \"EndTime\": 1710960205.8301737, \"Dimensions\": {\"Algorithm\": \"Linear Learner\", \"Host\": \"algo-1\", \"Operation\": \"training\", \"epoch\": 1, \"model\": 22}, \"Metrics\": {\"train_mse_objective\": {\"sum\": 0.20469013959365456, \"count\": 1, \"min\": 0.20469013959365456, \"max\": 0.20469013959365456}}}\u001b[0m\n",
      "\u001b[34m#metrics {\"StartTime\": 1710960205.830283, \"EndTime\": 1710960205.8302994, \"Dimensions\": {\"Algorithm\": \"Linear Learner\", \"Host\": \"algo-1\", \"Operation\": \"training\", \"epoch\": 1, \"model\": 23}, \"Metrics\": {\"train_mse_objective\": {\"sum\": 0.2054995182705553, \"count\": 1, \"min\": 0.2054995182705553, \"max\": 0.2054995182705553}}}\u001b[0m\n",
      "\u001b[34m#metrics {\"StartTime\": 1710960205.83037, \"EndTime\": 1710960205.8303833, \"Dimensions\": {\"Algorithm\": \"Linear Learner\", \"Host\": \"algo-1\", \"Operation\": \"training\", \"epoch\": 1, \"model\": 24}, \"Metrics\": {\"train_mse_objective\": {\"sum\": 0.9586173464593134, \"count\": 1, \"min\": 0.9586173464593134, \"max\": 0.9586173464593134}}}\u001b[0m\n",
      "\u001b[34m#metrics {\"StartTime\": 1710960205.8304405, \"EndTime\": 1710960205.830452, \"Dimensions\": {\"Algorithm\": \"Linear Learner\", \"Host\": \"algo-1\", \"Operation\": \"training\", \"epoch\": 1, \"model\": 25}, \"Metrics\": {\"train_mse_objective\": {\"sum\": 0.9583661858188478, \"count\": 1, \"min\": 0.9583661858188478, \"max\": 0.9583661858188478}}}\u001b[0m\n",
      "\u001b[34m#metrics {\"StartTime\": 1710960205.830524, \"EndTime\": 1710960205.8305361, \"Dimensions\": {\"Algorithm\": \"Linear Learner\", \"Host\": \"algo-1\", \"Operation\": \"training\", \"epoch\": 1, \"model\": 26}, \"Metrics\": {\"train_mse_objective\": {\"sum\": 0.958576294544496, \"count\": 1, \"min\": 0.958576294544496, \"max\": 0.958576294544496}}}\u001b[0m\n",
      "\u001b[34m#metrics {\"StartTime\": 1710960205.8305907, \"EndTime\": 1710960205.830602, \"Dimensions\": {\"Algorithm\": \"Linear Learner\", \"Host\": \"algo-1\", \"Operation\": \"training\", \"epoch\": 1, \"model\": 27}, \"Metrics\": {\"train_mse_objective\": {\"sum\": 0.9584844712364046, \"count\": 1, \"min\": 0.9584844712364046, \"max\": 0.9584844712364046}}}\u001b[0m\n",
      "\u001b[34m#metrics {\"StartTime\": 1710960205.830671, \"EndTime\": 1710960205.830683, \"Dimensions\": {\"Algorithm\": \"Linear Learner\", \"Host\": \"algo-1\", \"Operation\": \"training\", \"epoch\": 1, \"model\": 28}, \"Metrics\": {\"train_mse_objective\": {\"sum\": 0.9807297120753088, \"count\": 1, \"min\": 0.9807297120753088, \"max\": 0.9807297120753088}}}\u001b[0m\n",
      "\u001b[34m#metrics {\"StartTime\": 1710960205.8307202, \"EndTime\": 1710960205.8307304, \"Dimensions\": {\"Algorithm\": \"Linear Learner\", \"Host\": \"algo-1\", \"Operation\": \"training\", \"epoch\": 1, \"model\": 29}, \"Metrics\": {\"train_mse_objective\": {\"sum\": 0.9918242175328104, \"count\": 1, \"min\": 0.9918242175328104, \"max\": 0.9918242175328104}}}\u001b[0m\n",
      "\u001b[34m#metrics {\"StartTime\": 1710960205.8307836, \"EndTime\": 1710960205.8307962, \"Dimensions\": {\"Algorithm\": \"Linear Learner\", \"Host\": \"algo-1\", \"Operation\": \"training\", \"epoch\": 1, \"model\": 30}, \"Metrics\": {\"train_mse_objective\": {\"sum\": 0.9802598835606324, \"count\": 1, \"min\": 0.9802598835606324, \"max\": 0.9802598835606324}}}\u001b[0m\n",
      "\u001b[34m#metrics {\"StartTime\": 1710960205.830955, \"EndTime\": 1710960205.8309715, \"Dimensions\": {\"Algorithm\": \"Linear Learner\", \"Host\": \"algo-1\", \"Operation\": \"training\", \"epoch\": 1, \"model\": 31}, \"Metrics\": {\"train_mse_objective\": {\"sum\": 0.9918926624875319, \"count\": 1, \"min\": 0.9918926624875319, \"max\": 0.9918926624875319}}}\u001b[0m\n",
      "\u001b[34m[03/20/2024 18:43:25 INFO 139961683208000] #quality_metric: host=algo-1, epoch=1, train mse_objective <loss>=0.09936874563266572\u001b[0m\n",
      "\u001b[34m#metrics {\"StartTime\": 1710960206.2355483, \"EndTime\": 1710960206.2355986, \"Dimensions\": {\"Algorithm\": \"Linear Learner\", \"Host\": \"algo-1\", \"Operation\": \"training\", \"epoch\": 1, \"model\": 0}, \"Metrics\": {\"validation_mse_objective\": {\"sum\": 0.0035503107625312214, \"count\": 1, \"min\": 0.0035503107625312214, \"max\": 0.0035503107625312214}}}\u001b[0m\n",
      "\u001b[34m#metrics {\"StartTime\": 1710960206.2356713, \"EndTime\": 1710960206.2356846, \"Dimensions\": {\"Algorithm\": \"Linear Learner\", \"Host\": \"algo-1\", \"Operation\": \"training\", \"epoch\": 1, \"model\": 1}, \"Metrics\": {\"validation_mse_objective\": {\"sum\": 0.003651318153786211, \"count\": 1, \"min\": 0.003651318153786211, \"max\": 0.003651318153786211}}}\u001b[0m\n",
      "\u001b[34m#metrics {\"StartTime\": 1710960206.2359653, \"EndTime\": 1710960206.2359872, \"Dimensions\": {\"Algorithm\": \"Linear Learner\", \"Host\": \"algo-1\", \"Operation\": \"training\", \"epoch\": 1, \"model\": 2}, \"Metrics\": {\"validation_mse_objective\": {\"sum\": 0.0035774465691435936, \"count\": 1, \"min\": 0.0035774465691435936, \"max\": 0.0035774465691435936}}}\u001b[0m\n",
      "\u001b[34m#metrics {\"StartTime\": 1710960206.2360332, \"EndTime\": 1710960206.2360444, \"Dimensions\": {\"Algorithm\": \"Linear Learner\", \"Host\": \"algo-1\", \"Operation\": \"training\", \"epoch\": 1, \"model\": 3}, \"Metrics\": {\"validation_mse_objective\": {\"sum\": 0.003623112364795472, \"count\": 1, \"min\": 0.003623112364795472, \"max\": 0.003623112364795472}}}\u001b[0m\n",
      "\u001b[34m#metrics {\"StartTime\": 1710960206.2360842, \"EndTime\": 1710960206.2360952, \"Dimensions\": {\"Algorithm\": \"Linear Learner\", \"Host\": \"algo-1\", \"Operation\": \"training\", \"epoch\": 1, \"model\": 4}, \"Metrics\": {\"validation_mse_objective\": {\"sum\": 0.003346044353345214, \"count\": 1, \"min\": 0.003346044353345214, \"max\": 0.003346044353345214}}}\u001b[0m\n",
      "\u001b[34m#metrics {\"StartTime\": 1710960206.236133, \"EndTime\": 1710960206.236143, \"Dimensions\": {\"Algorithm\": \"Linear Learner\", \"Host\": \"algo-1\", \"Operation\": \"training\", \"epoch\": 1, \"model\": 5}, \"Metrics\": {\"validation_mse_objective\": {\"sum\": 0.0036931814893590596, \"count\": 1, \"min\": 0.0036931814893590596, \"max\": 0.0036931814893590596}}}\u001b[0m\n",
      "\u001b[34m#metrics {\"StartTime\": 1710960206.236179, \"EndTime\": 1710960206.2361891, \"Dimensions\": {\"Algorithm\": \"Linear Learner\", \"Host\": \"algo-1\", \"Operation\": \"training\", \"epoch\": 1, \"model\": 6}, \"Metrics\": {\"validation_mse_objective\": {\"sum\": 0.003374886317503709, \"count\": 1, \"min\": 0.003374886317503709, \"max\": 0.003374886317503709}}}\u001b[0m\n",
      "\u001b[34m#metrics {\"StartTime\": 1710960206.2362258, \"EndTime\": 1710960206.2362366, \"Dimensions\": {\"Algorithm\": \"Linear Learner\", \"Host\": \"algo-1\", \"Operation\": \"training\", \"epoch\": 1, \"model\": 7}, \"Metrics\": {\"validation_mse_objective\": {\"sum\": 0.0036957523102816615, \"count\": 1, \"min\": 0.0036957523102816615, \"max\": 0.0036957523102816615}}}\u001b[0m\n",
      "\u001b[34m#metrics {\"StartTime\": 1710960206.2362723, \"EndTime\": 1710960206.2362843, \"Dimensions\": {\"Algorithm\": \"Linear Learner\", \"Host\": \"algo-1\", \"Operation\": \"training\", \"epoch\": 1, \"model\": 8}, \"Metrics\": {\"validation_mse_objective\": {\"sum\": 0.0037623874097058524, \"count\": 1, \"min\": 0.0037623874097058524, \"max\": 0.0037623874097058524}}}\u001b[0m\n",
      "\u001b[34m#metrics {\"StartTime\": 1710960206.236319, \"EndTime\": 1710960206.2363286, \"Dimensions\": {\"Algorithm\": \"Linear Learner\", \"Host\": \"algo-1\", \"Operation\": \"training\", \"epoch\": 1, \"model\": 9}, \"Metrics\": {\"validation_mse_objective\": {\"sum\": 0.0036499231418372882, \"count\": 1, \"min\": 0.0036499231418372882, \"max\": 0.0036499231418372882}}}\u001b[0m\n",
      "\u001b[34m#metrics {\"StartTime\": 1710960206.2363622, \"EndTime\": 1710960206.2363718, \"Dimensions\": {\"Algorithm\": \"Linear Learner\", \"Host\": \"algo-1\", \"Operation\": \"training\", \"epoch\": 1, \"model\": 10}, \"Metrics\": {\"validation_mse_objective\": {\"sum\": 0.003748980671328969, \"count\": 1, \"min\": 0.003748980671328969, \"max\": 0.003748980671328969}}}\u001b[0m\n",
      "\u001b[34m#metrics {\"StartTime\": 1710960206.2364082, \"EndTime\": 1710960206.2364178, \"Dimensions\": {\"Algorithm\": \"Linear Learner\", \"Host\": \"algo-1\", \"Operation\": \"training\", \"epoch\": 1, \"model\": 11}, \"Metrics\": {\"validation_mse_objective\": {\"sum\": 0.003624415063577488, \"count\": 1, \"min\": 0.003624415063577488, \"max\": 0.003624415063577488}}}\u001b[0m\n",
      "\u001b[34m#metrics {\"StartTime\": 1710960206.2364516, \"EndTime\": 1710960206.2364612, \"Dimensions\": {\"Algorithm\": \"Linear Learner\", \"Host\": \"algo-1\", \"Operation\": \"training\", \"epoch\": 1, \"model\": 12}, \"Metrics\": {\"validation_mse_objective\": {\"sum\": 0.00337266690811062, \"count\": 1, \"min\": 0.00337266690811062, \"max\": 0.00337266690811062}}}\u001b[0m\n",
      "\u001b[34m#metrics {\"StartTime\": 1710960206.2364964, \"EndTime\": 1710960206.2365067, \"Dimensions\": {\"Algorithm\": \"Linear Learner\", \"Host\": \"algo-1\", \"Operation\": \"training\", \"epoch\": 1, \"model\": 13}, \"Metrics\": {\"validation_mse_objective\": {\"sum\": 0.0036757358240854816, \"count\": 1, \"min\": 0.0036757358240854816, \"max\": 0.0036757358240854816}}}\u001b[0m\n",
      "\u001b[34m#metrics {\"StartTime\": 1710960206.2365432, \"EndTime\": 1710960206.2365527, \"Dimensions\": {\"Algorithm\": \"Linear Learner\", \"Host\": \"algo-1\", \"Operation\": \"training\", \"epoch\": 1, \"model\": 14}, \"Metrics\": {\"validation_mse_objective\": {\"sum\": 0.0033789562619840094, \"count\": 1, \"min\": 0.0033789562619840094, \"max\": 0.0033789562619840094}}}\u001b[0m\n",
      "\u001b[34m#metrics {\"StartTime\": 1710960206.2365885, \"EndTime\": 1710960206.2365985, \"Dimensions\": {\"Algorithm\": \"Linear Learner\", \"Host\": \"algo-1\", \"Operation\": \"training\", \"epoch\": 1, \"model\": 15}, \"Metrics\": {\"validation_mse_objective\": {\"sum\": 0.0036134963304385757, \"count\": 1, \"min\": 0.0036134963304385757, \"max\": 0.0036134963304385757}}}\u001b[0m\n",
      "\u001b[34m#metrics {\"StartTime\": 1710960206.2366338, \"EndTime\": 1710960206.2366438, \"Dimensions\": {\"Algorithm\": \"Linear Learner\", \"Host\": \"algo-1\", \"Operation\": \"training\", \"epoch\": 1, \"model\": 16}, \"Metrics\": {\"validation_mse_objective\": {\"sum\": 0.0074058189684069985, \"count\": 1, \"min\": 0.0074058189684069985, \"max\": 0.0074058189684069985}}}\u001b[0m\n",
      "\u001b[34m#metrics {\"StartTime\": 1710960206.236681, \"EndTime\": 1710960206.2366908, \"Dimensions\": {\"Algorithm\": \"Linear Learner\", \"Host\": \"algo-1\", \"Operation\": \"training\", \"epoch\": 1, \"model\": 17}, \"Metrics\": {\"validation_mse_objective\": {\"sum\": 0.0073907467590174514, \"count\": 1, \"min\": 0.0073907467590174514, \"max\": 0.0073907467590174514}}}\u001b[0m\n",
      "\u001b[34m#metrics {\"StartTime\": 1710960206.2367256, \"EndTime\": 1710960206.2367342, \"Dimensions\": {\"Algorithm\": \"Linear Learner\", \"Host\": \"algo-1\", \"Operation\": \"training\", \"epoch\": 1, \"model\": 18}, \"Metrics\": {\"validation_mse_objective\": {\"sum\": 0.007485940156493037, \"count\": 1, \"min\": 0.007485940156493037, \"max\": 0.007485940156493037}}}\u001b[0m\n",
      "\u001b[34m#metrics {\"StartTime\": 1710960206.2367659, \"EndTime\": 1710960206.2367752, \"Dimensions\": {\"Algorithm\": \"Linear Learner\", \"Host\": \"algo-1\", \"Operation\": \"training\", \"epoch\": 1, \"model\": 19}, \"Metrics\": {\"validation_mse_objective\": {\"sum\": 0.007388804546983824, \"count\": 1, \"min\": 0.007388804546983824, \"max\": 0.007388804546983824}}}\u001b[0m\n",
      "\u001b[34m#metrics {\"StartTime\": 1710960206.236811, \"EndTime\": 1710960206.236821, \"Dimensions\": {\"Algorithm\": \"Linear Learner\", \"Host\": \"algo-1\", \"Operation\": \"training\", \"epoch\": 1, \"model\": 20}, \"Metrics\": {\"validation_mse_objective\": {\"sum\": 0.007190595325120788, \"count\": 1, \"min\": 0.007190595325120788, \"max\": 0.007190595325120788}}}\u001b[0m\n",
      "\u001b[34m#metrics {\"StartTime\": 1710960206.2368562, \"EndTime\": 1710960206.236866, \"Dimensions\": {\"Algorithm\": \"Linear Learner\", \"Host\": \"algo-1\", \"Operation\": \"training\", \"epoch\": 1, \"model\": 21}, \"Metrics\": {\"validation_mse_objective\": {\"sum\": 0.006896925849354304, \"count\": 1, \"min\": 0.006896925849354304, \"max\": 0.006896925849354304}}}\u001b[0m\n",
      "\u001b[34m#metrics {\"StartTime\": 1710960206.2369022, \"EndTime\": 1710960206.2369118, \"Dimensions\": {\"Algorithm\": \"Linear Learner\", \"Host\": \"algo-1\", \"Operation\": \"training\", \"epoch\": 1, \"model\": 22}, \"Metrics\": {\"validation_mse_objective\": {\"sum\": 0.0073359421590148055, \"count\": 1, \"min\": 0.0073359421590148055, \"max\": 0.0073359421590148055}}}\u001b[0m\n",
      "\u001b[34m#metrics {\"StartTime\": 1710960206.2369473, \"EndTime\": 1710960206.2369568, \"Dimensions\": {\"Algorithm\": \"Linear Learner\", \"Host\": \"algo-1\", \"Operation\": \"training\", \"epoch\": 1, \"model\": 23}, \"Metrics\": {\"validation_mse_objective\": {\"sum\": 0.006991120996489142, \"count\": 1, \"min\": 0.006991120996489142, \"max\": 0.006991120996489142}}}\u001b[0m\n",
      "\u001b[34m#metrics {\"StartTime\": 1710960206.2369924, \"EndTime\": 1710960206.237002, \"Dimensions\": {\"Algorithm\": \"Linear Learner\", \"Host\": \"algo-1\", \"Operation\": \"training\", \"epoch\": 1, \"model\": 24}, \"Metrics\": {\"validation_mse_objective\": {\"sum\": 0.036993046337451777, \"count\": 1, \"min\": 0.036993046337451777, \"max\": 0.036993046337451777}}}\u001b[0m\n",
      "\u001b[34m#metrics {\"StartTime\": 1710960206.2370377, \"EndTime\": 1710960206.237047, \"Dimensions\": {\"Algorithm\": \"Linear Learner\", \"Host\": \"algo-1\", \"Operation\": \"training\", \"epoch\": 1, \"model\": 25}, \"Metrics\": {\"validation_mse_objective\": {\"sum\": 0.036979142561157134, \"count\": 1, \"min\": 0.036979142561157134, \"max\": 0.036979142561157134}}}\u001b[0m\n",
      "\u001b[34m#metrics {\"StartTime\": 1710960206.2370832, \"EndTime\": 1710960206.2370937, \"Dimensions\": {\"Algorithm\": \"Linear Learner\", \"Host\": \"algo-1\", \"Operation\": \"training\", \"epoch\": 1, \"model\": 26}, \"Metrics\": {\"validation_mse_objective\": {\"sum\": 0.03692790938415077, \"count\": 1, \"min\": 0.03692790938415077, \"max\": 0.03692790938415077}}}\u001b[0m\n",
      "\u001b[34m#metrics {\"StartTime\": 1710960206.2371294, \"EndTime\": 1710960206.2371397, \"Dimensions\": {\"Algorithm\": \"Linear Learner\", \"Host\": \"algo-1\", \"Operation\": \"training\", \"epoch\": 1, \"model\": 27}, \"Metrics\": {\"validation_mse_objective\": {\"sum\": 0.037102209720033884, \"count\": 1, \"min\": 0.037102209720033884, \"max\": 0.037102209720033884}}}\u001b[0m\n",
      "\u001b[34m#metrics {\"StartTime\": 1710960206.237174, \"EndTime\": 1710960206.237184, \"Dimensions\": {\"Algorithm\": \"Linear Learner\", \"Host\": \"algo-1\", \"Operation\": \"training\", \"epoch\": 1, \"model\": 28}, \"Metrics\": {\"validation_mse_objective\": {\"sum\": 0.03718225326565012, \"count\": 1, \"min\": 0.03718225326565012, \"max\": 0.03718225326565012}}}\u001b[0m\n",
      "\u001b[34m#metrics {\"StartTime\": 1710960206.2372196, \"EndTime\": 1710960206.2372293, \"Dimensions\": {\"Algorithm\": \"Linear Learner\", \"Host\": \"algo-1\", \"Operation\": \"training\", \"epoch\": 1, \"model\": 29}, \"Metrics\": {\"validation_mse_objective\": {\"sum\": 0.037164697445760765, \"count\": 1, \"min\": 0.037164697445760765, \"max\": 0.037164697445760765}}}\u001b[0m\n",
      "\u001b[34m#metrics {\"StartTime\": 1710960206.2372649, \"EndTime\": 1710960206.2372758, \"Dimensions\": {\"Algorithm\": \"Linear Learner\", \"Host\": \"algo-1\", \"Operation\": \"training\", \"epoch\": 1, \"model\": 30}, \"Metrics\": {\"validation_mse_objective\": {\"sum\": 0.037442083967356224, \"count\": 1, \"min\": 0.037442083967356224, \"max\": 0.037442083967356224}}}\u001b[0m\n",
      "\u001b[34m#metrics {\"StartTime\": 1710960206.237312, \"EndTime\": 1710960206.237322, \"Dimensions\": {\"Algorithm\": \"Linear Learner\", \"Host\": \"algo-1\", \"Operation\": \"training\", \"epoch\": 1, \"model\": 31}, \"Metrics\": {\"validation_mse_objective\": {\"sum\": 0.036494758800131095, \"count\": 1, \"min\": 0.036494758800131095, \"max\": 0.036494758800131095}}}\u001b[0m\n",
      "\u001b[34m[03/20/2024 18:43:26 INFO 139961683208000] #quality_metric: host=algo-1, epoch=1, validation mse_objective <loss>=0.0035503107625312214\u001b[0m\n",
      "\u001b[34m[03/20/2024 18:43:26 INFO 139961683208000] #early_stopping_criteria_metric: host=algo-1, epoch=1, criteria=mse_objective, value=0.003346044353345214\u001b[0m\n",
      "\u001b[34m[03/20/2024 18:43:26 INFO 139961683208000] Epoch 1: Loss improved. Updating best model\u001b[0m\n",
      "\u001b[34m[03/20/2024 18:43:26 INFO 139961683208000] Saving model for epoch: 1\u001b[0m\n",
      "\u001b[34m[03/20/2024 18:43:26 INFO 139961683208000] Saved checkpoint to \"/tmp/tmpgoyhj3sq/mx-mod-0000.params\"\u001b[0m\n",
      "\u001b[34m[03/20/2024 18:43:26 INFO 139961683208000] #progress_metric: host=algo-1, completed 13.333333333333334 % of epochs\u001b[0m\n",
      "\u001b[34m#metrics {\"StartTime\": 1710960203.2477138, \"EndTime\": 1710960206.2433958, \"Dimensions\": {\"Algorithm\": \"Linear Learner\", \"Host\": \"algo-1\", \"Operation\": \"training\", \"epoch\": 1, \"Meta\": \"training_data_iter\"}, \"Metrics\": {\"Total Records Seen\": {\"sum\": 29281.0, \"count\": 1, \"min\": 29281, \"max\": 29281}, \"Total Batches Seen\": {\"sum\": 460.0, \"count\": 1, \"min\": 460, \"max\": 460}, \"Max Records Seen Between Resets\": {\"sum\": 9739.0, \"count\": 1, \"min\": 9739, \"max\": 9739}, \"Max Batches Seen Between Resets\": {\"sum\": 153.0, \"count\": 1, \"min\": 153, \"max\": 153}, \"Reset Count\": {\"sum\": 4.0, \"count\": 1, \"min\": 4, \"max\": 4}, \"Number of Records Since Last Reset\": {\"sum\": 9739.0, \"count\": 1, \"min\": 9739, \"max\": 9739}, \"Number of Batches Since Last Reset\": {\"sum\": 153.0, \"count\": 1, \"min\": 153, \"max\": 153}}}\u001b[0m\n",
      "\u001b[34m[03/20/2024 18:43:26 INFO 139961683208000] #throughput_metric: host=algo-1, train throughput=3250.840311466339 records/second\u001b[0m\n",
      "\u001b[34m#metrics {\"StartTime\": 1710960209.9678323, \"EndTime\": 1710960209.967889, \"Dimensions\": {\"Algorithm\": \"Linear Learner\", \"Host\": \"algo-1\", \"Operation\": \"training\", \"epoch\": 2, \"model\": 0}, \"Metrics\": {\"train_mse_objective\": {\"sum\": 0.08212027497785657, \"count\": 1, \"min\": 0.08212027497785657, \"max\": 0.08212027497785657}}}\u001b[0m\n",
      "\u001b[34m#metrics {\"StartTime\": 1710960209.9679623, \"EndTime\": 1710960209.9679966, \"Dimensions\": {\"Algorithm\": \"Linear Learner\", \"Host\": \"algo-1\", \"Operation\": \"training\", \"epoch\": 2, \"model\": 1}, \"Metrics\": {\"train_mse_objective\": {\"sum\": 0.08342239429782096, \"count\": 1, \"min\": 0.08342239429782096, \"max\": 0.08342239429782096}}}\u001b[0m\n",
      "\u001b[34m#metrics {\"StartTime\": 1710960209.9680922, \"EndTime\": 1710960209.9681058, \"Dimensions\": {\"Algorithm\": \"Linear Learner\", \"Host\": \"algo-1\", \"Operation\": \"training\", \"epoch\": 2, \"model\": 2}, \"Metrics\": {\"train_mse_objective\": {\"sum\": 0.08267101495967884, \"count\": 1, \"min\": 0.08267101495967884, \"max\": 0.08267101495967884}}}\u001b[0m\n",
      "\u001b[34m#metrics {\"StartTime\": 1710960209.9682453, \"EndTime\": 1710960209.9683242, \"Dimensions\": {\"Algorithm\": \"Linear Learner\", \"Host\": \"algo-1\", \"Operation\": \"training\", \"epoch\": 2, \"model\": 3}, \"Metrics\": {\"train_mse_objective\": {\"sum\": 0.08262724444074065, \"count\": 1, \"min\": 0.08262724444074065, \"max\": 0.08262724444074065}}}\u001b[0m\n",
      "\u001b[34m#metrics {\"StartTime\": 1710960209.9684272, \"EndTime\": 1710960209.968468, \"Dimensions\": {\"Algorithm\": \"Linear Learner\", \"Host\": \"algo-1\", \"Operation\": \"training\", \"epoch\": 2, \"model\": 4}, \"Metrics\": {\"train_mse_objective\": {\"sum\": 0.08567483291814201, \"count\": 1, \"min\": 0.08567483291814201, \"max\": 0.08567483291814201}}}\u001b[0m\n",
      "\u001b[34m#metrics {\"StartTime\": 1710960209.9685707, \"EndTime\": 1710960209.9686105, \"Dimensions\": {\"Algorithm\": \"Linear Learner\", \"Host\": \"algo-1\", \"Operation\": \"training\", \"epoch\": 2, \"model\": 5}, \"Metrics\": {\"train_mse_objective\": {\"sum\": 0.09217071665548965, \"count\": 1, \"min\": 0.09217071665548965, \"max\": 0.09217071665548965}}}\u001b[0m\n",
      "\u001b[34m#metrics {\"StartTime\": 1710960209.9687154, \"EndTime\": 1710960209.9687545, \"Dimensions\": {\"Algorithm\": \"Linear Learner\", \"Host\": \"algo-1\", \"Operation\": \"training\", \"epoch\": 2, \"model\": 6}, \"Metrics\": {\"train_mse_objective\": {\"sum\": 0.08601434599902284, \"count\": 1, \"min\": 0.08601434599902284, \"max\": 0.08601434599902284}}}\u001b[0m\n",
      "\u001b[34m#metrics {\"StartTime\": 1710960209.9688563, \"EndTime\": 1710960209.9688942, \"Dimensions\": {\"Algorithm\": \"Linear Learner\", \"Host\": \"algo-1\", \"Operation\": \"training\", \"epoch\": 2, \"model\": 7}, \"Metrics\": {\"train_mse_objective\": {\"sum\": 0.09206833246801245, \"count\": 1, \"min\": 0.09206833246801245, \"max\": 0.09206833246801245}}}\u001b[0m\n",
      "\u001b[34m#metrics {\"StartTime\": 1710960209.9689922, \"EndTime\": 1710960209.96903, \"Dimensions\": {\"Algorithm\": \"Linear Learner\", \"Host\": \"algo-1\", \"Operation\": \"training\", \"epoch\": 2, \"model\": 8}, \"Metrics\": {\"train_mse_objective\": {\"sum\": 0.08530716759789932, \"count\": 1, \"min\": 0.08530716759789932, \"max\": 0.08530716759789932}}}\u001b[0m\n",
      "\u001b[34m#metrics {\"StartTime\": 1710960209.9691331, \"EndTime\": 1710960209.969171, \"Dimensions\": {\"Algorithm\": \"Linear Learner\", \"Host\": \"algo-1\", \"Operation\": \"training\", \"epoch\": 2, \"model\": 9}, \"Metrics\": {\"train_mse_objective\": {\"sum\": 0.0835489938525777, \"count\": 1, \"min\": 0.0835489938525777, \"max\": 0.0835489938525777}}}\u001b[0m\n",
      "\u001b[34m#metrics {\"StartTime\": 1710960209.969272, \"EndTime\": 1710960209.9692998, \"Dimensions\": {\"Algorithm\": \"Linear Learner\", \"Host\": \"algo-1\", \"Operation\": \"training\", \"epoch\": 2, \"model\": 10}, \"Metrics\": {\"train_mse_objective\": {\"sum\": 0.08533303699407138, \"count\": 1, \"min\": 0.08533303699407138, \"max\": 0.08533303699407138}}}\u001b[0m\n",
      "\u001b[34m#metrics {\"StartTime\": 1710960209.9693422, \"EndTime\": 1710960209.9694057, \"Dimensions\": {\"Algorithm\": \"Linear Learner\", \"Host\": \"algo-1\", \"Operation\": \"training\", \"epoch\": 2, \"model\": 11}, \"Metrics\": {\"train_mse_objective\": {\"sum\": 0.08360622134549837, \"count\": 1, \"min\": 0.08360622134549837, \"max\": 0.08360622134549837}}}\u001b[0m\n",
      "\u001b[34m#metrics {\"StartTime\": 1710960209.9694967, \"EndTime\": 1710960209.9695256, \"Dimensions\": {\"Algorithm\": \"Linear Learner\", \"Host\": \"algo-1\", \"Operation\": \"training\", \"epoch\": 2, \"model\": 12}, \"Metrics\": {\"train_mse_objective\": {\"sum\": 0.08580681117937754, \"count\": 1, \"min\": 0.08580681117937754, \"max\": 0.08580681117937754}}}\u001b[0m\n",
      "\u001b[34m#metrics {\"StartTime\": 1710960209.9695692, \"EndTime\": 1710960209.9696298, \"Dimensions\": {\"Algorithm\": \"Linear Learner\", \"Host\": \"algo-1\", \"Operation\": \"training\", \"epoch\": 2, \"model\": 13}, \"Metrics\": {\"train_mse_objective\": {\"sum\": 0.09169874533912853, \"count\": 1, \"min\": 0.09169874533912853, \"max\": 0.09169874533912853}}}\u001b[0m\n",
      "\u001b[34m#metrics {\"StartTime\": 1710960209.9697263, \"EndTime\": 1710960209.9697413, \"Dimensions\": {\"Algorithm\": \"Linear Learner\", \"Host\": \"algo-1\", \"Operation\": \"training\", \"epoch\": 2, \"model\": 14}, \"Metrics\": {\"train_mse_objective\": {\"sum\": 0.08590282994861666, \"count\": 1, \"min\": 0.08590282994861666, \"max\": 0.08590282994861666}}}\u001b[0m\n",
      "\u001b[34m#metrics {\"StartTime\": 1710960209.9698343, \"EndTime\": 1710960209.9698634, \"Dimensions\": {\"Algorithm\": \"Linear Learner\", \"Host\": \"algo-1\", \"Operation\": \"training\", \"epoch\": 2, \"model\": 15}, \"Metrics\": {\"train_mse_objective\": {\"sum\": 0.09140838449820876, \"count\": 1, \"min\": 0.09140838449820876, \"max\": 0.09140838449820876}}}\u001b[0m\n",
      "\u001b[34m#metrics {\"StartTime\": 1710960209.9699085, \"EndTime\": 1710960209.9699528, \"Dimensions\": {\"Algorithm\": \"Linear Learner\", \"Host\": \"algo-1\", \"Operation\": \"training\", \"epoch\": 2, \"model\": 16}, \"Metrics\": {\"train_mse_objective\": {\"sum\": 0.19326229766011238, \"count\": 1, \"min\": 0.19326229766011238, \"max\": 0.19326229766011238}}}\u001b[0m\n",
      "\u001b[34m#metrics {\"StartTime\": 1710960209.97, \"EndTime\": 1710960209.9700356, \"Dimensions\": {\"Algorithm\": \"Linear Learner\", \"Host\": \"algo-1\", \"Operation\": \"training\", \"epoch\": 2, \"model\": 17}, \"Metrics\": {\"train_mse_objective\": {\"sum\": 0.1936334891146735, \"count\": 1, \"min\": 0.1936334891146735, \"max\": 0.1936334891146735}}}\u001b[0m\n",
      "\u001b[34m#metrics {\"StartTime\": 1710960209.9700801, \"EndTime\": 1710960209.9701118, \"Dimensions\": {\"Algorithm\": \"Linear Learner\", \"Host\": \"algo-1\", \"Operation\": \"training\", \"epoch\": 2, \"model\": 18}, \"Metrics\": {\"train_mse_objective\": {\"sum\": 0.1932586475128406, \"count\": 1, \"min\": 0.1932586475128406, \"max\": 0.1932586475128406}}}\u001b[0m\n",
      "\u001b[34m#metrics {\"StartTime\": 1710960209.9701564, \"EndTime\": 1710960209.970167, \"Dimensions\": {\"Algorithm\": \"Linear Learner\", \"Host\": \"algo-1\", \"Operation\": \"training\", \"epoch\": 2, \"model\": 19}, \"Metrics\": {\"train_mse_objective\": {\"sum\": 0.19362568938614508, \"count\": 1, \"min\": 0.19362568938614508, \"max\": 0.19362568938614508}}}\u001b[0m\n",
      "\u001b[34m#metrics {\"StartTime\": 1710960209.9702115, \"EndTime\": 1710960209.970222, \"Dimensions\": {\"Algorithm\": \"Linear Learner\", \"Host\": \"algo-1\", \"Operation\": \"training\", \"epoch\": 2, \"model\": 20}, \"Metrics\": {\"train_mse_objective\": {\"sum\": 0.20419908859031766, \"count\": 1, \"min\": 0.20419908859031766, \"max\": 0.20419908859031766}}}\u001b[0m\n",
      "\u001b[34m#metrics {\"StartTime\": 1710960209.9702775, \"EndTime\": 1710960209.9702888, \"Dimensions\": {\"Algorithm\": \"Linear Learner\", \"Host\": \"algo-1\", \"Operation\": \"training\", \"epoch\": 2, \"model\": 21}, \"Metrics\": {\"train_mse_objective\": {\"sum\": 0.20590003030864815, \"count\": 1, \"min\": 0.20590003030864815, \"max\": 0.20590003030864815}}}\u001b[0m\n",
      "\u001b[34m#metrics {\"StartTime\": 1710960209.9703634, \"EndTime\": 1710960209.9703763, \"Dimensions\": {\"Algorithm\": \"Linear Learner\", \"Host\": \"algo-1\", \"Operation\": \"training\", \"epoch\": 2, \"model\": 22}, \"Metrics\": {\"train_mse_objective\": {\"sum\": 0.20425875553567158, \"count\": 1, \"min\": 0.20425875553567158, \"max\": 0.20425875553567158}}}\u001b[0m\n",
      "\u001b[34m#metrics {\"StartTime\": 1710960209.9704366, \"EndTime\": 1710960209.970464, \"Dimensions\": {\"Algorithm\": \"Linear Learner\", \"Host\": \"algo-1\", \"Operation\": \"training\", \"epoch\": 2, \"model\": 23}, \"Metrics\": {\"train_mse_objective\": {\"sum\": 0.20575052980137498, \"count\": 1, \"min\": 0.20575052980137498, \"max\": 0.20575052980137498}}}\u001b[0m\n",
      "\u001b[34m#metrics {\"StartTime\": 1710960209.9705088, \"EndTime\": 1710960209.9705439, \"Dimensions\": {\"Algorithm\": \"Linear Learner\", \"Host\": \"algo-1\", \"Operation\": \"training\", \"epoch\": 2, \"model\": 24}, \"Metrics\": {\"train_mse_objective\": {\"sum\": 0.9586929161297647, \"count\": 1, \"min\": 0.9586929161297647, \"max\": 0.9586929161297647}}}\u001b[0m\n",
      "\u001b[34m#metrics {\"StartTime\": 1710960209.9705858, \"EndTime\": 1710960209.970628, \"Dimensions\": {\"Algorithm\": \"Linear Learner\", \"Host\": \"algo-1\", \"Operation\": \"training\", \"epoch\": 2, \"model\": 25}, \"Metrics\": {\"train_mse_objective\": {\"sum\": 0.9583851840150984, \"count\": 1, \"min\": 0.9583851840150984, \"max\": 0.9583851840150984}}}\u001b[0m\n",
      "\u001b[34m#metrics {\"StartTime\": 1710960209.9706707, \"EndTime\": 1710960209.9706821, \"Dimensions\": {\"Algorithm\": \"Linear Learner\", \"Host\": \"algo-1\", \"Operation\": \"training\", \"epoch\": 2, \"model\": 26}, \"Metrics\": {\"train_mse_objective\": {\"sum\": 0.9586535045190862, \"count\": 1, \"min\": 0.9586535045190862, \"max\": 0.9586535045190862}}}\u001b[0m\n",
      "\u001b[34m#metrics {\"StartTime\": 1710960209.9707422, \"EndTime\": 1710960209.9707532, \"Dimensions\": {\"Algorithm\": \"Linear Learner\", \"Host\": \"algo-1\", \"Operation\": \"training\", \"epoch\": 2, \"model\": 27}, \"Metrics\": {\"train_mse_objective\": {\"sum\": 0.958454399516708, \"count\": 1, \"min\": 0.958454399516708, \"max\": 0.958454399516708}}}\u001b[0m\n",
      "\u001b[34m#metrics {\"StartTime\": 1710960209.9707997, \"EndTime\": 1710960209.97081, \"Dimensions\": {\"Algorithm\": \"Linear Learner\", \"Host\": \"algo-1\", \"Operation\": \"training\", \"epoch\": 2, \"model\": 28}, \"Metrics\": {\"train_mse_objective\": {\"sum\": 0.9770290157512614, \"count\": 1, \"min\": 0.9770290157512614, \"max\": 0.9770290157512614}}}\u001b[0m\n",
      "\u001b[34m#metrics {\"StartTime\": 1710960209.9708865, \"EndTime\": 1710960209.9708986, \"Dimensions\": {\"Algorithm\": \"Linear Learner\", \"Host\": \"algo-1\", \"Operation\": \"training\", \"epoch\": 2, \"model\": 29}, \"Metrics\": {\"train_mse_objective\": {\"sum\": 0.9917199145022192, \"count\": 1, \"min\": 0.9917199145022192, \"max\": 0.9917199145022192}}}\u001b[0m\n",
      "\u001b[34m#metrics {\"StartTime\": 1710960209.9709537, \"EndTime\": 1710960209.9709654, \"Dimensions\": {\"Algorithm\": \"Linear Learner\", \"Host\": \"algo-1\", \"Operation\": \"training\", \"epoch\": 2, \"model\": 30}, \"Metrics\": {\"train_mse_objective\": {\"sum\": 0.976805048945703, \"count\": 1, \"min\": 0.976805048945703, \"max\": 0.976805048945703}}}\u001b[0m\n",
      "\u001b[34m#metrics {\"StartTime\": 1710960209.97104, \"EndTime\": 1710960209.9710531, \"Dimensions\": {\"Algorithm\": \"Linear Learner\", \"Host\": \"algo-1\", \"Operation\": \"training\", \"epoch\": 2, \"model\": 31}, \"Metrics\": {\"train_mse_objective\": {\"sum\": 0.9918433835631922, \"count\": 1, \"min\": 0.9918433835631922, \"max\": 0.9918433835631922}}}\u001b[0m\n",
      "\u001b[34m[03/20/2024 18:43:29 INFO 139961683208000] #quality_metric: host=algo-1, epoch=2, train mse_objective <loss>=0.08212027497785657\u001b[0m\n",
      "\u001b[34m#metrics {\"StartTime\": 1710960210.4470026, \"EndTime\": 1710960210.4470527, \"Dimensions\": {\"Algorithm\": \"Linear Learner\", \"Host\": \"algo-1\", \"Operation\": \"training\", \"epoch\": 2, \"model\": 0}, \"Metrics\": {\"validation_mse_objective\": {\"sum\": 0.0032755595959868336, \"count\": 1, \"min\": 0.0032755595959868336, \"max\": 0.0032755595959868336}}}\u001b[0m\n",
      "\u001b[34m#metrics {\"StartTime\": 1710960210.4471204, \"EndTime\": 1710960210.4471338, \"Dimensions\": {\"Algorithm\": \"Linear Learner\", \"Host\": \"algo-1\", \"Operation\": \"training\", \"epoch\": 2, \"model\": 1}, \"Metrics\": {\"validation_mse_objective\": {\"sum\": 0.003271796054338742, \"count\": 1, \"min\": 0.003271796054338742, \"max\": 0.003271796054338742}}}\u001b[0m\n",
      "\u001b[34m#metrics {\"StartTime\": 1710960210.4474027, \"EndTime\": 1710960210.4474432, \"Dimensions\": {\"Algorithm\": \"Linear Learner\", \"Host\": \"algo-1\", \"Operation\": \"training\", \"epoch\": 2, \"model\": 2}, \"Metrics\": {\"validation_mse_objective\": {\"sum\": 0.0032798111991425194, \"count\": 1, \"min\": 0.0032798111991425194, \"max\": 0.0032798111991425194}}}\u001b[0m\n",
      "\u001b[34m#metrics {\"StartTime\": 1710960210.4475114, \"EndTime\": 1710960210.4475365, \"Dimensions\": {\"Algorithm\": \"Linear Learner\", \"Host\": \"algo-1\", \"Operation\": \"training\", \"epoch\": 2, \"model\": 3}, \"Metrics\": {\"validation_mse_objective\": {\"sum\": 0.003268970966719672, \"count\": 1, \"min\": 0.003268970966719672, \"max\": 0.003268970966719672}}}\u001b[0m\n",
      "\u001b[34m#metrics {\"StartTime\": 1710960210.4476361, \"EndTime\": 1710960210.447675, \"Dimensions\": {\"Algorithm\": \"Linear Learner\", \"Host\": \"algo-1\", \"Operation\": \"training\", \"epoch\": 2, \"model\": 4}, \"Metrics\": {\"validation_mse_objective\": {\"sum\": 0.0033458973145307457, \"count\": 1, \"min\": 0.0033458973145307457, \"max\": 0.0033458973145307457}}}\u001b[0m\n",
      "\u001b[34m#metrics {\"StartTime\": 1710960210.4477205, \"EndTime\": 1710960210.4477525, \"Dimensions\": {\"Algorithm\": \"Linear Learner\", \"Host\": \"algo-1\", \"Operation\": \"training\", \"epoch\": 2, \"model\": 5}, \"Metrics\": {\"validation_mse_objective\": {\"sum\": 0.0037382662204501565, \"count\": 1, \"min\": 0.0037382662204501565, \"max\": 0.0037382662204501565}}}\u001b[0m\n",
      "\u001b[34m#metrics {\"StartTime\": 1710960210.4478433, \"EndTime\": 1710960210.447859, \"Dimensions\": {\"Algorithm\": \"Linear Learner\", \"Host\": \"algo-1\", \"Operation\": \"training\", \"epoch\": 2, \"model\": 6}, \"Metrics\": {\"validation_mse_objective\": {\"sum\": 0.0033665928651159917, \"count\": 1, \"min\": 0.0033665928651159917, \"max\": 0.0033665928651159917}}}\u001b[0m\n",
      "\u001b[34m#metrics {\"StartTime\": 1710960210.4479272, \"EndTime\": 1710960210.44794, \"Dimensions\": {\"Algorithm\": \"Linear Learner\", \"Host\": \"algo-1\", \"Operation\": \"training\", \"epoch\": 2, \"model\": 7}, \"Metrics\": {\"validation_mse_objective\": {\"sum\": 0.003702614011598686, \"count\": 1, \"min\": 0.003702614011598686, \"max\": 0.003702614011598686}}}\u001b[0m\n",
      "\u001b[34m#metrics {\"StartTime\": 1710960210.4480321, \"EndTime\": 1710960210.4480448, \"Dimensions\": {\"Algorithm\": \"Linear Learner\", \"Host\": \"algo-1\", \"Operation\": \"training\", \"epoch\": 2, \"model\": 8}, \"Metrics\": {\"validation_mse_objective\": {\"sum\": 0.003357332993252872, \"count\": 1, \"min\": 0.003357332993252872, \"max\": 0.003357332993252872}}}\u001b[0m\n",
      "\u001b[34m#metrics {\"StartTime\": 1710960210.4481559, \"EndTime\": 1710960210.4481714, \"Dimensions\": {\"Algorithm\": \"Linear Learner\", \"Host\": \"algo-1\", \"Operation\": \"training\", \"epoch\": 2, \"model\": 9}, \"Metrics\": {\"validation_mse_objective\": {\"sum\": 0.0032944902231213033, \"count\": 1, \"min\": 0.0032944902231213033, \"max\": 0.0032944902231213033}}}\u001b[0m\n",
      "\u001b[34m#metrics {\"StartTime\": 1710960210.4482536, \"EndTime\": 1710960210.4482696, \"Dimensions\": {\"Algorithm\": \"Linear Learner\", \"Host\": \"algo-1\", \"Operation\": \"training\", \"epoch\": 2, \"model\": 10}, \"Metrics\": {\"validation_mse_objective\": {\"sum\": 0.0033429635431927304, \"count\": 1, \"min\": 0.0033429635431927304, \"max\": 0.0033429635431927304}}}\u001b[0m\n",
      "\u001b[34m#metrics {\"StartTime\": 1710960210.448337, \"EndTime\": 1710960210.4484012, \"Dimensions\": {\"Algorithm\": \"Linear Learner\", \"Host\": \"algo-1\", \"Operation\": \"training\", \"epoch\": 2, \"model\": 11}, \"Metrics\": {\"validation_mse_objective\": {\"sum\": 0.0032822829787380364, \"count\": 1, \"min\": 0.0032822829787380364, \"max\": 0.0032822829787380364}}}\u001b[0m\n",
      "\u001b[34m#metrics {\"StartTime\": 1710960210.4484465, \"EndTime\": 1710960210.4485, \"Dimensions\": {\"Algorithm\": \"Linear Learner\", \"Host\": \"algo-1\", \"Operation\": \"training\", \"epoch\": 2, \"model\": 12}, \"Metrics\": {\"validation_mse_objective\": {\"sum\": 0.003371097617906956, \"count\": 1, \"min\": 0.003371097617906956, \"max\": 0.003371097617906956}}}\u001b[0m\n",
      "\u001b[34m#metrics {\"StartTime\": 1710960210.448568, \"EndTime\": 1710960210.4485822, \"Dimensions\": {\"Algorithm\": \"Linear Learner\", \"Host\": \"algo-1\", \"Operation\": \"training\", \"epoch\": 2, \"model\": 13}, \"Metrics\": {\"validation_mse_objective\": {\"sum\": 0.003688958478475743, \"count\": 1, \"min\": 0.003688958478475743, \"max\": 0.003688958478475743}}}\u001b[0m\n",
      "\u001b[34m#metrics {\"StartTime\": 1710960210.4486694, \"EndTime\": 1710960210.448684, \"Dimensions\": {\"Algorithm\": \"Linear Learner\", \"Host\": \"algo-1\", \"Operation\": \"training\", \"epoch\": 2, \"model\": 14}, \"Metrics\": {\"validation_mse_objective\": {\"sum\": 0.003378369363151047, \"count\": 1, \"min\": 0.003378369363151047, \"max\": 0.003378369363151047}}}\u001b[0m\n",
      "\u001b[34m#metrics {\"StartTime\": 1710960210.448748, \"EndTime\": 1710960210.4488246, \"Dimensions\": {\"Algorithm\": \"Linear Learner\", \"Host\": \"algo-1\", \"Operation\": \"training\", \"epoch\": 2, \"model\": 15}, \"Metrics\": {\"validation_mse_objective\": {\"sum\": 0.0036855734896213124, \"count\": 1, \"min\": 0.0036855734896213124, \"max\": 0.0036855734896213124}}}\u001b[0m\n",
      "\u001b[34m#metrics {\"StartTime\": 1710960210.448871, \"EndTime\": 1710960210.448926, \"Dimensions\": {\"Algorithm\": \"Linear Learner\", \"Host\": \"algo-1\", \"Operation\": \"training\", \"epoch\": 2, \"model\": 16}, \"Metrics\": {\"validation_mse_objective\": {\"sum\": 0.007390464790685588, \"count\": 1, \"min\": 0.007390464790685588, \"max\": 0.007390464790685588}}}\u001b[0m\n",
      "\u001b[34m#metrics {\"StartTime\": 1710960210.4489694, \"EndTime\": 1710960210.449031, \"Dimensions\": {\"Algorithm\": \"Linear Learner\", \"Host\": \"algo-1\", \"Operation\": \"training\", \"epoch\": 2, \"model\": 17}, \"Metrics\": {\"validation_mse_objective\": {\"sum\": 0.007332421268969469, \"count\": 1, \"min\": 0.007332421268969469, \"max\": 0.007332421268969469}}}\u001b[0m\n",
      "\u001b[34m#metrics {\"StartTime\": 1710960210.4491003, \"EndTime\": 1710960210.4491236, \"Dimensions\": {\"Algorithm\": \"Linear Learner\", \"Host\": \"algo-1\", \"Operation\": \"training\", \"epoch\": 2, \"model\": 18}, \"Metrics\": {\"validation_mse_objective\": {\"sum\": 0.007462696213412884, \"count\": 1, \"min\": 0.007462696213412884, \"max\": 0.007462696213412884}}}\u001b[0m\n",
      "\u001b[34m#metrics {\"StartTime\": 1710960210.4492118, \"EndTime\": 1710960210.4492443, \"Dimensions\": {\"Algorithm\": \"Linear Learner\", \"Host\": \"algo-1\", \"Operation\": \"training\", \"epoch\": 2, \"model\": 19}, \"Metrics\": {\"validation_mse_objective\": {\"sum\": 0.007331935688088318, \"count\": 1, \"min\": 0.007331935688088318, \"max\": 0.007331935688088318}}}\u001b[0m\n",
      "\u001b[34m#metrics {\"StartTime\": 1710960210.4493346, \"EndTime\": 1710960210.4493482, \"Dimensions\": {\"Algorithm\": \"Linear Learner\", \"Host\": \"algo-1\", \"Operation\": \"training\", \"epoch\": 2, \"model\": 20}, \"Metrics\": {\"validation_mse_objective\": {\"sum\": 0.0077055828422078485, \"count\": 1, \"min\": 0.0077055828422078485, \"max\": 0.0077055828422078485}}}\u001b[0m\n",
      "\u001b[34m#metrics {\"StartTime\": 1710960210.4494445, \"EndTime\": 1710960210.4494576, \"Dimensions\": {\"Algorithm\": \"Linear Learner\", \"Host\": \"algo-1\", \"Operation\": \"training\", \"epoch\": 2, \"model\": 21}, \"Metrics\": {\"validation_mse_objective\": {\"sum\": 0.006520999338022707, \"count\": 1, \"min\": 0.006520999338022707, \"max\": 0.006520999338022707}}}\u001b[0m\n",
      "\u001b[34m#metrics {\"StartTime\": 1710960210.4495437, \"EndTime\": 1710960210.449583, \"Dimensions\": {\"Algorithm\": \"Linear Learner\", \"Host\": \"algo-1\", \"Operation\": \"training\", \"epoch\": 2, \"model\": 22}, \"Metrics\": {\"validation_mse_objective\": {\"sum\": 0.007855871323786782, \"count\": 1, \"min\": 0.007855871323786782, \"max\": 0.007855871323786782}}}\u001b[0m\n",
      "\u001b[34m#metrics {\"StartTime\": 1710960210.449627, \"EndTime\": 1710960210.4496796, \"Dimensions\": {\"Algorithm\": \"Linear Learner\", \"Host\": \"algo-1\", \"Operation\": \"training\", \"epoch\": 2, \"model\": 23}, \"Metrics\": {\"validation_mse_objective\": {\"sum\": 0.006611716936130146, \"count\": 1, \"min\": 0.006611716936130146, \"max\": 0.006611716936130146}}}\u001b[0m\n",
      "\u001b[34m#metrics {\"StartTime\": 1710960210.449725, \"EndTime\": 1710960210.4497795, \"Dimensions\": {\"Algorithm\": \"Linear Learner\", \"Host\": \"algo-1\", \"Operation\": \"training\", \"epoch\": 2, \"model\": 24}, \"Metrics\": {\"validation_mse_objective\": {\"sum\": 0.03690599466098408, \"count\": 1, \"min\": 0.03690599466098408, \"max\": 0.03690599466098408}}}\u001b[0m\n",
      "\u001b[34m#metrics {\"StartTime\": 1710960210.4498482, \"EndTime\": 1710960210.4498613, \"Dimensions\": {\"Algorithm\": \"Linear Learner\", \"Host\": \"algo-1\", \"Operation\": \"training\", \"epoch\": 2, \"model\": 25}, \"Metrics\": {\"validation_mse_objective\": {\"sum\": 0.03700043388950262, \"count\": 1, \"min\": 0.03700043388950262, \"max\": 0.03700043388950262}}}\u001b[0m\n",
      "\u001b[34m#metrics {\"StartTime\": 1710960210.4499507, \"EndTime\": 1710960210.4499636, \"Dimensions\": {\"Algorithm\": \"Linear Learner\", \"Host\": \"algo-1\", \"Operation\": \"training\", \"epoch\": 2, \"model\": 26}, \"Metrics\": {\"validation_mse_objective\": {\"sum\": 0.036823019731093726, \"count\": 1, \"min\": 0.036823019731093726, \"max\": 0.036823019731093726}}}\u001b[0m\n",
      "\u001b[34m#metrics {\"StartTime\": 1710960210.4500496, \"EndTime\": 1710960210.4500854, \"Dimensions\": {\"Algorithm\": \"Linear Learner\", \"Host\": \"algo-1\", \"Operation\": \"training\", \"epoch\": 2, \"model\": 27}, \"Metrics\": {\"validation_mse_objective\": {\"sum\": 0.03711584478586116, \"count\": 1, \"min\": 0.03711584478586116, \"max\": 0.03711584478586116}}}\u001b[0m\n",
      "\u001b[34m#metrics {\"StartTime\": 1710960210.4501817, \"EndTime\": 1710960210.4502065, \"Dimensions\": {\"Algorithm\": \"Linear Learner\", \"Host\": \"algo-1\", \"Operation\": \"training\", \"epoch\": 2, \"model\": 28}, \"Metrics\": {\"validation_mse_objective\": {\"sum\": 0.03677654489568861, \"count\": 1, \"min\": 0.03677654489568861, \"max\": 0.03677654489568861}}}\u001b[0m\n",
      "\u001b[34m#metrics {\"StartTime\": 1710960210.4503038, \"EndTime\": 1710960210.450319, \"Dimensions\": {\"Algorithm\": \"Linear Learner\", \"Host\": \"algo-1\", \"Operation\": \"training\", \"epoch\": 2, \"model\": 29}, \"Metrics\": {\"validation_mse_objective\": {\"sum\": 0.03801381347635933, \"count\": 1, \"min\": 0.03801381347635933, \"max\": 0.03801381347635933}}}\u001b[0m\n",
      "\u001b[34m#metrics {\"StartTime\": 1710960210.4503872, \"EndTime\": 1710960210.450442, \"Dimensions\": {\"Algorithm\": \"Linear Learner\", \"Host\": \"algo-1\", \"Operation\": \"training\", \"epoch\": 2, \"model\": 30}, \"Metrics\": {\"validation_mse_objective\": {\"sum\": 0.037101112618216255, \"count\": 1, \"min\": 0.037101112618216255, \"max\": 0.037101112618216255}}}\u001b[0m\n",
      "\u001b[34m#metrics {\"StartTime\": 1710960210.450488, \"EndTime\": 1710960210.4505417, \"Dimensions\": {\"Algorithm\": \"Linear Learner\", \"Host\": \"algo-1\", \"Operation\": \"training\", \"epoch\": 2, \"model\": 31}, \"Metrics\": {\"validation_mse_objective\": {\"sum\": 0.03787691040266711, \"count\": 1, \"min\": 0.03787691040266711, \"max\": 0.03787691040266711}}}\u001b[0m\n",
      "\u001b[34m[03/20/2024 18:43:30 INFO 139961683208000] #quality_metric: host=algo-1, epoch=2, validation mse_objective <loss>=0.0032755595959868336\u001b[0m\n",
      "\u001b[34m[03/20/2024 18:43:30 INFO 139961683208000] #early_stopping_criteria_metric: host=algo-1, epoch=2, criteria=mse_objective, value=0.003268970966719672\u001b[0m\n",
      "\u001b[34m[03/20/2024 18:43:30 INFO 139961683208000] Epoch 2: Loss improved. Updating best model\u001b[0m\n",
      "\u001b[34m[03/20/2024 18:43:30 INFO 139961683208000] Saving model for epoch: 2\u001b[0m\n",
      "\u001b[34m[03/20/2024 18:43:30 INFO 139961683208000] Saved checkpoint to \"/tmp/tmpzaszwr38/mx-mod-0000.params\"\u001b[0m\n",
      "\u001b[34m[03/20/2024 18:43:30 INFO 139961683208000] #progress_metric: host=algo-1, completed 20.0 % of epochs\u001b[0m\n",
      "\u001b[34m#metrics {\"StartTime\": 1710960206.243712, \"EndTime\": 1710960210.457264, \"Dimensions\": {\"Algorithm\": \"Linear Learner\", \"Host\": \"algo-1\", \"Operation\": \"training\", \"epoch\": 2, \"Meta\": \"training_data_iter\"}, \"Metrics\": {\"Total Records Seen\": {\"sum\": 39020.0, \"count\": 1, \"min\": 39020, \"max\": 39020}, \"Total Batches Seen\": {\"sum\": 613.0, \"count\": 1, \"min\": 613, \"max\": 613}, \"Max Records Seen Between Resets\": {\"sum\": 9739.0, \"count\": 1, \"min\": 9739, \"max\": 9739}, \"Max Batches Seen Between Resets\": {\"sum\": 153.0, \"count\": 1, \"min\": 153, \"max\": 153}, \"Reset Count\": {\"sum\": 5.0, \"count\": 1, \"min\": 5, \"max\": 5}, \"Number of Records Since Last Reset\": {\"sum\": 9739.0, \"count\": 1, \"min\": 9739, \"max\": 9739}, \"Number of Batches Since Last Reset\": {\"sum\": 153.0, \"count\": 1, \"min\": 153, \"max\": 153}}}\u001b[0m\n",
      "\u001b[34m[03/20/2024 18:43:30 INFO 139961683208000] #throughput_metric: host=algo-1, train throughput=2311.2627642239436 records/second\u001b[0m\n",
      "\u001b[34m#metrics {\"StartTime\": 1710960213.1177514, \"EndTime\": 1710960213.1178021, \"Dimensions\": {\"Algorithm\": \"Linear Learner\", \"Host\": \"algo-1\", \"Operation\": \"training\", \"epoch\": 3, \"model\": 0}, \"Metrics\": {\"train_mse_objective\": {\"sum\": 0.07901382818818092, \"count\": 1, \"min\": 0.07901382818818092, \"max\": 0.07901382818818092}}}\u001b[0m\n",
      "\u001b[34m#metrics {\"StartTime\": 1710960213.1178691, \"EndTime\": 1710960213.1178815, \"Dimensions\": {\"Algorithm\": \"Linear Learner\", \"Host\": \"algo-1\", \"Operation\": \"training\", \"epoch\": 3, \"model\": 1}, \"Metrics\": {\"train_mse_objective\": {\"sum\": 0.07925759804876227, \"count\": 1, \"min\": 0.07925759804876227, \"max\": 0.07925759804876227}}}\u001b[0m\n",
      "\u001b[34m#metrics {\"StartTime\": 1710960213.1179245, \"EndTime\": 1710960213.1179335, \"Dimensions\": {\"Algorithm\": \"Linear Learner\", \"Host\": \"algo-1\", \"Operation\": \"training\", \"epoch\": 3, \"model\": 2}, \"Metrics\": {\"train_mse_objective\": {\"sum\": 0.07918522639298126, \"count\": 1, \"min\": 0.07918522639298126, \"max\": 0.07918522639298126}}}\u001b[0m\n",
      "\u001b[34m#metrics {\"StartTime\": 1710960213.117965, \"EndTime\": 1710960213.1179729, \"Dimensions\": {\"Algorithm\": \"Linear Learner\", \"Host\": \"algo-1\", \"Operation\": \"training\", \"epoch\": 3, \"model\": 3}, \"Metrics\": {\"train_mse_objective\": {\"sum\": 0.07902451391380869, \"count\": 1, \"min\": 0.07902451391380869, \"max\": 0.07902451391380869}}}\u001b[0m\n",
      "\u001b[34m#metrics {\"StartTime\": 1710960213.1180053, \"EndTime\": 1710960213.118013, \"Dimensions\": {\"Algorithm\": \"Linear Learner\", \"Host\": \"algo-1\", \"Operation\": \"training\", \"epoch\": 3, \"model\": 4}, \"Metrics\": {\"train_mse_objective\": {\"sum\": 0.08536158056047402, \"count\": 1, \"min\": 0.08536158056047402, \"max\": 0.08536158056047402}}}\u001b[0m\n",
      "\u001b[34m#metrics {\"StartTime\": 1710960213.1180415, \"EndTime\": 1710960213.1180494, \"Dimensions\": {\"Algorithm\": \"Linear Learner\", \"Host\": \"algo-1\", \"Operation\": \"training\", \"epoch\": 3, \"model\": 5}, \"Metrics\": {\"train_mse_objective\": {\"sum\": 0.09160877894119997, \"count\": 1, \"min\": 0.09160877894119997, \"max\": 0.09160877894119997}}}\u001b[0m\n",
      "\u001b[34m#metrics {\"StartTime\": 1710960213.1180787, \"EndTime\": 1710960213.1180868, \"Dimensions\": {\"Algorithm\": \"Linear Learner\", \"Host\": \"algo-1\", \"Operation\": \"training\", \"epoch\": 3, \"model\": 6}, \"Metrics\": {\"train_mse_objective\": {\"sum\": 0.08563552434115033, \"count\": 1, \"min\": 0.08563552434115033, \"max\": 0.08563552434115033}}}\u001b[0m\n",
      "\u001b[34m#metrics {\"StartTime\": 1710960213.118124, \"EndTime\": 1710960213.1181335, \"Dimensions\": {\"Algorithm\": \"Linear Learner\", \"Host\": \"algo-1\", \"Operation\": \"training\", \"epoch\": 3, \"model\": 7}, \"Metrics\": {\"train_mse_objective\": {\"sum\": 0.09159309402304261, \"count\": 1, \"min\": 0.09159309402304261, \"max\": 0.09159309402304261}}}\u001b[0m\n",
      "\u001b[34m#metrics {\"StartTime\": 1710960213.1181679, \"EndTime\": 1710960213.1181777, \"Dimensions\": {\"Algorithm\": \"Linear Learner\", \"Host\": \"algo-1\", \"Operation\": \"training\", \"epoch\": 3, \"model\": 8}, \"Metrics\": {\"train_mse_objective\": {\"sum\": 0.08009943924844265, \"count\": 1, \"min\": 0.08009943924844265, \"max\": 0.08009943924844265}}}\u001b[0m\n",
      "\u001b[34m#metrics {\"StartTime\": 1710960213.1182232, \"EndTime\": 1710960213.1182332, \"Dimensions\": {\"Algorithm\": \"Linear Learner\", \"Host\": \"algo-1\", \"Operation\": \"training\", \"epoch\": 3, \"model\": 9}, \"Metrics\": {\"train_mse_objective\": {\"sum\": 0.07948891254828165, \"count\": 1, \"min\": 0.07948891254828165, \"max\": 0.07948891254828165}}}\u001b[0m\n",
      "\u001b[34m#metrics {\"StartTime\": 1710960213.1182685, \"EndTime\": 1710960213.1182775, \"Dimensions\": {\"Algorithm\": \"Linear Learner\", \"Host\": \"algo-1\", \"Operation\": \"training\", \"epoch\": 3, \"model\": 10}, \"Metrics\": {\"train_mse_objective\": {\"sum\": 0.08011590807061446, \"count\": 1, \"min\": 0.08011590807061446, \"max\": 0.08011590807061446}}}\u001b[0m\n",
      "\u001b[34m#metrics {\"StartTime\": 1710960213.1183136, \"EndTime\": 1710960213.1183236, \"Dimensions\": {\"Algorithm\": \"Linear Learner\", \"Host\": \"algo-1\", \"Operation\": \"training\", \"epoch\": 3, \"model\": 11}, \"Metrics\": {\"train_mse_objective\": {\"sum\": 0.07961583956095733, \"count\": 1, \"min\": 0.07961583956095733, \"max\": 0.07961583956095733}}}\u001b[0m\n",
      "\u001b[34m#metrics {\"StartTime\": 1710960213.1183598, \"EndTime\": 1710960213.1183698, \"Dimensions\": {\"Algorithm\": \"Linear Learner\", \"Host\": \"algo-1\", \"Operation\": \"training\", \"epoch\": 3, \"model\": 12}, \"Metrics\": {\"train_mse_objective\": {\"sum\": 0.0854805847139735, \"count\": 1, \"min\": 0.0854805847139735, \"max\": 0.0854805847139735}}}\u001b[0m\n",
      "\u001b[34m#metrics {\"StartTime\": 1710960213.118404, \"EndTime\": 1710960213.1184127, \"Dimensions\": {\"Algorithm\": \"Linear Learner\", \"Host\": \"algo-1\", \"Operation\": \"training\", \"epoch\": 3, \"model\": 13}, \"Metrics\": {\"train_mse_objective\": {\"sum\": 0.09138356725146111, \"count\": 1, \"min\": 0.09138356725146111, \"max\": 0.09138356725146111}}}\u001b[0m\n",
      "\u001b[34m#metrics {\"StartTime\": 1710960213.1184494, \"EndTime\": 1710960213.1184592, \"Dimensions\": {\"Algorithm\": \"Linear Learner\", \"Host\": \"algo-1\", \"Operation\": \"training\", \"epoch\": 3, \"model\": 14}, \"Metrics\": {\"train_mse_objective\": {\"sum\": 0.08554458498072467, \"count\": 1, \"min\": 0.08554458498072467, \"max\": 0.08554458498072467}}}\u001b[0m\n",
      "\u001b[34m#metrics {\"StartTime\": 1710960213.1184938, \"EndTime\": 1710960213.1185029, \"Dimensions\": {\"Algorithm\": \"Linear Learner\", \"Host\": \"algo-1\", \"Operation\": \"training\", \"epoch\": 3, \"model\": 15}, \"Metrics\": {\"train_mse_objective\": {\"sum\": 0.09138535115083582, \"count\": 1, \"min\": 0.09138535115083582, \"max\": 0.09138535115083582}}}\u001b[0m\n",
      "\u001b[34m#metrics {\"StartTime\": 1710960213.118537, \"EndTime\": 1710960213.1185467, \"Dimensions\": {\"Algorithm\": \"Linear Learner\", \"Host\": \"algo-1\", \"Operation\": \"training\", \"epoch\": 3, \"model\": 16}, \"Metrics\": {\"train_mse_objective\": {\"sum\": 0.19318500847408646, \"count\": 1, \"min\": 0.19318500847408646, \"max\": 0.19318500847408646}}}\u001b[0m\n",
      "\u001b[34m#metrics {\"StartTime\": 1710960213.1185834, \"EndTime\": 1710960213.1185927, \"Dimensions\": {\"Algorithm\": \"Linear Learner\", \"Host\": \"algo-1\", \"Operation\": \"training\", \"epoch\": 3, \"model\": 17}, \"Metrics\": {\"train_mse_objective\": {\"sum\": 0.1936794676278767, \"count\": 1, \"min\": 0.1936794676278767, \"max\": 0.1936794676278767}}}\u001b[0m\n",
      "\u001b[34m#metrics {\"StartTime\": 1710960213.1186304, \"EndTime\": 1710960213.1186404, \"Dimensions\": {\"Algorithm\": \"Linear Learner\", \"Host\": \"algo-1\", \"Operation\": \"training\", \"epoch\": 3, \"model\": 18}, \"Metrics\": {\"train_mse_objective\": {\"sum\": 0.19315118921038352, \"count\": 1, \"min\": 0.19315118921038352, \"max\": 0.19315118921038352}}}\u001b[0m\n",
      "\u001b[34m#metrics {\"StartTime\": 1710960213.1186767, \"EndTime\": 1710960213.1186862, \"Dimensions\": {\"Algorithm\": \"Linear Learner\", \"Host\": \"algo-1\", \"Operation\": \"training\", \"epoch\": 3, \"model\": 19}, \"Metrics\": {\"train_mse_objective\": {\"sum\": 0.19367115336813426, \"count\": 1, \"min\": 0.19367115336813426, \"max\": 0.19367115336813426}}}\u001b[0m\n",
      "\u001b[34m#metrics {\"StartTime\": 1710960213.1187246, \"EndTime\": 1710960213.1187336, \"Dimensions\": {\"Algorithm\": \"Linear Learner\", \"Host\": \"algo-1\", \"Operation\": \"training\", \"epoch\": 3, \"model\": 20}, \"Metrics\": {\"train_mse_objective\": {\"sum\": 0.20393313702784086, \"count\": 1, \"min\": 0.20393313702784086, \"max\": 0.20393313702784086}}}\u001b[0m\n",
      "\u001b[34m#metrics {\"StartTime\": 1710960213.118769, \"EndTime\": 1710960213.1187792, \"Dimensions\": {\"Algorithm\": \"Linear Learner\", \"Host\": \"algo-1\", \"Operation\": \"training\", \"epoch\": 3, \"model\": 21}, \"Metrics\": {\"train_mse_objective\": {\"sum\": 0.20671487746662215, \"count\": 1, \"min\": 0.20671487746662215, \"max\": 0.20671487746662215}}}\u001b[0m\n",
      "\u001b[34m#metrics {\"StartTime\": 1710960213.118816, \"EndTime\": 1710960213.118826, \"Dimensions\": {\"Algorithm\": \"Linear Learner\", \"Host\": \"algo-1\", \"Operation\": \"training\", \"epoch\": 3, \"model\": 22}, \"Metrics\": {\"train_mse_objective\": {\"sum\": 0.2038597421426522, \"count\": 1, \"min\": 0.2038597421426522, \"max\": 0.2038597421426522}}}\u001b[0m\n",
      "\u001b[34m#metrics {\"StartTime\": 1710960213.1188936, \"EndTime\": 1710960213.118906, \"Dimensions\": {\"Algorithm\": \"Linear Learner\", \"Host\": \"algo-1\", \"Operation\": \"training\", \"epoch\": 3, \"model\": 23}, \"Metrics\": {\"train_mse_objective\": {\"sum\": 0.2065107723894088, \"count\": 1, \"min\": 0.2065107723894088, \"max\": 0.2065107723894088}}}\u001b[0m\n",
      "\u001b[34m#metrics {\"StartTime\": 1710960213.118942, \"EndTime\": 1710960213.118953, \"Dimensions\": {\"Algorithm\": \"Linear Learner\", \"Host\": \"algo-1\", \"Operation\": \"training\", \"epoch\": 3, \"model\": 24}, \"Metrics\": {\"train_mse_objective\": {\"sum\": 0.9586052725973883, \"count\": 1, \"min\": 0.9586052725973883, \"max\": 0.9586052725973883}}}\u001b[0m\n",
      "\u001b[34m#metrics {\"StartTime\": 1710960213.1189902, \"EndTime\": 1710960213.1189997, \"Dimensions\": {\"Algorithm\": \"Linear Learner\", \"Host\": \"algo-1\", \"Operation\": \"training\", \"epoch\": 3, \"model\": 25}, \"Metrics\": {\"train_mse_objective\": {\"sum\": 0.9584009161120967, \"count\": 1, \"min\": 0.9584009161120967, \"max\": 0.9584009161120967}}}\u001b[0m\n",
      "\u001b[34m#metrics {\"StartTime\": 1710960213.1190362, \"EndTime\": 1710960213.1190462, \"Dimensions\": {\"Algorithm\": \"Linear Learner\", \"Host\": \"algo-1\", \"Operation\": \"training\", \"epoch\": 3, \"model\": 26}, \"Metrics\": {\"train_mse_objective\": {\"sum\": 0.9585589962570291, \"count\": 1, \"min\": 0.9585589962570291, \"max\": 0.9585589962570291}}}\u001b[0m\n",
      "\u001b[34m#metrics {\"StartTime\": 1710960213.1190805, \"EndTime\": 1710960213.1190908, \"Dimensions\": {\"Algorithm\": \"Linear Learner\", \"Host\": \"algo-1\", \"Operation\": \"training\", \"epoch\": 3, \"model\": 27}, \"Metrics\": {\"train_mse_objective\": {\"sum\": 0.9584654871570436, \"count\": 1, \"min\": 0.9584654871570436, \"max\": 0.9584654871570436}}}\u001b[0m\n",
      "\u001b[34m#metrics {\"StartTime\": 1710960213.1191292, \"EndTime\": 1710960213.119139, \"Dimensions\": {\"Algorithm\": \"Linear Learner\", \"Host\": \"algo-1\", \"Operation\": \"training\", \"epoch\": 3, \"model\": 28}, \"Metrics\": {\"train_mse_objective\": {\"sum\": 0.972791854880358, \"count\": 1, \"min\": 0.972791854880358, \"max\": 0.972791854880358}}}\u001b[0m\n",
      "\u001b[34m#metrics {\"StartTime\": 1710960213.1191764, \"EndTime\": 1710960213.119186, \"Dimensions\": {\"Algorithm\": \"Linear Learner\", \"Host\": \"algo-1\", \"Operation\": \"training\", \"epoch\": 3, \"model\": 29}, \"Metrics\": {\"train_mse_objective\": {\"sum\": 0.9911434293577546, \"count\": 1, \"min\": 0.9911434293577546, \"max\": 0.9911434293577546}}}\u001b[0m\n",
      "\u001b[34m#metrics {\"StartTime\": 1710960213.1192217, \"EndTime\": 1710960213.1192315, \"Dimensions\": {\"Algorithm\": \"Linear Learner\", \"Host\": \"algo-1\", \"Operation\": \"training\", \"epoch\": 3, \"model\": 30}, \"Metrics\": {\"train_mse_objective\": {\"sum\": 0.9726738376837027, \"count\": 1, \"min\": 0.9726738376837027, \"max\": 0.9726738376837027}}}\u001b[0m\n",
      "\u001b[34m#metrics {\"StartTime\": 1710960213.1192684, \"EndTime\": 1710960213.1192787, \"Dimensions\": {\"Algorithm\": \"Linear Learner\", \"Host\": \"algo-1\", \"Operation\": \"training\", \"epoch\": 3, \"model\": 31}, \"Metrics\": {\"train_mse_objective\": {\"sum\": 0.9909193570676603, \"count\": 1, \"min\": 0.9909193570676603, \"max\": 0.9909193570676603}}}\u001b[0m\n",
      "\u001b[34m[03/20/2024 18:43:33 INFO 139961683208000] #quality_metric: host=algo-1, epoch=3, train mse_objective <loss>=0.07901382818818092\u001b[0m\n",
      "\u001b[34m#metrics {\"StartTime\": 1710960213.5038571, \"EndTime\": 1710960213.503906, \"Dimensions\": {\"Algorithm\": \"Linear Learner\", \"Host\": \"algo-1\", \"Operation\": \"training\", \"epoch\": 3, \"model\": 0}, \"Metrics\": {\"validation_mse_objective\": {\"sum\": 0.003225061879445487, \"count\": 1, \"min\": 0.003225061879445487, \"max\": 0.003225061879445487}}}\u001b[0m\n",
      "\u001b[34m#metrics {\"StartTime\": 1710960213.5039747, \"EndTime\": 1710960213.5039885, \"Dimensions\": {\"Algorithm\": \"Linear Learner\", \"Host\": \"algo-1\", \"Operation\": \"training\", \"epoch\": 3, \"model\": 1}, \"Metrics\": {\"validation_mse_objective\": {\"sum\": 0.003223681064165777, \"count\": 1, \"min\": 0.003223681064165777, \"max\": 0.003223681064165777}}}\u001b[0m\n",
      "\u001b[34m#metrics {\"StartTime\": 1710960213.5040305, \"EndTime\": 1710960213.5040398, \"Dimensions\": {\"Algorithm\": \"Linear Learner\", \"Host\": \"algo-1\", \"Operation\": \"training\", \"epoch\": 3, \"model\": 2}, \"Metrics\": {\"validation_mse_objective\": {\"sum\": 0.003223739577327268, \"count\": 1, \"min\": 0.003223739577327268, \"max\": 0.003223739577327268}}}\u001b[0m\n",
      "\u001b[34m#metrics {\"StartTime\": 1710960213.5040717, \"EndTime\": 1710960213.5040796, \"Dimensions\": {\"Algorithm\": \"Linear Learner\", \"Host\": \"algo-1\", \"Operation\": \"training\", \"epoch\": 3, \"model\": 3}, \"Metrics\": {\"validation_mse_objective\": {\"sum\": 0.0032293998110404496, \"count\": 1, \"min\": 0.0032293998110404496, \"max\": 0.0032293998110404496}}}\u001b[0m\n",
      "\u001b[34m#metrics {\"StartTime\": 1710960213.5041118, \"EndTime\": 1710960213.5041196, \"Dimensions\": {\"Algorithm\": \"Linear Learner\", \"Host\": \"algo-1\", \"Operation\": \"training\", \"epoch\": 3, \"model\": 4}, \"Metrics\": {\"validation_mse_objective\": {\"sum\": 0.0033055461178202895, \"count\": 1, \"min\": 0.0033055461178202895, \"max\": 0.0033055461178202895}}}\u001b[0m\n",
      "\u001b[34m#metrics {\"StartTime\": 1710960213.5041475, \"EndTime\": 1710960213.504155, \"Dimensions\": {\"Algorithm\": \"Linear Learner\", \"Host\": \"algo-1\", \"Operation\": \"training\", \"epoch\": 3, \"model\": 5}, \"Metrics\": {\"validation_mse_objective\": {\"sum\": 0.0034983237367697075, \"count\": 1, \"min\": 0.0034983237367697075, \"max\": 0.0034983237367697075}}}\u001b[0m\n",
      "\u001b[34m#metrics {\"StartTime\": 1710960213.5041823, \"EndTime\": 1710960213.5041907, \"Dimensions\": {\"Algorithm\": \"Linear Learner\", \"Host\": \"algo-1\", \"Operation\": \"training\", \"epoch\": 3, \"model\": 6}, \"Metrics\": {\"validation_mse_objective\": {\"sum\": 0.003304625082439772, \"count\": 1, \"min\": 0.003304625082439772, \"max\": 0.003304625082439772}}}\u001b[0m\n",
      "\u001b[34m#metrics {\"StartTime\": 1710960213.5042226, \"EndTime\": 1710960213.5042326, \"Dimensions\": {\"Algorithm\": \"Linear Learner\", \"Host\": \"algo-1\", \"Operation\": \"training\", \"epoch\": 3, \"model\": 7}, \"Metrics\": {\"validation_mse_objective\": {\"sum\": 0.0034996996379363706, \"count\": 1, \"min\": 0.0034996996379363706, \"max\": 0.0034996996379363706}}}\u001b[0m\n",
      "\u001b[34m#metrics {\"StartTime\": 1710960213.5042663, \"EndTime\": 1710960213.5042765, \"Dimensions\": {\"Algorithm\": \"Linear Learner\", \"Host\": \"algo-1\", \"Operation\": \"training\", \"epoch\": 3, \"model\": 8}, \"Metrics\": {\"validation_mse_objective\": {\"sum\": 0.0032590444131373776, \"count\": 1, \"min\": 0.0032590444131373776, \"max\": 0.0032590444131373776}}}\u001b[0m\n",
      "\u001b[34m#metrics {\"StartTime\": 1710960213.5043101, \"EndTime\": 1710960213.5043197, \"Dimensions\": {\"Algorithm\": \"Linear Learner\", \"Host\": \"algo-1\", \"Operation\": \"training\", \"epoch\": 3, \"model\": 9}, \"Metrics\": {\"validation_mse_objective\": {\"sum\": 0.0032387447334994283, \"count\": 1, \"min\": 0.0032387447334994283, \"max\": 0.0032387447334994283}}}\u001b[0m\n",
      "\u001b[34m#metrics {\"StartTime\": 1710960213.5043542, \"EndTime\": 1710960213.5043635, \"Dimensions\": {\"Algorithm\": \"Linear Learner\", \"Host\": \"algo-1\", \"Operation\": \"training\", \"epoch\": 3, \"model\": 10}, \"Metrics\": {\"validation_mse_objective\": {\"sum\": 0.0032492787533705517, \"count\": 1, \"min\": 0.0032492787533705517, \"max\": 0.0032492787533705517}}}\u001b[0m\n",
      "\u001b[34m#metrics {\"StartTime\": 1710960213.504397, \"EndTime\": 1710960213.504407, \"Dimensions\": {\"Algorithm\": \"Linear Learner\", \"Host\": \"algo-1\", \"Operation\": \"training\", \"epoch\": 3, \"model\": 11}, \"Metrics\": {\"validation_mse_objective\": {\"sum\": 0.0032313338940813986, \"count\": 1, \"min\": 0.0032313338940813986, \"max\": 0.0032313338940813986}}}\u001b[0m\n",
      "\u001b[34m#metrics {\"StartTime\": 1710960213.5044417, \"EndTime\": 1710960213.5044518, \"Dimensions\": {\"Algorithm\": \"Linear Learner\", \"Host\": \"algo-1\", \"Operation\": \"training\", \"epoch\": 3, \"model\": 12}, \"Metrics\": {\"validation_mse_objective\": {\"sum\": 0.0033196312186042384, \"count\": 1, \"min\": 0.0033196312186042384, \"max\": 0.0033196312186042384}}}\u001b[0m\n",
      "\u001b[34m#metrics {\"StartTime\": 1710960213.5044878, \"EndTime\": 1710960213.504497, \"Dimensions\": {\"Algorithm\": \"Linear Learner\", \"Host\": \"algo-1\", \"Operation\": \"training\", \"epoch\": 3, \"model\": 13}, \"Metrics\": {\"validation_mse_objective\": {\"sum\": 0.0035035152734090905, \"count\": 1, \"min\": 0.0035035152734090905, \"max\": 0.0035035152734090905}}}\u001b[0m\n",
      "\u001b[34m#metrics {\"StartTime\": 1710960213.5045352, \"EndTime\": 1710960213.5045455, \"Dimensions\": {\"Algorithm\": \"Linear Learner\", \"Host\": \"algo-1\", \"Operation\": \"training\", \"epoch\": 3, \"model\": 14}, \"Metrics\": {\"validation_mse_objective\": {\"sum\": 0.003323264506853949, \"count\": 1, \"min\": 0.003323264506853949, \"max\": 0.003323264506853949}}}\u001b[0m\n",
      "\u001b[34m#metrics {\"StartTime\": 1710960213.5045812, \"EndTime\": 1710960213.504592, \"Dimensions\": {\"Algorithm\": \"Linear Learner\", \"Host\": \"algo-1\", \"Operation\": \"training\", \"epoch\": 3, \"model\": 15}, \"Metrics\": {\"validation_mse_objective\": {\"sum\": 0.0035597715544030527, \"count\": 1, \"min\": 0.0035597715544030527, \"max\": 0.0035597715544030527}}}\u001b[0m\n",
      "\u001b[34m#metrics {\"StartTime\": 1710960213.5046272, \"EndTime\": 1710960213.5046372, \"Dimensions\": {\"Algorithm\": \"Linear Learner\", \"Host\": \"algo-1\", \"Operation\": \"training\", \"epoch\": 3, \"model\": 16}, \"Metrics\": {\"validation_mse_objective\": {\"sum\": 0.007395982399039751, \"count\": 1, \"min\": 0.007395982399039751, \"max\": 0.007395982399039751}}}\u001b[0m\n",
      "\u001b[34m#metrics {\"StartTime\": 1710960213.504675, \"EndTime\": 1710960213.5046852, \"Dimensions\": {\"Algorithm\": \"Linear Learner\", \"Host\": \"algo-1\", \"Operation\": \"training\", \"epoch\": 3, \"model\": 17}, \"Metrics\": {\"validation_mse_objective\": {\"sum\": 0.0072951337689767136, \"count\": 1, \"min\": 0.0072951337689767136, \"max\": 0.0072951337689767136}}}\u001b[0m\n",
      "\u001b[34m#metrics {\"StartTime\": 1710960213.5047216, \"EndTime\": 1710960213.5047314, \"Dimensions\": {\"Algorithm\": \"Linear Learner\", \"Host\": \"algo-1\", \"Operation\": \"training\", \"epoch\": 3, \"model\": 18}, \"Metrics\": {\"validation_mse_objective\": {\"sum\": 0.0074642620137385885, \"count\": 1, \"min\": 0.0074642620137385885, \"max\": 0.0074642620137385885}}}\u001b[0m\n",
      "\u001b[34m#metrics {\"StartTime\": 1710960213.5047688, \"EndTime\": 1710960213.5047796, \"Dimensions\": {\"Algorithm\": \"Linear Learner\", \"Host\": \"algo-1\", \"Operation\": \"training\", \"epoch\": 3, \"model\": 19}, \"Metrics\": {\"validation_mse_objective\": {\"sum\": 0.007297439705503978, \"count\": 1, \"min\": 0.007297439705503978, \"max\": 0.007297439705503978}}}\u001b[0m\n",
      "\u001b[34m#metrics {\"StartTime\": 1710960213.5048177, \"EndTime\": 1710960213.5048277, \"Dimensions\": {\"Algorithm\": \"Linear Learner\", \"Host\": \"algo-1\", \"Operation\": \"training\", \"epoch\": 3, \"model\": 20}, \"Metrics\": {\"validation_mse_objective\": {\"sum\": 0.008273089148134788, \"count\": 1, \"min\": 0.008273089148134788, \"max\": 0.008273089148134788}}}\u001b[0m\n",
      "\u001b[34m#metrics {\"StartTime\": 1710960213.5048652, \"EndTime\": 1710960213.504874, \"Dimensions\": {\"Algorithm\": \"Linear Learner\", \"Host\": \"algo-1\", \"Operation\": \"training\", \"epoch\": 3, \"model\": 21}, \"Metrics\": {\"validation_mse_objective\": {\"sum\": 0.006456587097781579, \"count\": 1, \"min\": 0.006456587097781579, \"max\": 0.006456587097781579}}}\u001b[0m\n",
      "\u001b[34m#metrics {\"StartTime\": 1710960213.50491, \"EndTime\": 1710960213.50492, \"Dimensions\": {\"Algorithm\": \"Linear Learner\", \"Host\": \"algo-1\", \"Operation\": \"training\", \"epoch\": 3, \"model\": 22}, \"Metrics\": {\"validation_mse_objective\": {\"sum\": 0.008279156957196504, \"count\": 1, \"min\": 0.008279156957196504, \"max\": 0.008279156957196504}}}\u001b[0m\n",
      "\u001b[34m#metrics {\"StartTime\": 1710960213.5049584, \"EndTime\": 1710960213.504969, \"Dimensions\": {\"Algorithm\": \"Linear Learner\", \"Host\": \"algo-1\", \"Operation\": \"training\", \"epoch\": 3, \"model\": 23}, \"Metrics\": {\"validation_mse_objective\": {\"sum\": 0.006526075625501466, \"count\": 1, \"min\": 0.006526075625501466, \"max\": 0.006526075625501466}}}\u001b[0m\n",
      "\u001b[34m#metrics {\"StartTime\": 1710960213.5050082, \"EndTime\": 1710960213.5050185, \"Dimensions\": {\"Algorithm\": \"Linear Learner\", \"Host\": \"algo-1\", \"Operation\": \"training\", \"epoch\": 3, \"model\": 24}, \"Metrics\": {\"validation_mse_objective\": {\"sum\": 0.036821233975324295, \"count\": 1, \"min\": 0.036821233975324295, \"max\": 0.036821233975324295}}}\u001b[0m\n",
      "\u001b[34m#metrics {\"StartTime\": 1710960213.5050542, \"EndTime\": 1710960213.5050638, \"Dimensions\": {\"Algorithm\": \"Linear Learner\", \"Host\": \"algo-1\", \"Operation\": \"training\", \"epoch\": 3, \"model\": 25}, \"Metrics\": {\"validation_mse_objective\": {\"sum\": 0.03701343030441223, \"count\": 1, \"min\": 0.03701343030441223, \"max\": 0.03701343030441223}}}\u001b[0m\n",
      "\u001b[34m#metrics {\"StartTime\": 1710960213.5051003, \"EndTime\": 1710960213.5051105, \"Dimensions\": {\"Algorithm\": \"Linear Learner\", \"Host\": \"algo-1\", \"Operation\": \"training\", \"epoch\": 3, \"model\": 26}, \"Metrics\": {\"validation_mse_objective\": {\"sum\": 0.03674829175707251, \"count\": 1, \"min\": 0.03674829175707251, \"max\": 0.03674829175707251}}}\u001b[0m\n",
      "\u001b[34m#metrics {\"StartTime\": 1710960213.5051475, \"EndTime\": 1710960213.5051572, \"Dimensions\": {\"Algorithm\": \"Linear Learner\", \"Host\": \"algo-1\", \"Operation\": \"training\", \"epoch\": 3, \"model\": 27}, \"Metrics\": {\"validation_mse_objective\": {\"sum\": 0.03712128359342503, \"count\": 1, \"min\": 0.03712128359342503, \"max\": 0.03712128359342503}}}\u001b[0m\n",
      "\u001b[34m#metrics {\"StartTime\": 1710960213.5051947, \"EndTime\": 1710960213.5052037, \"Dimensions\": {\"Algorithm\": \"Linear Learner\", \"Host\": \"algo-1\", \"Operation\": \"training\", \"epoch\": 3, \"model\": 28}, \"Metrics\": {\"validation_mse_objective\": {\"sum\": 0.03701872096781368, \"count\": 1, \"min\": 0.03701872096781368, \"max\": 0.03701872096781368}}}\u001b[0m\n",
      "\u001b[34m#metrics {\"StartTime\": 1710960213.5052414, \"EndTime\": 1710960213.5052514, \"Dimensions\": {\"Algorithm\": \"Linear Learner\", \"Host\": \"algo-1\", \"Operation\": \"training\", \"epoch\": 3, \"model\": 29}, \"Metrics\": {\"validation_mse_objective\": {\"sum\": 0.03864136550430155, \"count\": 1, \"min\": 0.03864136550430155, \"max\": 0.03864136550430155}}}\u001b[0m\n",
      "\u001b[34m#metrics {\"StartTime\": 1710960213.5052884, \"EndTime\": 1710960213.5052986, \"Dimensions\": {\"Algorithm\": \"Linear Learner\", \"Host\": \"algo-1\", \"Operation\": \"training\", \"epoch\": 3, \"model\": 30}, \"Metrics\": {\"validation_mse_objective\": {\"sum\": 0.03726608955456246, \"count\": 1, \"min\": 0.03726608955456246, \"max\": 0.03726608955456246}}}\u001b[0m\n",
      "\u001b[34m#metrics {\"StartTime\": 1710960213.5053368, \"EndTime\": 1710960213.505347, \"Dimensions\": {\"Algorithm\": \"Linear Learner\", \"Host\": \"algo-1\", \"Operation\": \"training\", \"epoch\": 3, \"model\": 31}, \"Metrics\": {\"validation_mse_objective\": {\"sum\": 0.03850101109525261, \"count\": 1, \"min\": 0.03850101109525261, \"max\": 0.03850101109525261}}}\u001b[0m\n",
      "\u001b[34m[03/20/2024 18:43:33 INFO 139961683208000] #quality_metric: host=algo-1, epoch=3, validation mse_objective <loss>=0.003225061879445487\u001b[0m\n",
      "\u001b[34m[03/20/2024 18:43:33 INFO 139961683208000] #early_stopping_criteria_metric: host=algo-1, epoch=3, criteria=mse_objective, value=0.003223681064165777\u001b[0m\n",
      "\u001b[34m[03/20/2024 18:43:33 INFO 139961683208000] Epoch 3: Loss improved. Updating best model\u001b[0m\n",
      "\u001b[34m[03/20/2024 18:43:33 INFO 139961683208000] Saving model for epoch: 3\u001b[0m\n",
      "\u001b[34m[03/20/2024 18:43:33 INFO 139961683208000] Saved checkpoint to \"/tmp/tmp6g7l4ing/mx-mod-0000.params\"\u001b[0m\n",
      "\u001b[34m[03/20/2024 18:43:33 INFO 139961683208000] #progress_metric: host=algo-1, completed 26.666666666666668 % of epochs\u001b[0m\n",
      "\u001b[34m#metrics {\"StartTime\": 1710960210.4575946, \"EndTime\": 1710960213.5117636, \"Dimensions\": {\"Algorithm\": \"Linear Learner\", \"Host\": \"algo-1\", \"Operation\": \"training\", \"epoch\": 3, \"Meta\": \"training_data_iter\"}, \"Metrics\": {\"Total Records Seen\": {\"sum\": 48759.0, \"count\": 1, \"min\": 48759, \"max\": 48759}, \"Total Batches Seen\": {\"sum\": 766.0, \"count\": 1, \"min\": 766, \"max\": 766}, \"Max Records Seen Between Resets\": {\"sum\": 9739.0, \"count\": 1, \"min\": 9739, \"max\": 9739}, \"Max Batches Seen Between Resets\": {\"sum\": 153.0, \"count\": 1, \"min\": 153, \"max\": 153}, \"Reset Count\": {\"sum\": 6.0, \"count\": 1, \"min\": 6, \"max\": 6}, \"Number of Records Since Last Reset\": {\"sum\": 9739.0, \"count\": 1, \"min\": 9739, \"max\": 9739}, \"Number of Batches Since Last Reset\": {\"sum\": 153.0, \"count\": 1, \"min\": 153, \"max\": 153}}}\u001b[0m\n",
      "\u001b[34m[03/20/2024 18:43:33 INFO 139961683208000] #throughput_metric: host=algo-1, train throughput=3188.5771865558772 records/second\u001b[0m\n",
      "\u001b[34m#metrics {\"StartTime\": 1710960216.14231, \"EndTime\": 1710960216.1423626, \"Dimensions\": {\"Algorithm\": \"Linear Learner\", \"Host\": \"algo-1\", \"Operation\": \"training\", \"epoch\": 4, \"model\": 0}, \"Metrics\": {\"train_mse_objective\": {\"sum\": 0.0785441872614779, \"count\": 1, \"min\": 0.0785441872614779, \"max\": 0.0785441872614779}}}\u001b[0m\n",
      "\u001b[34m#metrics {\"StartTime\": 1710960216.142441, \"EndTime\": 1710960216.142479, \"Dimensions\": {\"Algorithm\": \"Linear Learner\", \"Host\": \"algo-1\", \"Operation\": \"training\", \"epoch\": 4, \"model\": 1}, \"Metrics\": {\"train_mse_objective\": {\"sum\": 0.07879887901148513, \"count\": 1, \"min\": 0.07879887901148513, \"max\": 0.07879887901148513}}}\u001b[0m\n",
      "\u001b[34m#metrics {\"StartTime\": 1710960216.142553, \"EndTime\": 1710960216.142566, \"Dimensions\": {\"Algorithm\": \"Linear Learner\", \"Host\": \"algo-1\", \"Operation\": \"training\", \"epoch\": 4, \"model\": 2}, \"Metrics\": {\"train_mse_objective\": {\"sum\": 0.07860376992213883, \"count\": 1, \"min\": 0.07860376992213883, \"max\": 0.07860376992213883}}}\u001b[0m\n",
      "\u001b[34m#metrics {\"StartTime\": 1710960216.1426027, \"EndTime\": 1710960216.1426113, \"Dimensions\": {\"Algorithm\": \"Linear Learner\", \"Host\": \"algo-1\", \"Operation\": \"training\", \"epoch\": 4, \"model\": 3}, \"Metrics\": {\"train_mse_objective\": {\"sum\": 0.07873580330296566, \"count\": 1, \"min\": 0.07873580330296566, \"max\": 0.07873580330296566}}}\u001b[0m\n",
      "\u001b[34m#metrics {\"StartTime\": 1710960216.1426413, \"EndTime\": 1710960216.1427114, \"Dimensions\": {\"Algorithm\": \"Linear Learner\", \"Host\": \"algo-1\", \"Operation\": \"training\", \"epoch\": 4, \"model\": 4}, \"Metrics\": {\"train_mse_objective\": {\"sum\": 0.084653174970299, \"count\": 1, \"min\": 0.084653174970299, \"max\": 0.084653174970299}}}\u001b[0m\n",
      "\u001b[34m#metrics {\"StartTime\": 1710960216.1427572, \"EndTime\": 1710960216.1427903, \"Dimensions\": {\"Algorithm\": \"Linear Learner\", \"Host\": \"algo-1\", \"Operation\": \"training\", \"epoch\": 4, \"model\": 5}, \"Metrics\": {\"train_mse_objective\": {\"sum\": 0.09253343263346898, \"count\": 1, \"min\": 0.09253343263346898, \"max\": 0.09253343263346898}}}\u001b[0m\n",
      "\u001b[34m#metrics {\"StartTime\": 1710960216.1430435, \"EndTime\": 1710960216.1431122, \"Dimensions\": {\"Algorithm\": \"Linear Learner\", \"Host\": \"algo-1\", \"Operation\": \"training\", \"epoch\": 4, \"model\": 6}, \"Metrics\": {\"train_mse_objective\": {\"sum\": 0.08485142835170816, \"count\": 1, \"min\": 0.08485142835170816, \"max\": 0.08485142835170816}}}\u001b[0m\n",
      "\u001b[34m#metrics {\"StartTime\": 1710960216.1431928, \"EndTime\": 1710960216.1432312, \"Dimensions\": {\"Algorithm\": \"Linear Learner\", \"Host\": \"algo-1\", \"Operation\": \"training\", \"epoch\": 4, \"model\": 7}, \"Metrics\": {\"train_mse_objective\": {\"sum\": 0.09262759907563266, \"count\": 1, \"min\": 0.09262759907563266, \"max\": 0.09262759907563266}}}\u001b[0m\n",
      "\u001b[34m#metrics {\"StartTime\": 1710960216.1432972, \"EndTime\": 1710960216.1433513, \"Dimensions\": {\"Algorithm\": \"Linear Learner\", \"Host\": \"algo-1\", \"Operation\": \"training\", \"epoch\": 4, \"model\": 8}, \"Metrics\": {\"train_mse_objective\": {\"sum\": 0.07894721784089741, \"count\": 1, \"min\": 0.07894721784089741, \"max\": 0.07894721784089741}}}\u001b[0m\n",
      "\u001b[34m#metrics {\"StartTime\": 1710960216.1434166, \"EndTime\": 1710960216.143429, \"Dimensions\": {\"Algorithm\": \"Linear Learner\", \"Host\": \"algo-1\", \"Operation\": \"training\", \"epoch\": 4, \"model\": 9}, \"Metrics\": {\"train_mse_objective\": {\"sum\": 0.07892745728359411, \"count\": 1, \"min\": 0.07892745728359411, \"max\": 0.07892745728359411}}}\u001b[0m\n",
      "\u001b[34m#metrics {\"StartTime\": 1710960216.1435297, \"EndTime\": 1710960216.1435454, \"Dimensions\": {\"Algorithm\": \"Linear Learner\", \"Host\": \"algo-1\", \"Operation\": \"training\", \"epoch\": 4, \"model\": 10}, \"Metrics\": {\"train_mse_objective\": {\"sum\": 0.0789718265449138, \"count\": 1, \"min\": 0.0789718265449138, \"max\": 0.0789718265449138}}}\u001b[0m\n",
      "\u001b[34m#metrics {\"StartTime\": 1710960216.143646, \"EndTime\": 1710960216.1436603, \"Dimensions\": {\"Algorithm\": \"Linear Learner\", \"Host\": \"algo-1\", \"Operation\": \"training\", \"epoch\": 4, \"model\": 11}, \"Metrics\": {\"train_mse_objective\": {\"sum\": 0.07899501336444366, \"count\": 1, \"min\": 0.07899501336444366, \"max\": 0.07899501336444366}}}\u001b[0m\n",
      "\u001b[34m#metrics {\"StartTime\": 1710960216.1437244, \"EndTime\": 1710960216.1437585, \"Dimensions\": {\"Algorithm\": \"Linear Learner\", \"Host\": \"algo-1\", \"Operation\": \"training\", \"epoch\": 4, \"model\": 12}, \"Metrics\": {\"train_mse_objective\": {\"sum\": 0.08474772149010708, \"count\": 1, \"min\": 0.08474772149010708, \"max\": 0.08474772149010708}}}\u001b[0m\n",
      "\u001b[34m#metrics {\"StartTime\": 1710960216.1438189, \"EndTime\": 1710960216.143831, \"Dimensions\": {\"Algorithm\": \"Linear Learner\", \"Host\": \"algo-1\", \"Operation\": \"training\", \"epoch\": 4, \"model\": 13}, \"Metrics\": {\"train_mse_objective\": {\"sum\": 0.09260725399087134, \"count\": 1, \"min\": 0.09260725399087134, \"max\": 0.09260725399087134}}}\u001b[0m\n",
      "\u001b[34m#metrics {\"StartTime\": 1710960216.14393, \"EndTime\": 1710960216.143945, \"Dimensions\": {\"Algorithm\": \"Linear Learner\", \"Host\": \"algo-1\", \"Operation\": \"training\", \"epoch\": 4, \"model\": 14}, \"Metrics\": {\"train_mse_objective\": {\"sum\": 0.08477374085372216, \"count\": 1, \"min\": 0.08477374085372216, \"max\": 0.08477374085372216}}}\u001b[0m\n",
      "\u001b[34m#metrics {\"StartTime\": 1710960216.1440082, \"EndTime\": 1710960216.1440415, \"Dimensions\": {\"Algorithm\": \"Linear Learner\", \"Host\": \"algo-1\", \"Operation\": \"training\", \"epoch\": 4, \"model\": 15}, \"Metrics\": {\"train_mse_objective\": {\"sum\": 0.0927076536034675, \"count\": 1, \"min\": 0.0927076536034675, \"max\": 0.0927076536034675}}}\u001b[0m\n",
      "\u001b[34m#metrics {\"StartTime\": 1710960216.1441026, \"EndTime\": 1710960216.144115, \"Dimensions\": {\"Algorithm\": \"Linear Learner\", \"Host\": \"algo-1\", \"Operation\": \"training\", \"epoch\": 4, \"model\": 16}, \"Metrics\": {\"train_mse_objective\": {\"sum\": 0.19312096622429395, \"count\": 1, \"min\": 0.19312096622429395, \"max\": 0.19312096622429395}}}\u001b[0m\n",
      "\u001b[34m#metrics {\"StartTime\": 1710960216.1442146, \"EndTime\": 1710960216.144229, \"Dimensions\": {\"Algorithm\": \"Linear Learner\", \"Host\": \"algo-1\", \"Operation\": \"training\", \"epoch\": 4, \"model\": 17}, \"Metrics\": {\"train_mse_objective\": {\"sum\": 0.19370282348245382, \"count\": 1, \"min\": 0.19370282348245382, \"max\": 0.19370282348245382}}}\u001b[0m\n",
      "\u001b[34m#metrics {\"StartTime\": 1710960216.144292, \"EndTime\": 1710960216.144327, \"Dimensions\": {\"Algorithm\": \"Linear Learner\", \"Host\": \"algo-1\", \"Operation\": \"training\", \"epoch\": 4, \"model\": 18}, \"Metrics\": {\"train_mse_objective\": {\"sum\": 0.19308852311223745, \"count\": 1, \"min\": 0.19308852311223745, \"max\": 0.19308852311223745}}}\u001b[0m\n",
      "\u001b[34m#metrics {\"StartTime\": 1710960216.1443868, \"EndTime\": 1710960216.1443992, \"Dimensions\": {\"Algorithm\": \"Linear Learner\", \"Host\": \"algo-1\", \"Operation\": \"training\", \"epoch\": 4, \"model\": 19}, \"Metrics\": {\"train_mse_objective\": {\"sum\": 0.19369853253623373, \"count\": 1, \"min\": 0.19369853253623373, \"max\": 0.19369853253623373}}}\u001b[0m\n",
      "\u001b[34m#metrics {\"StartTime\": 1710960216.1444986, \"EndTime\": 1710960216.1445131, \"Dimensions\": {\"Algorithm\": \"Linear Learner\", \"Host\": \"algo-1\", \"Operation\": \"training\", \"epoch\": 4, \"model\": 20}, \"Metrics\": {\"train_mse_objective\": {\"sum\": 0.2026939459243103, \"count\": 1, \"min\": 0.2026939459243103, \"max\": 0.2026939459243103}}}\u001b[0m\n",
      "\u001b[34m#metrics {\"StartTime\": 1710960216.1446116, \"EndTime\": 1710960216.1446264, \"Dimensions\": {\"Algorithm\": \"Linear Learner\", \"Host\": \"algo-1\", \"Operation\": \"training\", \"epoch\": 4, \"model\": 21}, \"Metrics\": {\"train_mse_objective\": {\"sum\": 0.20717266893112346, \"count\": 1, \"min\": 0.20717266893112346, \"max\": 0.20717266893112346}}}\u001b[0m\n",
      "\u001b[34m#metrics {\"StartTime\": 1710960216.1446867, \"EndTime\": 1710960216.1447215, \"Dimensions\": {\"Algorithm\": \"Linear Learner\", \"Host\": \"algo-1\", \"Operation\": \"training\", \"epoch\": 4, \"model\": 22}, \"Metrics\": {\"train_mse_objective\": {\"sum\": 0.20262877809766092, \"count\": 1, \"min\": 0.20262877809766092, \"max\": 0.20262877809766092}}}\u001b[0m\n",
      "\u001b[34m#metrics {\"StartTime\": 1710960216.1447825, \"EndTime\": 1710960216.1447942, \"Dimensions\": {\"Algorithm\": \"Linear Learner\", \"Host\": \"algo-1\", \"Operation\": \"training\", \"epoch\": 4, \"model\": 23}, \"Metrics\": {\"train_mse_objective\": {\"sum\": 0.20702183364253296, \"count\": 1, \"min\": 0.20702183364253296, \"max\": 0.20702183364253296}}}\u001b[0m\n",
      "\u001b[34m#metrics {\"StartTime\": 1710960216.1449065, \"EndTime\": 1710960216.14492, \"Dimensions\": {\"Algorithm\": \"Linear Learner\", \"Host\": \"algo-1\", \"Operation\": \"training\", \"epoch\": 4, \"model\": 24}, \"Metrics\": {\"train_mse_objective\": {\"sum\": 0.9583911519301566, \"count\": 1, \"min\": 0.9583911519301566, \"max\": 0.9583911519301566}}}\u001b[0m\n",
      "\u001b[34m#metrics {\"StartTime\": 1710960216.1450214, \"EndTime\": 1710960216.145035, \"Dimensions\": {\"Algorithm\": \"Linear Learner\", \"Host\": \"algo-1\", \"Operation\": \"training\", \"epoch\": 4, \"model\": 25}, \"Metrics\": {\"train_mse_objective\": {\"sum\": 0.9584017501849877, \"count\": 1, \"min\": 0.9584017501849877, \"max\": 0.9584017501849877}}}\u001b[0m\n",
      "\u001b[34m#metrics {\"StartTime\": 1710960216.1451328, \"EndTime\": 1710960216.1451468, \"Dimensions\": {\"Algorithm\": \"Linear Learner\", \"Host\": \"algo-1\", \"Operation\": \"training\", \"epoch\": 4, \"model\": 26}, \"Metrics\": {\"train_mse_objective\": {\"sum\": 0.9583474648626227, \"count\": 1, \"min\": 0.9583474648626227, \"max\": 0.9583474648626227}}}\u001b[0m\n",
      "\u001b[34m#metrics {\"StartTime\": 1710960216.145245, \"EndTime\": 1710960216.1452603, \"Dimensions\": {\"Algorithm\": \"Linear Learner\", \"Host\": \"algo-1\", \"Operation\": \"training\", \"epoch\": 4, \"model\": 27}, \"Metrics\": {\"train_mse_objective\": {\"sum\": 0.9584533391814483, \"count\": 1, \"min\": 0.9584533391814483, \"max\": 0.9584533391814483}}}\u001b[0m\n",
      "\u001b[34m#metrics {\"StartTime\": 1710960216.145357, \"EndTime\": 1710960216.145372, \"Dimensions\": {\"Algorithm\": \"Linear Learner\", \"Host\": \"algo-1\", \"Operation\": \"training\", \"epoch\": 4, \"model\": 28}, \"Metrics\": {\"train_mse_objective\": {\"sum\": 0.9695046457805132, \"count\": 1, \"min\": 0.9695046457805132, \"max\": 0.9695046457805132}}}\u001b[0m\n",
      "\u001b[34m#metrics {\"StartTime\": 1710960216.1454687, \"EndTime\": 1710960216.1454833, \"Dimensions\": {\"Algorithm\": \"Linear Learner\", \"Host\": \"algo-1\", \"Operation\": \"training\", \"epoch\": 4, \"model\": 29}, \"Metrics\": {\"train_mse_objective\": {\"sum\": 0.9902011999174168, \"count\": 1, \"min\": 0.9902011999174168, \"max\": 0.9902011999174168}}}\u001b[0m\n",
      "\u001b[34m#metrics {\"StartTime\": 1710960216.1455472, \"EndTime\": 1710960216.1455832, \"Dimensions\": {\"Algorithm\": \"Linear Learner\", \"Host\": \"algo-1\", \"Operation\": \"training\", \"epoch\": 4, \"model\": 30}, \"Metrics\": {\"train_mse_objective\": {\"sum\": 0.9695266014651248, \"count\": 1, \"min\": 0.9695266014651248, \"max\": 0.9695266014651248}}}\u001b[0m\n",
      "\u001b[34m#metrics {\"StartTime\": 1710960216.1456425, \"EndTime\": 1710960216.1456559, \"Dimensions\": {\"Algorithm\": \"Linear Learner\", \"Host\": \"algo-1\", \"Operation\": \"training\", \"epoch\": 4, \"model\": 31}, \"Metrics\": {\"train_mse_objective\": {\"sum\": 0.989998816659576, \"count\": 1, \"min\": 0.989998816659576, \"max\": 0.989998816659576}}}\u001b[0m\n",
      "\u001b[34m[03/20/2024 18:43:36 INFO 139961683208000] #quality_metric: host=algo-1, epoch=4, train mse_objective <loss>=0.0785441872614779\u001b[0m\n",
      "\u001b[34m#metrics {\"StartTime\": 1710960216.5373206, \"EndTime\": 1710960216.5373695, \"Dimensions\": {\"Algorithm\": \"Linear Learner\", \"Host\": \"algo-1\", \"Operation\": \"training\", \"epoch\": 4, \"model\": 0}, \"Metrics\": {\"validation_mse_objective\": {\"sum\": 0.0032118755343008704, \"count\": 1, \"min\": 0.0032118755343008704, \"max\": 0.0032118755343008704}}}\u001b[0m\n",
      "\u001b[34m#metrics {\"StartTime\": 1710960216.5374377, \"EndTime\": 1710960216.53745, \"Dimensions\": {\"Algorithm\": \"Linear Learner\", \"Host\": \"algo-1\", \"Operation\": \"training\", \"epoch\": 4, \"model\": 1}, \"Metrics\": {\"validation_mse_objective\": {\"sum\": 0.0032219314988840226, \"count\": 1, \"min\": 0.0032219314988840226, \"max\": 0.0032219314988840226}}}\u001b[0m\n",
      "\u001b[34m#metrics {\"StartTime\": 1710960216.5374897, \"EndTime\": 1710960216.537499, \"Dimensions\": {\"Algorithm\": \"Linear Learner\", \"Host\": \"algo-1\", \"Operation\": \"training\", \"epoch\": 4, \"model\": 2}, \"Metrics\": {\"validation_mse_objective\": {\"sum\": 0.003209954430588217, \"count\": 1, \"min\": 0.003209954430588217, \"max\": 0.003209954430588217}}}\u001b[0m\n",
      "\u001b[34m#metrics {\"StartTime\": 1710960216.5375302, \"EndTime\": 1710960216.5375385, \"Dimensions\": {\"Algorithm\": \"Linear Learner\", \"Host\": \"algo-1\", \"Operation\": \"training\", \"epoch\": 4, \"model\": 3}, \"Metrics\": {\"validation_mse_objective\": {\"sum\": 0.003226951970785734, \"count\": 1, \"min\": 0.003226951970785734, \"max\": 0.003226951970785734}}}\u001b[0m\n",
      "\u001b[34m#metrics {\"StartTime\": 1710960216.5375662, \"EndTime\": 1710960216.5375736, \"Dimensions\": {\"Algorithm\": \"Linear Learner\", \"Host\": \"algo-1\", \"Operation\": \"training\", \"epoch\": 4, \"model\": 4}, \"Metrics\": {\"validation_mse_objective\": {\"sum\": 0.003292988120048504, \"count\": 1, \"min\": 0.003292988120048504, \"max\": 0.003292988120048504}}}\u001b[0m\n",
      "\u001b[34m#metrics {\"StartTime\": 1710960216.5376017, \"EndTime\": 1710960216.537609, \"Dimensions\": {\"Algorithm\": \"Linear Learner\", \"Host\": \"algo-1\", \"Operation\": \"training\", \"epoch\": 4, \"model\": 5}, \"Metrics\": {\"validation_mse_objective\": {\"sum\": 0.0034786947620401515, \"count\": 1, \"min\": 0.0034786947620401515, \"max\": 0.0034786947620401515}}}\u001b[0m\n",
      "\u001b[34m#metrics {\"StartTime\": 1710960216.5376356, \"EndTime\": 1710960216.5376425, \"Dimensions\": {\"Algorithm\": \"Linear Learner\", \"Host\": \"algo-1\", \"Operation\": \"training\", \"epoch\": 4, \"model\": 6}, \"Metrics\": {\"validation_mse_objective\": {\"sum\": 0.003285311445310804, \"count\": 1, \"min\": 0.003285311445310804, \"max\": 0.003285311445310804}}}\u001b[0m\n",
      "\u001b[34m#metrics {\"StartTime\": 1710960216.5377283, \"EndTime\": 1710960216.537741, \"Dimensions\": {\"Algorithm\": \"Linear Learner\", \"Host\": \"algo-1\", \"Operation\": \"training\", \"epoch\": 4, \"model\": 7}, \"Metrics\": {\"validation_mse_objective\": {\"sum\": 0.003488853088631706, \"count\": 1, \"min\": 0.003488853088631706, \"max\": 0.003488853088631706}}}\u001b[0m\n",
      "\u001b[34m#metrics {\"StartTime\": 1710960216.5377777, \"EndTime\": 1710960216.537787, \"Dimensions\": {\"Algorithm\": \"Linear Learner\", \"Host\": \"algo-1\", \"Operation\": \"training\", \"epoch\": 4, \"model\": 8}, \"Metrics\": {\"validation_mse_objective\": {\"sum\": 0.003229976000524369, \"count\": 1, \"min\": 0.003229976000524369, \"max\": 0.003229976000524369}}}\u001b[0m\n",
      "\u001b[34m#metrics {\"StartTime\": 1710960216.537818, \"EndTime\": 1710960216.5378277, \"Dimensions\": {\"Algorithm\": \"Linear Learner\", \"Host\": \"algo-1\", \"Operation\": \"training\", \"epoch\": 4, \"model\": 9}, \"Metrics\": {\"validation_mse_objective\": {\"sum\": 0.0032318111904944603, \"count\": 1, \"min\": 0.0032318111904944603, \"max\": 0.0032318111904944603}}}\u001b[0m\n",
      "\u001b[34m#metrics {\"StartTime\": 1710960216.5378926, \"EndTime\": 1710960216.5379038, \"Dimensions\": {\"Algorithm\": \"Linear Learner\", \"Host\": \"algo-1\", \"Operation\": \"training\", \"epoch\": 4, \"model\": 10}, \"Metrics\": {\"validation_mse_objective\": {\"sum\": 0.0032237435796238804, \"count\": 1, \"min\": 0.0032237435796238804, \"max\": 0.0032237435796238804}}}\u001b[0m\n",
      "\u001b[34m#metrics {\"StartTime\": 1710960216.5379593, \"EndTime\": 1710960216.53797, \"Dimensions\": {\"Algorithm\": \"Linear Learner\", \"Host\": \"algo-1\", \"Operation\": \"training\", \"epoch\": 4, \"model\": 11}, \"Metrics\": {\"validation_mse_objective\": {\"sum\": 0.003227113484016771, \"count\": 1, \"min\": 0.003227113484016771, \"max\": 0.003227113484016771}}}\u001b[0m\n",
      "\u001b[34m#metrics {\"StartTime\": 1710960216.538024, \"EndTime\": 1710960216.5380352, \"Dimensions\": {\"Algorithm\": \"Linear Learner\", \"Host\": \"algo-1\", \"Operation\": \"training\", \"epoch\": 4, \"model\": 12}, \"Metrics\": {\"validation_mse_objective\": {\"sum\": 0.0032992709745524847, \"count\": 1, \"min\": 0.0032992709745524847, \"max\": 0.0032992709745524847}}}\u001b[0m\n",
      "\u001b[34m#metrics {\"StartTime\": 1710960216.5380912, \"EndTime\": 1710960216.538102, \"Dimensions\": {\"Algorithm\": \"Linear Learner\", \"Host\": \"algo-1\", \"Operation\": \"training\", \"epoch\": 4, \"model\": 13}, \"Metrics\": {\"validation_mse_objective\": {\"sum\": 0.003498220198560177, \"count\": 1, \"min\": 0.003498220198560177, \"max\": 0.003498220198560177}}}\u001b[0m\n",
      "\u001b[34m#metrics {\"StartTime\": 1710960216.5381565, \"EndTime\": 1710960216.538185, \"Dimensions\": {\"Algorithm\": \"Linear Learner\", \"Host\": \"algo-1\", \"Operation\": \"training\", \"epoch\": 4, \"model\": 14}, \"Metrics\": {\"validation_mse_objective\": {\"sum\": 0.0032994520739562335, \"count\": 1, \"min\": 0.0032994520739562335, \"max\": 0.0032994520739562335}}}\u001b[0m\n",
      "\u001b[34m#metrics {\"StartTime\": 1710960216.5382333, \"EndTime\": 1710960216.5382442, \"Dimensions\": {\"Algorithm\": \"Linear Learner\", \"Host\": \"algo-1\", \"Operation\": \"training\", \"epoch\": 4, \"model\": 15}, \"Metrics\": {\"validation_mse_objective\": {\"sum\": 0.00355110840386189, \"count\": 1, \"min\": 0.00355110840386189, \"max\": 0.00355110840386189}}}\u001b[0m\n",
      "\u001b[34m#metrics {\"StartTime\": 1710960216.5382822, \"EndTime\": 1710960216.5382912, \"Dimensions\": {\"Algorithm\": \"Linear Learner\", \"Host\": \"algo-1\", \"Operation\": \"training\", \"epoch\": 4, \"model\": 16}, \"Metrics\": {\"validation_mse_objective\": {\"sum\": 0.007414411408616348, \"count\": 1, \"min\": 0.007414411408616348, \"max\": 0.007414411408616348}}}\u001b[0m\n",
      "\u001b[34m#metrics {\"StartTime\": 1710960216.5383234, \"EndTime\": 1710960216.538333, \"Dimensions\": {\"Algorithm\": \"Linear Learner\", \"Host\": \"algo-1\", \"Operation\": \"training\", \"epoch\": 4, \"model\": 17}, \"Metrics\": {\"validation_mse_objective\": {\"sum\": 0.007268778966391723, \"count\": 1, \"min\": 0.007268778966391723, \"max\": 0.007268778966391723}}}\u001b[0m\n",
      "\u001b[34m#metrics {\"StartTime\": 1710960216.538396, \"EndTime\": 1710960216.5384068, \"Dimensions\": {\"Algorithm\": \"Linear Learner\", \"Host\": \"algo-1\", \"Operation\": \"training\", \"epoch\": 4, \"model\": 18}, \"Metrics\": {\"validation_mse_objective\": {\"sum\": 0.007477889729002051, \"count\": 1, \"min\": 0.007477889729002051, \"max\": 0.007477889729002051}}}\u001b[0m\n",
      "\u001b[34m#metrics {\"StartTime\": 1710960216.538443, \"EndTime\": 1710960216.5384724, \"Dimensions\": {\"Algorithm\": \"Linear Learner\", \"Host\": \"algo-1\", \"Operation\": \"training\", \"epoch\": 4, \"model\": 19}, \"Metrics\": {\"validation_mse_objective\": {\"sum\": 0.0072730639882508125, \"count\": 1, \"min\": 0.0072730639882508125, \"max\": 0.0072730639882508125}}}\u001b[0m\n",
      "\u001b[34m#metrics {\"StartTime\": 1710960216.5385125, \"EndTime\": 1710960216.5385234, \"Dimensions\": {\"Algorithm\": \"Linear Learner\", \"Host\": \"algo-1\", \"Operation\": \"training\", \"epoch\": 4, \"model\": 20}, \"Metrics\": {\"validation_mse_objective\": {\"sum\": 0.007945607958487722, \"count\": 1, \"min\": 0.007945607958487722, \"max\": 0.007945607958487722}}}\u001b[0m\n",
      "\u001b[34m#metrics {\"StartTime\": 1710960216.5386002, \"EndTime\": 1710960216.5386143, \"Dimensions\": {\"Algorithm\": \"Linear Learner\", \"Host\": \"algo-1\", \"Operation\": \"training\", \"epoch\": 4, \"model\": 21}, \"Metrics\": {\"validation_mse_objective\": {\"sum\": 0.0064316486393807175, \"count\": 1, \"min\": 0.0064316486393807175, \"max\": 0.0064316486393807175}}}\u001b[0m\n",
      "\u001b[34m#metrics {\"StartTime\": 1710960216.5386748, \"EndTime\": 1710960216.538686, \"Dimensions\": {\"Algorithm\": \"Linear Learner\", \"Host\": \"algo-1\", \"Operation\": \"training\", \"epoch\": 4, \"model\": 22}, \"Metrics\": {\"validation_mse_objective\": {\"sum\": 0.007889955747658406, \"count\": 1, \"min\": 0.007889955747658406, \"max\": 0.007889955747658406}}}\u001b[0m\n",
      "\u001b[34m#metrics {\"StartTime\": 1710960216.5387247, \"EndTime\": 1710960216.538735, \"Dimensions\": {\"Algorithm\": \"Linear Learner\", \"Host\": \"algo-1\", \"Operation\": \"training\", \"epoch\": 4, \"model\": 23}, \"Metrics\": {\"validation_mse_objective\": {\"sum\": 0.006479469127666198, \"count\": 1, \"min\": 0.006479469127666198, \"max\": 0.006479469127666198}}}\u001b[0m\n",
      "\u001b[34m#metrics {\"StartTime\": 1710960216.5387928, \"EndTime\": 1710960216.5388038, \"Dimensions\": {\"Algorithm\": \"Linear Learner\", \"Host\": \"algo-1\", \"Operation\": \"training\", \"epoch\": 4, \"model\": 24}, \"Metrics\": {\"validation_mse_objective\": {\"sum\": 0.0367710496977859, \"count\": 1, \"min\": 0.0367710496977859, \"max\": 0.0367710496977859}}}\u001b[0m\n",
      "\u001b[34m#metrics {\"StartTime\": 1710960216.5388877, \"EndTime\": 1710960216.538902, \"Dimensions\": {\"Algorithm\": \"Linear Learner\", \"Host\": \"algo-1\", \"Operation\": \"training\", \"epoch\": 4, \"model\": 25}, \"Metrics\": {\"validation_mse_objective\": {\"sum\": 0.03703612286972314, \"count\": 1, \"min\": 0.03703612286972314, \"max\": 0.03703612286972314}}}\u001b[0m\n",
      "\u001b[34m#metrics {\"StartTime\": 1710960216.5389447, \"EndTime\": 1710960216.5389545, \"Dimensions\": {\"Algorithm\": \"Linear Learner\", \"Host\": \"algo-1\", \"Operation\": \"training\", \"epoch\": 4, \"model\": 26}, \"Metrics\": {\"validation_mse_objective\": {\"sum\": 0.03670331206042664, \"count\": 1, \"min\": 0.03670331206042664, \"max\": 0.03670331206042664}}}\u001b[0m\n",
      "\u001b[34m#metrics {\"StartTime\": 1710960216.5390131, \"EndTime\": 1710960216.5390239, \"Dimensions\": {\"Algorithm\": \"Linear Learner\", \"Host\": \"algo-1\", \"Operation\": \"training\", \"epoch\": 4, \"model\": 27}, \"Metrics\": {\"validation_mse_objective\": {\"sum\": 0.03712628558584063, \"count\": 1, \"min\": 0.03712628558584063, \"max\": 0.03712628558584063}}}\u001b[0m\n",
      "\u001b[34m#metrics {\"StartTime\": 1710960216.5390787, \"EndTime\": 1710960216.5390902, \"Dimensions\": {\"Algorithm\": \"Linear Learner\", \"Host\": \"algo-1\", \"Operation\": \"training\", \"epoch\": 4, \"model\": 28}, \"Metrics\": {\"validation_mse_objective\": {\"sum\": 0.037431678001518365, \"count\": 1, \"min\": 0.037431678001518365, \"max\": 0.037431678001518365}}}\u001b[0m\n",
      "\u001b[34m#metrics {\"StartTime\": 1710960216.53913, \"EndTime\": 1710960216.539141, \"Dimensions\": {\"Algorithm\": \"Linear Learner\", \"Host\": \"algo-1\", \"Operation\": \"training\", \"epoch\": 4, \"model\": 29}, \"Metrics\": {\"validation_mse_objective\": {\"sum\": 0.038757554385084395, \"count\": 1, \"min\": 0.038757554385084395, \"max\": 0.038757554385084395}}}\u001b[0m\n",
      "\u001b[34m#metrics {\"StartTime\": 1710960216.5391748, \"EndTime\": 1710960216.539184, \"Dimensions\": {\"Algorithm\": \"Linear Learner\", \"Host\": \"algo-1\", \"Operation\": \"training\", \"epoch\": 4, \"model\": 30}, \"Metrics\": {\"validation_mse_objective\": {\"sum\": 0.037533056748231576, \"count\": 1, \"min\": 0.037533056748231576, \"max\": 0.037533056748231576}}}\u001b[0m\n",
      "\u001b[34m#metrics {\"StartTime\": 1710960216.5392184, \"EndTime\": 1710960216.539228, \"Dimensions\": {\"Algorithm\": \"Linear Learner\", \"Host\": \"algo-1\", \"Operation\": \"training\", \"epoch\": 4, \"model\": 31}, \"Metrics\": {\"validation_mse_objective\": {\"sum\": 0.03884689342651279, \"count\": 1, \"min\": 0.03884689342651279, \"max\": 0.03884689342651279}}}\u001b[0m\n",
      "\u001b[34m[03/20/2024 18:43:36 INFO 139961683208000] #quality_metric: host=algo-1, epoch=4, validation mse_objective <loss>=0.0032118755343008704\u001b[0m\n",
      "\u001b[34m[03/20/2024 18:43:36 INFO 139961683208000] #early_stopping_criteria_metric: host=algo-1, epoch=4, criteria=mse_objective, value=0.003209954430588217\u001b[0m\n",
      "\u001b[34m[03/20/2024 18:43:36 INFO 139961683208000] Epoch 4: Loss improved. Updating best model\u001b[0m\n",
      "\u001b[34m[03/20/2024 18:43:36 INFO 139961683208000] Saving model for epoch: 4\u001b[0m\n",
      "\u001b[34m[03/20/2024 18:43:36 INFO 139961683208000] Saved checkpoint to \"/tmp/tmptcr_dnh_/mx-mod-0000.params\"\u001b[0m\n",
      "\u001b[34m[03/20/2024 18:43:36 INFO 139961683208000] #progress_metric: host=algo-1, completed 33.333333333333336 % of epochs\u001b[0m\n",
      "\u001b[34m#metrics {\"StartTime\": 1710960213.5120945, \"EndTime\": 1710960216.5458257, \"Dimensions\": {\"Algorithm\": \"Linear Learner\", \"Host\": \"algo-1\", \"Operation\": \"training\", \"epoch\": 4, \"Meta\": \"training_data_iter\"}, \"Metrics\": {\"Total Records Seen\": {\"sum\": 58498.0, \"count\": 1, \"min\": 58498, \"max\": 58498}, \"Total Batches Seen\": {\"sum\": 919.0, \"count\": 1, \"min\": 919, \"max\": 919}, \"Max Records Seen Between Resets\": {\"sum\": 9739.0, \"count\": 1, \"min\": 9739, \"max\": 9739}, \"Max Batches Seen Between Resets\": {\"sum\": 153.0, \"count\": 1, \"min\": 153, \"max\": 153}, \"Reset Count\": {\"sum\": 7.0, \"count\": 1, \"min\": 7, \"max\": 7}, \"Number of Records Since Last Reset\": {\"sum\": 9739.0, \"count\": 1, \"min\": 9739, \"max\": 9739}, \"Number of Batches Since Last Reset\": {\"sum\": 153.0, \"count\": 1, \"min\": 153, \"max\": 153}}}\u001b[0m\n",
      "\u001b[34m[03/20/2024 18:43:36 INFO 139961683208000] #throughput_metric: host=algo-1, train throughput=3210.059130846977 records/second\u001b[0m\n",
      "\u001b[34m#metrics {\"StartTime\": 1710960219.136603, \"EndTime\": 1710960219.1366851, \"Dimensions\": {\"Algorithm\": \"Linear Learner\", \"Host\": \"algo-1\", \"Operation\": \"training\", \"epoch\": 5, \"model\": 0}, \"Metrics\": {\"train_mse_objective\": {\"sum\": 0.07846700228554637, \"count\": 1, \"min\": 0.07846700228554637, \"max\": 0.07846700228554637}}}\u001b[0m\n",
      "\u001b[34m#metrics {\"StartTime\": 1710960219.1367736, \"EndTime\": 1710960219.136786, \"Dimensions\": {\"Algorithm\": \"Linear Learner\", \"Host\": \"algo-1\", \"Operation\": \"training\", \"epoch\": 5, \"model\": 1}, \"Metrics\": {\"train_mse_objective\": {\"sum\": 0.07875988105508058, \"count\": 1, \"min\": 0.07875988105508058, \"max\": 0.07875988105508058}}}\u001b[0m\n",
      "\u001b[34m#metrics {\"StartTime\": 1710960219.1368296, \"EndTime\": 1710960219.1368394, \"Dimensions\": {\"Algorithm\": \"Linear Learner\", \"Host\": \"algo-1\", \"Operation\": \"training\", \"epoch\": 5, \"model\": 2}, \"Metrics\": {\"train_mse_objective\": {\"sum\": 0.0784916341255762, \"count\": 1, \"min\": 0.0784916341255762, \"max\": 0.0784916341255762}}}\u001b[0m\n",
      "\u001b[34m#metrics {\"StartTime\": 1710960219.1368723, \"EndTime\": 1710960219.13688, \"Dimensions\": {\"Algorithm\": \"Linear Learner\", \"Host\": \"algo-1\", \"Operation\": \"training\", \"epoch\": 5, \"model\": 3}, \"Metrics\": {\"train_mse_objective\": {\"sum\": 0.07874035555869341, \"count\": 1, \"min\": 0.07874035555869341, \"max\": 0.07874035555869341}}}\u001b[0m\n",
      "\u001b[34m#metrics {\"StartTime\": 1710960219.1369126, \"EndTime\": 1710960219.1369212, \"Dimensions\": {\"Algorithm\": \"Linear Learner\", \"Host\": \"algo-1\", \"Operation\": \"training\", \"epoch\": 5, \"model\": 4}, \"Metrics\": {\"train_mse_objective\": {\"sum\": 0.08416056640348152, \"count\": 1, \"min\": 0.08416056640348152, \"max\": 0.08416056640348152}}}\u001b[0m\n",
      "\u001b[34m#metrics {\"StartTime\": 1710960219.1369507, \"EndTime\": 1710960219.1369584, \"Dimensions\": {\"Algorithm\": \"Linear Learner\", \"Host\": \"algo-1\", \"Operation\": \"training\", \"epoch\": 5, \"model\": 5}, \"Metrics\": {\"train_mse_objective\": {\"sum\": 0.09337917220239576, \"count\": 1, \"min\": 0.09337917220239576, \"max\": 0.09337917220239576}}}\u001b[0m\n",
      "\u001b[34m#metrics {\"StartTime\": 1710960219.1369903, \"EndTime\": 1710960219.1369987, \"Dimensions\": {\"Algorithm\": \"Linear Learner\", \"Host\": \"algo-1\", \"Operation\": \"training\", \"epoch\": 5, \"model\": 6}, \"Metrics\": {\"train_mse_objective\": {\"sum\": 0.0842750363640095, \"count\": 1, \"min\": 0.0842750363640095, \"max\": 0.0842750363640095}}}\u001b[0m\n",
      "\u001b[34m#metrics {\"StartTime\": 1710960219.1370347, \"EndTime\": 1710960219.1370437, \"Dimensions\": {\"Algorithm\": \"Linear Learner\", \"Host\": \"algo-1\", \"Operation\": \"training\", \"epoch\": 5, \"model\": 7}, \"Metrics\": {\"train_mse_objective\": {\"sum\": 0.09345523571889651, \"count\": 1, \"min\": 0.09345523571889651, \"max\": 0.09345523571889651}}}\u001b[0m\n",
      "\u001b[34m#metrics {\"StartTime\": 1710960219.137079, \"EndTime\": 1710960219.137089, \"Dimensions\": {\"Algorithm\": \"Linear Learner\", \"Host\": \"algo-1\", \"Operation\": \"training\", \"epoch\": 5, \"model\": 8}, \"Metrics\": {\"train_mse_objective\": {\"sum\": 0.07866307264684062, \"count\": 1, \"min\": 0.07866307264684062, \"max\": 0.07866307264684062}}}\u001b[0m\n",
      "\u001b[34m#metrics {\"StartTime\": 1710960219.1371229, \"EndTime\": 1710960219.1371317, \"Dimensions\": {\"Algorithm\": \"Linear Learner\", \"Host\": \"algo-1\", \"Operation\": \"training\", \"epoch\": 5, \"model\": 9}, \"Metrics\": {\"train_mse_objective\": {\"sum\": 0.0788621837518325, \"count\": 1, \"min\": 0.0788621837518325, \"max\": 0.0788621837518325}}}\u001b[0m\n",
      "\u001b[34m#metrics {\"StartTime\": 1710960219.1371675, \"EndTime\": 1710960219.1371772, \"Dimensions\": {\"Algorithm\": \"Linear Learner\", \"Host\": \"algo-1\", \"Operation\": \"training\", \"epoch\": 5, \"model\": 10}, \"Metrics\": {\"train_mse_objective\": {\"sum\": 0.07868154177834329, \"count\": 1, \"min\": 0.07868154177834329, \"max\": 0.07868154177834329}}}\u001b[0m\n",
      "\u001b[34m#metrics {\"StartTime\": 1710960219.1372125, \"EndTime\": 1710960219.1372223, \"Dimensions\": {\"Algorithm\": \"Linear Learner\", \"Host\": \"algo-1\", \"Operation\": \"training\", \"epoch\": 5, \"model\": 11}, \"Metrics\": {\"train_mse_objective\": {\"sum\": 0.07888838915938609, \"count\": 1, \"min\": 0.07888838915938609, \"max\": 0.07888838915938609}}}\u001b[0m\n",
      "\u001b[34m#metrics {\"StartTime\": 1710960219.137258, \"EndTime\": 1710960219.1372669, \"Dimensions\": {\"Algorithm\": \"Linear Learner\", \"Host\": \"algo-1\", \"Operation\": \"training\", \"epoch\": 5, \"model\": 12}, \"Metrics\": {\"train_mse_objective\": {\"sum\": 0.08423886658917916, \"count\": 1, \"min\": 0.08423886658917916, \"max\": 0.08423886658917916}}}\u001b[0m\n",
      "\u001b[34m#metrics {\"StartTime\": 1710960219.1373003, \"EndTime\": 1710960219.1373103, \"Dimensions\": {\"Algorithm\": \"Linear Learner\", \"Host\": \"algo-1\", \"Operation\": \"training\", \"epoch\": 5, \"model\": 13}, \"Metrics\": {\"train_mse_objective\": {\"sum\": 0.0934726727489186, \"count\": 1, \"min\": 0.0934726727489186, \"max\": 0.0934726727489186}}}\u001b[0m\n",
      "\u001b[34m#metrics {\"StartTime\": 1710960219.1373432, \"EndTime\": 1710960219.1373537, \"Dimensions\": {\"Algorithm\": \"Linear Learner\", \"Host\": \"algo-1\", \"Operation\": \"training\", \"epoch\": 5, \"model\": 14}, \"Metrics\": {\"train_mse_objective\": {\"sum\": 0.08424064639563623, \"count\": 1, \"min\": 0.08424064639563623, \"max\": 0.08424064639563623}}}\u001b[0m\n",
      "\u001b[34m#metrics {\"StartTime\": 1710960219.1373847, \"EndTime\": 1710960219.137393, \"Dimensions\": {\"Algorithm\": \"Linear Learner\", \"Host\": \"algo-1\", \"Operation\": \"training\", \"epoch\": 5, \"model\": 15}, \"Metrics\": {\"train_mse_objective\": {\"sum\": 0.0935551859928589, \"count\": 1, \"min\": 0.0935551859928589, \"max\": 0.0935551859928589}}}\u001b[0m\n",
      "\u001b[34m#metrics {\"StartTime\": 1710960219.1374207, \"EndTime\": 1710960219.1374285, \"Dimensions\": {\"Algorithm\": \"Linear Learner\", \"Host\": \"algo-1\", \"Operation\": \"training\", \"epoch\": 5, \"model\": 16}, \"Metrics\": {\"train_mse_objective\": {\"sum\": 0.19305771981414996, \"count\": 1, \"min\": 0.19305771981414996, \"max\": 0.19305771981414996}}}\u001b[0m\n",
      "\u001b[34m#metrics {\"StartTime\": 1710960219.137461, \"EndTime\": 1710960219.1374695, \"Dimensions\": {\"Algorithm\": \"Linear Learner\", \"Host\": \"algo-1\", \"Operation\": \"training\", \"epoch\": 5, \"model\": 17}, \"Metrics\": {\"train_mse_objective\": {\"sum\": 0.19370823245691626, \"count\": 1, \"min\": 0.19370823245691626, \"max\": 0.19370823245691626}}}\u001b[0m\n",
      "\u001b[34m#metrics {\"StartTime\": 1710960219.1375895, \"EndTime\": 1710960219.1376047, \"Dimensions\": {\"Algorithm\": \"Linear Learner\", \"Host\": \"algo-1\", \"Operation\": \"training\", \"epoch\": 5, \"model\": 18}, \"Metrics\": {\"train_mse_objective\": {\"sum\": 0.19302744398775853, \"count\": 1, \"min\": 0.19302744398775853, \"max\": 0.19302744398775853}}}\u001b[0m\n",
      "\u001b[34m#metrics {\"StartTime\": 1710960219.1376712, \"EndTime\": 1710960219.1376827, \"Dimensions\": {\"Algorithm\": \"Linear Learner\", \"Host\": \"algo-1\", \"Operation\": \"training\", \"epoch\": 5, \"model\": 19}, \"Metrics\": {\"train_mse_objective\": {\"sum\": 0.19370539094272413, \"count\": 1, \"min\": 0.19370539094272413, \"max\": 0.19370539094272413}}}\u001b[0m\n",
      "\u001b[34m#metrics {\"StartTime\": 1710960219.1377237, \"EndTime\": 1710960219.1377332, \"Dimensions\": {\"Algorithm\": \"Linear Learner\", \"Host\": \"algo-1\", \"Operation\": \"training\", \"epoch\": 5, \"model\": 20}, \"Metrics\": {\"train_mse_objective\": {\"sum\": 0.2015470288399803, \"count\": 1, \"min\": 0.2015470288399803, \"max\": 0.2015470288399803}}}\u001b[0m\n",
      "\u001b[34m#metrics {\"StartTime\": 1710960219.1377666, \"EndTime\": 1710960219.1378, \"Dimensions\": {\"Algorithm\": \"Linear Learner\", \"Host\": \"algo-1\", \"Operation\": \"training\", \"epoch\": 5, \"model\": 21}, \"Metrics\": {\"train_mse_objective\": {\"sum\": 0.2072894384986476, \"count\": 1, \"min\": 0.2072894384986476, \"max\": 0.2072894384986476}}}\u001b[0m\n",
      "\u001b[34m#metrics {\"StartTime\": 1710960219.1378412, \"EndTime\": 1710960219.1378527, \"Dimensions\": {\"Algorithm\": \"Linear Learner\", \"Host\": \"algo-1\", \"Operation\": \"training\", \"epoch\": 5, \"model\": 22}, \"Metrics\": {\"train_mse_objective\": {\"sum\": 0.20150582654107557, \"count\": 1, \"min\": 0.20150582654107557, \"max\": 0.20150582654107557}}}\u001b[0m\n",
      "\u001b[34m#metrics {\"StartTime\": 1710960219.1378913, \"EndTime\": 1710960219.137901, \"Dimensions\": {\"Algorithm\": \"Linear Learner\", \"Host\": \"algo-1\", \"Operation\": \"training\", \"epoch\": 5, \"model\": 23}, \"Metrics\": {\"train_mse_objective\": {\"sum\": 0.20719275334359785, \"count\": 1, \"min\": 0.20719275334359785, \"max\": 0.20719275334359785}}}\u001b[0m\n",
      "\u001b[34m#metrics {\"StartTime\": 1710960219.1379344, \"EndTime\": 1710960219.1379457, \"Dimensions\": {\"Algorithm\": \"Linear Learner\", \"Host\": \"algo-1\", \"Operation\": \"training\", \"epoch\": 5, \"model\": 24}, \"Metrics\": {\"train_mse_objective\": {\"sum\": 0.9581433416981446, \"count\": 1, \"min\": 0.9581433416981446, \"max\": 0.9581433416981446}}}\u001b[0m\n",
      "\u001b[34m#metrics {\"StartTime\": 1710960219.138007, \"EndTime\": 1710960219.1380184, \"Dimensions\": {\"Algorithm\": \"Linear Learner\", \"Host\": \"algo-1\", \"Operation\": \"training\", \"epoch\": 5, \"model\": 25}, \"Metrics\": {\"train_mse_objective\": {\"sum\": 0.9584176207059308, \"count\": 1, \"min\": 0.9584176207059308, \"max\": 0.9584176207059308}}}\u001b[0m\n",
      "\u001b[34m#metrics {\"StartTime\": 1710960219.1380577, \"EndTime\": 1710960219.138068, \"Dimensions\": {\"Algorithm\": \"Linear Learner\", \"Host\": \"algo-1\", \"Operation\": \"training\", \"epoch\": 5, \"model\": 26}, \"Metrics\": {\"train_mse_objective\": {\"sum\": 0.9581182195167792, \"count\": 1, \"min\": 0.9581182195167792, \"max\": 0.9581182195167792}}}\u001b[0m\n",
      "\u001b[34m#metrics {\"StartTime\": 1710960219.138104, \"EndTime\": 1710960219.1381135, \"Dimensions\": {\"Algorithm\": \"Linear Learner\", \"Host\": \"algo-1\", \"Operation\": \"training\", \"epoch\": 5, \"model\": 27}, \"Metrics\": {\"train_mse_objective\": {\"sum\": 0.9584612752261915, \"count\": 1, \"min\": 0.9584612752261915, \"max\": 0.9584612752261915}}}\u001b[0m\n",
      "\u001b[34m#metrics {\"StartTime\": 1710960219.1381705, \"EndTime\": 1710960219.1381822, \"Dimensions\": {\"Algorithm\": \"Linear Learner\", \"Host\": \"algo-1\", \"Operation\": \"training\", \"epoch\": 5, \"model\": 28}, \"Metrics\": {\"train_mse_objective\": {\"sum\": 0.9678903994591612, \"count\": 1, \"min\": 0.9678903994591612, \"max\": 0.9678903994591612}}}\u001b[0m\n",
      "\u001b[34m#metrics {\"StartTime\": 1710960219.138221, \"EndTime\": 1710960219.138242, \"Dimensions\": {\"Algorithm\": \"Linear Learner\", \"Host\": \"algo-1\", \"Operation\": \"training\", \"epoch\": 5, \"model\": 29}, \"Metrics\": {\"train_mse_objective\": {\"sum\": 0.9896136408573702, \"count\": 1, \"min\": 0.9896136408573702, \"max\": 0.9896136408573702}}}\u001b[0m\n",
      "\u001b[34m#metrics {\"StartTime\": 1710960219.138276, \"EndTime\": 1710960219.138309, \"Dimensions\": {\"Algorithm\": \"Linear Learner\", \"Host\": \"algo-1\", \"Operation\": \"training\", \"epoch\": 5, \"model\": 30}, \"Metrics\": {\"train_mse_objective\": {\"sum\": 0.9679283805583653, \"count\": 1, \"min\": 0.9679283805583653, \"max\": 0.9679283805583653}}}\u001b[0m\n",
      "\u001b[34m#metrics {\"StartTime\": 1710960219.1383486, \"EndTime\": 1710960219.1383598, \"Dimensions\": {\"Algorithm\": \"Linear Learner\", \"Host\": \"algo-1\", \"Operation\": \"training\", \"epoch\": 5, \"model\": 31}, \"Metrics\": {\"train_mse_objective\": {\"sum\": 0.9896370548950998, \"count\": 1, \"min\": 0.9896370548950998, \"max\": 0.9896370548950998}}}\u001b[0m\n",
      "\u001b[34m[03/20/2024 18:43:39 INFO 139961683208000] #quality_metric: host=algo-1, epoch=5, train mse_objective <loss>=0.07846700228554637\u001b[0m\n",
      "\u001b[34m#metrics {\"StartTime\": 1710960219.5195036, \"EndTime\": 1710960219.5195546, \"Dimensions\": {\"Algorithm\": \"Linear Learner\", \"Host\": \"algo-1\", \"Operation\": \"training\", \"epoch\": 5, \"model\": 0}, \"Metrics\": {\"validation_mse_objective\": {\"sum\": 0.003205504270128952, \"count\": 1, \"min\": 0.003205504270128952, \"max\": 0.003205504270128952}}}\u001b[0m\n",
      "\u001b[34m#metrics {\"StartTime\": 1710960219.5196242, \"EndTime\": 1710960219.5196362, \"Dimensions\": {\"Algorithm\": \"Linear Learner\", \"Host\": \"algo-1\", \"Operation\": \"training\", \"epoch\": 5, \"model\": 1}, \"Metrics\": {\"validation_mse_objective\": {\"sum\": 0.003223897657382017, \"count\": 1, \"min\": 0.003223897657382017, \"max\": 0.003223897657382017}}}\u001b[0m\n",
      "\u001b[34m#metrics {\"StartTime\": 1710960219.5196795, \"EndTime\": 1710960219.5196888, \"Dimensions\": {\"Algorithm\": \"Linear Learner\", \"Host\": \"algo-1\", \"Operation\": \"training\", \"epoch\": 5, \"model\": 2}, \"Metrics\": {\"validation_mse_objective\": {\"sum\": 0.0032039090027187393, \"count\": 1, \"min\": 0.0032039090027187393, \"max\": 0.0032039090027187393}}}\u001b[0m\n",
      "\u001b[34m#metrics {\"StartTime\": 1710960219.5197206, \"EndTime\": 1710960219.5197284, \"Dimensions\": {\"Algorithm\": \"Linear Learner\", \"Host\": \"algo-1\", \"Operation\": \"training\", \"epoch\": 5, \"model\": 3}, \"Metrics\": {\"validation_mse_objective\": {\"sum\": 0.0032270285682427626, \"count\": 1, \"min\": 0.0032270285682427626, \"max\": 0.0032270285682427626}}}\u001b[0m\n",
      "\u001b[34m#metrics {\"StartTime\": 1710960219.519762, \"EndTime\": 1710960219.5197694, \"Dimensions\": {\"Algorithm\": \"Linear Learner\", \"Host\": \"algo-1\", \"Operation\": \"training\", \"epoch\": 5, \"model\": 4}, \"Metrics\": {\"validation_mse_objective\": {\"sum\": 0.0033193448026811808, \"count\": 1, \"min\": 0.0033193448026811808, \"max\": 0.0033193448026811808}}}\u001b[0m\n",
      "\u001b[34m#metrics {\"StartTime\": 1710960219.519797, \"EndTime\": 1710960219.5198047, \"Dimensions\": {\"Algorithm\": \"Linear Learner\", \"Host\": \"algo-1\", \"Operation\": \"training\", \"epoch\": 5, \"model\": 5}, \"Metrics\": {\"validation_mse_objective\": {\"sum\": 0.00350354251908846, \"count\": 1, \"min\": 0.00350354251908846, \"max\": 0.00350354251908846}}}\u001b[0m\n",
      "\u001b[34m#metrics {\"StartTime\": 1710960219.5198326, \"EndTime\": 1710960219.519841, \"Dimensions\": {\"Algorithm\": \"Linear Learner\", \"Host\": \"algo-1\", \"Operation\": \"training\", \"epoch\": 5, \"model\": 6}, \"Metrics\": {\"validation_mse_objective\": {\"sum\": 0.0033213256701475173, \"count\": 1, \"min\": 0.0033213256701475173, \"max\": 0.0033213256701475173}}}\u001b[0m\n",
      "\u001b[34m#metrics {\"StartTime\": 1710960219.5198739, \"EndTime\": 1710960219.5198836, \"Dimensions\": {\"Algorithm\": \"Linear Learner\", \"Host\": \"algo-1\", \"Operation\": \"training\", \"epoch\": 5, \"model\": 7}, \"Metrics\": {\"validation_mse_objective\": {\"sum\": 0.003513934565956649, \"count\": 1, \"min\": 0.003513934565956649, \"max\": 0.003513934565956649}}}\u001b[0m\n",
      "\u001b[34m#metrics {\"StartTime\": 1710960219.5199165, \"EndTime\": 1710960219.519928, \"Dimensions\": {\"Algorithm\": \"Linear Learner\", \"Host\": \"algo-1\", \"Operation\": \"training\", \"epoch\": 5, \"model\": 8}, \"Metrics\": {\"validation_mse_objective\": {\"sum\": 0.0032181210564430304, \"count\": 1, \"min\": 0.0032181210564430304, \"max\": 0.0032181210564430304}}}\u001b[0m\n",
      "\u001b[34m#metrics {\"StartTime\": 1710960219.5199594, \"EndTime\": 1710960219.519969, \"Dimensions\": {\"Algorithm\": \"Linear Learner\", \"Host\": \"algo-1\", \"Operation\": \"training\", \"epoch\": 5, \"model\": 9}, \"Metrics\": {\"validation_mse_objective\": {\"sum\": 0.00323165435720717, \"count\": 1, \"min\": 0.00323165435720717, \"max\": 0.00323165435720717}}}\u001b[0m\n",
      "\u001b[34m#metrics {\"StartTime\": 1710960219.5200033, \"EndTime\": 1710960219.5200124, \"Dimensions\": {\"Algorithm\": \"Linear Learner\", \"Host\": \"algo-1\", \"Operation\": \"training\", \"epoch\": 5, \"model\": 10}, \"Metrics\": {\"validation_mse_objective\": {\"sum\": 0.0032139855534511425, \"count\": 1, \"min\": 0.0032139855534511425, \"max\": 0.0032139855534511425}}}\u001b[0m\n",
      "\u001b[34m#metrics {\"StartTime\": 1710960219.5200477, \"EndTime\": 1710960219.5200582, \"Dimensions\": {\"Algorithm\": \"Linear Learner\", \"Host\": \"algo-1\", \"Operation\": \"training\", \"epoch\": 5, \"model\": 11}, \"Metrics\": {\"validation_mse_objective\": {\"sum\": 0.0032289218622234936, \"count\": 1, \"min\": 0.0032289218622234936, \"max\": 0.0032289218622234936}}}\u001b[0m\n",
      "\u001b[34m#metrics {\"StartTime\": 1710960219.5200927, \"EndTime\": 1710960219.5201023, \"Dimensions\": {\"Algorithm\": \"Linear Learner\", \"Host\": \"algo-1\", \"Operation\": \"training\", \"epoch\": 5, \"model\": 12}, \"Metrics\": {\"validation_mse_objective\": {\"sum\": 0.003327015576046534, \"count\": 1, \"min\": 0.003327015576046534, \"max\": 0.003327015576046534}}}\u001b[0m\n",
      "\u001b[34m#metrics {\"StartTime\": 1710960219.5201366, \"EndTime\": 1710960219.5201461, \"Dimensions\": {\"Algorithm\": \"Linear Learner\", \"Host\": \"algo-1\", \"Operation\": \"training\", \"epoch\": 5, \"model\": 13}, \"Metrics\": {\"validation_mse_objective\": {\"sum\": 0.0035207821039035456, \"count\": 1, \"min\": 0.0035207821039035456, \"max\": 0.0035207821039035456}}}\u001b[0m\n",
      "\u001b[34m#metrics {\"StartTime\": 1710960219.5201814, \"EndTime\": 1710960219.520191, \"Dimensions\": {\"Algorithm\": \"Linear Learner\", \"Host\": \"algo-1\", \"Operation\": \"training\", \"epoch\": 5, \"model\": 14}, \"Metrics\": {\"validation_mse_objective\": {\"sum\": 0.0033249103232789825, \"count\": 1, \"min\": 0.0033249103232789825, \"max\": 0.0033249103232789825}}}\u001b[0m\n",
      "\u001b[34m#metrics {\"StartTime\": 1710960219.5202243, \"EndTime\": 1710960219.5202336, \"Dimensions\": {\"Algorithm\": \"Linear Learner\", \"Host\": \"algo-1\", \"Operation\": \"training\", \"epoch\": 5, \"model\": 15}, \"Metrics\": {\"validation_mse_objective\": {\"sum\": 0.003563078886444931, \"count\": 1, \"min\": 0.003563078886444931, \"max\": 0.003563078886444931}}}\u001b[0m\n",
      "\u001b[34m#metrics {\"StartTime\": 1710960219.5202663, \"EndTime\": 1710960219.5202756, \"Dimensions\": {\"Algorithm\": \"Linear Learner\", \"Host\": \"algo-1\", \"Operation\": \"training\", \"epoch\": 5, \"model\": 16}, \"Metrics\": {\"validation_mse_objective\": {\"sum\": 0.0074397294229428135, \"count\": 1, \"min\": 0.0074397294229428135, \"max\": 0.0074397294229428135}}}\u001b[0m\n",
      "\u001b[34m#metrics {\"StartTime\": 1710960219.5203116, \"EndTime\": 1710960219.5203211, \"Dimensions\": {\"Algorithm\": \"Linear Learner\", \"Host\": \"algo-1\", \"Operation\": \"training\", \"epoch\": 5, \"model\": 17}, \"Metrics\": {\"validation_mse_objective\": {\"sum\": 0.007251543125416892, \"count\": 1, \"min\": 0.007251543125416892, \"max\": 0.007251543125416892}}}\u001b[0m\n",
      "\u001b[34m#metrics {\"StartTime\": 1710960219.5203552, \"EndTime\": 1710960219.5203645, \"Dimensions\": {\"Algorithm\": \"Linear Learner\", \"Host\": \"algo-1\", \"Operation\": \"training\", \"epoch\": 5, \"model\": 18}, \"Metrics\": {\"validation_mse_objective\": {\"sum\": 0.007496853788943629, \"count\": 1, \"min\": 0.007496853788943629, \"max\": 0.007496853788943629}}}\u001b[0m\n",
      "\u001b[34m#metrics {\"StartTime\": 1710960219.520398, \"EndTime\": 1710960219.5204086, \"Dimensions\": {\"Algorithm\": \"Linear Learner\", \"Host\": \"algo-1\", \"Operation\": \"training\", \"epoch\": 5, \"model\": 19}, \"Metrics\": {\"validation_mse_objective\": {\"sum\": 0.00725738475198649, \"count\": 1, \"min\": 0.00725738475198649, \"max\": 0.00725738475198649}}}\u001b[0m\n",
      "\u001b[34m#metrics {\"StartTime\": 1710960219.5204437, \"EndTime\": 1710960219.5204537, \"Dimensions\": {\"Algorithm\": \"Linear Learner\", \"Host\": \"algo-1\", \"Operation\": \"training\", \"epoch\": 5, \"model\": 20}, \"Metrics\": {\"validation_mse_objective\": {\"sum\": 0.00735808764957274, \"count\": 1, \"min\": 0.00735808764957274, \"max\": 0.00735808764957274}}}\u001b[0m\n",
      "\u001b[34m#metrics {\"StartTime\": 1710960219.5204897, \"EndTime\": 1710960219.5205002, \"Dimensions\": {\"Algorithm\": \"Linear Learner\", \"Host\": \"algo-1\", \"Operation\": \"training\", \"epoch\": 5, \"model\": 21}, \"Metrics\": {\"validation_mse_objective\": {\"sum\": 0.006425559747241269, \"count\": 1, \"min\": 0.006425559747241269, \"max\": 0.006425559747241269}}}\u001b[0m\n",
      "\u001b[34m#metrics {\"StartTime\": 1710960219.5205348, \"EndTime\": 1710960219.5205455, \"Dimensions\": {\"Algorithm\": \"Linear Learner\", \"Host\": \"algo-1\", \"Operation\": \"training\", \"epoch\": 5, \"model\": 22}, \"Metrics\": {\"validation_mse_objective\": {\"sum\": 0.007333010088966, \"count\": 1, \"min\": 0.007333010088966, \"max\": 0.007333010088966}}}\u001b[0m\n",
      "\u001b[34m#metrics {\"StartTime\": 1710960219.5205808, \"EndTime\": 1710960219.5205908, \"Dimensions\": {\"Algorithm\": \"Linear Learner\", \"Host\": \"algo-1\", \"Operation\": \"training\", \"epoch\": 5, \"model\": 23}, \"Metrics\": {\"validation_mse_objective\": {\"sum\": 0.00645749397600716, \"count\": 1, \"min\": 0.00645749397600716, \"max\": 0.00645749397600716}}}\u001b[0m\n",
      "\u001b[34m#metrics {\"StartTime\": 1710960219.5206273, \"EndTime\": 1710960219.5206382, \"Dimensions\": {\"Algorithm\": \"Linear Learner\", \"Host\": \"algo-1\", \"Operation\": \"training\", \"epoch\": 5, \"model\": 24}, \"Metrics\": {\"validation_mse_objective\": {\"sum\": 0.036742322257044865, \"count\": 1, \"min\": 0.036742322257044865, \"max\": 0.036742322257044865}}}\u001b[0m\n",
      "\u001b[34m#metrics {\"StartTime\": 1710960219.520674, \"EndTime\": 1710960219.520684, \"Dimensions\": {\"Algorithm\": \"Linear Learner\", \"Host\": \"algo-1\", \"Operation\": \"training\", \"epoch\": 5, \"model\": 25}, \"Metrics\": {\"validation_mse_objective\": {\"sum\": 0.03704940292685918, \"count\": 1, \"min\": 0.03704940292685918, \"max\": 0.03704940292685918}}}\u001b[0m\n",
      "\u001b[34m#metrics {\"StartTime\": 1710960219.520721, \"EndTime\": 1710960219.520731, \"Dimensions\": {\"Algorithm\": \"Linear Learner\", \"Host\": \"algo-1\", \"Operation\": \"training\", \"epoch\": 5, \"model\": 26}, \"Metrics\": {\"validation_mse_objective\": {\"sum\": 0.036681317821053265, \"count\": 1, \"min\": 0.036681317821053265, \"max\": 0.036681317821053265}}}\u001b[0m\n",
      "\u001b[34m#metrics {\"StartTime\": 1710960219.5207691, \"EndTime\": 1710960219.5207796, \"Dimensions\": {\"Algorithm\": \"Linear Learner\", \"Host\": \"algo-1\", \"Operation\": \"training\", \"epoch\": 5, \"model\": 27}, \"Metrics\": {\"validation_mse_objective\": {\"sum\": 0.037133360045218125, \"count\": 1, \"min\": 0.037133360045218125, \"max\": 0.037133360045218125}}}\u001b[0m\n",
      "\u001b[34m#metrics {\"StartTime\": 1710960219.520817, \"EndTime\": 1710960219.5208285, \"Dimensions\": {\"Algorithm\": \"Linear Learner\", \"Host\": \"algo-1\", \"Operation\": \"training\", \"epoch\": 5, \"model\": 28}, \"Metrics\": {\"validation_mse_objective\": {\"sum\": 0.03801654908477158, \"count\": 1, \"min\": 0.03801654908477158, \"max\": 0.03801654908477158}}}\u001b[0m\n",
      "\u001b[34m#metrics {\"StartTime\": 1710960219.5208654, \"EndTime\": 1710960219.5208755, \"Dimensions\": {\"Algorithm\": \"Linear Learner\", \"Host\": \"algo-1\", \"Operation\": \"training\", \"epoch\": 5, \"model\": 29}, \"Metrics\": {\"validation_mse_objective\": {\"sum\": 0.03883154292952353, \"count\": 1, \"min\": 0.03883154292952353, \"max\": 0.03883154292952353}}}\u001b[0m\n",
      "\u001b[34m#metrics {\"StartTime\": 1710960219.5209131, \"EndTime\": 1710960219.520924, \"Dimensions\": {\"Algorithm\": \"Linear Learner\", \"Host\": \"algo-1\", \"Operation\": \"training\", \"epoch\": 5, \"model\": 30}, \"Metrics\": {\"validation_mse_objective\": {\"sum\": 0.03791507667492792, \"count\": 1, \"min\": 0.03791507667492792, \"max\": 0.03791507667492792}}}\u001b[0m\n",
      "\u001b[34m#metrics {\"StartTime\": 1710960219.5209625, \"EndTime\": 1710960219.5209723, \"Dimensions\": {\"Algorithm\": \"Linear Learner\", \"Host\": \"algo-1\", \"Operation\": \"training\", \"epoch\": 5, \"model\": 31}, \"Metrics\": {\"validation_mse_objective\": {\"sum\": 0.0390700631853369, \"count\": 1, \"min\": 0.0390700631853369, \"max\": 0.0390700631853369}}}\u001b[0m\n",
      "\u001b[34m[03/20/2024 18:43:39 INFO 139961683208000] #quality_metric: host=algo-1, epoch=5, validation mse_objective <loss>=0.003205504270128952\u001b[0m\n",
      "\u001b[34m[03/20/2024 18:43:39 INFO 139961683208000] #early_stopping_criteria_metric: host=algo-1, epoch=5, criteria=mse_objective, value=0.0032039090027187393\u001b[0m\n",
      "\u001b[34m[03/20/2024 18:43:39 INFO 139961683208000] Epoch 5: Loss improved. Updating best model\u001b[0m\n",
      "\u001b[34m[03/20/2024 18:43:39 INFO 139961683208000] Saving model for epoch: 5\u001b[0m\n",
      "\u001b[34m[03/20/2024 18:43:39 INFO 139961683208000] Saved checkpoint to \"/tmp/tmpkn50hejj/mx-mod-0000.params\"\u001b[0m\n",
      "\u001b[34m[03/20/2024 18:43:39 INFO 139961683208000] #progress_metric: host=algo-1, completed 40.0 % of epochs\u001b[0m\n",
      "\u001b[34m#metrics {\"StartTime\": 1710960216.546152, \"EndTime\": 1710960219.5273204, \"Dimensions\": {\"Algorithm\": \"Linear Learner\", \"Host\": \"algo-1\", \"Operation\": \"training\", \"epoch\": 5, \"Meta\": \"training_data_iter\"}, \"Metrics\": {\"Total Records Seen\": {\"sum\": 68237.0, \"count\": 1, \"min\": 68237, \"max\": 68237}, \"Total Batches Seen\": {\"sum\": 1072.0, \"count\": 1, \"min\": 1072, \"max\": 1072}, \"Max Records Seen Between Resets\": {\"sum\": 9739.0, \"count\": 1, \"min\": 9739, \"max\": 9739}, \"Max Batches Seen Between Resets\": {\"sum\": 153.0, \"count\": 1, \"min\": 153, \"max\": 153}, \"Reset Count\": {\"sum\": 8.0, \"count\": 1, \"min\": 8, \"max\": 8}, \"Number of Records Since Last Reset\": {\"sum\": 9739.0, \"count\": 1, \"min\": 9739, \"max\": 9739}, \"Number of Batches Since Last Reset\": {\"sum\": 153.0, \"count\": 1, \"min\": 153, \"max\": 153}}}\u001b[0m\n",
      "\u001b[34m[03/20/2024 18:43:39 INFO 139961683208000] #throughput_metric: host=algo-1, train throughput=3266.655640565832 records/second\u001b[0m\n",
      "\u001b[34m#metrics {\"StartTime\": 1710960222.1565988, \"EndTime\": 1710960222.1566525, \"Dimensions\": {\"Algorithm\": \"Linear Learner\", \"Host\": \"algo-1\", \"Operation\": \"training\", \"epoch\": 6, \"model\": 0}, \"Metrics\": {\"train_mse_objective\": {\"sum\": 0.07844555591184058, \"count\": 1, \"min\": 0.07844555591184058, \"max\": 0.07844555591184058}}}\u001b[0m\n",
      "\u001b[34m#metrics {\"StartTime\": 1710960222.15672, \"EndTime\": 1710960222.1567323, \"Dimensions\": {\"Algorithm\": \"Linear Learner\", \"Host\": \"algo-1\", \"Operation\": \"training\", \"epoch\": 6, \"model\": 1}, \"Metrics\": {\"train_mse_objective\": {\"sum\": 0.07875832290339627, \"count\": 1, \"min\": 0.07875832290339627, \"max\": 0.07875832290339627}}}\u001b[0m\n",
      "\u001b[34m#metrics {\"StartTime\": 1710960222.1567748, \"EndTime\": 1710960222.156785, \"Dimensions\": {\"Algorithm\": \"Linear Learner\", \"Host\": \"algo-1\", \"Operation\": \"training\", \"epoch\": 6, \"model\": 2}, \"Metrics\": {\"train_mse_objective\": {\"sum\": 0.07845667158988745, \"count\": 1, \"min\": 0.07845667158988745, \"max\": 0.07845667158988745}}}\u001b[0m\n",
      "\u001b[34m#metrics {\"StartTime\": 1710960222.156818, \"EndTime\": 1710960222.1568518, \"Dimensions\": {\"Algorithm\": \"Linear Learner\", \"Host\": \"algo-1\", \"Operation\": \"training\", \"epoch\": 6, \"model\": 3}, \"Metrics\": {\"train_mse_objective\": {\"sum\": 0.07875404173606321, \"count\": 1, \"min\": 0.07875404173606321, \"max\": 0.07875404173606321}}}\u001b[0m\n",
      "\u001b[34m#metrics {\"StartTime\": 1710960222.1569066, \"EndTime\": 1710960222.1569178, \"Dimensions\": {\"Algorithm\": \"Linear Learner\", \"Host\": \"algo-1\", \"Operation\": \"training\", \"epoch\": 6, \"model\": 4}, \"Metrics\": {\"train_mse_objective\": {\"sum\": 0.08387425495311618, \"count\": 1, \"min\": 0.08387425495311618, \"max\": 0.08387425495311618}}}\u001b[0m\n",
      "\u001b[34m#metrics {\"StartTime\": 1710960222.1569529, \"EndTime\": 1710960222.1569622, \"Dimensions\": {\"Algorithm\": \"Linear Learner\", \"Host\": \"algo-1\", \"Operation\": \"training\", \"epoch\": 6, \"model\": 5}, \"Metrics\": {\"train_mse_objective\": {\"sum\": 0.09355687127007466, \"count\": 1, \"min\": 0.09355687127007466, \"max\": 0.09355687127007466}}}\u001b[0m\n",
      "\u001b[34m#metrics {\"StartTime\": 1710960222.1569927, \"EndTime\": 1710960222.157002, \"Dimensions\": {\"Algorithm\": \"Linear Learner\", \"Host\": \"algo-1\", \"Operation\": \"training\", \"epoch\": 6, \"model\": 6}, \"Metrics\": {\"train_mse_objective\": {\"sum\": 0.08395134356166971, \"count\": 1, \"min\": 0.08395134356166971, \"max\": 0.08395134356166971}}}\u001b[0m\n",
      "\u001b[34m#metrics {\"StartTime\": 1710960222.1571913, \"EndTime\": 1710960222.15721, \"Dimensions\": {\"Algorithm\": \"Linear Learner\", \"Host\": \"algo-1\", \"Operation\": \"training\", \"epoch\": 6, \"model\": 7}, \"Metrics\": {\"train_mse_objective\": {\"sum\": 0.09359288916579987, \"count\": 1, \"min\": 0.09359288916579987, \"max\": 0.09359288916579987}}}\u001b[0m\n",
      "\u001b[34m#metrics {\"StartTime\": 1710960222.1572585, \"EndTime\": 1710960222.157268, \"Dimensions\": {\"Algorithm\": \"Linear Learner\", \"Host\": \"algo-1\", \"Operation\": \"training\", \"epoch\": 6, \"model\": 8}, \"Metrics\": {\"train_mse_objective\": {\"sum\": 0.07857455337714207, \"count\": 1, \"min\": 0.07857455337714207, \"max\": 0.07857455337714207}}}\u001b[0m\n",
      "\u001b[34m#metrics {\"StartTime\": 1710960222.1573899, \"EndTime\": 1710960222.1574032, \"Dimensions\": {\"Algorithm\": \"Linear Learner\", \"Host\": \"algo-1\", \"Operation\": \"training\", \"epoch\": 6, \"model\": 9}, \"Metrics\": {\"train_mse_objective\": {\"sum\": 0.0788619650135699, \"count\": 1, \"min\": 0.0788619650135699, \"max\": 0.0788619650135699}}}\u001b[0m\n",
      "\u001b[34m#metrics {\"StartTime\": 1710960222.1574705, \"EndTime\": 1710960222.1574829, \"Dimensions\": {\"Algorithm\": \"Linear Learner\", \"Host\": \"algo-1\", \"Operation\": \"training\", \"epoch\": 6, \"model\": 10}, \"Metrics\": {\"train_mse_objective\": {\"sum\": 0.0785861070709009, \"count\": 1, \"min\": 0.0785861070709009, \"max\": 0.0785861070709009}}}\u001b[0m\n",
      "\u001b[34m#metrics {\"StartTime\": 1710960222.157521, \"EndTime\": 1710960222.157531, \"Dimensions\": {\"Algorithm\": \"Linear Learner\", \"Host\": \"algo-1\", \"Operation\": \"training\", \"epoch\": 6, \"model\": 11}, \"Metrics\": {\"train_mse_objective\": {\"sum\": 0.0788711603779934, \"count\": 1, \"min\": 0.0788711603779934, \"max\": 0.0788711603779934}}}\u001b[0m\n",
      "\u001b[34m#metrics {\"StartTime\": 1710960222.157591, \"EndTime\": 1710960222.1576025, \"Dimensions\": {\"Algorithm\": \"Linear Learner\", \"Host\": \"algo-1\", \"Operation\": \"training\", \"epoch\": 6, \"model\": 12}, \"Metrics\": {\"train_mse_objective\": {\"sum\": 0.08396697257596411, \"count\": 1, \"min\": 0.08396697257596411, \"max\": 0.08396697257596411}}}\u001b[0m\n",
      "\u001b[34m#metrics {\"StartTime\": 1710960222.1576402, \"EndTime\": 1710960222.1576514, \"Dimensions\": {\"Algorithm\": \"Linear Learner\", \"Host\": \"algo-1\", \"Operation\": \"training\", \"epoch\": 6, \"model\": 13}, \"Metrics\": {\"train_mse_objective\": {\"sum\": 0.09359715751519329, \"count\": 1, \"min\": 0.09359715751519329, \"max\": 0.09359715751519329}}}\u001b[0m\n",
      "\u001b[34m#metrics {\"StartTime\": 1710960222.1577108, \"EndTime\": 1710960222.1577225, \"Dimensions\": {\"Algorithm\": \"Linear Learner\", \"Host\": \"algo-1\", \"Operation\": \"training\", \"epoch\": 6, \"model\": 14}, \"Metrics\": {\"train_mse_objective\": {\"sum\": 0.08396497430083782, \"count\": 1, \"min\": 0.08396497430083782, \"max\": 0.08396497430083782}}}\u001b[0m\n",
      "\u001b[34m#metrics {\"StartTime\": 1710960222.1577582, \"EndTime\": 1710960222.157768, \"Dimensions\": {\"Algorithm\": \"Linear Learner\", \"Host\": \"algo-1\", \"Operation\": \"training\", \"epoch\": 6, \"model\": 15}, \"Metrics\": {\"train_mse_objective\": {\"sum\": 0.09363852142307319, \"count\": 1, \"min\": 0.09363852142307319, \"max\": 0.09363852142307319}}}\u001b[0m\n",
      "\u001b[34m#metrics {\"StartTime\": 1710960222.1578276, \"EndTime\": 1710960222.1578386, \"Dimensions\": {\"Algorithm\": \"Linear Learner\", \"Host\": \"algo-1\", \"Operation\": \"training\", \"epoch\": 6, \"model\": 16}, \"Metrics\": {\"train_mse_objective\": {\"sum\": 0.19299304303958228, \"count\": 1, \"min\": 0.19299304303958228, \"max\": 0.19299304303958228}}}\u001b[0m\n",
      "\u001b[34m#metrics {\"StartTime\": 1710960222.1578789, \"EndTime\": 1710960222.1578877, \"Dimensions\": {\"Algorithm\": \"Linear Learner\", \"Host\": \"algo-1\", \"Operation\": \"training\", \"epoch\": 6, \"model\": 17}, \"Metrics\": {\"train_mse_objective\": {\"sum\": 0.19371160884436808, \"count\": 1, \"min\": 0.19371160884436808, \"max\": 0.19371160884436808}}}\u001b[0m\n",
      "\u001b[34m#metrics {\"StartTime\": 1710960222.1579216, \"EndTime\": 1710960222.1579516, \"Dimensions\": {\"Algorithm\": \"Linear Learner\", \"Host\": \"algo-1\", \"Operation\": \"training\", \"epoch\": 6, \"model\": 18}, \"Metrics\": {\"train_mse_objective\": {\"sum\": 0.19296655019647196, \"count\": 1, \"min\": 0.19296655019647196, \"max\": 0.19296655019647196}}}\u001b[0m\n",
      "\u001b[34m#metrics {\"StartTime\": 1710960222.157993, \"EndTime\": 1710960222.158004, \"Dimensions\": {\"Algorithm\": \"Linear Learner\", \"Host\": \"algo-1\", \"Operation\": \"training\", \"epoch\": 6, \"model\": 19}, \"Metrics\": {\"train_mse_objective\": {\"sum\": 0.19371019421439423, \"count\": 1, \"min\": 0.19371019421439423, \"max\": 0.19371019421439423}}}\u001b[0m\n",
      "\u001b[34m#metrics {\"StartTime\": 1710960222.1580431, \"EndTime\": 1710960222.1580532, \"Dimensions\": {\"Algorithm\": \"Linear Learner\", \"Host\": \"algo-1\", \"Operation\": \"training\", \"epoch\": 6, \"model\": 20}, \"Metrics\": {\"train_mse_objective\": {\"sum\": 0.19961994616804937, \"count\": 1, \"min\": 0.19961994616804937, \"max\": 0.19961994616804937}}}\u001b[0m\n",
      "\u001b[34m#metrics {\"StartTime\": 1710960222.1580858, \"EndTime\": 1710960222.1581182, \"Dimensions\": {\"Algorithm\": \"Linear Learner\", \"Host\": \"algo-1\", \"Operation\": \"training\", \"epoch\": 6, \"model\": 21}, \"Metrics\": {\"train_mse_objective\": {\"sum\": 0.20719202534344636, \"count\": 1, \"min\": 0.20719202534344636, \"max\": 0.20719202534344636}}}\u001b[0m\n",
      "\u001b[34m#metrics {\"StartTime\": 1710960222.158158, \"EndTime\": 1710960222.1581686, \"Dimensions\": {\"Algorithm\": \"Linear Learner\", \"Host\": \"algo-1\", \"Operation\": \"training\", \"epoch\": 6, \"model\": 22}, \"Metrics\": {\"train_mse_objective\": {\"sum\": 0.19959522514162878, \"count\": 1, \"min\": 0.19959522514162878, \"max\": 0.19959522514162878}}}\u001b[0m\n",
      "\u001b[34m#metrics {\"StartTime\": 1710960222.1582065, \"EndTime\": 1710960222.1582165, \"Dimensions\": {\"Algorithm\": \"Linear Learner\", \"Host\": \"algo-1\", \"Operation\": \"training\", \"epoch\": 6, \"model\": 23}, \"Metrics\": {\"train_mse_objective\": {\"sum\": 0.20712590668546527, \"count\": 1, \"min\": 0.20712590668546527, \"max\": 0.20712590668546527}}}\u001b[0m\n",
      "\u001b[34m#metrics {\"StartTime\": 1710960222.158286, \"EndTime\": 1710960222.1582978, \"Dimensions\": {\"Algorithm\": \"Linear Learner\", \"Host\": \"algo-1\", \"Operation\": \"training\", \"epoch\": 6, \"model\": 24}, \"Metrics\": {\"train_mse_objective\": {\"sum\": 0.9579041192406103, \"count\": 1, \"min\": 0.9579041192406103, \"max\": 0.9579041192406103}}}\u001b[0m\n",
      "\u001b[34m#metrics {\"StartTime\": 1710960222.158338, \"EndTime\": 1710960222.1583483, \"Dimensions\": {\"Algorithm\": \"Linear Learner\", \"Host\": \"algo-1\", \"Operation\": \"training\", \"epoch\": 6, \"model\": 25}, \"Metrics\": {\"train_mse_objective\": {\"sum\": 0.9584204625142249, \"count\": 1, \"min\": 0.9584204625142249, \"max\": 0.9584204625142249}}}\u001b[0m\n",
      "\u001b[34m#metrics {\"StartTime\": 1710960222.1584034, \"EndTime\": 1710960222.158415, \"Dimensions\": {\"Algorithm\": \"Linear Learner\", \"Host\": \"algo-1\", \"Operation\": \"training\", \"epoch\": 6, \"model\": 26}, \"Metrics\": {\"train_mse_objective\": {\"sum\": 0.9578897929505298, \"count\": 1, \"min\": 0.9578897929505298, \"max\": 0.9578897929505298}}}\u001b[0m\n",
      "\u001b[34m#metrics {\"StartTime\": 1710960222.1584535, \"EndTime\": 1710960222.1584647, \"Dimensions\": {\"Algorithm\": \"Linear Learner\", \"Host\": \"algo-1\", \"Operation\": \"training\", \"epoch\": 6, \"model\": 27}, \"Metrics\": {\"train_mse_objective\": {\"sum\": 0.9584627849491019, \"count\": 1, \"min\": 0.9584627849491019, \"max\": 0.9584627849491019}}}\u001b[0m\n",
      "\u001b[34m#metrics {\"StartTime\": 1710960222.1584992, \"EndTime\": 1710960222.1585288, \"Dimensions\": {\"Algorithm\": \"Linear Learner\", \"Host\": \"algo-1\", \"Operation\": \"training\", \"epoch\": 6, \"model\": 28}, \"Metrics\": {\"train_mse_objective\": {\"sum\": 0.9671721850570879, \"count\": 1, \"min\": 0.9671721850570879, \"max\": 0.9671721850570879}}}\u001b[0m\n",
      "\u001b[34m#metrics {\"StartTime\": 1710960222.1585708, \"EndTime\": 1710960222.1585817, \"Dimensions\": {\"Algorithm\": \"Linear Learner\", \"Host\": \"algo-1\", \"Operation\": \"training\", \"epoch\": 6, \"model\": 29}, \"Metrics\": {\"train_mse_objective\": {\"sum\": 0.9885016232728958, \"count\": 1, \"min\": 0.9885016232728958, \"max\": 0.9885016232728958}}}\u001b[0m\n",
      "\u001b[34m#metrics {\"StartTime\": 1710960222.1586204, \"EndTime\": 1710960222.15863, \"Dimensions\": {\"Algorithm\": \"Linear Learner\", \"Host\": \"algo-1\", \"Operation\": \"training\", \"epoch\": 6, \"model\": 30}, \"Metrics\": {\"train_mse_objective\": {\"sum\": 0.9671613609320239, \"count\": 1, \"min\": 0.9671613609320239, \"max\": 0.9671613609320239}}}\u001b[0m\n",
      "\u001b[34m#metrics {\"StartTime\": 1710960222.1586971, \"EndTime\": 1710960222.1587098, \"Dimensions\": {\"Algorithm\": \"Linear Learner\", \"Host\": \"algo-1\", \"Operation\": \"training\", \"epoch\": 6, \"model\": 31}, \"Metrics\": {\"train_mse_objective\": {\"sum\": 0.9885120301654464, \"count\": 1, \"min\": 0.9885120301654464, \"max\": 0.9885120301654464}}}\u001b[0m\n",
      "\u001b[34m[03/20/2024 18:43:42 INFO 139961683208000] #quality_metric: host=algo-1, epoch=6, train mse_objective <loss>=0.07844555591184058\u001b[0m\n",
      "\u001b[34m#metrics {\"StartTime\": 1710960222.5341055, \"EndTime\": 1710960222.534155, \"Dimensions\": {\"Algorithm\": \"Linear Learner\", \"Host\": \"algo-1\", \"Operation\": \"training\", \"epoch\": 6, \"model\": 0}, \"Metrics\": {\"validation_mse_objective\": {\"sum\": 0.003201365293036129, \"count\": 1, \"min\": 0.003201365293036129, \"max\": 0.003201365293036129}}}\u001b[0m\n",
      "\u001b[34m#metrics {\"StartTime\": 1710960222.5342224, \"EndTime\": 1710960222.534246, \"Dimensions\": {\"Algorithm\": \"Linear Learner\", \"Host\": \"algo-1\", \"Operation\": \"training\", \"epoch\": 6, \"model\": 1}, \"Metrics\": {\"validation_mse_objective\": {\"sum\": 0.0032255138608089646, \"count\": 1, \"min\": 0.0032255138608089646, \"max\": 0.0032255138608089646}}}\u001b[0m\n",
      "\u001b[34m#metrics {\"StartTime\": 1710960222.534289, \"EndTime\": 1710960222.5342987, \"Dimensions\": {\"Algorithm\": \"Linear Learner\", \"Host\": \"algo-1\", \"Operation\": \"training\", \"epoch\": 6, \"model\": 2}, \"Metrics\": {\"validation_mse_objective\": {\"sum\": 0.0032002708981735384, \"count\": 1, \"min\": 0.0032002708981735384, \"max\": 0.0032002708981735384}}}\u001b[0m\n",
      "\u001b[34m#metrics {\"StartTime\": 1710960222.5343316, \"EndTime\": 1710960222.5343406, \"Dimensions\": {\"Algorithm\": \"Linear Learner\", \"Host\": \"algo-1\", \"Operation\": \"training\", \"epoch\": 6, \"model\": 3}, \"Metrics\": {\"validation_mse_objective\": {\"sum\": 0.0032274407908335725, \"count\": 1, \"min\": 0.0032274407908335725, \"max\": 0.0032274407908335725}}}\u001b[0m\n",
      "\u001b[34m#metrics {\"StartTime\": 1710960222.534372, \"EndTime\": 1710960222.5343797, \"Dimensions\": {\"Algorithm\": \"Linear Learner\", \"Host\": \"algo-1\", \"Operation\": \"training\", \"epoch\": 6, \"model\": 4}, \"Metrics\": {\"validation_mse_objective\": {\"sum\": 0.0033486219631695406, \"count\": 1, \"min\": 0.0033486219631695406, \"max\": 0.0033486219631695406}}}\u001b[0m\n",
      "\u001b[34m#metrics {\"StartTime\": 1710960222.5344074, \"EndTime\": 1710960222.5344152, \"Dimensions\": {\"Algorithm\": \"Linear Learner\", \"Host\": \"algo-1\", \"Operation\": \"training\", \"epoch\": 6, \"model\": 5}, \"Metrics\": {\"validation_mse_objective\": {\"sum\": 0.003512141080401088, \"count\": 1, \"min\": 0.003512141080401088, \"max\": 0.003512141080401088}}}\u001b[0m\n",
      "\u001b[34m#metrics {\"StartTime\": 1710960222.534444, \"EndTime\": 1710960222.5344522, \"Dimensions\": {\"Algorithm\": \"Linear Learner\", \"Host\": \"algo-1\", \"Operation\": \"training\", \"epoch\": 6, \"model\": 6}, \"Metrics\": {\"validation_mse_objective\": {\"sum\": 0.003350610556214803, \"count\": 1, \"min\": 0.003350610556214803, \"max\": 0.003350610556214803}}}\u001b[0m\n",
      "\u001b[34m#metrics {\"StartTime\": 1710960222.534485, \"EndTime\": 1710960222.5344949, \"Dimensions\": {\"Algorithm\": \"Linear Learner\", \"Host\": \"algo-1\", \"Operation\": \"training\", \"epoch\": 6, \"model\": 7}, \"Metrics\": {\"validation_mse_objective\": {\"sum\": 0.0035201782882749054, \"count\": 1, \"min\": 0.0035201782882749054, \"max\": 0.0035201782882749054}}}\u001b[0m\n",
      "\u001b[34m#metrics {\"StartTime\": 1710960222.5345302, \"EndTime\": 1710960222.5345397, \"Dimensions\": {\"Algorithm\": \"Linear Learner\", \"Host\": \"algo-1\", \"Operation\": \"training\", \"epoch\": 6, \"model\": 8}, \"Metrics\": {\"validation_mse_objective\": {\"sum\": 0.0032117797450011394, \"count\": 1, \"min\": 0.0032117797450011394, \"max\": 0.0032117797450011394}}}\u001b[0m\n",
      "\u001b[34m#metrics {\"StartTime\": 1710960222.534572, \"EndTime\": 1710960222.5345812, \"Dimensions\": {\"Algorithm\": \"Linear Learner\", \"Host\": \"algo-1\", \"Operation\": \"training\", \"epoch\": 6, \"model\": 9}, \"Metrics\": {\"validation_mse_objective\": {\"sum\": 0.0032323824471241396, \"count\": 1, \"min\": 0.0032323824471241396, \"max\": 0.0032323824471241396}}}\u001b[0m\n",
      "\u001b[34m#metrics {\"StartTime\": 1710960222.5346153, \"EndTime\": 1710960222.5346246, \"Dimensions\": {\"Algorithm\": \"Linear Learner\", \"Host\": \"algo-1\", \"Operation\": \"training\", \"epoch\": 6, \"model\": 10}, \"Metrics\": {\"validation_mse_objective\": {\"sum\": 0.0032089878310634923, \"count\": 1, \"min\": 0.0032089878310634923, \"max\": 0.0032089878310634923}}}\u001b[0m\n",
      "\u001b[34m#metrics {\"StartTime\": 1710960222.5346603, \"EndTime\": 1710960222.5346692, \"Dimensions\": {\"Algorithm\": \"Linear Learner\", \"Host\": \"algo-1\", \"Operation\": \"training\", \"epoch\": 6, \"model\": 11}, \"Metrics\": {\"validation_mse_objective\": {\"sum\": 0.0032308527319147053, \"count\": 1, \"min\": 0.0032308527319147053, \"max\": 0.0032308527319147053}}}\u001b[0m\n",
      "\u001b[34m#metrics {\"StartTime\": 1710960222.5347016, \"EndTime\": 1710960222.5347106, \"Dimensions\": {\"Algorithm\": \"Linear Learner\", \"Host\": \"algo-1\", \"Operation\": \"training\", \"epoch\": 6, \"model\": 12}, \"Metrics\": {\"validation_mse_objective\": {\"sum\": 0.0033572084920622364, \"count\": 1, \"min\": 0.0033572084920622364, \"max\": 0.0033572084920622364}}}\u001b[0m\n",
      "\u001b[34m#metrics {\"StartTime\": 1710960222.5347464, \"EndTime\": 1710960222.5347564, \"Dimensions\": {\"Algorithm\": \"Linear Learner\", \"Host\": \"algo-1\", \"Operation\": \"training\", \"epoch\": 6, \"model\": 13}, \"Metrics\": {\"validation_mse_objective\": {\"sum\": 0.003524441561935129, \"count\": 1, \"min\": 0.003524441561935129, \"max\": 0.003524441561935129}}}\u001b[0m\n",
      "\u001b[34m#metrics {\"StartTime\": 1710960222.5347924, \"EndTime\": 1710960222.5348022, \"Dimensions\": {\"Algorithm\": \"Linear Learner\", \"Host\": \"algo-1\", \"Operation\": \"training\", \"epoch\": 6, \"model\": 14}, \"Metrics\": {\"validation_mse_objective\": {\"sum\": 0.0033597678450955504, \"count\": 1, \"min\": 0.0033597678450955504, \"max\": 0.0033597678450955504}}}\u001b[0m\n",
      "\u001b[34m#metrics {\"StartTime\": 1710960222.5348606, \"EndTime\": 1710960222.5348716, \"Dimensions\": {\"Algorithm\": \"Linear Learner\", \"Host\": \"algo-1\", \"Operation\": \"training\", \"epoch\": 6, \"model\": 15}, \"Metrics\": {\"validation_mse_objective\": {\"sum\": 0.003555382088828809, \"count\": 1, \"min\": 0.003555382088828809, \"max\": 0.003555382088828809}}}\u001b[0m\n",
      "\u001b[34m#metrics {\"StartTime\": 1710960222.5349092, \"EndTime\": 1710960222.5349195, \"Dimensions\": {\"Algorithm\": \"Linear Learner\", \"Host\": \"algo-1\", \"Operation\": \"training\", \"epoch\": 6, \"model\": 16}, \"Metrics\": {\"validation_mse_objective\": {\"sum\": 0.007463601982178936, \"count\": 1, \"min\": 0.007463601982178936, \"max\": 0.007463601982178936}}}\u001b[0m\n",
      "\u001b[34m#metrics {\"StartTime\": 1710960222.5349576, \"EndTime\": 1710960222.534967, \"Dimensions\": {\"Algorithm\": \"Linear Learner\", \"Host\": \"algo-1\", \"Operation\": \"training\", \"epoch\": 6, \"model\": 17}, \"Metrics\": {\"validation_mse_objective\": {\"sum\": 0.007237714885693862, \"count\": 1, \"min\": 0.007237714885693862, \"max\": 0.007237714885693862}}}\u001b[0m\n",
      "\u001b[34m#metrics {\"StartTime\": 1710960222.5350015, \"EndTime\": 1710960222.535011, \"Dimensions\": {\"Algorithm\": \"Linear Learner\", \"Host\": \"algo-1\", \"Operation\": \"training\", \"epoch\": 6, \"model\": 18}, \"Metrics\": {\"validation_mse_objective\": {\"sum\": 0.007513479017929864, \"count\": 1, \"min\": 0.007513479017929864, \"max\": 0.007513479017929864}}}\u001b[0m\n",
      "\u001b[34m#metrics {\"StartTime\": 1710960222.5350466, \"EndTime\": 1710960222.535056, \"Dimensions\": {\"Algorithm\": \"Linear Learner\", \"Host\": \"algo-1\", \"Operation\": \"training\", \"epoch\": 6, \"model\": 19}, \"Metrics\": {\"validation_mse_objective\": {\"sum\": 0.007244767051083045, \"count\": 1, \"min\": 0.007244767051083045, \"max\": 0.007244767051083045}}}\u001b[0m\n",
      "\u001b[34m#metrics {\"StartTime\": 1710960222.5350933, \"EndTime\": 1710960222.535103, \"Dimensions\": {\"Algorithm\": \"Linear Learner\", \"Host\": \"algo-1\", \"Operation\": \"training\", \"epoch\": 6, \"model\": 20}, \"Metrics\": {\"validation_mse_objective\": {\"sum\": 0.007233654103553576, \"count\": 1, \"min\": 0.007233654103553576, \"max\": 0.007233654103553576}}}\u001b[0m\n",
      "\u001b[34m#metrics {\"StartTime\": 1710960222.5351384, \"EndTime\": 1710960222.5351481, \"Dimensions\": {\"Algorithm\": \"Linear Learner\", \"Host\": \"algo-1\", \"Operation\": \"training\", \"epoch\": 6, \"model\": 21}, \"Metrics\": {\"validation_mse_objective\": {\"sum\": 0.00644325395621497, \"count\": 1, \"min\": 0.00644325395621497, \"max\": 0.00644325395621497}}}\u001b[0m\n",
      "\u001b[34m#metrics {\"StartTime\": 1710960222.5351863, \"EndTime\": 1710960222.5351958, \"Dimensions\": {\"Algorithm\": \"Linear Learner\", \"Host\": \"algo-1\", \"Operation\": \"training\", \"epoch\": 6, \"model\": 22}, \"Metrics\": {\"validation_mse_objective\": {\"sum\": 0.007223522995677021, \"count\": 1, \"min\": 0.007223522995677021, \"max\": 0.007223522995677021}}}\u001b[0m\n",
      "\u001b[34m#metrics {\"StartTime\": 1710960222.535232, \"EndTime\": 1710960222.535242, \"Dimensions\": {\"Algorithm\": \"Linear Learner\", \"Host\": \"algo-1\", \"Operation\": \"training\", \"epoch\": 6, \"model\": 23}, \"Metrics\": {\"validation_mse_objective\": {\"sum\": 0.006465350317021017, \"count\": 1, \"min\": 0.006465350317021017, \"max\": 0.006465350317021017}}}\u001b[0m\n",
      "\u001b[34m#metrics {\"StartTime\": 1710960222.535279, \"EndTime\": 1710960222.535289, \"Dimensions\": {\"Algorithm\": \"Linear Learner\", \"Host\": \"algo-1\", \"Operation\": \"training\", \"epoch\": 6, \"model\": 24}, \"Metrics\": {\"validation_mse_objective\": {\"sum\": 0.03672788868327405, \"count\": 1, \"min\": 0.03672788868327405, \"max\": 0.03672788868327405}}}\u001b[0m\n",
      "\u001b[34m#metrics {\"StartTime\": 1710960222.5353262, \"EndTime\": 1710960222.5353367, \"Dimensions\": {\"Algorithm\": \"Linear Learner\", \"Host\": \"algo-1\", \"Operation\": \"training\", \"epoch\": 6, \"model\": 25}, \"Metrics\": {\"validation_mse_objective\": {\"sum\": 0.03705485075314432, \"count\": 1, \"min\": 0.03705485075314432, \"max\": 0.03705485075314432}}}\u001b[0m\n",
      "\u001b[34m#metrics {\"StartTime\": 1710960222.5353734, \"EndTime\": 1710960222.5353832, \"Dimensions\": {\"Algorithm\": \"Linear Learner\", \"Host\": \"algo-1\", \"Operation\": \"training\", \"epoch\": 6, \"model\": 26}, \"Metrics\": {\"validation_mse_objective\": {\"sum\": 0.036690228158566006, \"count\": 1, \"min\": 0.036690228158566006, \"max\": 0.036690228158566006}}}\u001b[0m\n",
      "\u001b[34m#metrics {\"StartTime\": 1710960222.5354214, \"EndTime\": 1710960222.5354316, \"Dimensions\": {\"Algorithm\": \"Linear Learner\", \"Host\": \"algo-1\", \"Operation\": \"training\", \"epoch\": 6, \"model\": 27}, \"Metrics\": {\"validation_mse_objective\": {\"sum\": 0.03714515066550742, \"count\": 1, \"min\": 0.03714515066550742, \"max\": 0.03714515066550742}}}\u001b[0m\n",
      "\u001b[34m#metrics {\"StartTime\": 1710960222.535469, \"EndTime\": 1710960222.5354795, \"Dimensions\": {\"Algorithm\": \"Linear Learner\", \"Host\": \"algo-1\", \"Operation\": \"training\", \"epoch\": 6, \"model\": 28}, \"Metrics\": {\"validation_mse_objective\": {\"sum\": 0.038002134111444076, \"count\": 1, \"min\": 0.038002134111444076, \"max\": 0.038002134111444076}}}\u001b[0m\n",
      "\u001b[34m#metrics {\"StartTime\": 1710960222.5355172, \"EndTime\": 1710960222.5355275, \"Dimensions\": {\"Algorithm\": \"Linear Learner\", \"Host\": \"algo-1\", \"Operation\": \"training\", \"epoch\": 6, \"model\": 29}, \"Metrics\": {\"validation_mse_objective\": {\"sum\": 0.038890352393873416, \"count\": 1, \"min\": 0.038890352393873416, \"max\": 0.038890352393873416}}}\u001b[0m\n",
      "\u001b[34m#metrics {\"StartTime\": 1710960222.5355637, \"EndTime\": 1710960222.5355742, \"Dimensions\": {\"Algorithm\": \"Linear Learner\", \"Host\": \"algo-1\", \"Operation\": \"training\", \"epoch\": 6, \"model\": 30}, \"Metrics\": {\"validation_mse_objective\": {\"sum\": 0.037958411598536024, \"count\": 1, \"min\": 0.037958411598536024, \"max\": 0.037958411598536024}}}\u001b[0m\n",
      "\u001b[34m#metrics {\"StartTime\": 1710960222.5356112, \"EndTime\": 1710960222.5356214, \"Dimensions\": {\"Algorithm\": \"Linear Learner\", \"Host\": \"algo-1\", \"Operation\": \"training\", \"epoch\": 6, \"model\": 31}, \"Metrics\": {\"validation_mse_objective\": {\"sum\": 0.03908909789651816, \"count\": 1, \"min\": 0.03908909789651816, \"max\": 0.03908909789651816}}}\u001b[0m\n",
      "\u001b[34m[03/20/2024 18:43:42 INFO 139961683208000] #quality_metric: host=algo-1, epoch=6, validation mse_objective <loss>=0.003201365293036129\u001b[0m\n",
      "\u001b[34m[03/20/2024 18:43:42 INFO 139961683208000] #early_stopping_criteria_metric: host=algo-1, epoch=6, criteria=mse_objective, value=0.0032002708981735384\u001b[0m\n",
      "\u001b[34m[03/20/2024 18:43:42 INFO 139961683208000] Epoch 6: Loss improved. Updating best model\u001b[0m\n",
      "\u001b[34m[03/20/2024 18:43:42 INFO 139961683208000] Saving model for epoch: 6\u001b[0m\n",
      "\u001b[34m[03/20/2024 18:43:42 INFO 139961683208000] Saved checkpoint to \"/tmp/tmp1uqqu16t/mx-mod-0000.params\"\u001b[0m\n",
      "\u001b[34m[03/20/2024 18:43:42 INFO 139961683208000] #progress_metric: host=algo-1, completed 46.666666666666664 % of epochs\u001b[0m\n",
      "\u001b[34m#metrics {\"StartTime\": 1710960219.5276482, \"EndTime\": 1710960222.5417273, \"Dimensions\": {\"Algorithm\": \"Linear Learner\", \"Host\": \"algo-1\", \"Operation\": \"training\", \"epoch\": 6, \"Meta\": \"training_data_iter\"}, \"Metrics\": {\"Total Records Seen\": {\"sum\": 77976.0, \"count\": 1, \"min\": 77976, \"max\": 77976}, \"Total Batches Seen\": {\"sum\": 1225.0, \"count\": 1, \"min\": 1225, \"max\": 1225}, \"Max Records Seen Between Resets\": {\"sum\": 9739.0, \"count\": 1, \"min\": 9739, \"max\": 9739}, \"Max Batches Seen Between Resets\": {\"sum\": 153.0, \"count\": 1, \"min\": 153, \"max\": 153}, \"Reset Count\": {\"sum\": 9.0, \"count\": 1, \"min\": 9, \"max\": 9}, \"Number of Records Since Last Reset\": {\"sum\": 9739.0, \"count\": 1, \"min\": 9739, \"max\": 9739}, \"Number of Batches Since Last Reset\": {\"sum\": 153.0, \"count\": 1, \"min\": 153, \"max\": 153}}}\u001b[0m\n",
      "\u001b[34m[03/20/2024 18:43:42 INFO 139961683208000] #throughput_metric: host=algo-1, train throughput=3230.9817616461296 records/second\u001b[0m\n",
      "\u001b[34m#metrics {\"StartTime\": 1710960225.1206224, \"EndTime\": 1710960225.1206708, \"Dimensions\": {\"Algorithm\": \"Linear Learner\", \"Host\": \"algo-1\", \"Operation\": \"training\", \"epoch\": 7, \"model\": 0}, \"Metrics\": {\"train_mse_objective\": {\"sum\": 0.0784253841266036, \"count\": 1, \"min\": 0.0784253841266036, \"max\": 0.0784253841266036}}}\u001b[0m\n",
      "\u001b[34m#metrics {\"StartTime\": 1710960225.1207376, \"EndTime\": 1710960225.1207497, \"Dimensions\": {\"Algorithm\": \"Linear Learner\", \"Host\": \"algo-1\", \"Operation\": \"training\", \"epoch\": 7, \"model\": 1}, \"Metrics\": {\"train_mse_objective\": {\"sum\": 0.07876522584181082, \"count\": 1, \"min\": 0.07876522584181082, \"max\": 0.07876522584181082}}}\u001b[0m\n",
      "\u001b[34m#metrics {\"StartTime\": 1710960225.1207929, \"EndTime\": 1710960225.1208012, \"Dimensions\": {\"Algorithm\": \"Linear Learner\", \"Host\": \"algo-1\", \"Operation\": \"training\", \"epoch\": 7, \"model\": 2}, \"Metrics\": {\"train_mse_objective\": {\"sum\": 0.07843022168564953, \"count\": 1, \"min\": 0.07843022168564953, \"max\": 0.07843022168564953}}}\u001b[0m\n",
      "\u001b[34m#metrics {\"StartTime\": 1710960225.120864, \"EndTime\": 1710960225.120874, \"Dimensions\": {\"Algorithm\": \"Linear Learner\", \"Host\": \"algo-1\", \"Operation\": \"training\", \"epoch\": 7, \"model\": 3}, \"Metrics\": {\"train_mse_objective\": {\"sum\": 0.0787673226655706, \"count\": 1, \"min\": 0.0787673226655706, \"max\": 0.0787673226655706}}}\u001b[0m\n",
      "\u001b[34m#metrics {\"StartTime\": 1710960225.120931, \"EndTime\": 1710960225.1209412, \"Dimensions\": {\"Algorithm\": \"Linear Learner\", \"Host\": \"algo-1\", \"Operation\": \"training\", \"epoch\": 7, \"model\": 4}, \"Metrics\": {\"train_mse_objective\": {\"sum\": 0.0835426107637192, \"count\": 1, \"min\": 0.0835426107637192, \"max\": 0.0835426107637192}}}\u001b[0m\n",
      "\u001b[34m#metrics {\"StartTime\": 1710960225.1210537, \"EndTime\": 1710960225.121069, \"Dimensions\": {\"Algorithm\": \"Linear Learner\", \"Host\": \"algo-1\", \"Operation\": \"training\", \"epoch\": 7, \"model\": 5}, \"Metrics\": {\"train_mse_objective\": {\"sum\": 0.09354453330467406, \"count\": 1, \"min\": 0.09354453330467406, \"max\": 0.09354453330467406}}}\u001b[0m\n",
      "\u001b[34m#metrics {\"StartTime\": 1710960225.1211693, \"EndTime\": 1710960225.1212065, \"Dimensions\": {\"Algorithm\": \"Linear Learner\", \"Host\": \"algo-1\", \"Operation\": \"training\", \"epoch\": 7, \"model\": 6}, \"Metrics\": {\"train_mse_objective\": {\"sum\": 0.08362614422252304, \"count\": 1, \"min\": 0.08362614422252304, \"max\": 0.08362614422252304}}}\u001b[0m\n",
      "\u001b[34m#metrics {\"StartTime\": 1710960225.1212993, \"EndTime\": 1710960225.1213152, \"Dimensions\": {\"Algorithm\": \"Linear Learner\", \"Host\": \"algo-1\", \"Operation\": \"training\", \"epoch\": 7, \"model\": 7}, \"Metrics\": {\"train_mse_objective\": {\"sum\": 0.09355860210857109, \"count\": 1, \"min\": 0.09355860210857109, \"max\": 0.09355860210857109}}}\u001b[0m\n",
      "\u001b[34m#metrics {\"StartTime\": 1710960225.1214097, \"EndTime\": 1710960225.121423, \"Dimensions\": {\"Algorithm\": \"Linear Learner\", \"Host\": \"algo-1\", \"Operation\": \"training\", \"epoch\": 7, \"model\": 8}, \"Metrics\": {\"train_mse_objective\": {\"sum\": 0.07852979489651166, \"count\": 1, \"min\": 0.07852979489651166, \"max\": 0.07852979489651166}}}\u001b[0m\n",
      "\u001b[34m#metrics {\"StartTime\": 1710960225.1215081, \"EndTime\": 1710960225.1215217, \"Dimensions\": {\"Algorithm\": \"Linear Learner\", \"Host\": \"algo-1\", \"Operation\": \"training\", \"epoch\": 7, \"model\": 9}, \"Metrics\": {\"train_mse_objective\": {\"sum\": 0.07887258076746213, \"count\": 1, \"min\": 0.07887258076746213, \"max\": 0.07887258076746213}}}\u001b[0m\n",
      "\u001b[34m#metrics {\"StartTime\": 1710960225.1216068, \"EndTime\": 1710960225.1216645, \"Dimensions\": {\"Algorithm\": \"Linear Learner\", \"Host\": \"algo-1\", \"Operation\": \"training\", \"epoch\": 7, \"model\": 10}, \"Metrics\": {\"train_mse_objective\": {\"sum\": 0.07853686044874944, \"count\": 1, \"min\": 0.07853686044874944, \"max\": 0.07853686044874944}}}\u001b[0m\n",
      "\u001b[34m#metrics {\"StartTime\": 1710960225.1217093, \"EndTime\": 1710960225.1217651, \"Dimensions\": {\"Algorithm\": \"Linear Learner\", \"Host\": \"algo-1\", \"Operation\": \"training\", \"epoch\": 7, \"model\": 11}, \"Metrics\": {\"train_mse_objective\": {\"sum\": 0.07887575456774548, \"count\": 1, \"min\": 0.07887575456774548, \"max\": 0.07887575456774548}}}\u001b[0m\n",
      "\u001b[34m#metrics {\"StartTime\": 1710960225.1218536, \"EndTime\": 1710960225.1218684, \"Dimensions\": {\"Algorithm\": \"Linear Learner\", \"Host\": \"algo-1\", \"Operation\": \"training\", \"epoch\": 7, \"model\": 12}, \"Metrics\": {\"train_mse_objective\": {\"sum\": 0.08365896689754568, \"count\": 1, \"min\": 0.08365896689754568, \"max\": 0.08365896689754568}}}\u001b[0m\n",
      "\u001b[34m#metrics {\"StartTime\": 1710960225.1219697, \"EndTime\": 1710960225.1220222, \"Dimensions\": {\"Algorithm\": \"Linear Learner\", \"Host\": \"algo-1\", \"Operation\": \"training\", \"epoch\": 7, \"model\": 13}, \"Metrics\": {\"train_mse_objective\": {\"sum\": 0.09355791734139386, \"count\": 1, \"min\": 0.09355791734139386, \"max\": 0.09355791734139386}}}\u001b[0m\n",
      "\u001b[34m#metrics {\"StartTime\": 1710960225.1221113, \"EndTime\": 1710960225.1221268, \"Dimensions\": {\"Algorithm\": \"Linear Learner\", \"Host\": \"algo-1\", \"Operation\": \"training\", \"epoch\": 7, \"model\": 14}, \"Metrics\": {\"train_mse_objective\": {\"sum\": 0.08366013695730974, \"count\": 1, \"min\": 0.08366013695730974, \"max\": 0.08366013695730974}}}\u001b[0m\n",
      "\u001b[34m#metrics {\"StartTime\": 1710960225.1222188, \"EndTime\": 1710960225.122265, \"Dimensions\": {\"Algorithm\": \"Linear Learner\", \"Host\": \"algo-1\", \"Operation\": \"training\", \"epoch\": 7, \"model\": 15}, \"Metrics\": {\"train_mse_objective\": {\"sum\": 0.0935747204348445, \"count\": 1, \"min\": 0.0935747204348445, \"max\": 0.0935747204348445}}}\u001b[0m\n",
      "\u001b[34m#metrics {\"StartTime\": 1710960225.1223555, \"EndTime\": 1710960225.1223698, \"Dimensions\": {\"Algorithm\": \"Linear Learner\", \"Host\": \"algo-1\", \"Operation\": \"training\", \"epoch\": 7, \"model\": 16}, \"Metrics\": {\"train_mse_objective\": {\"sum\": 0.1929298779976211, \"count\": 1, \"min\": 0.1929298779976211, \"max\": 0.1929298779976211}}}\u001b[0m\n",
      "\u001b[34m#metrics {\"StartTime\": 1710960225.12246, \"EndTime\": 1710960225.1224742, \"Dimensions\": {\"Algorithm\": \"Linear Learner\", \"Host\": \"algo-1\", \"Operation\": \"training\", \"epoch\": 7, \"model\": 17}, \"Metrics\": {\"train_mse_objective\": {\"sum\": 0.1937041949284704, \"count\": 1, \"min\": 0.1937041949284704, \"max\": 0.1937041949284704}}}\u001b[0m\n",
      "\u001b[34m#metrics {\"StartTime\": 1710960225.122564, \"EndTime\": 1710960225.1225777, \"Dimensions\": {\"Algorithm\": \"Linear Learner\", \"Host\": \"algo-1\", \"Operation\": \"training\", \"epoch\": 7, \"model\": 18}, \"Metrics\": {\"train_mse_objective\": {\"sum\": 0.19290818171085497, \"count\": 1, \"min\": 0.19290818171085497, \"max\": 0.19290818171085497}}}\u001b[0m\n",
      "\u001b[34m#metrics {\"StartTime\": 1710960225.1226673, \"EndTime\": 1710960225.1226807, \"Dimensions\": {\"Algorithm\": \"Linear Learner\", \"Host\": \"algo-1\", \"Operation\": \"training\", \"epoch\": 7, \"model\": 19}, \"Metrics\": {\"train_mse_objective\": {\"sum\": 0.19370312067238907, \"count\": 1, \"min\": 0.19370312067238907, \"max\": 0.19370312067238907}}}\u001b[0m\n",
      "\u001b[34m#metrics {\"StartTime\": 1710960225.1227674, \"EndTime\": 1710960225.1228006, \"Dimensions\": {\"Algorithm\": \"Linear Learner\", \"Host\": \"algo-1\", \"Operation\": \"training\", \"epoch\": 7, \"model\": 20}, \"Metrics\": {\"train_mse_objective\": {\"sum\": 0.19873430545588858, \"count\": 1, \"min\": 0.19873430545588858, \"max\": 0.19873430545588858}}}\u001b[0m\n",
      "\u001b[34m#metrics {\"StartTime\": 1710960225.1229043, \"EndTime\": 1710960225.1229186, \"Dimensions\": {\"Algorithm\": \"Linear Learner\", \"Host\": \"algo-1\", \"Operation\": \"training\", \"epoch\": 7, \"model\": 21}, \"Metrics\": {\"train_mse_objective\": {\"sum\": 0.20714299924867718, \"count\": 1, \"min\": 0.20714299924867718, \"max\": 0.20714299924867718}}}\u001b[0m\n",
      "\u001b[34m#metrics {\"StartTime\": 1710960225.1229844, \"EndTime\": 1710960225.1229968, \"Dimensions\": {\"Algorithm\": \"Linear Learner\", \"Host\": \"algo-1\", \"Operation\": \"training\", \"epoch\": 7, \"model\": 22}, \"Metrics\": {\"train_mse_objective\": {\"sum\": 0.198724914342165, \"count\": 1, \"min\": 0.198724914342165, \"max\": 0.198724914342165}}}\u001b[0m\n",
      "\u001b[34m#metrics {\"StartTime\": 1710960225.1230867, \"EndTime\": 1710960225.1230993, \"Dimensions\": {\"Algorithm\": \"Linear Learner\", \"Host\": \"algo-1\", \"Operation\": \"training\", \"epoch\": 7, \"model\": 23}, \"Metrics\": {\"train_mse_objective\": {\"sum\": 0.20709973877589954, \"count\": 1, \"min\": 0.20709973877589954, \"max\": 0.20709973877589954}}}\u001b[0m\n",
      "\u001b[34m#metrics {\"StartTime\": 1710960225.1232097, \"EndTime\": 1710960225.1232262, \"Dimensions\": {\"Algorithm\": \"Linear Learner\", \"Host\": \"algo-1\", \"Operation\": \"training\", \"epoch\": 7, \"model\": 24}, \"Metrics\": {\"train_mse_objective\": {\"sum\": 0.9576673950803908, \"count\": 1, \"min\": 0.9576673950803908, \"max\": 0.9576673950803908}}}\u001b[0m\n",
      "\u001b[34m#metrics {\"StartTime\": 1710960225.1232667, \"EndTime\": 1710960225.1232994, \"Dimensions\": {\"Algorithm\": \"Linear Learner\", \"Host\": \"algo-1\", \"Operation\": \"training\", \"epoch\": 7, \"model\": 25}, \"Metrics\": {\"train_mse_objective\": {\"sum\": 0.9584385595823589, \"count\": 1, \"min\": 0.9584385595823589, \"max\": 0.9584385595823589}}}\u001b[0m\n",
      "\u001b[34m#metrics {\"StartTime\": 1710960225.1233912, \"EndTime\": 1710960225.1234064, \"Dimensions\": {\"Algorithm\": \"Linear Learner\", \"Host\": \"algo-1\", \"Operation\": \"training\", \"epoch\": 7, \"model\": 26}, \"Metrics\": {\"train_mse_objective\": {\"sum\": 0.9576489274439058, \"count\": 1, \"min\": 0.9576489274439058, \"max\": 0.9576489274439058}}}\u001b[0m\n",
      "\u001b[34m#metrics {\"StartTime\": 1710960225.1235042, \"EndTime\": 1710960225.1235185, \"Dimensions\": {\"Algorithm\": \"Linear Learner\", \"Host\": \"algo-1\", \"Operation\": \"training\", \"epoch\": 7, \"model\": 27}, \"Metrics\": {\"train_mse_objective\": {\"sum\": 0.9584790856430405, \"count\": 1, \"min\": 0.9584790856430405, \"max\": 0.9584790856430405}}}\u001b[0m\n",
      "\u001b[34m#metrics {\"StartTime\": 1710960225.1236072, \"EndTime\": 1710960225.1236465, \"Dimensions\": {\"Algorithm\": \"Linear Learner\", \"Host\": \"algo-1\", \"Operation\": \"training\", \"epoch\": 7, \"model\": 28}, \"Metrics\": {\"train_mse_objective\": {\"sum\": 0.9677831483514685, \"count\": 1, \"min\": 0.9677831483514685, \"max\": 0.9677831483514685}}}\u001b[0m\n",
      "\u001b[34m#metrics {\"StartTime\": 1710960225.123689, \"EndTime\": 1710960225.1237416, \"Dimensions\": {\"Algorithm\": \"Linear Learner\", \"Host\": \"algo-1\", \"Operation\": \"training\", \"epoch\": 7, \"model\": 29}, \"Metrics\": {\"train_mse_objective\": {\"sum\": 0.9880039825251228, \"count\": 1, \"min\": 0.9880039825251228, \"max\": 0.9880039825251228}}}\u001b[0m\n",
      "\u001b[34m#metrics {\"StartTime\": 1710960225.1238134, \"EndTime\": 1710960225.123827, \"Dimensions\": {\"Algorithm\": \"Linear Learner\", \"Host\": \"algo-1\", \"Operation\": \"training\", \"epoch\": 7, \"model\": 30}, \"Metrics\": {\"train_mse_objective\": {\"sum\": 0.9677633890195897, \"count\": 1, \"min\": 0.9677633890195897, \"max\": 0.9677633890195897}}}\u001b[0m\n",
      "\u001b[34m#metrics {\"StartTime\": 1710960225.1239154, \"EndTime\": 1710960225.1239288, \"Dimensions\": {\"Algorithm\": \"Linear Learner\", \"Host\": \"algo-1\", \"Operation\": \"training\", \"epoch\": 7, \"model\": 31}, \"Metrics\": {\"train_mse_objective\": {\"sum\": 0.9879570195549413, \"count\": 1, \"min\": 0.9879570195549413, \"max\": 0.9879570195549413}}}\u001b[0m\n",
      "\u001b[34m[03/20/2024 18:43:45 INFO 139961683208000] #quality_metric: host=algo-1, epoch=7, train mse_objective <loss>=0.0784253841266036\u001b[0m\n",
      "\u001b[34m#metrics {\"StartTime\": 1710960225.5473912, \"EndTime\": 1710960225.5474412, \"Dimensions\": {\"Algorithm\": \"Linear Learner\", \"Host\": \"algo-1\", \"Operation\": \"training\", \"epoch\": 7, \"model\": 0}, \"Metrics\": {\"validation_mse_objective\": {\"sum\": 0.003199010930412298, \"count\": 1, \"min\": 0.003199010930412298, \"max\": 0.003199010930412298}}}\u001b[0m\n",
      "\u001b[34m#metrics {\"StartTime\": 1710960225.547525, \"EndTime\": 1710960225.5475388, \"Dimensions\": {\"Algorithm\": \"Linear Learner\", \"Host\": \"algo-1\", \"Operation\": \"training\", \"epoch\": 7, \"model\": 1}, \"Metrics\": {\"validation_mse_objective\": {\"sum\": 0.0032262188808904538, \"count\": 1, \"min\": 0.0032262188808904538, \"max\": 0.0032262188808904538}}}\u001b[0m\n",
      "\u001b[34m#metrics {\"StartTime\": 1710960225.5475807, \"EndTime\": 1710960225.5475905, \"Dimensions\": {\"Algorithm\": \"Linear Learner\", \"Host\": \"algo-1\", \"Operation\": \"training\", \"epoch\": 7, \"model\": 2}, \"Metrics\": {\"validation_mse_objective\": {\"sum\": 0.0031982542319678427, \"count\": 1, \"min\": 0.0031982542319678427, \"max\": 0.0031982542319678427}}}\u001b[0m\n",
      "\u001b[34m#metrics {\"StartTime\": 1710960225.5476232, \"EndTime\": 1710960225.5476322, \"Dimensions\": {\"Algorithm\": \"Linear Learner\", \"Host\": \"algo-1\", \"Operation\": \"training\", \"epoch\": 7, \"model\": 3}, \"Metrics\": {\"validation_mse_objective\": {\"sum\": 0.003227341638732648, \"count\": 1, \"min\": 0.003227341638732648, \"max\": 0.003227341638732648}}}\u001b[0m\n",
      "\u001b[34m#metrics {\"StartTime\": 1710960225.5476646, \"EndTime\": 1710960225.5476723, \"Dimensions\": {\"Algorithm\": \"Linear Learner\", \"Host\": \"algo-1\", \"Operation\": \"training\", \"epoch\": 7, \"model\": 4}, \"Metrics\": {\"validation_mse_objective\": {\"sum\": 0.003234763098765907, \"count\": 1, \"min\": 0.003234763098765907, \"max\": 0.003234763098765907}}}\u001b[0m\n",
      "\u001b[34m#metrics {\"StartTime\": 1710960225.5477014, \"EndTime\": 1710960225.547709, \"Dimensions\": {\"Algorithm\": \"Linear Learner\", \"Host\": \"algo-1\", \"Operation\": \"training\", \"epoch\": 7, \"model\": 5}, \"Metrics\": {\"validation_mse_objective\": {\"sum\": 0.0035334247925550176, \"count\": 1, \"min\": 0.0035334247925550176, \"max\": 0.0035334247925550176}}}\u001b[0m\n",
      "\u001b[34m#metrics {\"StartTime\": 1710960225.5477364, \"EndTime\": 1710960225.5477436, \"Dimensions\": {\"Algorithm\": \"Linear Learner\", \"Host\": \"algo-1\", \"Operation\": \"training\", \"epoch\": 7, \"model\": 6}, \"Metrics\": {\"validation_mse_objective\": {\"sum\": 0.00323380722838322, \"count\": 1, \"min\": 0.00323380722838322, \"max\": 0.00323380722838322}}}\u001b[0m\n",
      "\u001b[34m#metrics {\"StartTime\": 1710960225.5478327, \"EndTime\": 1710960225.5478454, \"Dimensions\": {\"Algorithm\": \"Linear Learner\", \"Host\": \"algo-1\", \"Operation\": \"training\", \"epoch\": 7, \"model\": 7}, \"Metrics\": {\"validation_mse_objective\": {\"sum\": 0.0035403027380883573, \"count\": 1, \"min\": 0.0035403027380883573, \"max\": 0.0035403027380883573}}}\u001b[0m\n",
      "\u001b[34m#metrics {\"StartTime\": 1710960225.5478826, \"EndTime\": 1710960225.5478916, \"Dimensions\": {\"Algorithm\": \"Linear Learner\", \"Host\": \"algo-1\", \"Operation\": \"training\", \"epoch\": 7, \"model\": 8}, \"Metrics\": {\"validation_mse_objective\": {\"sum\": 0.0032084071386253624, \"count\": 1, \"min\": 0.0032084071386253624, \"max\": 0.0032084071386253624}}}\u001b[0m\n",
      "\u001b[34m#metrics {\"StartTime\": 1710960225.5479226, \"EndTime\": 1710960225.547934, \"Dimensions\": {\"Algorithm\": \"Linear Learner\", \"Host\": \"algo-1\", \"Operation\": \"training\", \"epoch\": 7, \"model\": 9}, \"Metrics\": {\"validation_mse_objective\": {\"sum\": 0.003232602524003148, \"count\": 1, \"min\": 0.003232602524003148, \"max\": 0.003232602524003148}}}\u001b[0m\n",
      "\u001b[34m#metrics {\"StartTime\": 1710960225.5479982, \"EndTime\": 1710960225.5480099, \"Dimensions\": {\"Algorithm\": \"Linear Learner\", \"Host\": \"algo-1\", \"Operation\": \"training\", \"epoch\": 7, \"model\": 10}, \"Metrics\": {\"validation_mse_objective\": {\"sum\": 0.003206617820594896, \"count\": 1, \"min\": 0.003206617820594896, \"max\": 0.003206617820594896}}}\u001b[0m\n",
      "\u001b[34m#metrics {\"StartTime\": 1710960225.5480452, \"EndTime\": 1710960225.548054, \"Dimensions\": {\"Algorithm\": \"Linear Learner\", \"Host\": \"algo-1\", \"Operation\": \"training\", \"epoch\": 7, \"model\": 11}, \"Metrics\": {\"validation_mse_objective\": {\"sum\": 0.0032318133675326923, \"count\": 1, \"min\": 0.0032318133675326923, \"max\": 0.0032318133675326923}}}\u001b[0m\n",
      "\u001b[34m#metrics {\"StartTime\": 1710960225.5480912, \"EndTime\": 1710960225.5481017, \"Dimensions\": {\"Algorithm\": \"Linear Learner\", \"Host\": \"algo-1\", \"Operation\": \"training\", \"epoch\": 7, \"model\": 12}, \"Metrics\": {\"validation_mse_objective\": {\"sum\": 0.0032424746961877884, \"count\": 1, \"min\": 0.0032424746961877884, \"max\": 0.0032424746961877884}}}\u001b[0m\n",
      "\u001b[34m#metrics {\"StartTime\": 1710960225.5481367, \"EndTime\": 1710960225.5481462, \"Dimensions\": {\"Algorithm\": \"Linear Learner\", \"Host\": \"algo-1\", \"Operation\": \"training\", \"epoch\": 7, \"model\": 13}, \"Metrics\": {\"validation_mse_objective\": {\"sum\": 0.003539670166584378, \"count\": 1, \"min\": 0.003539670166584378, \"max\": 0.003539670166584378}}}\u001b[0m\n",
      "\u001b[34m#metrics {\"StartTime\": 1710960225.548232, \"EndTime\": 1710960225.5482457, \"Dimensions\": {\"Algorithm\": \"Linear Learner\", \"Host\": \"algo-1\", \"Operation\": \"training\", \"epoch\": 7, \"model\": 14}, \"Metrics\": {\"validation_mse_objective\": {\"sum\": 0.0032449506373322537, \"count\": 1, \"min\": 0.0032449506373322537, \"max\": 0.0032449506373322537}}}\u001b[0m\n",
      "\u001b[34m#metrics {\"StartTime\": 1710960225.5482833, \"EndTime\": 1710960225.5482936, \"Dimensions\": {\"Algorithm\": \"Linear Learner\", \"Host\": \"algo-1\", \"Operation\": \"training\", \"epoch\": 7, \"model\": 15}, \"Metrics\": {\"validation_mse_objective\": {\"sum\": 0.00356391843511614, \"count\": 1, \"min\": 0.00356391843511614, \"max\": 0.00356391843511614}}}\u001b[0m\n",
      "\u001b[34m#metrics {\"StartTime\": 1710960225.5483499, \"EndTime\": 1710960225.548362, \"Dimensions\": {\"Algorithm\": \"Linear Learner\", \"Host\": \"algo-1\", \"Operation\": \"training\", \"epoch\": 7, \"model\": 16}, \"Metrics\": {\"validation_mse_objective\": {\"sum\": 0.0074839108109137605, \"count\": 1, \"min\": 0.0074839108109137605, \"max\": 0.0074839108109137605}}}\u001b[0m\n",
      "\u001b[34m#metrics {\"StartTime\": 1710960225.5484004, \"EndTime\": 1710960225.5484102, \"Dimensions\": {\"Algorithm\": \"Linear Learner\", \"Host\": \"algo-1\", \"Operation\": \"training\", \"epoch\": 7, \"model\": 17}, \"Metrics\": {\"validation_mse_objective\": {\"sum\": 0.0072302298241694605, \"count\": 1, \"min\": 0.0072302298241694605, \"max\": 0.0072302298241694605}}}\u001b[0m\n",
      "\u001b[34m#metrics {\"StartTime\": 1710960225.5484455, \"EndTime\": 1710960225.5484757, \"Dimensions\": {\"Algorithm\": \"Linear Learner\", \"Host\": \"algo-1\", \"Operation\": \"training\", \"epoch\": 7, \"model\": 18}, \"Metrics\": {\"validation_mse_objective\": {\"sum\": 0.00752612994429206, \"count\": 1, \"min\": 0.00752612994429206, \"max\": 0.00752612994429206}}}\u001b[0m\n",
      "\u001b[34m#metrics {\"StartTime\": 1710960225.5485163, \"EndTime\": 1710960225.5485277, \"Dimensions\": {\"Algorithm\": \"Linear Learner\", \"Host\": \"algo-1\", \"Operation\": \"training\", \"epoch\": 7, \"model\": 19}, \"Metrics\": {\"validation_mse_objective\": {\"sum\": 0.007238129646855825, \"count\": 1, \"min\": 0.007238129646855825, \"max\": 0.007238129646855825}}}\u001b[0m\n",
      "\u001b[34m#metrics {\"StartTime\": 1710960225.548566, \"EndTime\": 1710960225.5485766, \"Dimensions\": {\"Algorithm\": \"Linear Learner\", \"Host\": \"algo-1\", \"Operation\": \"training\", \"epoch\": 7, \"model\": 20}, \"Metrics\": {\"validation_mse_objective\": {\"sum\": 0.007158112193953085, \"count\": 1, \"min\": 0.007158112193953085, \"max\": 0.007158112193953085}}}\u001b[0m\n",
      "\u001b[34m#metrics {\"StartTime\": 1710960225.548632, \"EndTime\": 1710960225.5486434, \"Dimensions\": {\"Algorithm\": \"Linear Learner\", \"Host\": \"algo-1\", \"Operation\": \"training\", \"epoch\": 7, \"model\": 21}, \"Metrics\": {\"validation_mse_objective\": {\"sum\": 0.006468483712906649, \"count\": 1, \"min\": 0.006468483712906649, \"max\": 0.006468483712906649}}}\u001b[0m\n",
      "\u001b[34m#metrics {\"StartTime\": 1710960225.5486813, \"EndTime\": 1710960225.548691, \"Dimensions\": {\"Algorithm\": \"Linear Learner\", \"Host\": \"algo-1\", \"Operation\": \"training\", \"epoch\": 7, \"model\": 22}, \"Metrics\": {\"validation_mse_objective\": {\"sum\": 0.0071524912575584906, \"count\": 1, \"min\": 0.0071524912575584906, \"max\": 0.0071524912575584906}}}\u001b[0m\n",
      "\u001b[34m#metrics {\"StartTime\": 1710960225.5487266, \"EndTime\": 1710960225.5487578, \"Dimensions\": {\"Algorithm\": \"Linear Learner\", \"Host\": \"algo-1\", \"Operation\": \"training\", \"epoch\": 7, \"model\": 23}, \"Metrics\": {\"validation_mse_objective\": {\"sum\": 0.006484773730499636, \"count\": 1, \"min\": 0.006484773730499636, \"max\": 0.006484773730499636}}}\u001b[0m\n",
      "\u001b[34m#metrics {\"StartTime\": 1710960225.5487983, \"EndTime\": 1710960225.5488079, \"Dimensions\": {\"Algorithm\": \"Linear Learner\", \"Host\": \"algo-1\", \"Operation\": \"training\", \"epoch\": 7, \"model\": 24}, \"Metrics\": {\"validation_mse_objective\": {\"sum\": 0.03673137057978025, \"count\": 1, \"min\": 0.03673137057978025, \"max\": 0.03673137057978025}}}\u001b[0m\n",
      "\u001b[34m#metrics {\"StartTime\": 1710960225.5488422, \"EndTime\": 1710960225.5488532, \"Dimensions\": {\"Algorithm\": \"Linear Learner\", \"Host\": \"algo-1\", \"Operation\": \"training\", \"epoch\": 7, \"model\": 25}, \"Metrics\": {\"validation_mse_objective\": {\"sum\": 0.03704948664568288, \"count\": 1, \"min\": 0.03704948664568288, \"max\": 0.03704948664568288}}}\u001b[0m\n",
      "\u001b[34m#metrics {\"StartTime\": 1710960225.548913, \"EndTime\": 1710960225.5489237, \"Dimensions\": {\"Algorithm\": \"Linear Learner\", \"Host\": \"algo-1\", \"Operation\": \"training\", \"epoch\": 7, \"model\": 26}, \"Metrics\": {\"validation_mse_objective\": {\"sum\": 0.036718676038836065, \"count\": 1, \"min\": 0.036718676038836065, \"max\": 0.036718676038836065}}}\u001b[0m\n",
      "\u001b[34m#metrics {\"StartTime\": 1710960225.54896, \"EndTime\": 1710960225.54897, \"Dimensions\": {\"Algorithm\": \"Linear Learner\", \"Host\": \"algo-1\", \"Operation\": \"training\", \"epoch\": 7, \"model\": 27}, \"Metrics\": {\"validation_mse_objective\": {\"sum\": 0.037154110797988804, \"count\": 1, \"min\": 0.037154110797988804, \"max\": 0.037154110797988804}}}\u001b[0m\n",
      "\u001b[34m#metrics {\"StartTime\": 1710960225.5490274, \"EndTime\": 1710960225.5490394, \"Dimensions\": {\"Algorithm\": \"Linear Learner\", \"Host\": \"algo-1\", \"Operation\": \"training\", \"epoch\": 7, \"model\": 28}, \"Metrics\": {\"validation_mse_objective\": {\"sum\": 0.03735736476628443, \"count\": 1, \"min\": 0.03735736476628443, \"max\": 0.03735736476628443}}}\u001b[0m\n",
      "\u001b[34m#metrics {\"StartTime\": 1710960225.5490777, \"EndTime\": 1710960225.5490875, \"Dimensions\": {\"Algorithm\": \"Linear Learner\", \"Host\": \"algo-1\", \"Operation\": \"training\", \"epoch\": 7, \"model\": 29}, \"Metrics\": {\"validation_mse_objective\": {\"sum\": 0.038930894393144934, \"count\": 1, \"min\": 0.038930894393144934, \"max\": 0.038930894393144934}}}\u001b[0m\n",
      "\u001b[34m#metrics {\"StartTime\": 1710960225.549123, \"EndTime\": 1710960225.5491548, \"Dimensions\": {\"Algorithm\": \"Linear Learner\", \"Host\": \"algo-1\", \"Operation\": \"training\", \"epoch\": 7, \"model\": 30}, \"Metrics\": {\"validation_mse_objective\": {\"sum\": 0.0373409419180921, \"count\": 1, \"min\": 0.0373409419180921, \"max\": 0.0373409419180921}}}\u001b[0m\n",
      "\u001b[34m#metrics {\"StartTime\": 1710960225.549195, \"EndTime\": 1710960225.5492048, \"Dimensions\": {\"Algorithm\": \"Linear Learner\", \"Host\": \"algo-1\", \"Operation\": \"training\", \"epoch\": 7, \"model\": 31}, \"Metrics\": {\"validation_mse_objective\": {\"sum\": 0.03906628180455868, \"count\": 1, \"min\": 0.03906628180455868, \"max\": 0.03906628180455868}}}\u001b[0m\n",
      "\u001b[34m[03/20/2024 18:43:45 INFO 139961683208000] #quality_metric: host=algo-1, epoch=7, validation mse_objective <loss>=0.003199010930412298\u001b[0m\n",
      "\u001b[34m[03/20/2024 18:43:45 INFO 139961683208000] #early_stopping_criteria_metric: host=algo-1, epoch=7, criteria=mse_objective, value=0.0031982542319678427\u001b[0m\n",
      "\u001b[34m[03/20/2024 18:43:45 INFO 139961683208000] Saving model for epoch: 7\u001b[0m\n",
      "\u001b[34m[03/20/2024 18:43:45 INFO 139961683208000] Saved checkpoint to \"/tmp/tmpwigx7wlg/mx-mod-0000.params\"\u001b[0m\n",
      "\u001b[34m[03/20/2024 18:43:45 INFO 139961683208000] #progress_metric: host=algo-1, completed 53.333333333333336 % of epochs\u001b[0m\n",
      "\u001b[34m#metrics {\"StartTime\": 1710960222.5420568, \"EndTime\": 1710960225.5556977, \"Dimensions\": {\"Algorithm\": \"Linear Learner\", \"Host\": \"algo-1\", \"Operation\": \"training\", \"epoch\": 7, \"Meta\": \"training_data_iter\"}, \"Metrics\": {\"Total Records Seen\": {\"sum\": 87715.0, \"count\": 1, \"min\": 87715, \"max\": 87715}, \"Total Batches Seen\": {\"sum\": 1378.0, \"count\": 1, \"min\": 1378, \"max\": 1378}, \"Max Records Seen Between Resets\": {\"sum\": 9739.0, \"count\": 1, \"min\": 9739, \"max\": 9739}, \"Max Batches Seen Between Resets\": {\"sum\": 153.0, \"count\": 1, \"min\": 153, \"max\": 153}, \"Reset Count\": {\"sum\": 10.0, \"count\": 1, \"min\": 10, \"max\": 10}, \"Number of Records Since Last Reset\": {\"sum\": 9739.0, \"count\": 1, \"min\": 9739, \"max\": 9739}, \"Number of Batches Since Last Reset\": {\"sum\": 153.0, \"count\": 1, \"min\": 153, \"max\": 153}}}\u001b[0m\n",
      "\u001b[34m[03/20/2024 18:43:45 INFO 139961683208000] #throughput_metric: host=algo-1, train throughput=3231.458964683572 records/second\u001b[0m\n",
      "\u001b[34m#metrics {\"StartTime\": 1710960228.1460664, \"EndTime\": 1710960228.1461163, \"Dimensions\": {\"Algorithm\": \"Linear Learner\", \"Host\": \"algo-1\", \"Operation\": \"training\", \"epoch\": 8, \"model\": 0}, \"Metrics\": {\"train_mse_objective\": {\"sum\": 0.0783945195327856, \"count\": 1, \"min\": 0.0783945195327856, \"max\": 0.0783945195327856}}}\u001b[0m\n",
      "\u001b[34m#metrics {\"StartTime\": 1710960228.146185, \"EndTime\": 1710960228.1462216, \"Dimensions\": {\"Algorithm\": \"Linear Learner\", \"Host\": \"algo-1\", \"Operation\": \"training\", \"epoch\": 8, \"model\": 1}, \"Metrics\": {\"train_mse_objective\": {\"sum\": 0.07877089298869434, \"count\": 1, \"min\": 0.07877089298869434, \"max\": 0.07877089298869434}}}\u001b[0m\n",
      "\u001b[34m#metrics {\"StartTime\": 1710960228.1463022, \"EndTime\": 1710960228.1463153, \"Dimensions\": {\"Algorithm\": \"Linear Learner\", \"Host\": \"algo-1\", \"Operation\": \"training\", \"epoch\": 8, \"model\": 2}, \"Metrics\": {\"train_mse_objective\": {\"sum\": 0.07839654292911291, \"count\": 1, \"min\": 0.07839654292911291, \"max\": 0.07839654292911291}}}\u001b[0m\n",
      "\u001b[34m#metrics {\"StartTime\": 1710960228.1463497, \"EndTime\": 1710960228.1463583, \"Dimensions\": {\"Algorithm\": \"Linear Learner\", \"Host\": \"algo-1\", \"Operation\": \"training\", \"epoch\": 8, \"model\": 3}, \"Metrics\": {\"train_mse_objective\": {\"sum\": 0.07877572074434475, \"count\": 1, \"min\": 0.07877572074434475, \"max\": 0.07877572074434475}}}\u001b[0m\n",
      "\u001b[34m#metrics {\"StartTime\": 1710960228.1463885, \"EndTime\": 1710960228.146397, \"Dimensions\": {\"Algorithm\": \"Linear Learner\", \"Host\": \"algo-1\", \"Operation\": \"training\", \"epoch\": 8, \"model\": 4}, \"Metrics\": {\"train_mse_objective\": {\"sum\": 0.08280253128491734, \"count\": 1, \"min\": 0.08280253128491734, \"max\": 0.08280253128491734}}}\u001b[0m\n",
      "\u001b[34m#metrics {\"StartTime\": 1710960228.1464505, \"EndTime\": 1710960228.1464627, \"Dimensions\": {\"Algorithm\": \"Linear Learner\", \"Host\": \"algo-1\", \"Operation\": \"training\", \"epoch\": 8, \"model\": 5}, \"Metrics\": {\"train_mse_objective\": {\"sum\": 0.09323444102253568, \"count\": 1, \"min\": 0.09323444102253568, \"max\": 0.09323444102253568}}}\u001b[0m\n",
      "\u001b[34m#metrics {\"StartTime\": 1710960228.146521, \"EndTime\": 1710960228.1465325, \"Dimensions\": {\"Algorithm\": \"Linear Learner\", \"Host\": \"algo-1\", \"Operation\": \"training\", \"epoch\": 8, \"model\": 6}, \"Metrics\": {\"train_mse_objective\": {\"sum\": 0.0828576281078552, \"count\": 1, \"min\": 0.0828576281078552, \"max\": 0.0828576281078552}}}\u001b[0m\n",
      "\u001b[34m#metrics {\"StartTime\": 1710960228.1465702, \"EndTime\": 1710960228.1465797, \"Dimensions\": {\"Algorithm\": \"Linear Learner\", \"Host\": \"algo-1\", \"Operation\": \"training\", \"epoch\": 8, \"model\": 7}, \"Metrics\": {\"train_mse_objective\": {\"sum\": 0.0932381351135279, \"count\": 1, \"min\": 0.0932381351135279, \"max\": 0.0932381351135279}}}\u001b[0m\n",
      "\u001b[34m#metrics {\"StartTime\": 1710960228.1466157, \"EndTime\": 1710960228.146626, \"Dimensions\": {\"Algorithm\": \"Linear Learner\", \"Host\": \"algo-1\", \"Operation\": \"training\", \"epoch\": 8, \"model\": 8}, \"Metrics\": {\"train_mse_objective\": {\"sum\": 0.07849003102532343, \"count\": 1, \"min\": 0.07849003102532343, \"max\": 0.07849003102532343}}}\u001b[0m\n",
      "\u001b[34m#metrics {\"StartTime\": 1710960228.1466832, \"EndTime\": 1710960228.146696, \"Dimensions\": {\"Algorithm\": \"Linear Learner\", \"Host\": \"algo-1\", \"Operation\": \"training\", \"epoch\": 8, \"model\": 9}, \"Metrics\": {\"train_mse_objective\": {\"sum\": 0.07888024481699656, \"count\": 1, \"min\": 0.07888024481699656, \"max\": 0.07888024481699656}}}\u001b[0m\n",
      "\u001b[34m#metrics {\"StartTime\": 1710960228.1467564, \"EndTime\": 1710960228.1467683, \"Dimensions\": {\"Algorithm\": \"Linear Learner\", \"Host\": \"algo-1\", \"Operation\": \"training\", \"epoch\": 8, \"model\": 10}, \"Metrics\": {\"train_mse_objective\": {\"sum\": 0.0784946421259328, \"count\": 1, \"min\": 0.0784946421259328, \"max\": 0.0784946421259328}}}\u001b[0m\n",
      "\u001b[34m#metrics {\"StartTime\": 1710960228.146816, \"EndTime\": 1710960228.1468277, \"Dimensions\": {\"Algorithm\": \"Linear Learner\", \"Host\": \"algo-1\", \"Operation\": \"training\", \"epoch\": 8, \"model\": 11}, \"Metrics\": {\"train_mse_objective\": {\"sum\": 0.07888144080674178, \"count\": 1, \"min\": 0.07888144080674178, \"max\": 0.07888144080674178}}}\u001b[0m\n",
      "\u001b[34m#metrics {\"StartTime\": 1710960228.1469035, \"EndTime\": 1710960228.1469297, \"Dimensions\": {\"Algorithm\": \"Linear Learner\", \"Host\": \"algo-1\", \"Operation\": \"training\", \"epoch\": 8, \"model\": 12}, \"Metrics\": {\"train_mse_objective\": {\"sum\": 0.08290885410908806, \"count\": 1, \"min\": 0.08290885410908806, \"max\": 0.08290885410908806}}}\u001b[0m\n",
      "\u001b[34m#metrics {\"StartTime\": 1710960228.1469743, \"EndTime\": 1710960228.1469862, \"Dimensions\": {\"Algorithm\": \"Linear Learner\", \"Host\": \"algo-1\", \"Operation\": \"training\", \"epoch\": 8, \"model\": 13}, \"Metrics\": {\"train_mse_objective\": {\"sum\": 0.0932244605531818, \"count\": 1, \"min\": 0.0932244605531818, \"max\": 0.0932244605531818}}}\u001b[0m\n",
      "\u001b[34m#metrics {\"StartTime\": 1710960228.1470637, \"EndTime\": 1710960228.147076, \"Dimensions\": {\"Algorithm\": \"Linear Learner\", \"Host\": \"algo-1\", \"Operation\": \"training\", \"epoch\": 8, \"model\": 14}, \"Metrics\": {\"train_mse_objective\": {\"sum\": 0.08292302207433079, \"count\": 1, \"min\": 0.08292302207433079, \"max\": 0.08292302207433079}}}\u001b[0m\n",
      "\u001b[34m#metrics {\"StartTime\": 1710960228.1471434, \"EndTime\": 1710960228.1471555, \"Dimensions\": {\"Algorithm\": \"Linear Learner\", \"Host\": \"algo-1\", \"Operation\": \"training\", \"epoch\": 8, \"model\": 15}, \"Metrics\": {\"train_mse_objective\": {\"sum\": 0.09323174773568385, \"count\": 1, \"min\": 0.09323174773568385, \"max\": 0.09323174773568385}}}\u001b[0m\n",
      "\u001b[34m#metrics {\"StartTime\": 1710960228.1472192, \"EndTime\": 1710960228.1472304, \"Dimensions\": {\"Algorithm\": \"Linear Learner\", \"Host\": \"algo-1\", \"Operation\": \"training\", \"epoch\": 8, \"model\": 16}, \"Metrics\": {\"train_mse_objective\": {\"sum\": 0.19287275841557666, \"count\": 1, \"min\": 0.19287275841557666, \"max\": 0.19287275841557666}}}\u001b[0m\n",
      "\u001b[34m#metrics {\"StartTime\": 1710960228.1472888, \"EndTime\": 1710960228.147301, \"Dimensions\": {\"Algorithm\": \"Linear Learner\", \"Host\": \"algo-1\", \"Operation\": \"training\", \"epoch\": 8, \"model\": 17}, \"Metrics\": {\"train_mse_objective\": {\"sum\": 0.19369769047357535, \"count\": 1, \"min\": 0.19369769047357535, \"max\": 0.19369769047357535}}}\u001b[0m\n",
      "\u001b[34m#metrics {\"StartTime\": 1710960228.147364, \"EndTime\": 1710960228.14739, \"Dimensions\": {\"Algorithm\": \"Linear Learner\", \"Host\": \"algo-1\", \"Operation\": \"training\", \"epoch\": 8, \"model\": 18}, \"Metrics\": {\"train_mse_objective\": {\"sum\": 0.19285636855975577, \"count\": 1, \"min\": 0.19285636855975577, \"max\": 0.19285636855975577}}}\u001b[0m\n",
      "\u001b[34m#metrics {\"StartTime\": 1710960228.1474333, \"EndTime\": 1710960228.147465, \"Dimensions\": {\"Algorithm\": \"Linear Learner\", \"Host\": \"algo-1\", \"Operation\": \"training\", \"epoch\": 8, \"model\": 19}, \"Metrics\": {\"train_mse_objective\": {\"sum\": 0.193697373774883, \"count\": 1, \"min\": 0.193697373774883, \"max\": 0.193697373774883}}}\u001b[0m\n",
      "\u001b[34m#metrics {\"StartTime\": 1710960228.1475084, \"EndTime\": 1710960228.1475194, \"Dimensions\": {\"Algorithm\": \"Linear Learner\", \"Host\": \"algo-1\", \"Operation\": \"training\", \"epoch\": 8, \"model\": 20}, \"Metrics\": {\"train_mse_objective\": {\"sum\": 0.19818157241924814, \"count\": 1, \"min\": 0.19818157241924814, \"max\": 0.19818157241924814}}}\u001b[0m\n",
      "\u001b[34m#metrics {\"StartTime\": 1710960228.14755, \"EndTime\": 1710960228.1475585, \"Dimensions\": {\"Algorithm\": \"Linear Learner\", \"Host\": \"algo-1\", \"Operation\": \"training\", \"epoch\": 8, \"model\": 21}, \"Metrics\": {\"train_mse_objective\": {\"sum\": 0.20699438888971744, \"count\": 1, \"min\": 0.20699438888971744, \"max\": 0.20699438888971744}}}\u001b[0m\n",
      "\u001b[34m#metrics {\"StartTime\": 1710960228.1475894, \"EndTime\": 1710960228.147598, \"Dimensions\": {\"Algorithm\": \"Linear Learner\", \"Host\": \"algo-1\", \"Operation\": \"training\", \"epoch\": 8, \"model\": 22}, \"Metrics\": {\"train_mse_objective\": {\"sum\": 0.1981751460483984, \"count\": 1, \"min\": 0.1981751460483984, \"max\": 0.1981751460483984}}}\u001b[0m\n",
      "\u001b[34m#metrics {\"StartTime\": 1710960228.14763, \"EndTime\": 1710960228.1476371, \"Dimensions\": {\"Algorithm\": \"Linear Learner\", \"Host\": \"algo-1\", \"Operation\": \"training\", \"epoch\": 8, \"model\": 23}, \"Metrics\": {\"train_mse_objective\": {\"sum\": 0.20696431030764392, \"count\": 1, \"min\": 0.20696431030764392, \"max\": 0.20696431030764392}}}\u001b[0m\n",
      "\u001b[34m#metrics {\"StartTime\": 1710960228.1477997, \"EndTime\": 1710960228.1478539, \"Dimensions\": {\"Algorithm\": \"Linear Learner\", \"Host\": \"algo-1\", \"Operation\": \"training\", \"epoch\": 8, \"model\": 24}, \"Metrics\": {\"train_mse_objective\": {\"sum\": 0.9574398488590592, \"count\": 1, \"min\": 0.9574398488590592, \"max\": 0.9574398488590592}}}\u001b[0m\n",
      "\u001b[34m#metrics {\"StartTime\": 1710960228.147902, \"EndTime\": 1710960228.1479354, \"Dimensions\": {\"Algorithm\": \"Linear Learner\", \"Host\": \"algo-1\", \"Operation\": \"training\", \"epoch\": 8, \"model\": 25}, \"Metrics\": {\"train_mse_objective\": {\"sum\": 0.9584434028518828, \"count\": 1, \"min\": 0.9584434028518828, \"max\": 0.9584434028518828}}}\u001b[0m\n",
      "\u001b[34m#metrics {\"StartTime\": 1710960228.1479855, \"EndTime\": 1710960228.1479962, \"Dimensions\": {\"Algorithm\": \"Linear Learner\", \"Host\": \"algo-1\", \"Operation\": \"training\", \"epoch\": 8, \"model\": 26}, \"Metrics\": {\"train_mse_objective\": {\"sum\": 0.9574164367820087, \"count\": 1, \"min\": 0.9574164367820087, \"max\": 0.9574164367820087}}}\u001b[0m\n",
      "\u001b[34m#metrics {\"StartTime\": 1710960228.1480308, \"EndTime\": 1710960228.1480403, \"Dimensions\": {\"Algorithm\": \"Linear Learner\", \"Host\": \"algo-1\", \"Operation\": \"training\", \"epoch\": 8, \"model\": 27}, \"Metrics\": {\"train_mse_objective\": {\"sum\": 0.9584824180132464, \"count\": 1, \"min\": 0.9584824180132464, \"max\": 0.9584824180132464}}}\u001b[0m\n",
      "\u001b[34m#metrics {\"StartTime\": 1710960228.1481304, \"EndTime\": 1710960228.1481435, \"Dimensions\": {\"Algorithm\": \"Linear Learner\", \"Host\": \"algo-1\", \"Operation\": \"training\", \"epoch\": 8, \"model\": 28}, \"Metrics\": {\"train_mse_objective\": {\"sum\": 0.9693699004618745, \"count\": 1, \"min\": 0.9693699004618745, \"max\": 0.9693699004618745}}}\u001b[0m\n",
      "\u001b[34m#metrics {\"StartTime\": 1710960228.148206, \"EndTime\": 1710960228.148219, \"Dimensions\": {\"Algorithm\": \"Linear Learner\", \"Host\": \"algo-1\", \"Operation\": \"training\", \"epoch\": 8, \"model\": 29}, \"Metrics\": {\"train_mse_objective\": {\"sum\": 0.9869781140434114, \"count\": 1, \"min\": 0.9869781140434114, \"max\": 0.9869781140434114}}}\u001b[0m\n",
      "\u001b[34m#metrics {\"StartTime\": 1710960228.1482768, \"EndTime\": 1710960228.1482892, \"Dimensions\": {\"Algorithm\": \"Linear Learner\", \"Host\": \"algo-1\", \"Operation\": \"training\", \"epoch\": 8, \"model\": 30}, \"Metrics\": {\"train_mse_objective\": {\"sum\": 0.9693972088004413, \"count\": 1, \"min\": 0.9693972088004413, \"max\": 0.9693972088004413}}}\u001b[0m\n",
      "\u001b[34m#metrics {\"StartTime\": 1710960228.148351, \"EndTime\": 1710960228.148362, \"Dimensions\": {\"Algorithm\": \"Linear Learner\", \"Host\": \"algo-1\", \"Operation\": \"training\", \"epoch\": 8, \"model\": 31}, \"Metrics\": {\"train_mse_objective\": {\"sum\": 0.9869167977257779, \"count\": 1, \"min\": 0.9869167977257779, \"max\": 0.9869167977257779}}}\u001b[0m\n",
      "\u001b[34m[03/20/2024 18:43:48 INFO 139961683208000] #quality_metric: host=algo-1, epoch=8, train mse_objective <loss>=0.0783945195327856\u001b[0m\n",
      "\u001b[34m#metrics {\"StartTime\": 1710960228.5332322, \"EndTime\": 1710960228.533283, \"Dimensions\": {\"Algorithm\": \"Linear Learner\", \"Host\": \"algo-1\", \"Operation\": \"training\", \"epoch\": 8, \"model\": 0}, \"Metrics\": {\"validation_mse_objective\": {\"sum\": 0.003198445811905961, \"count\": 1, \"min\": 0.003198445811905961, \"max\": 0.003198445811905961}}}\u001b[0m\n",
      "\u001b[34m#metrics {\"StartTime\": 1710960228.5333564, \"EndTime\": 1710960228.53337, \"Dimensions\": {\"Algorithm\": \"Linear Learner\", \"Host\": \"algo-1\", \"Operation\": \"training\", \"epoch\": 8, \"model\": 1}, \"Metrics\": {\"validation_mse_objective\": {\"sum\": 0.003226498619211528, \"count\": 1, \"min\": 0.003226498619211528, \"max\": 0.003226498619211528}}}\u001b[0m\n",
      "\u001b[34m#metrics {\"StartTime\": 1710960228.5334127, \"EndTime\": 1710960228.5334218, \"Dimensions\": {\"Algorithm\": \"Linear Learner\", \"Host\": \"algo-1\", \"Operation\": \"training\", \"epoch\": 8, \"model\": 2}, \"Metrics\": {\"validation_mse_objective\": {\"sum\": 0.003197918822453405, \"count\": 1, \"min\": 0.003197918822453405, \"max\": 0.003197918822453405}}}\u001b[0m\n",
      "\u001b[34m#metrics {\"StartTime\": 1710960228.533486, \"EndTime\": 1710960228.5334964, \"Dimensions\": {\"Algorithm\": \"Linear Learner\", \"Host\": \"algo-1\", \"Operation\": \"training\", \"epoch\": 8, \"model\": 3}, \"Metrics\": {\"validation_mse_objective\": {\"sum\": 0.0032270879888222446, \"count\": 1, \"min\": 0.0032270879888222446, \"max\": 0.0032270879888222446}}}\u001b[0m\n",
      "\u001b[34m#metrics {\"StartTime\": 1710960228.5335538, \"EndTime\": 1710960228.533564, \"Dimensions\": {\"Algorithm\": \"Linear Learner\", \"Host\": \"algo-1\", \"Operation\": \"training\", \"epoch\": 8, \"model\": 4}, \"Metrics\": {\"validation_mse_objective\": {\"sum\": 0.0032960014179677873, \"count\": 1, \"min\": 0.0032960014179677873, \"max\": 0.0032960014179677873}}}\u001b[0m\n",
      "\u001b[34m#metrics {\"StartTime\": 1710960228.5336225, \"EndTime\": 1710960228.5336351, \"Dimensions\": {\"Algorithm\": \"Linear Learner\", \"Host\": \"algo-1\", \"Operation\": \"training\", \"epoch\": 8, \"model\": 5}, \"Metrics\": {\"validation_mse_objective\": {\"sum\": 0.0035307341744813463, \"count\": 1, \"min\": 0.0035307341744813463, \"max\": 0.0035307341744813463}}}\u001b[0m\n",
      "\u001b[34m#metrics {\"StartTime\": 1710960228.5336888, \"EndTime\": 1710960228.5337024, \"Dimensions\": {\"Algorithm\": \"Linear Learner\", \"Host\": \"algo-1\", \"Operation\": \"training\", \"epoch\": 8, \"model\": 6}, \"Metrics\": {\"validation_mse_objective\": {\"sum\": 0.0032979478438535906, \"count\": 1, \"min\": 0.0032979478438535906, \"max\": 0.0032979478438535906}}}\u001b[0m\n",
      "\u001b[34m#metrics {\"StartTime\": 1710960228.5337658, \"EndTime\": 1710960228.533779, \"Dimensions\": {\"Algorithm\": \"Linear Learner\", \"Host\": \"algo-1\", \"Operation\": \"training\", \"epoch\": 8, \"model\": 7}, \"Metrics\": {\"validation_mse_objective\": {\"sum\": 0.0035347847447747814, \"count\": 1, \"min\": 0.0035347847447747814, \"max\": 0.0035347847447747814}}}\u001b[0m\n",
      "\u001b[34m#metrics {\"StartTime\": 1710960228.5338547, \"EndTime\": 1710960228.5338678, \"Dimensions\": {\"Algorithm\": \"Linear Learner\", \"Host\": \"algo-1\", \"Operation\": \"training\", \"epoch\": 8, \"model\": 8}, \"Metrics\": {\"validation_mse_objective\": {\"sum\": 0.003207387165424607, \"count\": 1, \"min\": 0.003207387165424607, \"max\": 0.003207387165424607}}}\u001b[0m\n",
      "\u001b[34m#metrics {\"StartTime\": 1710960228.5339308, \"EndTime\": 1710960228.5339441, \"Dimensions\": {\"Algorithm\": \"Linear Learner\", \"Host\": \"algo-1\", \"Operation\": \"training\", \"epoch\": 8, \"model\": 9}, \"Metrics\": {\"validation_mse_objective\": {\"sum\": 0.003232736296729936, \"count\": 1, \"min\": 0.003232736296729936, \"max\": 0.003232736296729936}}}\u001b[0m\n",
      "\u001b[34m#metrics {\"StartTime\": 1710960228.5339992, \"EndTime\": 1710960228.5340118, \"Dimensions\": {\"Algorithm\": \"Linear Learner\", \"Host\": \"algo-1\", \"Operation\": \"training\", \"epoch\": 8, \"model\": 10}, \"Metrics\": {\"validation_mse_objective\": {\"sum\": 0.003206035706407756, \"count\": 1, \"min\": 0.003206035706407756, \"max\": 0.003206035706407756}}}\u001b[0m\n",
      "\u001b[34m#metrics {\"StartTime\": 1710960228.534078, \"EndTime\": 1710960228.53409, \"Dimensions\": {\"Algorithm\": \"Linear Learner\", \"Host\": \"algo-1\", \"Operation\": \"training\", \"epoch\": 8, \"model\": 11}, \"Metrics\": {\"validation_mse_objective\": {\"sum\": 0.00323221166293066, \"count\": 1, \"min\": 0.00323221166293066, \"max\": 0.00323221166293066}}}\u001b[0m\n",
      "\u001b[34m#metrics {\"StartTime\": 1710960228.5341666, \"EndTime\": 1710960228.5341792, \"Dimensions\": {\"Algorithm\": \"Linear Learner\", \"Host\": \"algo-1\", \"Operation\": \"training\", \"epoch\": 8, \"model\": 12}, \"Metrics\": {\"validation_mse_objective\": {\"sum\": 0.003308742091889652, \"count\": 1, \"min\": 0.003308742091889652, \"max\": 0.003308742091889652}}}\u001b[0m\n",
      "\u001b[34m#metrics {\"StartTime\": 1710960228.5342515, \"EndTime\": 1710960228.5342772, \"Dimensions\": {\"Algorithm\": \"Linear Learner\", \"Host\": \"algo-1\", \"Operation\": \"training\", \"epoch\": 8, \"model\": 13}, \"Metrics\": {\"validation_mse_objective\": {\"sum\": 0.003533325696008345, \"count\": 1, \"min\": 0.003533325696008345, \"max\": 0.003533325696008345}}}\u001b[0m\n",
      "\u001b[34m#metrics {\"StartTime\": 1710960228.53432, \"EndTime\": 1710960228.5343518, \"Dimensions\": {\"Algorithm\": \"Linear Learner\", \"Host\": \"algo-1\", \"Operation\": \"training\", \"epoch\": 8, \"model\": 14}, \"Metrics\": {\"validation_mse_objective\": {\"sum\": 0.0033050698120609782, \"count\": 1, \"min\": 0.0033050698120609782, \"max\": 0.0033050698120609782}}}\u001b[0m\n",
      "\u001b[34m#metrics {\"StartTime\": 1710960228.5344105, \"EndTime\": 1710960228.5344234, \"Dimensions\": {\"Algorithm\": \"Linear Learner\", \"Host\": \"algo-1\", \"Operation\": \"training\", \"epoch\": 8, \"model\": 15}, \"Metrics\": {\"validation_mse_objective\": {\"sum\": 0.003551646137277326, \"count\": 1, \"min\": 0.003551646137277326, \"max\": 0.003551646137277326}}}\u001b[0m\n",
      "\u001b[34m#metrics {\"StartTime\": 1710960228.5344887, \"EndTime\": 1710960228.5345018, \"Dimensions\": {\"Algorithm\": \"Linear Learner\", \"Host\": \"algo-1\", \"Operation\": \"training\", \"epoch\": 8, \"model\": 16}, \"Metrics\": {\"validation_mse_objective\": {\"sum\": 0.0075047975538003985, \"count\": 1, \"min\": 0.0075047975538003985, \"max\": 0.0075047975538003985}}}\u001b[0m\n",
      "\u001b[34m#metrics {\"StartTime\": 1710960228.5345693, \"EndTime\": 1710960228.5345826, \"Dimensions\": {\"Algorithm\": \"Linear Learner\", \"Host\": \"algo-1\", \"Operation\": \"training\", \"epoch\": 8, \"model\": 17}, \"Metrics\": {\"validation_mse_objective\": {\"sum\": 0.007223152893440496, \"count\": 1, \"min\": 0.007223152893440496, \"max\": 0.007223152893440496}}}\u001b[0m\n",
      "\u001b[34m#metrics {\"StartTime\": 1710960228.5346363, \"EndTime\": 1710960228.5346477, \"Dimensions\": {\"Algorithm\": \"Linear Learner\", \"Host\": \"algo-1\", \"Operation\": \"training\", \"epoch\": 8, \"model\": 18}, \"Metrics\": {\"validation_mse_objective\": {\"sum\": 0.007539529370973977, \"count\": 1, \"min\": 0.007539529370973977, \"max\": 0.007539529370973977}}}\u001b[0m\n",
      "\u001b[34m#metrics {\"StartTime\": 1710960228.5346816, \"EndTime\": 1710960228.5346906, \"Dimensions\": {\"Algorithm\": \"Linear Learner\", \"Host\": \"algo-1\", \"Operation\": \"training\", \"epoch\": 8, \"model\": 19}, \"Metrics\": {\"validation_mse_objective\": {\"sum\": 0.007231459870276632, \"count\": 1, \"min\": 0.007231459870276632, \"max\": 0.007231459870276632}}}\u001b[0m\n",
      "\u001b[34m#metrics {\"StartTime\": 1710960228.5347204, \"EndTime\": 1710960228.5347292, \"Dimensions\": {\"Algorithm\": \"Linear Learner\", \"Host\": \"algo-1\", \"Operation\": \"training\", \"epoch\": 8, \"model\": 20}, \"Metrics\": {\"validation_mse_objective\": {\"sum\": 0.0068899820661994585, \"count\": 1, \"min\": 0.0068899820661994585, \"max\": 0.0068899820661994585}}}\u001b[0m\n",
      "\u001b[34m#metrics {\"StartTime\": 1710960228.5347583, \"EndTime\": 1710960228.5347655, \"Dimensions\": {\"Algorithm\": \"Linear Learner\", \"Host\": \"algo-1\", \"Operation\": \"training\", \"epoch\": 8, \"model\": 21}, \"Metrics\": {\"validation_mse_objective\": {\"sum\": 0.006498928388649525, \"count\": 1, \"min\": 0.006498928388649525, \"max\": 0.006498928388649525}}}\u001b[0m\n",
      "\u001b[34m#metrics {\"StartTime\": 1710960228.5347953, \"EndTime\": 1710960228.5348032, \"Dimensions\": {\"Algorithm\": \"Linear Learner\", \"Host\": \"algo-1\", \"Operation\": \"training\", \"epoch\": 8, \"model\": 22}, \"Metrics\": {\"validation_mse_objective\": {\"sum\": 0.00688555770796519, \"count\": 1, \"min\": 0.00688555770796519, \"max\": 0.00688555770796519}}}\u001b[0m\n",
      "\u001b[34m#metrics {\"StartTime\": 1710960228.5348613, \"EndTime\": 1710960228.5348868, \"Dimensions\": {\"Algorithm\": \"Linear Learner\", \"Host\": \"algo-1\", \"Operation\": \"training\", \"epoch\": 8, \"model\": 23}, \"Metrics\": {\"validation_mse_objective\": {\"sum\": 0.006510199806069691, \"count\": 1, \"min\": 0.006510199806069691, \"max\": 0.006510199806069691}}}\u001b[0m\n",
      "\u001b[34m#metrics {\"StartTime\": 1710960228.5349255, \"EndTime\": 1710960228.5349352, \"Dimensions\": {\"Algorithm\": \"Linear Learner\", \"Host\": \"algo-1\", \"Operation\": \"training\", \"epoch\": 8, \"model\": 24}, \"Metrics\": {\"validation_mse_objective\": {\"sum\": 0.036743013680103624, \"count\": 1, \"min\": 0.036743013680103624, \"max\": 0.036743013680103624}}}\u001b[0m\n",
      "\u001b[34m#metrics {\"StartTime\": 1710960228.5349967, \"EndTime\": 1710960228.5350065, \"Dimensions\": {\"Algorithm\": \"Linear Learner\", \"Host\": \"algo-1\", \"Operation\": \"training\", \"epoch\": 8, \"model\": 25}, \"Metrics\": {\"validation_mse_objective\": {\"sum\": 0.03705050453268282, \"count\": 1, \"min\": 0.03705050453268282, \"max\": 0.03705050453268282}}}\u001b[0m\n",
      "\u001b[34m#metrics {\"StartTime\": 1710960228.5350702, \"EndTime\": 1710960228.5350816, \"Dimensions\": {\"Algorithm\": \"Linear Learner\", \"Host\": \"algo-1\", \"Operation\": \"training\", \"epoch\": 8, \"model\": 26}, \"Metrics\": {\"validation_mse_objective\": {\"sum\": 0.03674577064582699, \"count\": 1, \"min\": 0.03674577064582699, \"max\": 0.03674577064582699}}}\u001b[0m\n",
      "\u001b[34m#metrics {\"StartTime\": 1710960228.5351424, \"EndTime\": 1710960228.5351565, \"Dimensions\": {\"Algorithm\": \"Linear Learner\", \"Host\": \"algo-1\", \"Operation\": \"training\", \"epoch\": 8, \"model\": 27}, \"Metrics\": {\"validation_mse_objective\": {\"sum\": 0.037162557186164895, \"count\": 1, \"min\": 0.037162557186164895, \"max\": 0.037162557186164895}}}\u001b[0m\n",
      "\u001b[34m#metrics {\"StartTime\": 1710960228.5352192, \"EndTime\": 1710960228.5352318, \"Dimensions\": {\"Algorithm\": \"Linear Learner\", \"Host\": \"algo-1\", \"Operation\": \"training\", \"epoch\": 8, \"model\": 28}, \"Metrics\": {\"validation_mse_objective\": {\"sum\": 0.03690900682974645, \"count\": 1, \"min\": 0.03690900682974645, \"max\": 0.03690900682974645}}}\u001b[0m\n",
      "\u001b[34m#metrics {\"StartTime\": 1710960228.5352879, \"EndTime\": 1710960228.5353012, \"Dimensions\": {\"Algorithm\": \"Linear Learner\", \"Host\": \"algo-1\", \"Operation\": \"training\", \"epoch\": 8, \"model\": 29}, \"Metrics\": {\"validation_mse_objective\": {\"sum\": 0.038952667160567805, \"count\": 1, \"min\": 0.038952667160567805, \"max\": 0.038952667160567805}}}\u001b[0m\n",
      "\u001b[34m#metrics {\"StartTime\": 1710960228.5353768, \"EndTime\": 1710960228.5353904, \"Dimensions\": {\"Algorithm\": \"Linear Learner\", \"Host\": \"algo-1\", \"Operation\": \"training\", \"epoch\": 8, \"model\": 30}, \"Metrics\": {\"validation_mse_objective\": {\"sum\": 0.03689431009290155, \"count\": 1, \"min\": 0.03689431009290155, \"max\": 0.03689431009290155}}}\u001b[0m\n",
      "\u001b[34m#metrics {\"StartTime\": 1710960228.535456, \"EndTime\": 1710960228.53547, \"Dimensions\": {\"Algorithm\": \"Linear Learner\", \"Host\": \"algo-1\", \"Operation\": \"training\", \"epoch\": 8, \"model\": 31}, \"Metrics\": {\"validation_mse_objective\": {\"sum\": 0.039044980189210335, \"count\": 1, \"min\": 0.039044980189210335, \"max\": 0.039044980189210335}}}\u001b[0m\n",
      "\u001b[34m[03/20/2024 18:43:48 INFO 139961683208000] #quality_metric: host=algo-1, epoch=8, validation mse_objective <loss>=0.003198445811905961\u001b[0m\n",
      "\u001b[34m[03/20/2024 18:43:48 INFO 139961683208000] #early_stopping_criteria_metric: host=algo-1, epoch=8, criteria=mse_objective, value=0.003197918822453405\u001b[0m\n",
      "\u001b[34m[03/20/2024 18:43:48 INFO 139961683208000] Saving model for epoch: 8\u001b[0m\n",
      "\u001b[34m[03/20/2024 18:43:48 INFO 139961683208000] Saved checkpoint to \"/tmp/tmpvyf7lt0h/mx-mod-0000.params\"\u001b[0m\n",
      "\u001b[34m[03/20/2024 18:43:48 INFO 139961683208000] #progress_metric: host=algo-1, completed 60.0 % of epochs\u001b[0m\n",
      "\u001b[34m#metrics {\"StartTime\": 1710960225.5560243, \"EndTime\": 1710960228.5412705, \"Dimensions\": {\"Algorithm\": \"Linear Learner\", \"Host\": \"algo-1\", \"Operation\": \"training\", \"epoch\": 8, \"Meta\": \"training_data_iter\"}, \"Metrics\": {\"Total Records Seen\": {\"sum\": 97454.0, \"count\": 1, \"min\": 97454, \"max\": 97454}, \"Total Batches Seen\": {\"sum\": 1531.0, \"count\": 1, \"min\": 1531, \"max\": 1531}, \"Max Records Seen Between Resets\": {\"sum\": 9739.0, \"count\": 1, \"min\": 9739, \"max\": 9739}, \"Max Batches Seen Between Resets\": {\"sum\": 153.0, \"count\": 1, \"min\": 153, \"max\": 153}, \"Reset Count\": {\"sum\": 11.0, \"count\": 1, \"min\": 11, \"max\": 11}, \"Number of Records Since Last Reset\": {\"sum\": 9739.0, \"count\": 1, \"min\": 9739, \"max\": 9739}, \"Number of Batches Since Last Reset\": {\"sum\": 153.0, \"count\": 1, \"min\": 153, \"max\": 153}}}\u001b[0m\n",
      "\u001b[34m[03/20/2024 18:43:48 INFO 139961683208000] #throughput_metric: host=algo-1, train throughput=3262.233429750855 records/second\u001b[0m\n",
      "\u001b[34m#metrics {\"StartTime\": 1710960231.1661897, \"EndTime\": 1710960231.1662514, \"Dimensions\": {\"Algorithm\": \"Linear Learner\", \"Host\": \"algo-1\", \"Operation\": \"training\", \"epoch\": 9, \"model\": 0}, \"Metrics\": {\"train_mse_objective\": {\"sum\": 0.07836079369544198, \"count\": 1, \"min\": 0.07836079369544198, \"max\": 0.07836079369544198}}}\u001b[0m\n",
      "\u001b[34m#metrics {\"StartTime\": 1710960231.1663194, \"EndTime\": 1710960231.166331, \"Dimensions\": {\"Algorithm\": \"Linear Learner\", \"Host\": \"algo-1\", \"Operation\": \"training\", \"epoch\": 9, \"model\": 1}, \"Metrics\": {\"train_mse_objective\": {\"sum\": 0.07877782501868512, \"count\": 1, \"min\": 0.07877782501868512, \"max\": 0.07877782501868512}}}\u001b[0m\n",
      "\u001b[34m#metrics {\"StartTime\": 1710960231.1663716, \"EndTime\": 1710960231.1663804, \"Dimensions\": {\"Algorithm\": \"Linear Learner\", \"Host\": \"algo-1\", \"Operation\": \"training\", \"epoch\": 9, \"model\": 2}, \"Metrics\": {\"train_mse_objective\": {\"sum\": 0.07836179013707135, \"count\": 1, \"min\": 0.07836179013707135, \"max\": 0.07836179013707135}}}\u001b[0m\n",
      "\u001b[34m#metrics {\"StartTime\": 1710960231.1664126, \"EndTime\": 1710960231.1664202, \"Dimensions\": {\"Algorithm\": \"Linear Learner\", \"Host\": \"algo-1\", \"Operation\": \"training\", \"epoch\": 9, \"model\": 3}, \"Metrics\": {\"train_mse_objective\": {\"sum\": 0.0787838889334939, \"count\": 1, \"min\": 0.0787838889334939, \"max\": 0.0787838889334939}}}\u001b[0m\n",
      "\u001b[34m#metrics {\"StartTime\": 1710960231.1664526, \"EndTime\": 1710960231.1664605, \"Dimensions\": {\"Algorithm\": \"Linear Learner\", \"Host\": \"algo-1\", \"Operation\": \"training\", \"epoch\": 9, \"model\": 4}, \"Metrics\": {\"train_mse_objective\": {\"sum\": 0.08201264146421301, \"count\": 1, \"min\": 0.08201264146421301, \"max\": 0.08201264146421301}}}\u001b[0m\n",
      "\u001b[34m#metrics {\"StartTime\": 1710960231.1664872, \"EndTime\": 1710960231.166495, \"Dimensions\": {\"Algorithm\": \"Linear Learner\", \"Host\": \"algo-1\", \"Operation\": \"training\", \"epoch\": 9, \"model\": 5}, \"Metrics\": {\"train_mse_objective\": {\"sum\": 0.093089361993694, \"count\": 1, \"min\": 0.093089361993694, \"max\": 0.093089361993694}}}\u001b[0m\n",
      "\u001b[34m#metrics {\"StartTime\": 1710960231.1665232, \"EndTime\": 1710960231.1665306, \"Dimensions\": {\"Algorithm\": \"Linear Learner\", \"Host\": \"algo-1\", \"Operation\": \"training\", \"epoch\": 9, \"model\": 6}, \"Metrics\": {\"train_mse_objective\": {\"sum\": 0.08204768943649374, \"count\": 1, \"min\": 0.08204768943649374, \"max\": 0.08204768943649374}}}\u001b[0m\n",
      "\u001b[34m#metrics {\"StartTime\": 1710960231.1665611, \"EndTime\": 1710960231.1665695, \"Dimensions\": {\"Algorithm\": \"Linear Learner\", \"Host\": \"algo-1\", \"Operation\": \"training\", \"epoch\": 9, \"model\": 7}, \"Metrics\": {\"train_mse_objective\": {\"sum\": 0.09308840880954736, \"count\": 1, \"min\": 0.09308840880954736, \"max\": 0.09308840880954736}}}\u001b[0m\n",
      "\u001b[34m#metrics {\"StartTime\": 1710960231.1666038, \"EndTime\": 1710960231.1666121, \"Dimensions\": {\"Algorithm\": \"Linear Learner\", \"Host\": \"algo-1\", \"Operation\": \"training\", \"epoch\": 9, \"model\": 8}, \"Metrics\": {\"train_mse_objective\": {\"sum\": 0.07845404160846221, \"count\": 1, \"min\": 0.07845404160846221, \"max\": 0.07845404160846221}}}\u001b[0m\n",
      "\u001b[34m#metrics {\"StartTime\": 1710960231.1666436, \"EndTime\": 1710960231.166655, \"Dimensions\": {\"Algorithm\": \"Linear Learner\", \"Host\": \"algo-1\", \"Operation\": \"training\", \"epoch\": 9, \"model\": 9}, \"Metrics\": {\"train_mse_objective\": {\"sum\": 0.07888794261472006, \"count\": 1, \"min\": 0.07888794261472006, \"max\": 0.07888794261472006}}}\u001b[0m\n",
      "\u001b[34m#metrics {\"StartTime\": 1710960231.1666882, \"EndTime\": 1710960231.1666982, \"Dimensions\": {\"Algorithm\": \"Linear Learner\", \"Host\": \"algo-1\", \"Operation\": \"training\", \"epoch\": 9, \"model\": 10}, \"Metrics\": {\"train_mse_objective\": {\"sum\": 0.07845729060078922, \"count\": 1, \"min\": 0.07845729060078922, \"max\": 0.07845729060078922}}}\u001b[0m\n",
      "\u001b[34m#metrics {\"StartTime\": 1710960231.1667314, \"EndTime\": 1710960231.166741, \"Dimensions\": {\"Algorithm\": \"Linear Learner\", \"Host\": \"algo-1\", \"Operation\": \"training\", \"epoch\": 9, \"model\": 11}, \"Metrics\": {\"train_mse_objective\": {\"sum\": 0.07888880786240886, \"count\": 1, \"min\": 0.07888880786240886, \"max\": 0.07888880786240886}}}\u001b[0m\n",
      "\u001b[34m#metrics {\"StartTime\": 1710960231.166774, \"EndTime\": 1710960231.166782, \"Dimensions\": {\"Algorithm\": \"Linear Learner\", \"Host\": \"algo-1\", \"Operation\": \"training\", \"epoch\": 9, \"model\": 12}, \"Metrics\": {\"train_mse_objective\": {\"sum\": 0.0821213737424267, \"count\": 1, \"min\": 0.0821213737424267, \"max\": 0.0821213737424267}}}\u001b[0m\n",
      "\u001b[34m#metrics {\"StartTime\": 1710960231.1668098, \"EndTime\": 1710960231.1668174, \"Dimensions\": {\"Algorithm\": \"Linear Learner\", \"Host\": \"algo-1\", \"Operation\": \"training\", \"epoch\": 9, \"model\": 13}, \"Metrics\": {\"train_mse_objective\": {\"sum\": 0.09307501028831068, \"count\": 1, \"min\": 0.09307501028831068, \"max\": 0.09307501028831068}}}\u001b[0m\n",
      "\u001b[34m#metrics {\"StartTime\": 1710960231.166877, \"EndTime\": 1710960231.1668856, \"Dimensions\": {\"Algorithm\": \"Linear Learner\", \"Host\": \"algo-1\", \"Operation\": \"training\", \"epoch\": 9, \"model\": 14}, \"Metrics\": {\"train_mse_objective\": {\"sum\": 0.08212918062743388, \"count\": 1, \"min\": 0.08212918062743388, \"max\": 0.08212918062743388}}}\u001b[0m\n",
      "\u001b[34m#metrics {\"StartTime\": 1710960231.1669886, \"EndTime\": 1710960231.1670022, \"Dimensions\": {\"Algorithm\": \"Linear Learner\", \"Host\": \"algo-1\", \"Operation\": \"training\", \"epoch\": 9, \"model\": 15}, \"Metrics\": {\"train_mse_objective\": {\"sum\": 0.09307566182197709, \"count\": 1, \"min\": 0.09307566182197709, \"max\": 0.09307566182197709}}}\u001b[0m\n",
      "\u001b[34m#metrics {\"StartTime\": 1710960231.1670403, \"EndTime\": 1710960231.16705, \"Dimensions\": {\"Algorithm\": \"Linear Learner\", \"Host\": \"algo-1\", \"Operation\": \"training\", \"epoch\": 9, \"model\": 16}, \"Metrics\": {\"train_mse_objective\": {\"sum\": 0.1928205909697633, \"count\": 1, \"min\": 0.1928205909697633, \"max\": 0.1928205909697633}}}\u001b[0m\n",
      "\u001b[34m#metrics {\"StartTime\": 1710960231.167084, \"EndTime\": 1710960231.1670926, \"Dimensions\": {\"Algorithm\": \"Linear Learner\", \"Host\": \"algo-1\", \"Operation\": \"training\", \"epoch\": 9, \"model\": 17}, \"Metrics\": {\"train_mse_objective\": {\"sum\": 0.19368983153253794, \"count\": 1, \"min\": 0.19368983153253794, \"max\": 0.19368983153253794}}}\u001b[0m\n",
      "\u001b[34m#metrics {\"StartTime\": 1710960231.1671305, \"EndTime\": 1710960231.1671386, \"Dimensions\": {\"Algorithm\": \"Linear Learner\", \"Host\": \"algo-1\", \"Operation\": \"training\", \"epoch\": 9, \"model\": 18}, \"Metrics\": {\"train_mse_objective\": {\"sum\": 0.19280944504824124, \"count\": 1, \"min\": 0.19280944504824124, \"max\": 0.19280944504824124}}}\u001b[0m\n",
      "\u001b[34m#metrics {\"StartTime\": 1710960231.167171, \"EndTime\": 1710960231.1671798, \"Dimensions\": {\"Algorithm\": \"Linear Learner\", \"Host\": \"algo-1\", \"Operation\": \"training\", \"epoch\": 9, \"model\": 19}, \"Metrics\": {\"train_mse_objective\": {\"sum\": 0.19368934739185006, \"count\": 1, \"min\": 0.19368934739185006, \"max\": 0.19368934739185006}}}\u001b[0m\n",
      "\u001b[34m#metrics {\"StartTime\": 1710960231.16727, \"EndTime\": 1710960231.1672823, \"Dimensions\": {\"Algorithm\": \"Linear Learner\", \"Host\": \"algo-1\", \"Operation\": \"training\", \"epoch\": 9, \"model\": 20}, \"Metrics\": {\"train_mse_objective\": {\"sum\": 0.19748944117638625, \"count\": 1, \"min\": 0.19748944117638625, \"max\": 0.19748944117638625}}}\u001b[0m\n",
      "\u001b[34m#metrics {\"StartTime\": 1710960231.1673427, \"EndTime\": 1710960231.1673546, \"Dimensions\": {\"Algorithm\": \"Linear Learner\", \"Host\": \"algo-1\", \"Operation\": \"training\", \"epoch\": 9, \"model\": 21}, \"Metrics\": {\"train_mse_objective\": {\"sum\": 0.2069514758002601, \"count\": 1, \"min\": 0.2069514758002601, \"max\": 0.2069514758002601}}}\u001b[0m\n",
      "\u001b[34m#metrics {\"StartTime\": 1710960231.1673925, \"EndTime\": 1710960231.1674025, \"Dimensions\": {\"Algorithm\": \"Linear Learner\", \"Host\": \"algo-1\", \"Operation\": \"training\", \"epoch\": 9, \"model\": 22}, \"Metrics\": {\"train_mse_objective\": {\"sum\": 0.19748437233073146, \"count\": 1, \"min\": 0.19748437233073146, \"max\": 0.19748437233073146}}}\u001b[0m\n",
      "\u001b[34m#metrics {\"StartTime\": 1710960231.1674585, \"EndTime\": 1710960231.1674697, \"Dimensions\": {\"Algorithm\": \"Linear Learner\", \"Host\": \"algo-1\", \"Operation\": \"training\", \"epoch\": 9, \"model\": 23}, \"Metrics\": {\"train_mse_objective\": {\"sum\": 0.20693090293360383, \"count\": 1, \"min\": 0.20693090293360383, \"max\": 0.20693090293360383}}}\u001b[0m\n",
      "\u001b[34m#metrics {\"StartTime\": 1710960231.167506, \"EndTime\": 1710960231.1675165, \"Dimensions\": {\"Algorithm\": \"Linear Learner\", \"Host\": \"algo-1\", \"Operation\": \"training\", \"epoch\": 9, \"model\": 24}, \"Metrics\": {\"train_mse_objective\": {\"sum\": 0.9572359680345184, \"count\": 1, \"min\": 0.9572359680345184, \"max\": 0.9572359680345184}}}\u001b[0m\n",
      "\u001b[34m#metrics {\"StartTime\": 1710960231.1675532, \"EndTime\": 1710960231.167563, \"Dimensions\": {\"Algorithm\": \"Linear Learner\", \"Host\": \"algo-1\", \"Operation\": \"training\", \"epoch\": 9, \"model\": 25}, \"Metrics\": {\"train_mse_objective\": {\"sum\": 0.9584644613297362, \"count\": 1, \"min\": 0.9584644613297362, \"max\": 0.9584644613297362}}}\u001b[0m\n",
      "\u001b[34m#metrics {\"StartTime\": 1710960231.1676252, \"EndTime\": 1710960231.1676366, \"Dimensions\": {\"Algorithm\": \"Linear Learner\", \"Host\": \"algo-1\", \"Operation\": \"training\", \"epoch\": 9, \"model\": 26}, \"Metrics\": {\"train_mse_objective\": {\"sum\": 0.9572156020685246, \"count\": 1, \"min\": 0.9572156020685246, \"max\": 0.9572156020685246}}}\u001b[0m\n",
      "\u001b[34m#metrics {\"StartTime\": 1710960231.1676772, \"EndTime\": 1710960231.167687, \"Dimensions\": {\"Algorithm\": \"Linear Learner\", \"Host\": \"algo-1\", \"Operation\": \"training\", \"epoch\": 9, \"model\": 27}, \"Metrics\": {\"train_mse_objective\": {\"sum\": 0.9584994684708746, \"count\": 1, \"min\": 0.9584994684708746, \"max\": 0.9584994684708746}}}\u001b[0m\n",
      "\u001b[34m#metrics {\"StartTime\": 1710960231.167722, \"EndTime\": 1710960231.167752, \"Dimensions\": {\"Algorithm\": \"Linear Learner\", \"Host\": \"algo-1\", \"Operation\": \"training\", \"epoch\": 9, \"model\": 28}, \"Metrics\": {\"train_mse_objective\": {\"sum\": 0.9685268896190744, \"count\": 1, \"min\": 0.9685268896190744, \"max\": 0.9685268896190744}}}\u001b[0m\n",
      "\u001b[34m#metrics {\"StartTime\": 1710960231.1677935, \"EndTime\": 1710960231.1678047, \"Dimensions\": {\"Algorithm\": \"Linear Learner\", \"Host\": \"algo-1\", \"Operation\": \"training\", \"epoch\": 9, \"model\": 29}, \"Metrics\": {\"train_mse_objective\": {\"sum\": 0.98643160336896, \"count\": 1, \"min\": 0.98643160336896, \"max\": 0.98643160336896}}}\u001b[0m\n",
      "\u001b[34m#metrics {\"StartTime\": 1710960231.167841, \"EndTime\": 1710960231.1678526, \"Dimensions\": {\"Algorithm\": \"Linear Learner\", \"Host\": \"algo-1\", \"Operation\": \"training\", \"epoch\": 9, \"model\": 30}, \"Metrics\": {\"train_mse_objective\": {\"sum\": 0.9685507561815413, \"count\": 1, \"min\": 0.9685507561815413, \"max\": 0.9685507561815413}}}\u001b[0m\n",
      "\u001b[34m#metrics {\"StartTime\": 1710960231.1679091, \"EndTime\": 1710960231.1679208, \"Dimensions\": {\"Algorithm\": \"Linear Learner\", \"Host\": \"algo-1\", \"Operation\": \"training\", \"epoch\": 9, \"model\": 31}, \"Metrics\": {\"train_mse_objective\": {\"sum\": 0.9863822887602606, \"count\": 1, \"min\": 0.9863822887602606, \"max\": 0.9863822887602606}}}\u001b[0m\n",
      "\u001b[34m[03/20/2024 18:43:51 INFO 139961683208000] #quality_metric: host=algo-1, epoch=9, train mse_objective <loss>=0.07836079369544198\u001b[0m\n",
      "\u001b[34m#metrics {\"StartTime\": 1710960231.5833776, \"EndTime\": 1710960231.5834272, \"Dimensions\": {\"Algorithm\": \"Linear Learner\", \"Host\": \"algo-1\", \"Operation\": \"training\", \"epoch\": 9, \"model\": 0}, \"Metrics\": {\"validation_mse_objective\": {\"sum\": 0.0031996186853250684, \"count\": 1, \"min\": 0.0031996186853250684, \"max\": 0.0031996186853250684}}}\u001b[0m\n",
      "\u001b[34m#metrics {\"StartTime\": 1710960231.5834975, \"EndTime\": 1710960231.5835383, \"Dimensions\": {\"Algorithm\": \"Linear Learner\", \"Host\": \"algo-1\", \"Operation\": \"training\", \"epoch\": 9, \"model\": 1}, \"Metrics\": {\"validation_mse_objective\": {\"sum\": 0.0032261900058746704, \"count\": 1, \"min\": 0.0032261900058746704, \"max\": 0.0032261900058746704}}}\u001b[0m\n",
      "\u001b[34m#metrics {\"StartTime\": 1710960231.5835838, \"EndTime\": 1710960231.5836167, \"Dimensions\": {\"Algorithm\": \"Linear Learner\", \"Host\": \"algo-1\", \"Operation\": \"training\", \"epoch\": 9, \"model\": 2}, \"Metrics\": {\"validation_mse_objective\": {\"sum\": 0.003199276059399334, \"count\": 1, \"min\": 0.003199276059399334, \"max\": 0.003199276059399334}}}\u001b[0m\n",
      "\u001b[34m#metrics {\"StartTime\": 1710960231.5836525, \"EndTime\": 1710960231.583662, \"Dimensions\": {\"Algorithm\": \"Linear Learner\", \"Host\": \"algo-1\", \"Operation\": \"training\", \"epoch\": 9, \"model\": 3}, \"Metrics\": {\"validation_mse_objective\": {\"sum\": 0.0032265626115904208, \"count\": 1, \"min\": 0.0032265626115904208, \"max\": 0.0032265626115904208}}}\u001b[0m\n",
      "\u001b[34m#metrics {\"StartTime\": 1710960231.583693, \"EndTime\": 1710960231.5837018, \"Dimensions\": {\"Algorithm\": \"Linear Learner\", \"Host\": \"algo-1\", \"Operation\": \"training\", \"epoch\": 9, \"model\": 4}, \"Metrics\": {\"validation_mse_objective\": {\"sum\": 0.003416352388515946, \"count\": 1, \"min\": 0.003416352388515946, \"max\": 0.003416352388515946}}}\u001b[0m\n",
      "\u001b[34m#metrics {\"StartTime\": 1710960231.583758, \"EndTime\": 1710960231.5837693, \"Dimensions\": {\"Algorithm\": \"Linear Learner\", \"Host\": \"algo-1\", \"Operation\": \"training\", \"epoch\": 9, \"model\": 5}, \"Metrics\": {\"validation_mse_objective\": {\"sum\": 0.0035508830291534595, \"count\": 1, \"min\": 0.0035508830291534595, \"max\": 0.0035508830291534595}}}\u001b[0m\n",
      "\u001b[34m#metrics {\"StartTime\": 1710960231.583832, \"EndTime\": 1710960231.5838447, \"Dimensions\": {\"Algorithm\": \"Linear Learner\", \"Host\": \"algo-1\", \"Operation\": \"training\", \"epoch\": 9, \"model\": 6}, \"Metrics\": {\"validation_mse_objective\": {\"sum\": 0.0034162231876363777, \"count\": 1, \"min\": 0.0034162231876363777, \"max\": 0.0034162231876363777}}}\u001b[0m\n",
      "\u001b[34m#metrics {\"StartTime\": 1710960231.5839028, \"EndTime\": 1710960231.583915, \"Dimensions\": {\"Algorithm\": \"Linear Learner\", \"Host\": \"algo-1\", \"Operation\": \"training\", \"epoch\": 9, \"model\": 7}, \"Metrics\": {\"validation_mse_objective\": {\"sum\": 0.003554556590506857, \"count\": 1, \"min\": 0.003554556590506857, \"max\": 0.003554556590506857}}}\u001b[0m\n",
      "\u001b[34m#metrics {\"StartTime\": 1710960231.5839932, \"EndTime\": 1710960231.5840063, \"Dimensions\": {\"Algorithm\": \"Linear Learner\", \"Host\": \"algo-1\", \"Operation\": \"training\", \"epoch\": 9, \"model\": 8}, \"Metrics\": {\"validation_mse_objective\": {\"sum\": 0.0032082215680126905, \"count\": 1, \"min\": 0.0032082215680126905, \"max\": 0.0032082215680126905}}}\u001b[0m\n",
      "\u001b[34m#metrics {\"StartTime\": 1710960231.584073, \"EndTime\": 1710960231.5841002, \"Dimensions\": {\"Algorithm\": \"Linear Learner\", \"Host\": \"algo-1\", \"Operation\": \"training\", \"epoch\": 9, \"model\": 9}, \"Metrics\": {\"validation_mse_objective\": {\"sum\": 0.003232420344590315, \"count\": 1, \"min\": 0.003232420344590315, \"max\": 0.003232420344590315}}}\u001b[0m\n",
      "\u001b[34m#metrics {\"StartTime\": 1710960231.5841427, \"EndTime\": 1710960231.5841753, \"Dimensions\": {\"Algorithm\": \"Linear Learner\", \"Host\": \"algo-1\", \"Operation\": \"training\", \"epoch\": 9, \"model\": 10}, \"Metrics\": {\"validation_mse_objective\": {\"sum\": 0.003207257523983564, \"count\": 1, \"min\": 0.003207257523983564, \"max\": 0.003207257523983564}}}\u001b[0m\n",
      "\u001b[34m#metrics {\"StartTime\": 1710960231.5842204, \"EndTime\": 1710960231.584248, \"Dimensions\": {\"Algorithm\": \"Linear Learner\", \"Host\": \"algo-1\", \"Operation\": \"training\", \"epoch\": 9, \"model\": 11}, \"Metrics\": {\"validation_mse_objective\": {\"sum\": 0.00323220557347705, \"count\": 1, \"min\": 0.00323220557347705, \"max\": 0.00323220557347705}}}\u001b[0m\n",
      "\u001b[34m#metrics {\"StartTime\": 1710960231.584291, \"EndTime\": 1710960231.5843217, \"Dimensions\": {\"Algorithm\": \"Linear Learner\", \"Host\": \"algo-1\", \"Operation\": \"training\", \"epoch\": 9, \"model\": 12}, \"Metrics\": {\"validation_mse_objective\": {\"sum\": 0.0034287890850602664, \"count\": 1, \"min\": 0.0034287890850602664, \"max\": 0.0034287890850602664}}}\u001b[0m\n",
      "\u001b[34m#metrics {\"StartTime\": 1710960231.5843596, \"EndTime\": 1710960231.584369, \"Dimensions\": {\"Algorithm\": \"Linear Learner\", \"Host\": \"algo-1\", \"Operation\": \"training\", \"epoch\": 9, \"model\": 13}, \"Metrics\": {\"validation_mse_objective\": {\"sum\": 0.0035487637709772685, \"count\": 1, \"min\": 0.0035487637709772685, \"max\": 0.0035487637709772685}}}\u001b[0m\n",
      "\u001b[34m#metrics {\"StartTime\": 1710960231.5844982, \"EndTime\": 1710960231.5845153, \"Dimensions\": {\"Algorithm\": \"Linear Learner\", \"Host\": \"algo-1\", \"Operation\": \"training\", \"epoch\": 9, \"model\": 14}, \"Metrics\": {\"validation_mse_objective\": {\"sum\": 0.003428179068821702, \"count\": 1, \"min\": 0.003428179068821702, \"max\": 0.003428179068821702}}}\u001b[0m\n",
      "\u001b[34m#metrics {\"StartTime\": 1710960231.5845842, \"EndTime\": 1710960231.5845964, \"Dimensions\": {\"Algorithm\": \"Linear Learner\", \"Host\": \"algo-1\", \"Operation\": \"training\", \"epoch\": 9, \"model\": 15}, \"Metrics\": {\"validation_mse_objective\": {\"sum\": 0.0035628860456834582, \"count\": 1, \"min\": 0.0035628860456834582, \"max\": 0.0035628860456834582}}}\u001b[0m\n",
      "\u001b[34m#metrics {\"StartTime\": 1710960231.5846825, \"EndTime\": 1710960231.584696, \"Dimensions\": {\"Algorithm\": \"Linear Learner\", \"Host\": \"algo-1\", \"Operation\": \"training\", \"epoch\": 9, \"model\": 16}, \"Metrics\": {\"validation_mse_objective\": {\"sum\": 0.007528398375675174, \"count\": 1, \"min\": 0.007528398375675174, \"max\": 0.007528398375675174}}}\u001b[0m\n",
      "\u001b[34m#metrics {\"StartTime\": 1710960231.5847619, \"EndTime\": 1710960231.5847752, \"Dimensions\": {\"Algorithm\": \"Linear Learner\", \"Host\": \"algo-1\", \"Operation\": \"training\", \"epoch\": 9, \"model\": 17}, \"Metrics\": {\"validation_mse_objective\": {\"sum\": 0.007220390260609697, \"count\": 1, \"min\": 0.007220390260609697, \"max\": 0.007220390260609697}}}\u001b[0m\n",
      "\u001b[34m#metrics {\"StartTime\": 1710960231.5848324, \"EndTime\": 1710960231.5848448, \"Dimensions\": {\"Algorithm\": \"Linear Learner\", \"Host\": \"algo-1\", \"Operation\": \"training\", \"epoch\": 9, \"model\": 18}, \"Metrics\": {\"validation_mse_objective\": {\"sum\": 0.0075559034702622424, \"count\": 1, \"min\": 0.0075559034702622424, \"max\": 0.0075559034702622424}}}\u001b[0m\n",
      "\u001b[34m#metrics {\"StartTime\": 1710960231.5849073, \"EndTime\": 1710960231.5849187, \"Dimensions\": {\"Algorithm\": \"Linear Learner\", \"Host\": \"algo-1\", \"Operation\": \"training\", \"epoch\": 9, \"model\": 19}, \"Metrics\": {\"validation_mse_objective\": {\"sum\": 0.007228793737381023, \"count\": 1, \"min\": 0.007228793737381023, \"max\": 0.007228793737381023}}}\u001b[0m\n",
      "\u001b[34m#metrics {\"StartTime\": 1710960231.5850108, \"EndTime\": 1710960231.5850258, \"Dimensions\": {\"Algorithm\": \"Linear Learner\", \"Host\": \"algo-1\", \"Operation\": \"training\", \"epoch\": 9, \"model\": 20}, \"Metrics\": {\"validation_mse_objective\": {\"sum\": 0.006786511691948839, \"count\": 1, \"min\": 0.006786511691948839, \"max\": 0.006786511691948839}}}\u001b[0m\n",
      "\u001b[34m#metrics {\"StartTime\": 1710960231.5850933, \"EndTime\": 1710960231.5851052, \"Dimensions\": {\"Algorithm\": \"Linear Learner\", \"Host\": \"algo-1\", \"Operation\": \"training\", \"epoch\": 9, \"model\": 21}, \"Metrics\": {\"validation_mse_objective\": {\"sum\": 0.0065397379195099616, \"count\": 1, \"min\": 0.0065397379195099616, \"max\": 0.0065397379195099616}}}\u001b[0m\n",
      "\u001b[34m#metrics {\"StartTime\": 1710960231.5851882, \"EndTime\": 1710960231.5852008, \"Dimensions\": {\"Algorithm\": \"Linear Learner\", \"Host\": \"algo-1\", \"Operation\": \"training\", \"epoch\": 9, \"model\": 22}, \"Metrics\": {\"validation_mse_objective\": {\"sum\": 0.006785015294661084, \"count\": 1, \"min\": 0.006785015294661084, \"max\": 0.006785015294661084}}}\u001b[0m\n",
      "\u001b[34m#metrics {\"StartTime\": 1710960231.585266, \"EndTime\": 1710960231.585294, \"Dimensions\": {\"Algorithm\": \"Linear Learner\", \"Host\": \"algo-1\", \"Operation\": \"training\", \"epoch\": 9, \"model\": 23}, \"Metrics\": {\"validation_mse_objective\": {\"sum\": 0.006548612686811164, \"count\": 1, \"min\": 0.006548612686811164, \"max\": 0.006548612686811164}}}\u001b[0m\n",
      "\u001b[34m#metrics {\"StartTime\": 1710960231.5853362, \"EndTime\": 1710960231.5853693, \"Dimensions\": {\"Algorithm\": \"Linear Learner\", \"Host\": \"algo-1\", \"Operation\": \"training\", \"epoch\": 9, \"model\": 24}, \"Metrics\": {\"validation_mse_objective\": {\"sum\": 0.036751276640187056, \"count\": 1, \"min\": 0.036751276640187056, \"max\": 0.036751276640187056}}}\u001b[0m\n",
      "\u001b[34m#metrics {\"StartTime\": 1710960231.5854113, \"EndTime\": 1710960231.5854223, \"Dimensions\": {\"Algorithm\": \"Linear Learner\", \"Host\": \"algo-1\", \"Operation\": \"training\", \"epoch\": 9, \"model\": 25}, \"Metrics\": {\"validation_mse_objective\": {\"sum\": 0.03704880328822185, \"count\": 1, \"min\": 0.03704880328822185, \"max\": 0.03704880328822185}}}\u001b[0m\n",
      "\u001b[34m#metrics {\"StartTime\": 1710960231.585504, \"EndTime\": 1710960231.5855174, \"Dimensions\": {\"Algorithm\": \"Linear Learner\", \"Host\": \"algo-1\", \"Operation\": \"training\", \"epoch\": 9, \"model\": 26}, \"Metrics\": {\"validation_mse_objective\": {\"sum\": 0.036756859019062116, \"count\": 1, \"min\": 0.036756859019062116, \"max\": 0.036756859019062116}}}\u001b[0m\n",
      "\u001b[34m#metrics {\"StartTime\": 1710960231.585608, \"EndTime\": 1710960231.5856206, \"Dimensions\": {\"Algorithm\": \"Linear Learner\", \"Host\": \"algo-1\", \"Operation\": \"training\", \"epoch\": 9, \"model\": 27}, \"Metrics\": {\"validation_mse_objective\": {\"sum\": 0.03716527931315698, \"count\": 1, \"min\": 0.03716527931315698, \"max\": 0.03716527931315698}}}\u001b[0m\n",
      "\u001b[34m#metrics {\"StartTime\": 1710960231.5857012, \"EndTime\": 1710960231.5857146, \"Dimensions\": {\"Algorithm\": \"Linear Learner\", \"Host\": \"algo-1\", \"Operation\": \"training\", \"epoch\": 9, \"model\": 28}, \"Metrics\": {\"validation_mse_objective\": {\"sum\": 0.03679141279547121, \"count\": 1, \"min\": 0.03679141279547121, \"max\": 0.03679141279547121}}}\u001b[0m\n",
      "\u001b[34m#metrics {\"StartTime\": 1710960231.5857801, \"EndTime\": 1710960231.5857918, \"Dimensions\": {\"Algorithm\": \"Linear Learner\", \"Host\": \"algo-1\", \"Operation\": \"training\", \"epoch\": 9, \"model\": 29}, \"Metrics\": {\"validation_mse_objective\": {\"sum\": 0.03896218117257653, \"count\": 1, \"min\": 0.03896218117257653, \"max\": 0.03896218117257653}}}\u001b[0m\n",
      "\u001b[34m#metrics {\"StartTime\": 1710960231.5858698, \"EndTime\": 1710960231.585884, \"Dimensions\": {\"Algorithm\": \"Linear Learner\", \"Host\": \"algo-1\", \"Operation\": \"training\", \"epoch\": 9, \"model\": 30}, \"Metrics\": {\"validation_mse_objective\": {\"sum\": 0.03675278439597672, \"count\": 1, \"min\": 0.03675278439597672, \"max\": 0.03675278439597672}}}\u001b[0m\n",
      "\u001b[34m#metrics {\"StartTime\": 1710960231.585951, \"EndTime\": 1710960231.5859632, \"Dimensions\": {\"Algorithm\": \"Linear Learner\", \"Host\": \"algo-1\", \"Operation\": \"training\", \"epoch\": 9, \"model\": 31}, \"Metrics\": {\"validation_mse_objective\": {\"sum\": 0.039022006692644017, \"count\": 1, \"min\": 0.039022006692644017, \"max\": 0.039022006692644017}}}\u001b[0m\n",
      "\u001b[34m[03/20/2024 18:43:51 INFO 139961683208000] #quality_metric: host=algo-1, epoch=9, validation mse_objective <loss>=0.0031996186853250684\u001b[0m\n",
      "\u001b[34m[03/20/2024 18:43:51 INFO 139961683208000] #early_stopping_criteria_metric: host=algo-1, epoch=9, criteria=mse_objective, value=0.003199276059399334\u001b[0m\n",
      "\u001b[34m[03/20/2024 18:43:51 INFO 139961683208000] Saving model for epoch: 9\u001b[0m\n",
      "\u001b[34m[03/20/2024 18:43:51 INFO 139961683208000] Saved checkpoint to \"/tmp/tmpz4jlw_61/mx-mod-0000.params\"\u001b[0m\n",
      "\u001b[34m[03/20/2024 18:43:51 INFO 139961683208000] #progress_metric: host=algo-1, completed 66.66666666666667 % of epochs\u001b[0m\n",
      "\u001b[34m#metrics {\"StartTime\": 1710960228.541527, \"EndTime\": 1710960231.5919168, \"Dimensions\": {\"Algorithm\": \"Linear Learner\", \"Host\": \"algo-1\", \"Operation\": \"training\", \"epoch\": 9, \"Meta\": \"training_data_iter\"}, \"Metrics\": {\"Total Records Seen\": {\"sum\": 107193.0, \"count\": 1, \"min\": 107193, \"max\": 107193}, \"Total Batches Seen\": {\"sum\": 1684.0, \"count\": 1, \"min\": 1684, \"max\": 1684}, \"Max Records Seen Between Resets\": {\"sum\": 9739.0, \"count\": 1, \"min\": 9739, \"max\": 9739}, \"Max Batches Seen Between Resets\": {\"sum\": 153.0, \"count\": 1, \"min\": 153, \"max\": 153}, \"Reset Count\": {\"sum\": 12.0, \"count\": 1, \"min\": 12, \"max\": 12}, \"Number of Records Since Last Reset\": {\"sum\": 9739.0, \"count\": 1, \"min\": 9739, \"max\": 9739}, \"Number of Batches Since Last Reset\": {\"sum\": 153.0, \"count\": 1, \"min\": 153, \"max\": 153}}}\u001b[0m\n",
      "\u001b[34m[03/20/2024 18:43:51 INFO 139961683208000] #throughput_metric: host=algo-1, train throughput=3192.5096245017216 records/second\u001b[0m\n",
      "\u001b[34m#metrics {\"StartTime\": 1710960234.1733706, \"EndTime\": 1710960234.173422, \"Dimensions\": {\"Algorithm\": \"Linear Learner\", \"Host\": \"algo-1\", \"Operation\": \"training\", \"epoch\": 10, \"model\": 0}, \"Metrics\": {\"train_mse_objective\": {\"sum\": 0.07833244906444299, \"count\": 1, \"min\": 0.07833244906444299, \"max\": 0.07833244906444299}}}\u001b[0m\n",
      "\u001b[34m#metrics {\"StartTime\": 1710960234.1734934, \"EndTime\": 1710960234.1735055, \"Dimensions\": {\"Algorithm\": \"Linear Learner\", \"Host\": \"algo-1\", \"Operation\": \"training\", \"epoch\": 10, \"model\": 1}, \"Metrics\": {\"train_mse_objective\": {\"sum\": 0.07878200271117844, \"count\": 1, \"min\": 0.07878200271117844, \"max\": 0.07878200271117844}}}\u001b[0m\n",
      "\u001b[34m#metrics {\"StartTime\": 1710960234.1735482, \"EndTime\": 1710960234.1735573, \"Dimensions\": {\"Algorithm\": \"Linear Learner\", \"Host\": \"algo-1\", \"Operation\": \"training\", \"epoch\": 10, \"model\": 2}, \"Metrics\": {\"train_mse_objective\": {\"sum\": 0.07833309099078178, \"count\": 1, \"min\": 0.07833309099078178, \"max\": 0.07833309099078178}}}\u001b[0m\n",
      "\u001b[34m#metrics {\"StartTime\": 1710960234.173635, \"EndTime\": 1710960234.1736457, \"Dimensions\": {\"Algorithm\": \"Linear Learner\", \"Host\": \"algo-1\", \"Operation\": \"training\", \"epoch\": 10, \"model\": 3}, \"Metrics\": {\"train_mse_objective\": {\"sum\": 0.07878853657626007, \"count\": 1, \"min\": 0.07878853657626007, \"max\": 0.07878853657626007}}}\u001b[0m\n",
      "\u001b[34m#metrics {\"StartTime\": 1710960234.1737041, \"EndTime\": 1710960234.1737149, \"Dimensions\": {\"Algorithm\": \"Linear Learner\", \"Host\": \"algo-1\", \"Operation\": \"training\", \"epoch\": 10, \"model\": 4}, \"Metrics\": {\"train_mse_objective\": {\"sum\": 0.08137470201932286, \"count\": 1, \"min\": 0.08137470201932286, \"max\": 0.08137470201932286}}}\u001b[0m\n",
      "\u001b[34m#metrics {\"StartTime\": 1710960234.1739132, \"EndTime\": 1710960234.1739333, \"Dimensions\": {\"Algorithm\": \"Linear Learner\", \"Host\": \"algo-1\", \"Operation\": \"training\", \"epoch\": 10, \"model\": 5}, \"Metrics\": {\"train_mse_objective\": {\"sum\": 0.09276055431875743, \"count\": 1, \"min\": 0.09276055431875743, \"max\": 0.09276055431875743}}}\u001b[0m\n",
      "\u001b[34m#metrics {\"StartTime\": 1710960234.1740115, \"EndTime\": 1710960234.174024, \"Dimensions\": {\"Algorithm\": \"Linear Learner\", \"Host\": \"algo-1\", \"Operation\": \"training\", \"epoch\": 10, \"model\": 6}, \"Metrics\": {\"train_mse_objective\": {\"sum\": 0.08139512766348689, \"count\": 1, \"min\": 0.08139512766348689, \"max\": 0.08139512766348689}}}\u001b[0m\n",
      "\u001b[34m#metrics {\"StartTime\": 1710960234.1740901, \"EndTime\": 1710960234.1741033, \"Dimensions\": {\"Algorithm\": \"Linear Learner\", \"Host\": \"algo-1\", \"Operation\": \"training\", \"epoch\": 10, \"model\": 7}, \"Metrics\": {\"train_mse_objective\": {\"sum\": 0.09275805986927528, \"count\": 1, \"min\": 0.09275805986927528, \"max\": 0.09275805986927528}}}\u001b[0m\n",
      "\u001b[34m#metrics {\"StartTime\": 1710960234.174171, \"EndTime\": 1710960234.1741831, \"Dimensions\": {\"Algorithm\": \"Linear Learner\", \"Host\": \"algo-1\", \"Operation\": \"training\", \"epoch\": 10, \"model\": 8}, \"Metrics\": {\"train_mse_objective\": {\"sum\": 0.0784257517294272, \"count\": 1, \"min\": 0.0784257517294272, \"max\": 0.0784257517294272}}}\u001b[0m\n",
      "\u001b[34m#metrics {\"StartTime\": 1710960234.174254, \"EndTime\": 1710960234.1742668, \"Dimensions\": {\"Algorithm\": \"Linear Learner\", \"Host\": \"algo-1\", \"Operation\": \"training\", \"epoch\": 10, \"model\": 9}, \"Metrics\": {\"train_mse_objective\": {\"sum\": 0.07889214307559948, \"count\": 1, \"min\": 0.07889214307559948, \"max\": 0.07889214307559948}}}\u001b[0m\n",
      "\u001b[34m#metrics {\"StartTime\": 1710960234.1743214, \"EndTime\": 1710960234.1743333, \"Dimensions\": {\"Algorithm\": \"Linear Learner\", \"Host\": \"algo-1\", \"Operation\": \"training\", \"epoch\": 10, \"model\": 10}, \"Metrics\": {\"train_mse_objective\": {\"sum\": 0.07842811336740851, \"count\": 1, \"min\": 0.07842811336740851, \"max\": 0.07842811336740851}}}\u001b[0m\n",
      "\u001b[34m#metrics {\"StartTime\": 1710960234.1744015, \"EndTime\": 1710960234.1744142, \"Dimensions\": {\"Algorithm\": \"Linear Learner\", \"Host\": \"algo-1\", \"Operation\": \"training\", \"epoch\": 10, \"model\": 11}, \"Metrics\": {\"train_mse_objective\": {\"sum\": 0.07889318245610125, \"count\": 1, \"min\": 0.07889318245610125, \"max\": 0.07889318245610125}}}\u001b[0m\n",
      "\u001b[34m#metrics {\"StartTime\": 1710960234.1744807, \"EndTime\": 1710960234.174493, \"Dimensions\": {\"Algorithm\": \"Linear Learner\", \"Host\": \"algo-1\", \"Operation\": \"training\", \"epoch\": 10, \"model\": 12}, \"Metrics\": {\"train_mse_objective\": {\"sum\": 0.08149274914084297, \"count\": 1, \"min\": 0.08149274914084297, \"max\": 0.08149274914084297}}}\u001b[0m\n",
      "\u001b[34m#metrics {\"StartTime\": 1710960234.1745698, \"EndTime\": 1710960234.1745832, \"Dimensions\": {\"Algorithm\": \"Linear Learner\", \"Host\": \"algo-1\", \"Operation\": \"training\", \"epoch\": 10, \"model\": 13}, \"Metrics\": {\"train_mse_objective\": {\"sum\": 0.09273208861582373, \"count\": 1, \"min\": 0.09273208861582373, \"max\": 0.09273208861582373}}}\u001b[0m\n",
      "\u001b[34m#metrics {\"StartTime\": 1710960234.1746502, \"EndTime\": 1710960234.1746638, \"Dimensions\": {\"Algorithm\": \"Linear Learner\", \"Host\": \"algo-1\", \"Operation\": \"training\", \"epoch\": 10, \"model\": 14}, \"Metrics\": {\"train_mse_objective\": {\"sum\": 0.08150112807848736, \"count\": 1, \"min\": 0.08150112807848736, \"max\": 0.08150112807848736}}}\u001b[0m\n",
      "\u001b[34m#metrics {\"StartTime\": 1710960234.1747286, \"EndTime\": 1710960234.1747425, \"Dimensions\": {\"Algorithm\": \"Linear Learner\", \"Host\": \"algo-1\", \"Operation\": \"training\", \"epoch\": 10, \"model\": 15}, \"Metrics\": {\"train_mse_objective\": {\"sum\": 0.09273149176059585, \"count\": 1, \"min\": 0.09273149176059585, \"max\": 0.09273149176059585}}}\u001b[0m\n",
      "\u001b[34m#metrics {\"StartTime\": 1710960234.1748054, \"EndTime\": 1710960234.1748185, \"Dimensions\": {\"Algorithm\": \"Linear Learner\", \"Host\": \"algo-1\", \"Operation\": \"training\", \"epoch\": 10, \"model\": 16}, \"Metrics\": {\"train_mse_objective\": {\"sum\": 0.1927716400180208, \"count\": 1, \"min\": 0.1927716400180208, \"max\": 0.1927716400180208}}}\u001b[0m\n",
      "\u001b[34m#metrics {\"StartTime\": 1710960234.1748972, \"EndTime\": 1710960234.1749084, \"Dimensions\": {\"Algorithm\": \"Linear Learner\", \"Host\": \"algo-1\", \"Operation\": \"training\", \"epoch\": 10, \"model\": 17}, \"Metrics\": {\"train_mse_objective\": {\"sum\": 0.1936714441858624, \"count\": 1, \"min\": 0.1936714441858624, \"max\": 0.1936714441858624}}}\u001b[0m\n",
      "\u001b[34m#metrics {\"StartTime\": 1710960234.174968, \"EndTime\": 1710960234.1749935, \"Dimensions\": {\"Algorithm\": \"Linear Learner\", \"Host\": \"algo-1\", \"Operation\": \"training\", \"epoch\": 10, \"model\": 18}, \"Metrics\": {\"train_mse_objective\": {\"sum\": 0.19276499120812668, \"count\": 1, \"min\": 0.19276499120812668, \"max\": 0.19276499120812668}}}\u001b[0m\n",
      "\u001b[34m#metrics {\"StartTime\": 1710960234.1750329, \"EndTime\": 1710960234.1750658, \"Dimensions\": {\"Algorithm\": \"Linear Learner\", \"Host\": \"algo-1\", \"Operation\": \"training\", \"epoch\": 10, \"model\": 19}, \"Metrics\": {\"train_mse_objective\": {\"sum\": 0.19367138918881355, \"count\": 1, \"min\": 0.19367138918881355, \"max\": 0.19367138918881355}}}\u001b[0m\n",
      "\u001b[34m#metrics {\"StartTime\": 1710960234.1751058, \"EndTime\": 1710960234.1751173, \"Dimensions\": {\"Algorithm\": \"Linear Learner\", \"Host\": \"algo-1\", \"Operation\": \"training\", \"epoch\": 10, \"model\": 20}, \"Metrics\": {\"train_mse_objective\": {\"sum\": 0.19680029624386838, \"count\": 1, \"min\": 0.19680029624386838, \"max\": 0.19680029624386838}}}\u001b[0m\n",
      "\u001b[34m#metrics {\"StartTime\": 1710960234.175192, \"EndTime\": 1710960234.1752043, \"Dimensions\": {\"Algorithm\": \"Linear Learner\", \"Host\": \"algo-1\", \"Operation\": \"training\", \"epoch\": 10, \"model\": 21}, \"Metrics\": {\"train_mse_objective\": {\"sum\": 0.20679984006442523, \"count\": 1, \"min\": 0.20679984006442523, \"max\": 0.20679984006442523}}}\u001b[0m\n",
      "\u001b[34m#metrics {\"StartTime\": 1710960234.175317, \"EndTime\": 1710960234.1753342, \"Dimensions\": {\"Algorithm\": \"Linear Learner\", \"Host\": \"algo-1\", \"Operation\": \"training\", \"epoch\": 10, \"model\": 22}, \"Metrics\": {\"train_mse_objective\": {\"sum\": 0.1967939527117108, \"count\": 1, \"min\": 0.1967939527117108, \"max\": 0.1967939527117108}}}\u001b[0m\n",
      "\u001b[34m#metrics {\"StartTime\": 1710960234.1754007, \"EndTime\": 1710960234.175414, \"Dimensions\": {\"Algorithm\": \"Linear Learner\", \"Host\": \"algo-1\", \"Operation\": \"training\", \"epoch\": 10, \"model\": 23}, \"Metrics\": {\"train_mse_objective\": {\"sum\": 0.20678550950986774, \"count\": 1, \"min\": 0.20678550950986774, \"max\": 0.20678550950986774}}}\u001b[0m\n",
      "\u001b[34m#metrics {\"StartTime\": 1710960234.1754844, \"EndTime\": 1710960234.1754975, \"Dimensions\": {\"Algorithm\": \"Linear Learner\", \"Host\": \"algo-1\", \"Operation\": \"training\", \"epoch\": 10, \"model\": 24}, \"Metrics\": {\"train_mse_objective\": {\"sum\": 0.9570653893445668, \"count\": 1, \"min\": 0.9570653893445668, \"max\": 0.9570653893445668}}}\u001b[0m\n",
      "\u001b[34m#metrics {\"StartTime\": 1710960234.1755593, \"EndTime\": 1710960234.175572, \"Dimensions\": {\"Algorithm\": \"Linear Learner\", \"Host\": \"algo-1\", \"Operation\": \"training\", \"epoch\": 10, \"model\": 25}, \"Metrics\": {\"train_mse_objective\": {\"sum\": 0.9584779660952719, \"count\": 1, \"min\": 0.9584779660952719, \"max\": 0.9584779660952719}}}\u001b[0m\n",
      "\u001b[34m#metrics {\"StartTime\": 1710960234.1756108, \"EndTime\": 1710960234.175648, \"Dimensions\": {\"Algorithm\": \"Linear Learner\", \"Host\": \"algo-1\", \"Operation\": \"training\", \"epoch\": 10, \"model\": 26}, \"Metrics\": {\"train_mse_objective\": {\"sum\": 0.9570534417503759, \"count\": 1, \"min\": 0.9570534417503759, \"max\": 0.9570534417503759}}}\u001b[0m\n",
      "\u001b[34m#metrics {\"StartTime\": 1710960234.1756885, \"EndTime\": 1710960234.1757004, \"Dimensions\": {\"Algorithm\": \"Linear Learner\", \"Host\": \"algo-1\", \"Operation\": \"training\", \"epoch\": 10, \"model\": 27}, \"Metrics\": {\"train_mse_objective\": {\"sum\": 0.9585094048004401, \"count\": 1, \"min\": 0.9585094048004401, \"max\": 0.9585094048004401}}}\u001b[0m\n",
      "\u001b[34m#metrics {\"StartTime\": 1710960234.17576, \"EndTime\": 1710960234.1757717, \"Dimensions\": {\"Algorithm\": \"Linear Learner\", \"Host\": \"algo-1\", \"Operation\": \"training\", \"epoch\": 10, \"model\": 28}, \"Metrics\": {\"train_mse_objective\": {\"sum\": 0.9663260469311162, \"count\": 1, \"min\": 0.9663260469311162, \"max\": 0.9663260469311162}}}\u001b[0m\n",
      "\u001b[34m#metrics {\"StartTime\": 1710960234.1758327, \"EndTime\": 1710960234.1758444, \"Dimensions\": {\"Algorithm\": \"Linear Learner\", \"Host\": \"algo-1\", \"Operation\": \"training\", \"epoch\": 10, \"model\": 29}, \"Metrics\": {\"train_mse_objective\": {\"sum\": 0.9855421432539037, \"count\": 1, \"min\": 0.9855421432539037, \"max\": 0.9855421432539037}}}\u001b[0m\n",
      "\u001b[34m#metrics {\"StartTime\": 1710960234.1759074, \"EndTime\": 1710960234.1759205, \"Dimensions\": {\"Algorithm\": \"Linear Learner\", \"Host\": \"algo-1\", \"Operation\": \"training\", \"epoch\": 10, \"model\": 30}, \"Metrics\": {\"train_mse_objective\": {\"sum\": 0.9663096913381627, \"count\": 1, \"min\": 0.9663096913381627, \"max\": 0.9663096913381627}}}\u001b[0m\n",
      "\u001b[34m#metrics {\"StartTime\": 1710960234.175984, \"EndTime\": 1710960234.1759968, \"Dimensions\": {\"Algorithm\": \"Linear Learner\", \"Host\": \"algo-1\", \"Operation\": \"training\", \"epoch\": 10, \"model\": 31}, \"Metrics\": {\"train_mse_objective\": {\"sum\": 0.9855200409104949, \"count\": 1, \"min\": 0.9855200409104949, \"max\": 0.9855200409104949}}}\u001b[0m\n",
      "\u001b[34m[03/20/2024 18:43:54 INFO 139961683208000] #quality_metric: host=algo-1, epoch=10, train mse_objective <loss>=0.07833244906444299\u001b[0m\n",
      "\u001b[34m#metrics {\"StartTime\": 1710960234.5523129, \"EndTime\": 1710960234.552363, \"Dimensions\": {\"Algorithm\": \"Linear Learner\", \"Host\": \"algo-1\", \"Operation\": \"training\", \"epoch\": 10, \"model\": 0}, \"Metrics\": {\"validation_mse_objective\": {\"sum\": 0.0032026333594790354, \"count\": 1, \"min\": 0.0032026333594790354, \"max\": 0.0032026333594790354}}}\u001b[0m\n",
      "\u001b[34m#metrics {\"StartTime\": 1710960234.552432, \"EndTime\": 1710960234.552471, \"Dimensions\": {\"Algorithm\": \"Linear Learner\", \"Host\": \"algo-1\", \"Operation\": \"training\", \"epoch\": 10, \"model\": 1}, \"Metrics\": {\"validation_mse_objective\": {\"sum\": 0.0032258824462518556, \"count\": 1, \"min\": 0.0032258824462518556, \"max\": 0.0032258824462518556}}}\u001b[0m\n",
      "\u001b[34m#metrics {\"StartTime\": 1710960234.552518, \"EndTime\": 1710960234.5525513, \"Dimensions\": {\"Algorithm\": \"Linear Learner\", \"Host\": \"algo-1\", \"Operation\": \"training\", \"epoch\": 10, \"model\": 2}, \"Metrics\": {\"validation_mse_objective\": {\"sum\": 0.0032024670322473472, \"count\": 1, \"min\": 0.0032024670322473472, \"max\": 0.0032024670322473472}}}\u001b[0m\n",
      "\u001b[34m#metrics {\"StartTime\": 1710960234.5525868, \"EndTime\": 1710960234.5525956, \"Dimensions\": {\"Algorithm\": \"Linear Learner\", \"Host\": \"algo-1\", \"Operation\": \"training\", \"epoch\": 10, \"model\": 3}, \"Metrics\": {\"validation_mse_objective\": {\"sum\": 0.0032261010808239117, \"count\": 1, \"min\": 0.0032261010808239117, \"max\": 0.0032261010808239117}}}\u001b[0m\n",
      "\u001b[34m#metrics {\"StartTime\": 1710960234.5528698, \"EndTime\": 1710960234.552889, \"Dimensions\": {\"Algorithm\": \"Linear Learner\", \"Host\": \"algo-1\", \"Operation\": \"training\", \"epoch\": 10, \"model\": 4}, \"Metrics\": {\"validation_mse_objective\": {\"sum\": 0.00333680865881693, \"count\": 1, \"min\": 0.00333680865881693, \"max\": 0.00333680865881693}}}\u001b[0m\n",
      "\u001b[34m#metrics {\"StartTime\": 1710960234.5529532, \"EndTime\": 1710960234.5530694, \"Dimensions\": {\"Algorithm\": \"Linear Learner\", \"Host\": \"algo-1\", \"Operation\": \"training\", \"epoch\": 10, \"model\": 5}, \"Metrics\": {\"validation_mse_objective\": {\"sum\": 0.003545129027225276, \"count\": 1, \"min\": 0.003545129027225276, \"max\": 0.003545129027225276}}}\u001b[0m\n",
      "\u001b[34m#metrics {\"StartTime\": 1710960234.5531127, \"EndTime\": 1710960234.5531416, \"Dimensions\": {\"Algorithm\": \"Linear Learner\", \"Host\": \"algo-1\", \"Operation\": \"training\", \"epoch\": 10, \"model\": 6}, \"Metrics\": {\"validation_mse_objective\": {\"sum\": 0.0033354814170077594, \"count\": 1, \"min\": 0.0033354814170077594, \"max\": 0.0033354814170077594}}}\u001b[0m\n",
      "\u001b[34m#metrics {\"StartTime\": 1710960234.5532484, \"EndTime\": 1710960234.55328, \"Dimensions\": {\"Algorithm\": \"Linear Learner\", \"Host\": \"algo-1\", \"Operation\": \"training\", \"epoch\": 10, \"model\": 7}, \"Metrics\": {\"validation_mse_objective\": {\"sum\": 0.003548129543937452, \"count\": 1, \"min\": 0.003548129543937452, \"max\": 0.003548129543937452}}}\u001b[0m\n",
      "\u001b[34m#metrics {\"StartTime\": 1710960234.5533895, \"EndTime\": 1710960234.553422, \"Dimensions\": {\"Algorithm\": \"Linear Learner\", \"Host\": \"algo-1\", \"Operation\": \"training\", \"epoch\": 10, \"model\": 8}, \"Metrics\": {\"validation_mse_objective\": {\"sum\": 0.0032109548861746057, \"count\": 1, \"min\": 0.0032109548861746057, \"max\": 0.0032109548861746057}}}\u001b[0m\n",
      "\u001b[34m#metrics {\"StartTime\": 1710960234.5535324, \"EndTime\": 1710960234.553563, \"Dimensions\": {\"Algorithm\": \"Linear Learner\", \"Host\": \"algo-1\", \"Operation\": \"training\", \"epoch\": 10, \"model\": 9}, \"Metrics\": {\"validation_mse_objective\": {\"sum\": 0.0032321831749778937, \"count\": 1, \"min\": 0.0032321831749778937, \"max\": 0.0032321831749778937}}}\u001b[0m\n",
      "\u001b[34m#metrics {\"StartTime\": 1710960234.5536282, \"EndTime\": 1710960234.5536442, \"Dimensions\": {\"Algorithm\": \"Linear Learner\", \"Host\": \"algo-1\", \"Operation\": \"training\", \"epoch\": 10, \"model\": 10}, \"Metrics\": {\"validation_mse_objective\": {\"sum\": 0.0032102148269458047, \"count\": 1, \"min\": 0.0032102148269458047, \"max\": 0.0032102148269458047}}}\u001b[0m\n",
      "\u001b[34m#metrics {\"StartTime\": 1710960234.5536888, \"EndTime\": 1710960234.553722, \"Dimensions\": {\"Algorithm\": \"Linear Learner\", \"Host\": \"algo-1\", \"Operation\": \"training\", \"epoch\": 10, \"model\": 11}, \"Metrics\": {\"validation_mse_objective\": {\"sum\": 0.003232017091668576, \"count\": 1, \"min\": 0.003232017091668576, \"max\": 0.003232017091668576}}}\u001b[0m\n",
      "\u001b[34m#metrics {\"StartTime\": 1710960234.5537632, \"EndTime\": 1710960234.5537906, \"Dimensions\": {\"Algorithm\": \"Linear Learner\", \"Host\": \"algo-1\", \"Operation\": \"training\", \"epoch\": 10, \"model\": 12}, \"Metrics\": {\"validation_mse_objective\": {\"sum\": 0.0033433616734100256, \"count\": 1, \"min\": 0.0033433616734100256, \"max\": 0.0033433616734100256}}}\u001b[0m\n",
      "\u001b[34m#metrics {\"StartTime\": 1710960234.5538337, \"EndTime\": 1710960234.553867, \"Dimensions\": {\"Algorithm\": \"Linear Learner\", \"Host\": \"algo-1\", \"Operation\": \"training\", \"epoch\": 10, \"model\": 13}, \"Metrics\": {\"validation_mse_objective\": {\"sum\": 0.0035408760828312172, \"count\": 1, \"min\": 0.0035408760828312172, \"max\": 0.0035408760828312172}}}\u001b[0m\n",
      "\u001b[34m#metrics {\"StartTime\": 1710960234.5539103, \"EndTime\": 1710960234.5539212, \"Dimensions\": {\"Algorithm\": \"Linear Learner\", \"Host\": \"algo-1\", \"Operation\": \"training\", \"epoch\": 10, \"model\": 14}, \"Metrics\": {\"validation_mse_objective\": {\"sum\": 0.003345620545780466, \"count\": 1, \"min\": 0.003345620545780466, \"max\": 0.003345620545780466}}}\u001b[0m\n",
      "\u001b[34m#metrics {\"StartTime\": 1710960234.5539563, \"EndTime\": 1710960234.553965, \"Dimensions\": {\"Algorithm\": \"Linear Learner\", \"Host\": \"algo-1\", \"Operation\": \"training\", \"epoch\": 10, \"model\": 15}, \"Metrics\": {\"validation_mse_objective\": {\"sum\": 0.003551313440168173, \"count\": 1, \"min\": 0.003551313440168173, \"max\": 0.003551313440168173}}}\u001b[0m\n",
      "\u001b[34m#metrics {\"StartTime\": 1710960234.5539954, \"EndTime\": 1710960234.5540233, \"Dimensions\": {\"Algorithm\": \"Linear Learner\", \"Host\": \"algo-1\", \"Operation\": \"training\", \"epoch\": 10, \"model\": 16}, \"Metrics\": {\"validation_mse_objective\": {\"sum\": 0.007553130758685314, \"count\": 1, \"min\": 0.007553130758685314, \"max\": 0.007553130758685314}}}\u001b[0m\n",
      "\u001b[34m#metrics {\"StartTime\": 1710960234.5540626, \"EndTime\": 1710960234.5540724, \"Dimensions\": {\"Algorithm\": \"Linear Learner\", \"Host\": \"algo-1\", \"Operation\": \"training\", \"epoch\": 10, \"model\": 17}, \"Metrics\": {\"validation_mse_objective\": {\"sum\": 0.00721712210626787, \"count\": 1, \"min\": 0.00721712210626787, \"max\": 0.00721712210626787}}}\u001b[0m\n",
      "\u001b[34m#metrics {\"StartTime\": 1710960234.5541527, \"EndTime\": 1710960234.5541646, \"Dimensions\": {\"Algorithm\": \"Linear Learner\", \"Host\": \"algo-1\", \"Operation\": \"training\", \"epoch\": 10, \"model\": 18}, \"Metrics\": {\"validation_mse_objective\": {\"sum\": 0.007573863345119926, \"count\": 1, \"min\": 0.007573863345119926, \"max\": 0.007573863345119926}}}\u001b[0m\n",
      "\u001b[34m#metrics {\"StartTime\": 1710960234.5542397, \"EndTime\": 1710960234.5542674, \"Dimensions\": {\"Algorithm\": \"Linear Learner\", \"Host\": \"algo-1\", \"Operation\": \"training\", \"epoch\": 10, \"model\": 19}, \"Metrics\": {\"validation_mse_objective\": {\"sum\": 0.007225480475663772, \"count\": 1, \"min\": 0.007225480475663772, \"max\": 0.007225480475663772}}}\u001b[0m\n",
      "\u001b[34m#metrics {\"StartTime\": 1710960234.5543103, \"EndTime\": 1710960234.5543425, \"Dimensions\": {\"Algorithm\": \"Linear Learner\", \"Host\": \"algo-1\", \"Operation\": \"training\", \"epoch\": 10, \"model\": 20}, \"Metrics\": {\"validation_mse_objective\": {\"sum\": 0.0068786311656565576, \"count\": 1, \"min\": 0.0068786311656565576, \"max\": 0.0068786311656565576}}}\u001b[0m\n",
      "\u001b[34m#metrics {\"StartTime\": 1710960234.554387, \"EndTime\": 1710960234.554414, \"Dimensions\": {\"Algorithm\": \"Linear Learner\", \"Host\": \"algo-1\", \"Operation\": \"training\", \"epoch\": 10, \"model\": 21}, \"Metrics\": {\"validation_mse_objective\": {\"sum\": 0.006571964209027267, \"count\": 1, \"min\": 0.006571964209027267, \"max\": 0.006571964209027267}}}\u001b[0m\n",
      "\u001b[34m#metrics {\"StartTime\": 1710960234.5544548, \"EndTime\": 1710960234.5544884, \"Dimensions\": {\"Algorithm\": \"Linear Learner\", \"Host\": \"algo-1\", \"Operation\": \"training\", \"epoch\": 10, \"model\": 22}, \"Metrics\": {\"validation_mse_objective\": {\"sum\": 0.006879507160785721, \"count\": 1, \"min\": 0.006879507160785721, \"max\": 0.006879507160785721}}}\u001b[0m\n",
      "\u001b[34m#metrics {\"StartTime\": 1710960234.5545304, \"EndTime\": 1710960234.5545578, \"Dimensions\": {\"Algorithm\": \"Linear Learner\", \"Host\": \"algo-1\", \"Operation\": \"training\", \"epoch\": 10, \"model\": 23}, \"Metrics\": {\"validation_mse_objective\": {\"sum\": 0.006577587408229739, \"count\": 1, \"min\": 0.006577587408229739, \"max\": 0.006577587408229739}}}\u001b[0m\n",
      "\u001b[34m#metrics {\"StartTime\": 1710960234.5545988, \"EndTime\": 1710960234.5546322, \"Dimensions\": {\"Algorithm\": \"Linear Learner\", \"Host\": \"algo-1\", \"Operation\": \"training\", \"epoch\": 10, \"model\": 24}, \"Metrics\": {\"validation_mse_objective\": {\"sum\": 0.036753492118519186, \"count\": 1, \"min\": 0.036753492118519186, \"max\": 0.036753492118519186}}}\u001b[0m\n",
      "\u001b[34m#metrics {\"StartTime\": 1710960234.554676, \"EndTime\": 1710960234.5547042, \"Dimensions\": {\"Algorithm\": \"Linear Learner\", \"Host\": \"algo-1\", \"Operation\": \"training\", \"epoch\": 10, \"model\": 25}, \"Metrics\": {\"validation_mse_objective\": {\"sum\": 0.03705609492054955, \"count\": 1, \"min\": 0.03705609492054955, \"max\": 0.03705609492054955}}}\u001b[0m\n",
      "\u001b[34m#metrics {\"StartTime\": 1710960234.5547454, \"EndTime\": 1710960234.554778, \"Dimensions\": {\"Algorithm\": \"Linear Learner\", \"Host\": \"algo-1\", \"Operation\": \"training\", \"epoch\": 10, \"model\": 26}, \"Metrics\": {\"validation_mse_objective\": {\"sum\": 0.036757091152839344, \"count\": 1, \"min\": 0.036757091152839344, \"max\": 0.036757091152839344}}}\u001b[0m\n",
      "\u001b[34m#metrics {\"StartTime\": 1710960234.55482, \"EndTime\": 1710960234.5548315, \"Dimensions\": {\"Algorithm\": \"Linear Learner\", \"Host\": \"algo-1\", \"Operation\": \"training\", \"epoch\": 10, \"model\": 27}, \"Metrics\": {\"validation_mse_objective\": {\"sum\": 0.03716557595182738, \"count\": 1, \"min\": 0.03716557595182738, \"max\": 0.03716557595182738}}}\u001b[0m\n",
      "\u001b[34m#metrics {\"StartTime\": 1710960234.5549364, \"EndTime\": 1710960234.5549486, \"Dimensions\": {\"Algorithm\": \"Linear Learner\", \"Host\": \"algo-1\", \"Operation\": \"training\", \"epoch\": 10, \"model\": 28}, \"Metrics\": {\"validation_mse_objective\": {\"sum\": 0.036678012930147455, \"count\": 1, \"min\": 0.036678012930147455, \"max\": 0.036678012930147455}}}\u001b[0m\n",
      "\u001b[34m#metrics {\"StartTime\": 1710960234.5549831, \"EndTime\": 1710960234.5549922, \"Dimensions\": {\"Algorithm\": \"Linear Learner\", \"Host\": \"algo-1\", \"Operation\": \"training\", \"epoch\": 10, \"model\": 29}, \"Metrics\": {\"validation_mse_objective\": {\"sum\": 0.03895292191075838, \"count\": 1, \"min\": 0.03895292191075838, \"max\": 0.03895292191075838}}}\u001b[0m\n",
      "\u001b[34m#metrics {\"StartTime\": 1710960234.555045, \"EndTime\": 1710960234.5550575, \"Dimensions\": {\"Algorithm\": \"Linear Learner\", \"Host\": \"algo-1\", \"Operation\": \"training\", \"epoch\": 10, \"model\": 30}, \"Metrics\": {\"validation_mse_objective\": {\"sum\": 0.03667602189328881, \"count\": 1, \"min\": 0.03667602189328881, \"max\": 0.03667602189328881}}}\u001b[0m\n",
      "\u001b[34m#metrics {\"StartTime\": 1710960234.5551136, \"EndTime\": 1710960234.5551267, \"Dimensions\": {\"Algorithm\": \"Linear Learner\", \"Host\": \"algo-1\", \"Operation\": \"training\", \"epoch\": 10, \"model\": 31}, \"Metrics\": {\"validation_mse_objective\": {\"sum\": 0.038991140523730365, \"count\": 1, \"min\": 0.038991140523730365, \"max\": 0.038991140523730365}}}\u001b[0m\n",
      "\u001b[34m[03/20/2024 18:43:54 INFO 139961683208000] #quality_metric: host=algo-1, epoch=10, validation mse_objective <loss>=0.0032026333594790354\u001b[0m\n",
      "\u001b[34m[03/20/2024 18:43:54 INFO 139961683208000] #early_stopping_criteria_metric: host=algo-1, epoch=10, criteria=mse_objective, value=0.0032024670322473472\u001b[0m\n",
      "\u001b[34m[03/20/2024 18:43:54 INFO 139961683208000] Saving model for epoch: 10\u001b[0m\n",
      "\u001b[34m[03/20/2024 18:43:54 INFO 139961683208000] Saved checkpoint to \"/tmp/tmp88gb0d4p/mx-mod-0000.params\"\u001b[0m\n",
      "\u001b[34m[03/20/2024 18:43:54 INFO 139961683208000] Early stop condition met. Stopping training.\u001b[0m\n",
      "\u001b[34m[03/20/2024 18:43:54 INFO 139961683208000] #progress_metric: host=algo-1, completed 100 % epochs\u001b[0m\n",
      "\u001b[34m#metrics {\"StartTime\": 1710960231.592303, \"EndTime\": 1710960234.560765, \"Dimensions\": {\"Algorithm\": \"Linear Learner\", \"Host\": \"algo-1\", \"Operation\": \"training\", \"epoch\": 10, \"Meta\": \"training_data_iter\"}, \"Metrics\": {\"Total Records Seen\": {\"sum\": 116932.0, \"count\": 1, \"min\": 116932, \"max\": 116932}, \"Total Batches Seen\": {\"sum\": 1837.0, \"count\": 1, \"min\": 1837, \"max\": 1837}, \"Max Records Seen Between Resets\": {\"sum\": 9739.0, \"count\": 1, \"min\": 9739, \"max\": 9739}, \"Max Batches Seen Between Resets\": {\"sum\": 153.0, \"count\": 1, \"min\": 153, \"max\": 153}, \"Reset Count\": {\"sum\": 13.0, \"count\": 1, \"min\": 13, \"max\": 13}, \"Number of Records Since Last Reset\": {\"sum\": 9739.0, \"count\": 1, \"min\": 9739, \"max\": 9739}, \"Number of Batches Since Last Reset\": {\"sum\": 153.0, \"count\": 1, \"min\": 153, \"max\": 153}}}\u001b[0m\n",
      "\u001b[34m[03/20/2024 18:43:54 INFO 139961683208000] #throughput_metric: host=algo-1, train throughput=3280.640684855573 records/second\u001b[0m\n",
      "\u001b[34m[03/20/2024 18:43:54 WARNING 139961683208000] wait_for_all_workers will not sync workers since the kv store is not running distributed\u001b[0m\n",
      "\u001b[34m[03/20/2024 18:43:54 WARNING 139961683208000] wait_for_all_workers will not sync workers since the kv store is not running distributed\u001b[0m\n",
      "\u001b[34m[03/20/2024 18:43:54 INFO 139961683208000] #early_stopping_criteria_metric: host=algo-1, epoch=10, criteria=mse_objective, value=0.0032024670322473472\u001b[0m\n",
      "\u001b[34m[03/20/2024 18:43:55 INFO 139961683208000] #validation_score (algo-1) : ('mse_objective', 0.0032002708981735384)\u001b[0m\n",
      "\u001b[34m[03/20/2024 18:43:55 INFO 139961683208000] #validation_score (algo-1) : ('mse', 0.0032002708981735384)\u001b[0m\n",
      "\u001b[34m[03/20/2024 18:43:55 INFO 139961683208000] #validation_score (algo-1) : ('absolute_loss', 0.04649234507118163)\u001b[0m\n",
      "\u001b[34m[03/20/2024 18:43:55 INFO 139961683208000] #validation_score (algo-1) : ('rmse', 0.05657093686844455)\u001b[0m\n",
      "\u001b[34m[03/20/2024 18:43:55 INFO 139961683208000] #validation_score (algo-1) : ('r2', 0.9171179663949619)\u001b[0m\n",
      "\u001b[34m[03/20/2024 18:43:55 INFO 139961683208000] #validation_score (algo-1) : ('mae', 0.0464923453641562)\u001b[0m\n",
      "\u001b[34m[03/20/2024 18:43:55 INFO 139961683208000] #quality_metric: host=algo-1, validation mse_objective <loss>=0.0032002708981735384\u001b[0m\n",
      "\u001b[34m[03/20/2024 18:43:55 INFO 139961683208000] #quality_metric: host=algo-1, validation mse <loss>=0.0032002708981735384\u001b[0m\n",
      "\u001b[34m[03/20/2024 18:43:55 INFO 139961683208000] #quality_metric: host=algo-1, validation absolute_loss <loss>=0.04649234507118163\u001b[0m\n",
      "\u001b[34m[03/20/2024 18:43:55 INFO 139961683208000] #quality_metric: host=algo-1, validation rmse <loss>=0.05657093686844455\u001b[0m\n",
      "\u001b[34m[03/20/2024 18:43:55 INFO 139961683208000] #quality_metric: host=algo-1, validation r2 <loss>=0.9171179663949619\u001b[0m\n",
      "\u001b[34m[03/20/2024 18:43:55 INFO 139961683208000] #quality_metric: host=algo-1, validation mae <loss>=0.0464923453641562\u001b[0m\n",
      "\u001b[34m[03/20/2024 18:43:55 INFO 139961683208000] Best model found for hyperparameters: {\"optimizer\": \"adam\", \"learning_rate\": 0.005, \"wd\": 0.0001, \"l1\": 0.0, \"lr_scheduler_step\": 10, \"lr_scheduler_factor\": 0.99, \"lr_scheduler_minimum_lr\": 0.0001}\u001b[0m\n",
      "\u001b[34m[03/20/2024 18:43:55 INFO 139961683208000] Saved checkpoint to \"/tmp/tmpkr77v0f2/mx-mod-0000.params\"\u001b[0m\n",
      "\u001b[34m[03/20/2024 18:43:55 INFO 139961683208000] Test data is not provided.\u001b[0m\n",
      "\u001b[34m#metrics {\"StartTime\": 1710960199.219389, \"EndTime\": 1710960235.0824468, \"Dimensions\": {\"Algorithm\": \"Linear Learner\", \"Host\": \"algo-1\", \"Operation\": \"training\"}, \"Metrics\": {\"initialize.time\": {\"sum\": 1021.6023921966553, \"count\": 1, \"min\": 1021.6023921966553, \"max\": 1021.6023921966553}, \"epochs\": {\"sum\": 15.0, \"count\": 1, \"min\": 15, \"max\": 15}, \"check_early_stopping.time\": {\"sum\": 9.629487991333008, \"count\": 12, \"min\": 0.28252601623535156, \"max\": 1.3616085052490234}, \"update.time\": {\"sum\": 34285.409688949585, \"count\": 11, \"min\": 2965.848207473755, \"max\": 4211.096525192261}, \"finalize.time\": {\"sum\": 516.3090229034424, \"count\": 1, \"min\": 516.3090229034424, \"max\": 516.3090229034424}, \"setuptime\": {\"sum\": 2.192258834838867, \"count\": 1, \"min\": 2.192258834838867, \"max\": 2.192258834838867}, \"totaltime\": {\"sum\": 35974.66015815735, \"count\": 1, \"min\": 35974.66015815735, \"max\": 35974.66015815735}}}\u001b[0m\n",
      "\n",
      "2024-03-20 18:44:18 Uploading - Uploading generated training model\n",
      "2024-03-20 18:44:18 Completed - Training job completed\n",
      "Training seconds: 182\n",
      "Billable seconds: 182\n"
     ]
    }
   ],
   "source": [
    "# Fit the SageMaker Linear Learner estimator to the training and testing data \n",
    "linear_learner.fit({'train': TrainingInput(train_uri, content_type='text/csv'),\n",
    "                    'validation': TrainingInput(test_uri, content_type='text/csv')})"
   ]
  },
  {
   "cell_type": "markdown",
   "id": "03558194-8510-459a-ab71-10de7a0ef602",
   "metadata": {},
   "source": [
    "## Hyperparameter Tuning"
   ]
  },
  {
   "cell_type": "code",
   "execution_count": 43,
   "id": "f5e4f586-53b7-4768-832a-40b0d738d06d",
   "metadata": {
    "tags": []
   },
   "outputs": [
    {
     "name": "stderr",
     "output_type": "stream",
     "text": [
      "INFO:sagemaker:Creating hyperparameter tuning job with name: linear-learner-240320-1904\n"
     ]
    },
    {
     "name": "stdout",
     "output_type": "stream",
     "text": [
      ".............................................................................................................!\n"
     ]
    }
   ],
   "source": [
    "from sagemaker.tuner import HyperparameterTuner, IntegerParameter, ContinuousParameter\n",
    "\n",
    "# Defining hyperparameter ranges to tune\n",
    "hyperparameter_ranges = {\n",
    "    'learning_rate': ContinuousParameter(0.0001, 0.1),\n",
    "    'mini_batch_size': IntegerParameter(16, 64)\n",
    "}\n",
    "\n",
    "# Creating a HyperparameterTuner object\n",
    "tuner = HyperparameterTuner(linear_learner,\n",
    "                            objective_metric_name='validation:rmse',\n",
    "                            objective_type='Minimize',\n",
    "                            hyperparameter_ranges=hyperparameter_ranges,\n",
    "                            max_jobs=10,\n",
    "                            max_parallel_jobs=2)\n",
    "\n",
    "# Launch the hyperparameter tuning job\n",
    "tuner.fit({'train': TrainingInput(train_uri, content_type='text/csv'),\n",
    "           'validation': TrainingInput(test_uri, content_type='text/csv')})"
   ]
  },
  {
   "cell_type": "markdown",
   "id": "b52e73b1-1a97-4af7-8cd6-40af83b00c65",
   "metadata": {},
   "source": [
    "## Deploy the Endpoint"
   ]
  },
  {
   "cell_type": "markdown",
   "id": "3b1907e2-11cc-4733-a6d3-43ce106abed3",
   "metadata": {},
   "source": [
    "### Check to see if the Endpoint exists and if it does delete it"
   ]
  },
  {
   "cell_type": "code",
   "execution_count": 58,
   "id": "8c6d5dd0-eb6e-46e2-9b5a-210af88a3682",
   "metadata": {
    "tags": []
   },
   "outputs": [],
   "source": [
    "EndpointConfig=\"regression-linear-learner-endpoint\"\n",
    "Endpoint=\"regression-linear-learner-endpoint\""
   ]
  },
  {
   "cell_type": "code",
   "execution_count": 66,
   "id": "a4ac08ad-bec6-4ae1-ba3e-19a32247c16a",
   "metadata": {
    "tags": []
   },
   "outputs": [],
   "source": [
    "def delete_sagemaker_endpoint_config(endpoint_name):\n",
    "    # Initialize SageMaker Client\n",
    "    sagemaker = boto3.client('sagemaker', region_name=region)\n",
    "    \n",
    "    try:\n",
    "        # Check if the endpoint configuration exists\n",
    "        reponse = sagemaker.describe_endpoint_config(EndpointConfigName=endpoint_name)\n",
    "        \n",
    "        # If the configuration exists, delete it\n",
    "        if reponse:\n",
    "            sagemaker.delete_endpoint_config(EndpointConfigName=endpoint_name)\n",
    "            print(f\"Endpoint configuration '{endpoint_name}' has been deleted.\")\n",
    "        \n",
    "        return True # Deletion successful\n",
    "    \n",
    "    except Exception as e:\n",
    "        error_message = str(e)\n",
    "        \n",
    "        if \"Could not find endpoint configuration\" in error_message:\n",
    "            print(f\"Endpoint configuration '{endpoint_name}' not found. No action taken.\")\n",
    "            return True  # Configuration not found, exit gracefully\n",
    "        else:\n",
    "            print(f\"Error deleting SageMaker endpoint configuration: {error_message}\")\n",
    "            return False  # Deletion failed\n",
    "    \n",
    "def delete_sagemaker_endpoint(endpoint_name):\n",
    "    # Initialize SageMaker Client\n",
    "    sagemaker = boto3.client('sagemaker', region_name=region)\n",
    "    \n",
    "    try:\n",
    "        # Check if the endpoint exists\n",
    "        response = sagemaker.describe_endpoint(EndpointName=endpoint_name)\n",
    "        \n",
    "        # If the endpoint exists, delete it\n",
    "        if response:\n",
    "            sagemaker.delete_endpoint(EndpointName=endpoint_name)\n",
    "            print(f\"Endpoint '{endpoint_name}' has been deleted.\")\n",
    "        \n",
    "        return True # Deletion successful\n",
    "    \n",
    "    except Exception as e:\n",
    "        error_message = str(e)\n",
    "        \n",
    "        if \"Could not find endpoint\" in error_message:\n",
    "            print(f\"Endpoint '{endpoint_name}' not found. No action taken.\")\n",
    "            return True  # Endpoint not found, exit gracefully\n",
    "        else:\n",
    "            print(f\"Error deleting SageMaker endpoint: {error_message}\")\n",
    "            return False  # Deletion failed"
   ]
  },
  {
   "cell_type": "code",
   "execution_count": 67,
   "id": "6635fa5c-3a08-4e94-b396-3ac120140bc3",
   "metadata": {
    "tags": []
   },
   "outputs": [
    {
     "name": "stdout",
     "output_type": "stream",
     "text": [
      "Endpoint configuration 'regression-linear-learner-endpoint' has been deleted.\n",
      "Endpoint 'regression-linear-learner-endpoint' has been deleted.\n",
      "Success!\n"
     ]
    }
   ],
   "source": [
    "# Delete the Endpoint and Config\n",
    "result_endpoint_config = delete_sagemaker_endpoint_config(Endpoint)\n",
    "result_endpoint = delete_sagemaker_endpoint(Endpoint)\n",
    "\n",
    "if result_endpoint_config and result_endpoint:\n",
    "    print(\"Success!\")\n",
    "else:\n",
    "    print(\"Failure.\")"
   ]
  },
  {
   "cell_type": "code",
   "execution_count": 118,
   "id": "2e528f86-f855-4a96-8f5c-4c6bd8b7e80a",
   "metadata": {
    "tags": []
   },
   "outputs": [
    {
     "name": "stdout",
     "output_type": "stream",
     "text": [
      "\n",
      "2024-03-20 19:10:53 Starting - Found matching resource for reuse\n",
      "2024-03-20 19:10:53 Downloading - Downloading the training image\n",
      "2024-03-20 19:10:53 Training - Training image download completed. Training in progress.\n",
      "2024-03-20 19:10:53 Uploading - Uploading generated training model\n",
      "2024-03-20 19:10:53 Completed - Resource reused by training job: linear-learner-240320-1904-008-84fd04fa"
     ]
    },
    {
     "name": "stderr",
     "output_type": "stream",
     "text": [
      "INFO:sagemaker:Creating model with name: linear-learner-2024-03-20-20-46-15-046\n"
     ]
    },
    {
     "name": "stdout",
     "output_type": "stream",
     "text": [
      "\n"
     ]
    },
    {
     "name": "stderr",
     "output_type": "stream",
     "text": [
      "INFO:sagemaker:Creating endpoint-config with name regression-linear-learner-endpoint\n",
      "INFO:sagemaker:Creating endpoint with name regression-linear-learner-endpoint\n"
     ]
    },
    {
     "name": "stdout",
     "output_type": "stream",
     "text": [
      "-------!"
     ]
    }
   ],
   "source": [
    "# Get the best training job name from the tuner\n",
    "best_training_job = tuner.best_training_job()\n",
    "\n",
    "# Create a model from the best training job\n",
    "best_model = sagemaker.estimator.Estimator.attach(best_training_job)\n",
    "\n",
    "linear_predictor = best_model.deploy(\n",
    "    initial_instance_count=1, # Number of initial instances\n",
    "    instance_type='ml.m5.large', # Type of instance for serving the endpoint\n",
    "    endpoint_name=Endpoint\n",
    ")"
   ]
  },
  {
   "cell_type": "markdown",
   "id": "4bcaca6b-42bc-4af3-971d-34532670f2b0",
   "metadata": {},
   "source": [
    "## Query the Endpoint"
   ]
  },
  {
   "cell_type": "code",
   "execution_count": 119,
   "id": "b0881c10-c599-437a-abed-5edebf2c6771",
   "metadata": {
    "tags": []
   },
   "outputs": [],
   "source": [
    "from sagemaker.serializers import CSVSerializer\n",
    "from sagemaker.deserializers import JSONDeserializer\n",
    "\n",
    "# Set the serializer to CSV\n",
    "linear_predictor.serializer = CSVSerializer()\n",
    "\n",
    "# Set the deserializer to JSON\n",
    "linear_predictor.deserializer = JSONDeserializer()"
   ]
  },
  {
   "cell_type": "code",
   "execution_count": 120,
   "id": "6445fa95-7e10-47e5-a5eb-fa13777e4344",
   "metadata": {
    "tags": []
   },
   "outputs": [
    {
     "name": "stdout",
     "output_type": "stream",
     "text": [
      "Predicted value: 0.7272987365722656\n"
     ]
    }
   ],
   "source": [
    "# Sample hardcoded data point\n",
    "# Feature order: Start_Date, Gender, WFH_Status, Seniority, Work_Hour_Load, Mental_Fatigue\n",
    "sample_data = [20080507, 1, 0, 3, 8, 8]\n",
    "\n",
    "# Convert the sample data to a CSV string\n",
    "query_data_csv = ','.join([str(item) for item in sample_data])\n",
    "\n",
    "# Querying the model and getting a prediction\n",
    "response = linear_predictor.predict(query_data_csv)\n",
    "\n",
    "# Print out the prediction\n",
    "print(\"Predicted value:\", response['predictions'][0]['score'])"
   ]
  },
  {
   "cell_type": "code",
   "execution_count": 123,
   "id": "a6dc7c2c-ab11-4920-b1c7-3d3db0f06e1b",
   "metadata": {
    "tags": []
   },
   "outputs": [
    {
     "name": "stdout",
     "output_type": "stream",
     "text": [
      "[{'predictions': [{'score': 0.527923583984375}]}, {'predictions': [{'score': 0.316253662109375}]}, {'predictions': [{'score': -0.02849578857421875}]}, {'predictions': [{'score': 0.5089588165283203}]}, {'predictions': [{'score': 0.5972728729248047}]}, {'predictions': [{'score': 0.28835487365722656}]}, {'predictions': [{'score': 0.384185791015625}]}, {'predictions': [{'score': 0.41179466247558594}]}, {'predictions': [{'score': 0.08864021301269531}]}, {'predictions': [{'score': 0.4310474395751953}]}, {'predictions': [{'score': 0.4951305389404297}]}, {'predictions': [{'score': 0.4024486541748047}]}, {'predictions': [{'score': 0.2798480987548828}]}, {'predictions': [{'score': 0.6029815673828125}]}, {'predictions': [{'score': 0.5787868499755859}]}, {'predictions': [{'score': 0.2670936584472656}]}, {'predictions': [{'score': 0.6024589538574219}]}, {'predictions': [{'score': 0.22373580932617188}]}, {'predictions': [{'score': 0.6709156036376953}]}, {'predictions': [{'score': 0.21978759765625}]}, {'predictions': [{'score': 0.7336902618408203}]}, {'predictions': [{'score': 0.00608062744140625}]}, {'predictions': [{'score': 0.20854949951171875}]}, {'predictions': [{'score': 0.5378227233886719}]}, {'predictions': [{'score': 0.8927345275878906}]}, {'predictions': [{'score': 0.5569019317626953}]}, {'predictions': [{'score': 0.3122234344482422}]}, {'predictions': [{'score': 0.5905532836914062}]}, {'predictions': [{'score': 0.234130859375}]}, {'predictions': [{'score': 0.7159194946289062}]}, {'predictions': [{'score': 0.4872589111328125}]}, {'predictions': [{'score': 0.2744331359863281}]}, {'predictions': [{'score': 0.12468147277832031}]}, {'predictions': [{'score': 0.07918357849121094}]}, {'predictions': [{'score': 0.3900318145751953}]}, {'predictions': [{'score': 0.7465877532958984}]}, {'predictions': [{'score': 0.4660453796386719}]}, {'predictions': [{'score': 0.7526626586914062}]}, {'predictions': [{'score': 0.39862060546875}]}, {'predictions': [{'score': 0.8880462646484375}]}, {'predictions': [{'score': 0.5878620147705078}]}, {'predictions': [{'score': 0.43736839294433594}]}, {'predictions': [{'score': 0.40668296813964844}]}, {'predictions': [{'score': 0.3555774688720703}]}, {'predictions': [{'score': 0.4042472839355469}]}, {'predictions': [{'score': 0.4836769104003906}]}, {'predictions': [{'score': 0.6060523986816406}]}, {'predictions': [{'score': 0.457489013671875}]}, {'predictions': [{'score': 0.49611663818359375}]}, {'predictions': [{'score': 0.49588966369628906}]}, {'predictions': [{'score': 0.5175189971923828}]}, {'predictions': [{'score': 0.7985553741455078}]}, {'predictions': [{'score': 0.5854339599609375}]}, {'predictions': [{'score': 0.2311534881591797}]}, {'predictions': [{'score': 0.5909404754638672}]}, {'predictions': [{'score': 0.4931926727294922}]}, {'predictions': [{'score': 0.25829505920410156}]}, {'predictions': [{'score': 0.42118263244628906}]}, {'predictions': [{'score': 0.5117282867431641}]}, {'predictions': [{'score': 0.269744873046875}]}, {'predictions': [{'score': 0.7170562744140625}]}, {'predictions': [{'score': 0.6336193084716797}]}, {'predictions': [{'score': 0.2287311553955078}]}, {'predictions': [{'score': 0.874786376953125}]}, {'predictions': [{'score': 0.47736167907714844}]}, {'predictions': [{'score': 0.6129684448242188}]}, {'predictions': [{'score': 0.5366325378417969}]}, {'predictions': [{'score': 0.1547832489013672}]}, {'predictions': [{'score': 0.6838417053222656}]}, {'predictions': [{'score': 0.40505027770996094}]}, {'predictions': [{'score': 0.23785018920898438}]}, {'predictions': [{'score': 0.1322193145751953}]}, {'predictions': [{'score': 0.3998451232910156}]}, {'predictions': [{'score': 0.12305259704589844}]}, {'predictions': [{'score': 0.5367717742919922}]}, {'predictions': [{'score': 0.30341148376464844}]}, {'predictions': [{'score': 0.5887355804443359}]}, {'predictions': [{'score': 0.5032310485839844}]}, {'predictions': [{'score': 0.6485748291015625}]}, {'predictions': [{'score': 0.46728515625}]}, {'predictions': [{'score': 0.4511260986328125}]}, {'predictions': [{'score': 0.6191368103027344}]}, {'predictions': [{'score': 0.3803539276123047}]}, {'predictions': [{'score': 0.38433837890625}]}, {'predictions': [{'score': 0.5950889587402344}]}, {'predictions': [{'score': 0.6983852386474609}]}, {'predictions': [{'score': 0.3217010498046875}]}, {'predictions': [{'score': 0.25821495056152344}]}, {'predictions': [{'score': 0.3654632568359375}]}, {'predictions': [{'score': 0.06778526306152344}]}, {'predictions': [{'score': 0.7302360534667969}]}, {'predictions': [{'score': 0.4333534240722656}]}, {'predictions': [{'score': 0.42817115783691406}]}, {'predictions': [{'score': 0.3723888397216797}]}, {'predictions': [{'score': 0.6331119537353516}]}, {'predictions': [{'score': 0.4720039367675781}]}, {'predictions': [{'score': 0.25260162353515625}]}, {'predictions': [{'score': 0.41182708740234375}]}, {'predictions': [{'score': 0.4976329803466797}]}, {'predictions': [{'score': 0.47112083435058594}]}, {'predictions': [{'score': 0.6807670593261719}]}, {'predictions': [{'score': 0.21445655822753906}]}, {'predictions': [{'score': 0.5448932647705078}]}, {'predictions': [{'score': 0.7060203552246094}]}, {'predictions': [{'score': 0.294525146484375}]}, {'predictions': [{'score': 0.5966129302978516}]}, {'predictions': [{'score': 0.2691841125488281}]}, {'predictions': [{'score': 0.36412811279296875}]}, {'predictions': [{'score': 0.1471424102783203}]}, {'predictions': [{'score': 0.7921867370605469}]}, {'predictions': [{'score': 0.6846790313720703}]}, {'predictions': [{'score': 0.43700218200683594}]}, {'predictions': [{'score': 0.7279605865478516}]}, {'predictions': [{'score': 0.23614883422851562}]}, {'predictions': [{'score': 0.3044281005859375}]}, {'predictions': [{'score': 0.7479400634765625}]}, {'predictions': [{'score': 0.6861381530761719}]}, {'predictions': [{'score': -0.06731414794921875}]}, {'predictions': [{'score': 0.1999530792236328}]}, {'predictions': [{'score': 0.4005241394042969}]}, {'predictions': [{'score': 0.47296142578125}]}, {'predictions': [{'score': 0.35648345947265625}]}, {'predictions': [{'score': 0.5184612274169922}]}, {'predictions': [{'score': 0.4463691711425781}]}, {'predictions': [{'score': 0.14846229553222656}]}, {'predictions': [{'score': 0.4211597442626953}]}, {'predictions': [{'score': 0.6417865753173828}]}, {'predictions': [{'score': 0.6661853790283203}]}, {'predictions': [{'score': 0.6874809265136719}]}, {'predictions': [{'score': 0.4288616180419922}]}, {'predictions': [{'score': 0.40035247802734375}]}, {'predictions': [{'score': 0.383941650390625}]}, {'predictions': [{'score': 0.5688190460205078}]}, {'predictions': [{'score': 0.36058998107910156}]}, {'predictions': [{'score': 0.6077384948730469}]}, {'predictions': [{'score': 0.47660255432128906}]}, {'predictions': [{'score': 0.6334972381591797}]}, {'predictions': [{'score': 0.4237689971923828}]}, {'predictions': [{'score': 0.6708889007568359}]}, {'predictions': [{'score': 0.5130672454833984}]}, {'predictions': [{'score': 0.6352500915527344}]}, {'predictions': [{'score': 0.14011573791503906}]}, {'predictions': [{'score': 0.5121726989746094}]}, {'predictions': [{'score': 0.5838985443115234}]}, {'predictions': [{'score': 0.33783531188964844}]}, {'predictions': [{'score': 0.5146255493164062}]}, {'predictions': [{'score': 0.463897705078125}]}, {'predictions': [{'score': 0.6370620727539062}]}, {'predictions': [{'score': 0.5880527496337891}]}, {'predictions': [{'score': 0.4835014343261719}]}, {'predictions': [{'score': 0.7022819519042969}]}, {'predictions': [{'score': 0.23635101318359375}]}, {'predictions': [{'score': 0.5173816680908203}]}, {'predictions': [{'score': 0.49413490295410156}]}, {'predictions': [{'score': 0.47638893127441406}]}, {'predictions': [{'score': 0.7437362670898438}]}, {'predictions': [{'score': 0.6226139068603516}]}, {'predictions': [{'score': 0.4383106231689453}]}, {'predictions': [{'score': 0.5338573455810547}]}, {'predictions': [{'score': 0.435150146484375}]}, {'predictions': [{'score': 0.17613792419433594}]}, {'predictions': [{'score': 0.4492034912109375}]}, {'predictions': [{'score': 0.5504436492919922}]}, {'predictions': [{'score': 0.4079113006591797}]}, {'predictions': [{'score': 0.1469860076904297}]}, {'predictions': [{'score': 0.7365283966064453}]}, {'predictions': [{'score': 0.573455810546875}]}, {'predictions': [{'score': 0.28247833251953125}]}, {'predictions': [{'score': 0.6297340393066406}]}, {'predictions': [{'score': 0.2810020446777344}]}, {'predictions': [{'score': 0.27395057678222656}]}, {'predictions': [{'score': 0.2068195343017578}]}, {'predictions': [{'score': 0.46471405029296875}]}, {'predictions': [{'score': 0.23129653930664062}]}, {'predictions': [{'score': 0.5411205291748047}]}, {'predictions': [{'score': 0.34552764892578125}]}, {'predictions': [{'score': 0.6354579925537109}]}, {'predictions': [{'score': 0.6568813323974609}]}, {'predictions': [{'score': 0.43155670166015625}]}, {'predictions': [{'score': 0.4659996032714844}]}, {'predictions': [{'score': 0.6718406677246094}]}, {'predictions': [{'score': 0.07387542724609375}]}, {'predictions': [{'score': 0.00220489501953125}]}, {'predictions': [{'score': 0.529754638671875}]}, {'predictions': [{'score': 0.8044395446777344}]}, {'predictions': [{'score': 0.6156673431396484}]}, {'predictions': [{'score': 0.7559146881103516}]}, {'predictions': [{'score': 0.3788337707519531}]}, {'predictions': [{'score': 0.6299514770507812}]}, {'predictions': [{'score': 0.32579612731933594}]}, {'predictions': [{'score': 0.4026069641113281}]}, {'predictions': [{'score': 0.4872894287109375}]}, {'predictions': [{'score': 0.33954811096191406}]}, {'predictions': [{'score': 0.4430885314941406}]}, {'predictions': [{'score': 0.20211410522460938}]}, {'predictions': [{'score': 0.25159454345703125}]}, {'predictions': [{'score': 0.5309257507324219}]}, {'predictions': [{'score': 0.20677947998046875}]}, {'predictions': [{'score': 0.32631683349609375}]}, {'predictions': [{'score': 0.44199562072753906}]}, {'predictions': [{'score': 0.39754295349121094}]}, {'predictions': [{'score': 0.6688213348388672}]}, {'predictions': [{'score': 0.8055229187011719}]}, {'predictions': [{'score': 0.5797500610351562}]}, {'predictions': [{'score': 0.3974037170410156}]}, {'predictions': [{'score': 0.48920249938964844}]}, {'predictions': [{'score': 0.8775100708007812}]}, {'predictions': [{'score': 0.7151050567626953}]}, {'predictions': [{'score': 0.4518108367919922}]}, {'predictions': [{'score': 0.7256374359130859}]}, {'predictions': [{'score': 0.11738014221191406}]}, {'predictions': [{'score': 0.4634056091308594}]}, {'predictions': [{'score': 0.2524871826171875}]}, {'predictions': [{'score': 0.4774131774902344}]}, {'predictions': [{'score': 0.37613677978515625}]}, {'predictions': [{'score': 0.7947826385498047}]}, {'predictions': [{'score': 0.5722560882568359}]}, {'predictions': [{'score': 0.3335838317871094}]}, {'predictions': [{'score': 0.4365215301513672}]}, {'predictions': [{'score': 0.7769508361816406}]}, {'predictions': [{'score': 0.6297473907470703}]}, {'predictions': [{'score': 0.28896141052246094}]}, {'predictions': [{'score': 0.5946254730224609}]}, {'predictions': [{'score': 0.5785255432128906}]}, {'predictions': [{'score': 0.3259410858154297}]}, {'predictions': [{'score': 0.6262283325195312}]}, {'predictions': [{'score': 0.5304298400878906}]}, {'predictions': [{'score': 0.7305564880371094}]}, {'predictions': [{'score': 0.5277156829833984}]}, {'predictions': [{'score': 0.3666515350341797}]}, {'predictions': [{'score': 0.5904197692871094}]}, {'predictions': [{'score': 0.4325847625732422}]}, {'predictions': [{'score': -0.010141372680664062}]}, {'predictions': [{'score': 0.37258338928222656}]}, {'predictions': [{'score': 0.6329250335693359}]}, {'predictions': [{'score': 0.6151103973388672}]}, {'predictions': [{'score': 0.8472728729248047}]}, {'predictions': [{'score': 0.4936351776123047}]}, {'predictions': [{'score': 0.2039642333984375}]}, {'predictions': [{'score': 0.4607067108154297}]}, {'predictions': [{'score': 0.05957984924316406}]}, {'predictions': [{'score': 0.022064208984375}]}, {'predictions': [{'score': 0.42453956604003906}]}, {'predictions': [{'score': 0.4233055114746094}]}, {'predictions': [{'score': 0.7677459716796875}]}, {'predictions': [{'score': 0.4242572784423828}]}, {'predictions': [{'score': 0.4429168701171875}]}, {'predictions': [{'score': 0.28978538513183594}]}, {'predictions': [{'score': 0.57562255859375}]}, {'predictions': [{'score': 0.6865081787109375}]}, {'predictions': [{'score': 0.520660400390625}]}, {'predictions': [{'score': 0.5460987091064453}]}, {'predictions': [{'score': 0.66192626953125}]}, {'predictions': [{'score': 0.6422653198242188}]}, {'predictions': [{'score': 0.10758018493652344}]}, {'predictions': [{'score': 0.39245033264160156}]}, {'predictions': [{'score': 0.43497467041015625}]}, {'predictions': [{'score': 0.5959110260009766}]}, {'predictions': [{'score': 0.4234886169433594}]}, {'predictions': [{'score': 0.3014984130859375}]}, {'predictions': [{'score': 0.3937950134277344}]}, {'predictions': [{'score': 0.32034873962402344}]}, {'predictions': [{'score': 0.7089042663574219}]}, {'predictions': [{'score': 0.17532730102539062}]}, {'predictions': [{'score': 0.7909221649169922}]}, {'predictions': [{'score': 0.5047569274902344}]}, {'predictions': [{'score': 0.775909423828125}]}, {'predictions': [{'score': 0.5922718048095703}]}, {'predictions': [{'score': 0.4245777130126953}]}, {'predictions': [{'score': 0.3159599304199219}]}, {'predictions': [{'score': 0.5298271179199219}]}, {'predictions': [{'score': 0.5488529205322266}]}, {'predictions': [{'score': 0.7472515106201172}]}, {'predictions': [{'score': 0.2005443572998047}]}, {'predictions': [{'score': 0.39145660400390625}]}, {'predictions': [{'score': 0.3941974639892578}]}, {'predictions': [{'score': 0.6022720336914062}]}, {'predictions': [{'score': -0.025926589965820312}]}, {'predictions': [{'score': 0.37477684020996094}]}, {'predictions': [{'score': 0.7309703826904297}]}, {'predictions': [{'score': 0.4511604309082031}]}, {'predictions': [{'score': 0.5531902313232422}]}, {'predictions': [{'score': 0.6061515808105469}]}, {'predictions': [{'score': 0.6118202209472656}]}, {'predictions': [{'score': -0.0670928955078125}]}, {'predictions': [{'score': 0.33202552795410156}]}, {'predictions': [{'score': 0.5261554718017578}]}, {'predictions': [{'score': 0.4895133972167969}]}, {'predictions': [{'score': 0.31072044372558594}]}, {'predictions': [{'score': 0.3013458251953125}]}, {'predictions': [{'score': 0.35654640197753906}]}, {'predictions': [{'score': 0.6225776672363281}]}, {'predictions': [{'score': 0.22194671630859375}]}, {'predictions': [{'score': 0.3201713562011719}]}, {'predictions': [{'score': 0.5050868988037109}]}, {'predictions': [{'score': 0.4254150390625}]}, {'predictions': [{'score': 0.2158985137939453}]}, {'predictions': [{'score': 0.6469135284423828}]}, {'predictions': [{'score': 0.70684814453125}]}, {'predictions': [{'score': 0.5020351409912109}]}, {'predictions': [{'score': 0.4515037536621094}]}, {'predictions': [{'score': 0.3020000457763672}]}, {'predictions': [{'score': 0.5908260345458984}]}, {'predictions': [{'score': 0.35828208923339844}]}, {'predictions': [{'score': 0.3120307922363281}]}, {'predictions': [{'score': 0.4440269470214844}]}, {'predictions': [{'score': 0.6697921752929688}]}, {'predictions': [{'score': 0.6062412261962891}]}, {'predictions': [{'score': 0.1696910858154297}]}, {'predictions': [{'score': 0.6139793395996094}]}, {'predictions': [{'score': 0.5372505187988281}]}, {'predictions': [{'score': 0.27138328552246094}]}, {'predictions': [{'score': 0.5454196929931641}]}, {'predictions': [{'score': 0.046001434326171875}]}, {'predictions': [{'score': 0.24477005004882812}]}, {'predictions': [{'score': 0.7347354888916016}]}, {'predictions': [{'score': 0.5943927764892578}]}, {'predictions': [{'score': 0.21587181091308594}]}, {'predictions': [{'score': 0.5757427215576172}]}, {'predictions': [{'score': 0.4088401794433594}]}, {'predictions': [{'score': 0.6516838073730469}]}, {'predictions': [{'score': 0.5916385650634766}]}, {'predictions': [{'score': 0.31687164306640625}]}, {'predictions': [{'score': 0.7370357513427734}]}, {'predictions': [{'score': 0.020540237426757812}]}, {'predictions': [{'score': 0.3409099578857422}]}, {'predictions': [{'score': 0.32198524475097656}]}, {'predictions': [{'score': 0.6041946411132812}]}, {'predictions': [{'score': 0.7526054382324219}]}, {'predictions': [{'score': 0.4134712219238281}]}, {'predictions': [{'score': 0.2591590881347656}]}, {'predictions': [{'score': 0.8316764831542969}]}, {'predictions': [{'score': 0.5460910797119141}]}, {'predictions': [{'score': 0.5808811187744141}]}, {'predictions': [{'score': 0.44836997985839844}]}, {'predictions': [{'score': 0.5695476531982422}]}, {'predictions': [{'score': 0.4578227996826172}]}, {'predictions': [{'score': 0.9023914337158203}]}, {'predictions': [{'score': 0.7062511444091797}]}, {'predictions': [{'score': 0.11134910583496094}]}, {'predictions': [{'score': 0.12984657287597656}]}, {'predictions': [{'score': 0.6241836547851562}]}, {'predictions': [{'score': 0.19936180114746094}]}, {'predictions': [{'score': 0.5904178619384766}]}, {'predictions': [{'score': 0.11635208129882812}]}, {'predictions': [{'score': 0.44168663024902344}]}, {'predictions': [{'score': 0.6264801025390625}]}, {'predictions': [{'score': 0.6633110046386719}]}, {'predictions': [{'score': 0.5198745727539062}]}, {'predictions': [{'score': 0.216064453125}]}, {'predictions': [{'score': 0.5775871276855469}]}, {'predictions': [{'score': 0.5188846588134766}]}, {'predictions': [{'score': 0.7355003356933594}]}, {'predictions': [{'score': 0.5426788330078125}]}, {'predictions': [{'score': 0.6174163818359375}]}, {'predictions': [{'score': 0.537750244140625}]}, {'predictions': [{'score': 0.6842632293701172}]}, {'predictions': [{'score': 0.5720424652099609}]}, {'predictions': [{'score': 0.6715774536132812}]}, {'predictions': [{'score': 0.37503814697265625}]}, {'predictions': [{'score': 0.3764686584472656}]}, {'predictions': [{'score': 0.3947868347167969}]}, {'predictions': [{'score': 0.37586402893066406}]}, {'predictions': [{'score': 0.5917091369628906}]}, {'predictions': [{'score': 0.7439498901367188}]}, {'predictions': [{'score': 0.5467128753662109}]}, {'predictions': [{'score': 0.805999755859375}]}, {'predictions': [{'score': -0.030994415283203125}]}, {'predictions': [{'score': 0.7579479217529297}]}, {'predictions': [{'score': 0.5507907867431641}]}, {'predictions': [{'score': 0.4517250061035156}]}, {'predictions': [{'score': 0.6797580718994141}]}, {'predictions': [{'score': 0.6258506774902344}]}, {'predictions': [{'score': 0.5008907318115234}]}, {'predictions': [{'score': 0.5397510528564453}]}, {'predictions': [{'score': 0.25066566467285156}]}, {'predictions': [{'score': 0.43897438049316406}]}, {'predictions': [{'score': 0.4118080139160156}]}, {'predictions': [{'score': 0.5305938720703125}]}, {'predictions': [{'score': 0.7711467742919922}]}, {'predictions': [{'score': 0.13517379760742188}]}, {'predictions': [{'score': 0.31772422790527344}]}, {'predictions': [{'score': 0.5856266021728516}]}, {'predictions': [{'score': 0.6780796051025391}]}, {'predictions': [{'score': 0.6602382659912109}]}, {'predictions': [{'score': 0.42945098876953125}]}, {'predictions': [{'score': 0.5910263061523438}]}, {'predictions': [{'score': 0.16310501098632812}]}, {'predictions': [{'score': 0.483612060546875}]}, {'predictions': [{'score': 0.45055389404296875}]}, {'predictions': [{'score': 0.20691871643066406}]}, {'predictions': [{'score': 0.5210056304931641}]}, {'predictions': [{'score': 0.3782844543457031}]}, {'predictions': [{'score': 0.6061668395996094}]}, {'predictions': [{'score': -0.04990959167480469}]}, {'predictions': [{'score': 0.2780742645263672}]}, {'predictions': [{'score': 0.49547767639160156}]}, {'predictions': [{'score': 0.39995384216308594}]}, {'predictions': [{'score': 0.47360801696777344}]}, {'predictions': [{'score': 0.5468292236328125}]}, {'predictions': [{'score': 0.3694496154785156}]}, {'predictions': [{'score': 0.6520481109619141}]}, {'predictions': [{'score': 0.4273815155029297}]}, {'predictions': [{'score': 0.3752422332763672}]}, {'predictions': [{'score': 0.6027317047119141}]}, {'predictions': [{'score': 0.5914554595947266}]}, {'predictions': [{'score': 0.5909061431884766}]}, {'predictions': [{'score': 0.4096527099609375}]}, {'predictions': [{'score': 0.211151123046875}]}, {'predictions': [{'score': 0.4721488952636719}]}, {'predictions': [{'score': 0.5905933380126953}]}, {'predictions': [{'score': 0.6574630737304688}]}, {'predictions': [{'score': 0.5411109924316406}]}, {'predictions': [{'score': 0.723175048828125}]}, {'predictions': [{'score': 0.5522003173828125}]}, {'predictions': [{'score': 0.5787258148193359}]}, {'predictions': [{'score': -0.024980545043945312}]}, {'predictions': [{'score': 0.5472736358642578}]}, {'predictions': [{'score': 0.6573333740234375}]}, {'predictions': [{'score': 0.3806877136230469}]}, {'predictions': [{'score': 0.1786212921142578}]}, {'predictions': [{'score': 0.5233993530273438}]}, {'predictions': [{'score': 0.41943359375}]}, {'predictions': [{'score': 0.2889823913574219}]}, {'predictions': [{'score': 0.7888336181640625}]}, {'predictions': [{'score': 0.42316627502441406}]}, {'predictions': [{'score': 0.3047008514404297}]}, {'predictions': [{'score': 0.5541267395019531}]}, {'predictions': [{'score': 0.7694549560546875}]}, {'predictions': [{'score': 0.49182701110839844}]}, {'predictions': [{'score': 0.6933174133300781}]}, {'predictions': [{'score': 0.5603141784667969}]}, {'predictions': [{'score': 0.07968330383300781}]}, {'predictions': [{'score': 0.1157684326171875}]}, {'predictions': [{'score': 0.5102272033691406}]}, {'predictions': [{'score': 0.733734130859375}]}, {'predictions': [{'score': 0.32813072204589844}]}, {'predictions': [{'score': 0.40820884704589844}]}, {'predictions': [{'score': 0.3819866180419922}]}, {'predictions': [{'score': 0.42706298828125}]}, {'predictions': [{'score': 0.1837482452392578}]}, {'predictions': [{'score': 0.3894023895263672}]}, {'predictions': [{'score': 0.7254562377929688}]}, {'predictions': [{'score': 0.4791851043701172}]}, {'predictions': [{'score': -0.05435943603515625}]}, {'predictions': [{'score': 0.39727020263671875}]}, {'predictions': [{'score': 0.3728313446044922}]}, {'predictions': [{'score': 0.5149955749511719}]}, {'predictions': [{'score': 0.47316551208496094}]}, {'predictions': [{'score': 0.2785224914550781}]}, {'predictions': [{'score': 0.08197593688964844}]}, {'predictions': [{'score': 0.5142440795898438}]}, {'predictions': [{'score': 0.31880950927734375}]}, {'predictions': [{'score': 0.4343299865722656}]}, {'predictions': [{'score': 0.4057884216308594}]}, {'predictions': [{'score': 0.6482810974121094}]}, {'predictions': [{'score': 0.28748130798339844}]}, {'predictions': [{'score': 0.5538768768310547}]}, {'predictions': [{'score': 0.6041889190673828}]}, {'predictions': [{'score': 0.446563720703125}]}, {'predictions': [{'score': 0.31760215759277344}]}, {'predictions': [{'score': 0.6157817840576172}]}, {'predictions': [{'score': 0.5043411254882812}]}, {'predictions': [{'score': 0.6485137939453125}]}, {'predictions': [{'score': 0.46901702880859375}]}, {'predictions': [{'score': 0.6091518402099609}]}, {'predictions': [{'score': 0.3829612731933594}]}, {'predictions': [{'score': 0.3991870880126953}]}, {'predictions': [{'score': 0.7171173095703125}]}, {'predictions': [{'score': 0.6877117156982422}]}, {'predictions': [{'score': 0.3409767150878906}]}, {'predictions': [{'score': 0.8443584442138672}]}, {'predictions': [{'score': 0.3030281066894531}]}, {'predictions': [{'score': 0.34547996520996094}]}, {'predictions': [{'score': 0.5305576324462891}]}, {'predictions': [{'score': 0.385406494140625}]}, {'predictions': [{'score': 0.3948535919189453}]}, {'predictions': [{'score': 0.6339340209960938}]}, {'predictions': [{'score': 0.4474601745605469}]}, {'predictions': [{'score': 0.5243186950683594}]}, {'predictions': [{'score': 0.5038471221923828}]}, {'predictions': [{'score': 0.29520606994628906}]}, {'predictions': [{'score': 0.3954582214355469}]}, {'predictions': [{'score': 0.4085426330566406}]}, {'predictions': [{'score': 0.5081653594970703}]}, {'predictions': [{'score': 0.4206562042236328}]}, {'predictions': [{'score': 0.7681179046630859}]}, {'predictions': [{'score': 0.6355857849121094}]}, {'predictions': [{'score': 0.5307998657226562}]}, {'predictions': [{'score': 0.3273487091064453}]}, {'predictions': [{'score': 0.5491886138916016}]}, {'predictions': [{'score': 0.4284782409667969}]}, {'predictions': [{'score': 0.3943462371826172}]}, {'predictions': [{'score': 0.5742073059082031}]}, {'predictions': [{'score': 0.4489898681640625}]}, {'predictions': [{'score': 0.6275291442871094}]}, {'predictions': [{'score': 0.5767135620117188}]}, {'predictions': [{'score': 0.4461040496826172}]}, {'predictions': [{'score': 0.2859535217285156}]}, {'predictions': [{'score': 0.6219100952148438}]}, {'predictions': [{'score': 0.5298175811767578}]}, {'predictions': [{'score': 0.5211181640625}]}, {'predictions': [{'score': 0.35611724853515625}]}, {'predictions': [{'score': 0.418975830078125}]}, {'predictions': [{'score': 0.5102634429931641}]}, {'predictions': [{'score': 0.7813301086425781}]}, {'predictions': [{'score': 0.29335784912109375}]}, {'predictions': [{'score': 0.5534572601318359}]}, {'predictions': [{'score': 0.6871414184570312}]}, {'predictions': [{'score': 0.2634143829345703}]}, {'predictions': [{'score': 0.37751197814941406}]}, {'predictions': [{'score': 0.3960285186767578}]}, {'predictions': [{'score': 0.6059913635253906}]}, {'predictions': [{'score': 0.4297523498535156}]}, {'predictions': [{'score': 0.7063846588134766}]}, {'predictions': [{'score': 0.09048080444335938}]}, {'predictions': [{'score': 0.4521522521972656}]}, {'predictions': [{'score': 0.4938678741455078}]}, {'predictions': [{'score': 0.43625640869140625}]}, {'predictions': [{'score': 0.7751121520996094}]}, {'predictions': [{'score': 0.5125942230224609}]}, {'predictions': [{'score': 0.41361236572265625}]}, {'predictions': [{'score': 0.4246349334716797}]}, {'predictions': [{'score': -0.037166595458984375}]}, {'predictions': [{'score': 0.06554412841796875}]}, {'predictions': [{'score': 0.6042518615722656}]}, {'predictions': [{'score': 0.24440383911132812}]}, {'predictions': [{'score': 0.6778964996337891}]}, {'predictions': [{'score': 0.4715461730957031}]}, {'predictions': [{'score': 0.4400196075439453}]}, {'predictions': [{'score': 0.39995384216308594}]}, {'predictions': [{'score': 0.5698986053466797}]}, {'predictions': [{'score': 0.5969161987304688}]}, {'predictions': [{'score': 0.42617034912109375}]}, {'predictions': [{'score': 0.7804794311523438}]}, {'predictions': [{'score': 0.5899925231933594}]}, {'predictions': [{'score': 0.9168167114257812}]}, {'predictions': [{'score': 0.36881256103515625}]}, {'predictions': [{'score': 0.17064666748046875}]}, {'predictions': [{'score': 0.6036109924316406}]}, {'predictions': [{'score': 0.3838825225830078}]}, {'predictions': [{'score': 0.7636852264404297}]}, {'predictions': [{'score': 0.5484085083007812}]}, {'predictions': [{'score': 0.5064735412597656}]}, {'predictions': [{'score': 0.5552864074707031}]}, {'predictions': [{'score': 0.6249790191650391}]}, {'predictions': [{'score': 0.4419708251953125}]}, {'predictions': [{'score': 0.1549816131591797}]}, {'predictions': [{'score': 0.37058258056640625}]}, {'predictions': [{'score': 0.4806995391845703}]}, {'predictions': [{'score': 0.48842811584472656}]}, {'predictions': [{'score': 0.8637561798095703}]}, {'predictions': [{'score': 0.4655723571777344}]}, {'predictions': [{'score': 0.3468036651611328}]}, {'predictions': [{'score': 0.4971656799316406}]}, {'predictions': [{'score': 0.44292449951171875}]}, {'predictions': [{'score': 0.5555591583251953}]}, {'predictions': [{'score': 0.44848060607910156}]}, {'predictions': [{'score': 0.4224739074707031}]}, {'predictions': [{'score': 0.4954833984375}]}, {'predictions': [{'score': 0.0918121337890625}]}, {'predictions': [{'score': 0.3921394348144531}]}, {'predictions': [{'score': 0.2723045349121094}]}, {'predictions': [{'score': 0.32061004638671875}]}, {'predictions': [{'score': 0.6000843048095703}]}, {'predictions': [{'score': 0.5039405822753906}]}, {'predictions': [{'score': -0.05858421325683594}]}, {'predictions': [{'score': 0.36771202087402344}]}, {'predictions': [{'score': 0.3688507080078125}]}, {'predictions': [{'score': 0.7397136688232422}]}, {'predictions': [{'score': 0.5901527404785156}]}, {'predictions': [{'score': 0.13727188110351562}]}, {'predictions': [{'score': 0.3786125183105469}]}, {'predictions': [{'score': 0.3304328918457031}]}, {'predictions': [{'score': 0.2631263732910156}]}, {'predictions': [{'score': 0.7461128234863281}]}, {'predictions': [{'score': 0.5444240570068359}]}, {'predictions': [{'score': -0.06768417358398438}]}, {'predictions': [{'score': 0.4055309295654297}]}, {'predictions': [{'score': 0.7470932006835938}]}, {'predictions': [{'score': 0.5288639068603516}]}, {'predictions': [{'score': 0.4485054016113281}]}, {'predictions': [{'score': 0.6413631439208984}]}, {'predictions': [{'score': 0.4630317687988281}]}, {'predictions': [{'score': 0.36850929260253906}]}, {'predictions': [{'score': 0.4428215026855469}]}, {'predictions': [{'score': 0.2264270782470703}]}, {'predictions': [{'score': 0.2495746612548828}]}, {'predictions': [{'score': 0.4347496032714844}]}, {'predictions': [{'score': 0.4129142761230469}]}, {'predictions': [{'score': 0.5775737762451172}]}, {'predictions': [{'score': 0.3994293212890625}]}, {'predictions': [{'score': 0.18471336364746094}]}, {'predictions': [{'score': 0.20783424377441406}]}, {'predictions': [{'score': 0.20489501953125}]}, {'predictions': [{'score': 0.4824066162109375}]}, {'predictions': [{'score': 0.24385643005371094}]}, {'predictions': [{'score': 0.5684967041015625}]}, {'predictions': [{'score': 0.572357177734375}]}, {'predictions': [{'score': 0.4205665588378906}]}, {'predictions': [{'score': 0.29726600646972656}]}, {'predictions': [{'score': 0.3269309997558594}]}, {'predictions': [{'score': 0.5843143463134766}]}, {'predictions': [{'score': 0.5619525909423828}]}, {'predictions': [{'score': 0.04509544372558594}]}, {'predictions': [{'score': 0.2804908752441406}]}, {'predictions': [{'score': 0.4465827941894531}]}, {'predictions': [{'score': 0.7337570190429688}]}, {'predictions': [{'score': 0.8182258605957031}]}, {'predictions': [{'score': 0.5244350433349609}]}, {'predictions': [{'score': 0.4087238311767578}]}, {'predictions': [{'score': 0.7563648223876953}]}, {'predictions': [{'score': 0.5228500366210938}]}, {'predictions': [{'score': 0.5877952575683594}]}, {'predictions': [{'score': 0.3615455627441406}]}, {'predictions': [{'score': 0.49649620056152344}]}, {'predictions': [{'score': 0.44097137451171875}]}, {'predictions': [{'score': 0.4969062805175781}]}, {'predictions': [{'score': 0.3161144256591797}]}, {'predictions': [{'score': 0.7270851135253906}]}, {'predictions': [{'score': 0.7838973999023438}]}, {'predictions': [{'score': 0.48808860778808594}]}, {'predictions': [{'score': 0.475128173828125}]}, {'predictions': [{'score': 0.6228446960449219}]}, {'predictions': [{'score': 0.5996799468994141}]}, {'predictions': [{'score': 0.11610794067382812}]}, {'predictions': [{'score': 0.479766845703125}]}, {'predictions': [{'score': 0.7166061401367188}]}, {'predictions': [{'score': 0.393524169921875}]}, {'predictions': [{'score': 0.33370399475097656}]}, {'predictions': [{'score': 0.6408710479736328}]}, {'predictions': [{'score': 0.6719989776611328}]}, {'predictions': [{'score': 0.6105117797851562}]}, {'predictions': [{'score': 0.8086414337158203}]}, {'predictions': [{'score': 0.5485591888427734}]}, {'predictions': [{'score': 0.48217201232910156}]}, {'predictions': [{'score': 0.38320350646972656}]}, {'predictions': [{'score': 0.37314605712890625}]}, {'predictions': [{'score': 0.12919235229492188}]}, {'predictions': [{'score': 0.35048675537109375}]}, {'predictions': [{'score': 0.7666664123535156}]}, {'predictions': [{'score': -0.0677947998046875}]}, {'predictions': [{'score': 0.6239566802978516}]}, {'predictions': [{'score': 0.6263523101806641}]}, {'predictions': [{'score': 0.3804454803466797}]}, {'predictions': [{'score': 0.38567543029785156}]}, {'predictions': [{'score': 0.5941867828369141}]}, {'predictions': [{'score': 0.7319259643554688}]}, {'predictions': [{'score': 0.43975067138671875}]}, {'predictions': [{'score': 0.19240951538085938}]}, {'predictions': [{'score': 0.4120159149169922}]}, {'predictions': [{'score': 0.7150611877441406}]}, {'predictions': [{'score': 0.6933422088623047}]}, {'predictions': [{'score': 0.52728271484375}]}, {'predictions': [{'score': 0.5069675445556641}]}, {'predictions': [{'score': 0.40860939025878906}]}, {'predictions': [{'score': 0.23396682739257812}]}, {'predictions': [{'score': 0.6802177429199219}]}, {'predictions': [{'score': 0.32511329650878906}]}, {'predictions': [{'score': 0.3871307373046875}]}, {'predictions': [{'score': 0.5892200469970703}]}, {'predictions': [{'score': 0.6209373474121094}]}, {'predictions': [{'score': 0.30196380615234375}]}, {'predictions': [{'score': 0.6796112060546875}]}, {'predictions': [{'score': 0.6038398742675781}]}, {'predictions': [{'score': 0.40235137939453125}]}, {'predictions': [{'score': 0.2716846466064453}]}, {'predictions': [{'score': 0.6208267211914062}]}, {'predictions': [{'score': 0.38572120666503906}]}, {'predictions': [{'score': 0.3060417175292969}]}, {'predictions': [{'score': 0.49245262145996094}]}, {'predictions': [{'score': 0.23021316528320312}]}, {'predictions': [{'score': 0.6717433929443359}]}, {'predictions': [{'score': 0.4302539825439453}]}, {'predictions': [{'score': 0.5266513824462891}]}, {'predictions': [{'score': 0.6109352111816406}]}, {'predictions': [{'score': 0.4138469696044922}]}, {'predictions': [{'score': 0.4729347229003906}]}, {'predictions': [{'score': 0.03461456298828125}]}, {'predictions': [{'score': 0.42194366455078125}]}, {'predictions': [{'score': 0.23810195922851562}]}, {'predictions': [{'score': 0.6285896301269531}]}, {'predictions': [{'score': 0.5587005615234375}]}, {'predictions': [{'score': 0.29856109619140625}]}, {'predictions': [{'score': 0.18517112731933594}]}, {'predictions': [{'score': 0.4132862091064453}]}, {'predictions': [{'score': 0.5388965606689453}]}, {'predictions': [{'score': 0.3303661346435547}]}, {'predictions': [{'score': 0.3101692199707031}]}, {'predictions': [{'score': 0.18578720092773438}]}, {'predictions': [{'score': 0.010288238525390625}]}, {'predictions': [{'score': 0.8931674957275391}]}, {'predictions': [{'score': 0.4356403350830078}]}, {'predictions': [{'score': 0.35236358642578125}]}, {'predictions': [{'score': 0.23731613159179688}]}, {'predictions': [{'score': 0.6595497131347656}]}, {'predictions': [{'score': 0.2818622589111328}]}, {'predictions': [{'score': 0.4212512969970703}]}, {'predictions': [{'score': 0.4910163879394531}]}, {'predictions': [{'score': 0.6491222381591797}]}, {'predictions': [{'score': 0.5112361907958984}]}, {'predictions': [{'score': 0.6895675659179688}]}, {'predictions': [{'score': 0.4255828857421875}]}, {'predictions': [{'score': 0.5405635833740234}]}, {'predictions': [{'score': 0.3336601257324219}]}, {'predictions': [{'score': 0.40783119201660156}]}, {'predictions': [{'score': 0.3267021179199219}]}, {'predictions': [{'score': 0.3043365478515625}]}, {'predictions': [{'score': 0.4771385192871094}]}, {'predictions': [{'score': 0.6271400451660156}]}, {'predictions': [{'score': 0.7383289337158203}]}, {'predictions': [{'score': 0.6000938415527344}]}, {'predictions': [{'score': 0.4300994873046875}]}, {'predictions': [{'score': 0.38820838928222656}]}, {'predictions': [{'score': 0.7122707366943359}]}, {'predictions': [{'score': 0.58355712890625}]}, {'predictions': [{'score': 0.4583473205566406}]}, {'predictions': [{'score': 0.43557167053222656}]}, {'predictions': [{'score': 0.3462677001953125}]}, {'predictions': [{'score': 0.46411705017089844}]}, {'predictions': [{'score': 0.37596702575683594}]}, {'predictions': [{'score': 0.3378334045410156}]}, {'predictions': [{'score': 0.5793285369873047}]}, {'predictions': [{'score': 0.6811161041259766}]}, {'predictions': [{'score': 0.5279693603515625}]}, {'predictions': [{'score': 0.5543346405029297}]}, {'predictions': [{'score': 0.5176277160644531}]}, {'predictions': [{'score': 0.7166061401367188}]}, {'predictions': [{'score': 0.33946990966796875}]}, {'predictions': [{'score': 0.2794322967529297}]}, {'predictions': [{'score': 0.7016010284423828}]}, {'predictions': [{'score': 0.39012718200683594}]}, {'predictions': [{'score': 0.11004257202148438}]}, {'predictions': [{'score': 0.1100921630859375}]}, {'predictions': [{'score': 0.6155033111572266}]}, {'predictions': [{'score': 0.72918701171875}]}, {'predictions': [{'score': 0.3764781951904297}]}, {'predictions': [{'score': 0.6007404327392578}]}, {'predictions': [{'score': 0.3889026641845703}]}, {'predictions': [{'score': 0.7310829162597656}]}, {'predictions': [{'score': 0.34822845458984375}]}, {'predictions': [{'score': 0.524139404296875}]}, {'predictions': [{'score': 0.47496986389160156}]}, {'predictions': [{'score': 0.315338134765625}]}, {'predictions': [{'score': 0.47613525390625}]}, {'predictions': [{'score': 0.6266040802001953}]}, {'predictions': [{'score': 0.4658050537109375}]}, {'predictions': [{'score': 0.6187877655029297}]}, {'predictions': [{'score': 0.5041103363037109}]}, {'predictions': [{'score': 0.4659004211425781}]}, {'predictions': [{'score': 0.2915363311767578}]}, {'predictions': [{'score': 0.40230560302734375}]}, {'predictions': [{'score': 0.5002422332763672}]}, {'predictions': [{'score': 0.39162254333496094}]}, {'predictions': [{'score': 0.3024787902832031}]}, {'predictions': [{'score': 0.434295654296875}]}, {'predictions': [{'score': 0.5515537261962891}]}, {'predictions': [{'score': 0.6395339965820312}]}, {'predictions': [{'score': 0.7830276489257812}]}, {'predictions': [{'score': 0.6510562896728516}]}, {'predictions': [{'score': 0.3105907440185547}]}, {'predictions': [{'score': 0.649017333984375}]}, {'predictions': [{'score': 0.46978759765625}]}, {'predictions': [{'score': 0.4930591583251953}]}, {'predictions': [{'score': 0.42166900634765625}]}, {'predictions': [{'score': 0.3395271301269531}]}, {'predictions': [{'score': 0.5739803314208984}]}, {'predictions': [{'score': 0.40706825256347656}]}, {'predictions': [{'score': 0.0622711181640625}]}, {'predictions': [{'score': 0.4144477844238281}]}, {'predictions': [{'score': 0.5982933044433594}]}, {'predictions': [{'score': 0.5399894714355469}]}, {'predictions': [{'score': 0.5987300872802734}]}, {'predictions': [{'score': 0.3663139343261719}]}, {'predictions': [{'score': 0.57989501953125}]}, {'predictions': [{'score': 0.473724365234375}]}, {'predictions': [{'score': 0.6087284088134766}]}, {'predictions': [{'score': 0.21425437927246094}]}, {'predictions': [{'score': 0.7447452545166016}]}, {'predictions': [{'score': 0.65777587890625}]}, {'predictions': [{'score': 0.277618408203125}]}, {'predictions': [{'score': 0.3541584014892578}]}, {'predictions': [{'score': 0.2834663391113281}]}, {'predictions': [{'score': 0.2728729248046875}]}, {'predictions': [{'score': 0.4602775573730469}]}, {'predictions': [{'score': 0.6146144866943359}]}, {'predictions': [{'score': 0.34891700744628906}]}, {'predictions': [{'score': 0.6305599212646484}]}, {'predictions': [{'score': 0.3720741271972656}]}, {'predictions': [{'score': 0.47794151306152344}]}, {'predictions': [{'score': 0.37749671936035156}]}, {'predictions': [{'score': 0.46759605407714844}]}, {'predictions': [{'score': 0.40029144287109375}]}, {'predictions': [{'score': 0.6213741302490234}]}, {'predictions': [{'score': 0.43193817138671875}]}, {'predictions': [{'score': 0.5745067596435547}]}, {'predictions': [{'score': 0.24930953979492188}]}, {'predictions': [{'score': 0.7757930755615234}]}, {'predictions': [{'score': 0.5587978363037109}]}, {'predictions': [{'score': 0.1336193084716797}]}, {'predictions': [{'score': 0.2490558624267578}]}, {'predictions': [{'score': 0.8991374969482422}]}, {'predictions': [{'score': 0.46108055114746094}]}, {'predictions': [{'score': 0.4618034362792969}]}, {'predictions': [{'score': 0.41803741455078125}]}, {'predictions': [{'score': 0.3371162414550781}]}, {'predictions': [{'score': 0.28406524658203125}]}, {'predictions': [{'score': 0.36751747131347656}]}, {'predictions': [{'score': 0.5809879302978516}]}, {'predictions': [{'score': 0.3878135681152344}]}, {'predictions': [{'score': 0.7624530792236328}]}, {'predictions': [{'score': 0.7398719787597656}]}, {'predictions': [{'score': 0.13324737548828125}]}, {'predictions': [{'score': 0.5841064453125}]}, {'predictions': [{'score': 0.47420501708984375}]}, {'predictions': [{'score': 0.6046466827392578}]}, {'predictions': [{'score': 0.38079261779785156}]}, {'predictions': [{'score': 0.3168048858642578}]}, {'predictions': [{'score': 0.6939983367919922}]}, {'predictions': [{'score': 0.2891960144042969}]}, {'predictions': [{'score': 0.5633125305175781}]}, {'predictions': [{'score': 0.5301342010498047}]}, {'predictions': [{'score': 0.054172515869140625}]}, {'predictions': [{'score': 0.5671920776367188}]}, {'predictions': [{'score': 0.38324546813964844}]}, {'predictions': [{'score': 0.16167640686035156}]}, {'predictions': [{'score': 0.6119441986083984}]}, {'predictions': [{'score': 0.4394702911376953}]}, {'predictions': [{'score': 0.7061252593994141}]}, {'predictions': [{'score': 0.45709228515625}]}, {'predictions': [{'score': 0.5525894165039062}]}, {'predictions': [{'score': 0.6241111755371094}]}, {'predictions': [{'score': 0.6203517913818359}]}, {'predictions': [{'score': 0.566558837890625}]}, {'predictions': [{'score': 0.42362403869628906}]}, {'predictions': [{'score': 0.0322265625}]}, {'predictions': [{'score': -0.06154823303222656}]}, {'predictions': [{'score': 0.8262958526611328}]}, {'predictions': [{'score': 0.49475669860839844}]}, {'predictions': [{'score': 0.07763862609863281}]}, {'predictions': [{'score': 0.4513835906982422}]}, {'predictions': [{'score': 0.14782142639160156}]}, {'predictions': [{'score': 0.6573257446289062}]}, {'predictions': [{'score': 0.4636363983154297}]}, {'predictions': [{'score': 0.49383544921875}]}, {'predictions': [{'score': 0.6050891876220703}]}, {'predictions': [{'score': 0.5963916778564453}]}, {'predictions': [{'score': 0.13636398315429688}]}, {'predictions': [{'score': 0.30962181091308594}]}, {'predictions': [{'score': 0.4576396942138672}]}, {'predictions': [{'score': 0.407073974609375}]}, {'predictions': [{'score': 0.15710067749023438}]}, {'predictions': [{'score': 0.5199794769287109}]}, {'predictions': [{'score': 0.49101829528808594}]}, {'predictions': [{'score': 0.42296409606933594}]}, {'predictions': [{'score': 0.6052303314208984}]}, {'predictions': [{'score': 0.08460807800292969}]}, {'predictions': [{'score': 0.36031341552734375}]}, {'predictions': [{'score': 0.5130043029785156}]}, {'predictions': [{'score': 0.8634071350097656}]}, {'predictions': [{'score': 0.6318283081054688}]}, {'predictions': [{'score': 0.8669300079345703}]}, {'predictions': [{'score': 0.5326766967773438}]}, {'predictions': [{'score': 0.8009853363037109}]}, {'predictions': [{'score': 0.5627956390380859}]}, {'predictions': [{'score': 0.3785247802734375}]}, {'predictions': [{'score': 0.46674537658691406}]}, {'predictions': [{'score': 0.6538715362548828}]}, {'predictions': [{'score': 0.0191802978515625}]}, {'predictions': [{'score': 0.59136962890625}]}, {'predictions': [{'score': -0.05446624755859375}]}, {'predictions': [{'score': 0.3533782958984375}]}, {'predictions': [{'score': 0.5247764587402344}]}, {'predictions': [{'score': 0.6926746368408203}]}, {'predictions': [{'score': 0.5826568603515625}]}, {'predictions': [{'score': 0.7379608154296875}]}, {'predictions': [{'score': 0.6203289031982422}]}, {'predictions': [{'score': 0.423858642578125}]}, {'predictions': [{'score': 0.8749046325683594}]}, {'predictions': [{'score': 0.7575225830078125}]}, {'predictions': [{'score': 0.7816867828369141}]}, {'predictions': [{'score': 0.23044395446777344}]}, {'predictions': [{'score': 0.5096244812011719}]}, {'predictions': [{'score': 0.2616767883300781}]}, {'predictions': [{'score': 0.29131507873535156}]}, {'predictions': [{'score': 0.62506103515625}]}, {'predictions': [{'score': 0.5390052795410156}]}, {'predictions': [{'score': 0.5578269958496094}]}, {'predictions': [{'score': 0.22225189208984375}]}, {'predictions': [{'score': 0.8340988159179688}]}, {'predictions': [{'score': 0.40176963806152344}]}, {'predictions': [{'score': 0.44658470153808594}]}, {'predictions': [{'score': 0.4978160858154297}]}, {'predictions': [{'score': 0.7722759246826172}]}, {'predictions': [{'score': 0.4051380157470703}]}, {'predictions': [{'score': 0.5094985961914062}]}, {'predictions': [{'score': 0.16862106323242188}]}, {'predictions': [{'score': 0.2884101867675781}]}, {'predictions': [{'score': 0.333404541015625}]}, {'predictions': [{'score': 0.5855007171630859}]}, {'predictions': [{'score': 0.6676254272460938}]}, {'predictions': [{'score': 0.4689750671386719}]}, {'predictions': [{'score': 0.3922710418701172}]}, {'predictions': [{'score': 0.5321483612060547}]}, {'predictions': [{'score': 0.7099018096923828}]}, {'predictions': [{'score': 0.5994701385498047}]}, {'predictions': [{'score': 0.45131874084472656}]}, {'predictions': [{'score': 0.5324745178222656}]}, {'predictions': [{'score': 0.5981674194335938}]}, {'predictions': [{'score': 0.10961532592773438}]}, {'predictions': [{'score': 0.2393054962158203}]}, {'predictions': [{'score': 0.5635185241699219}]}, {'predictions': [{'score': 0.5646514892578125}]}, {'predictions': [{'score': 0.345428466796875}]}, {'predictions': [{'score': 0.4580535888671875}]}, {'predictions': [{'score': 0.2197895050048828}]}, {'predictions': [{'score': 0.28813743591308594}]}, {'predictions': [{'score': 0.6071376800537109}]}, {'predictions': [{'score': 0.2987041473388672}]}, {'predictions': [{'score': 0.2434711456298828}]}, {'predictions': [{'score': 0.3393096923828125}]}, {'predictions': [{'score': 0.7095375061035156}]}, {'predictions': [{'score': 0.5111751556396484}]}, {'predictions': [{'score': 0.46449851989746094}]}, {'predictions': [{'score': 0.020084381103515625}]}, {'predictions': [{'score': 0.28746986389160156}]}, {'predictions': [{'score': 0.8839759826660156}]}, {'predictions': [{'score': 0.45540809631347656}]}, {'predictions': [{'score': 0.1625995635986328}]}, {'predictions': [{'score': 0.1911754608154297}]}, {'predictions': [{'score': 0.4743824005126953}]}, {'predictions': [{'score': 0.5994205474853516}]}, {'predictions': [{'score': 0.5121574401855469}]}, {'predictions': [{'score': 0.6426582336425781}]}, {'predictions': [{'score': 0.5408554077148438}]}, {'predictions': [{'score': 0.4364795684814453}]}, {'predictions': [{'score': 0.2228374481201172}]}, {'predictions': [{'score': 0.558258056640625}]}, {'predictions': [{'score': 0.4215545654296875}]}, {'predictions': [{'score': 0.1897296905517578}]}, {'predictions': [{'score': 0.3787670135498047}]}, {'predictions': [{'score': 0.5799751281738281}]}, {'predictions': [{'score': 0.40434837341308594}]}, {'predictions': [{'score': 0.36022377014160156}]}, {'predictions': [{'score': 0.568145751953125}]}, {'predictions': [{'score': 0.4126262664794922}]}, {'predictions': [{'score': 0.798309326171875}]}, {'predictions': [{'score': 0.32547950744628906}]}, {'predictions': [{'score': 0.5504531860351562}]}, {'predictions': [{'score': 0.38458251953125}]}, {'predictions': [{'score': 0.3480644226074219}]}, {'predictions': [{'score': 0.3450927734375}]}, {'predictions': [{'score': 0.5733146667480469}]}, {'predictions': [{'score': 0.47940826416015625}]}, {'predictions': [{'score': 0.3530597686767578}]}, {'predictions': [{'score': 0.2831840515136719}]}, {'predictions': [{'score': 0.6989765167236328}]}, {'predictions': [{'score': 0.4408760070800781}]}, {'predictions': [{'score': 0.15597915649414062}]}, {'predictions': [{'score': 0.47261619567871094}]}, {'predictions': [{'score': 0.35455322265625}]}, {'predictions': [{'score': 0.34296417236328125}]}, {'predictions': [{'score': 0.7888717651367188}]}, {'predictions': [{'score': 0.6124839782714844}]}, {'predictions': [{'score': 0.11090469360351562}]}, {'predictions': [{'score': 0.3490276336669922}]}, {'predictions': [{'score': 0.546539306640625}]}, {'predictions': [{'score': 0.3599720001220703}]}, {'predictions': [{'score': 0.7156581878662109}]}, {'predictions': [{'score': 0.5435199737548828}]}, {'predictions': [{'score': 0.3183784484863281}]}, {'predictions': [{'score': 0.4679889678955078}]}, {'predictions': [{'score': 0.5169105529785156}]}, {'predictions': [{'score': 0.6842479705810547}]}, {'predictions': [{'score': 0.3896656036376953}]}, {'predictions': [{'score': 0.19559860229492188}]}, {'predictions': [{'score': 0.61627197265625}]}, {'predictions': [{'score': 0.4902210235595703}]}, {'predictions': [{'score': 0.49714088439941406}]}, {'predictions': [{'score': 0.39905738830566406}]}, {'predictions': [{'score': 0.37281036376953125}]}, {'predictions': [{'score': 0.29870033264160156}]}, {'predictions': [{'score': 0.44220733642578125}]}, {'predictions': [{'score': 0.4550743103027344}]}, {'predictions': [{'score': 0.9216747283935547}]}, {'predictions': [{'score': 0.5391979217529297}]}, {'predictions': [{'score': 0.40335845947265625}]}, {'predictions': [{'score': 0.5245933532714844}]}, {'predictions': [{'score': 0.7733230590820312}]}, {'predictions': [{'score': 0.8225955963134766}]}, {'predictions': [{'score': 0.4220142364501953}]}, {'predictions': [{'score': 0.6865653991699219}]}, {'predictions': [{'score': 0.4000568389892578}]}, {'predictions': [{'score': 0.32303810119628906}]}, {'predictions': [{'score': 0.4122905731201172}]}, {'predictions': [{'score': 0.3078632354736328}]}, {'predictions': [{'score': 0.4956684112548828}]}, {'predictions': [{'score': 0.8300113677978516}]}, {'predictions': [{'score': 0.4002113342285156}]}, {'predictions': [{'score': 0.2754631042480469}]}, {'predictions': [{'score': 0.12755584716796875}]}, {'predictions': [{'score': 0.6235008239746094}]}, {'predictions': [{'score': 0.4527473449707031}]}, {'predictions': [{'score': 0.5708732604980469}]}, {'predictions': [{'score': 0.2339344024658203}]}, {'predictions': [{'score': 0.23108863830566406}]}, {'predictions': [{'score': 0.538299560546875}]}, {'predictions': [{'score': 0.7290287017822266}]}, {'predictions': [{'score': 0.33304786682128906}]}, {'predictions': [{'score': 0.16157913208007812}]}, {'predictions': [{'score': 0.7819080352783203}]}, {'predictions': [{'score': 0.0637969970703125}]}, {'predictions': [{'score': 0.5687961578369141}]}, {'predictions': [{'score': 0.8962249755859375}]}, {'predictions': [{'score': 0.4279441833496094}]}, {'predictions': [{'score': 0.5994853973388672}]}, {'predictions': [{'score': 0.7303638458251953}]}, {'predictions': [{'score': 0.45078277587890625}]}, {'predictions': [{'score': 0.5919456481933594}]}, {'predictions': [{'score': 0.7083759307861328}]}, {'predictions': [{'score': 0.18335723876953125}]}, {'predictions': [{'score': 0.55084228515625}]}, {'predictions': [{'score': 0.26740074157714844}]}, {'predictions': [{'score': 0.5660209655761719}]}, {'predictions': [{'score': 0.6144199371337891}]}, {'predictions': [{'score': 0.668304443359375}]}, {'predictions': [{'score': 0.42635345458984375}]}, {'predictions': [{'score': 0.5659408569335938}]}, {'predictions': [{'score': 0.37316131591796875}]}, {'predictions': [{'score': 0.44363975524902344}]}, {'predictions': [{'score': 0.65045166015625}]}, {'predictions': [{'score': 0.6037349700927734}]}, {'predictions': [{'score': 0.011308670043945312}]}, {'predictions': [{'score': 0.6473293304443359}]}, {'predictions': [{'score': 0.5174942016601562}]}, {'predictions': [{'score': 0.7262325286865234}]}, {'predictions': [{'score': 0.4692230224609375}]}, {'predictions': [{'score': 0.6570873260498047}]}, {'predictions': [{'score': 0.03232383728027344}]}, {'predictions': [{'score': 0.4740943908691406}]}, {'predictions': [{'score': 0.5091590881347656}]}, {'predictions': [{'score': 0.2568836212158203}]}, {'predictions': [{'score': 0.9233379364013672}]}, {'predictions': [{'score': 0.5301513671875}]}, {'predictions': [{'score': 0.5539646148681641}]}, {'predictions': [{'score': 0.5518074035644531}]}, {'predictions': [{'score': 0.5879859924316406}]}, {'predictions': [{'score': 0.30285072326660156}]}, {'predictions': [{'score': 0.6773090362548828}]}, {'predictions': [{'score': 0.6151256561279297}]}, {'predictions': [{'score': 0.7321376800537109}]}, {'predictions': [{'score': 0.5472602844238281}]}, {'predictions': [{'score': 0.46204185485839844}]}, {'predictions': [{'score': 0.4367656707763672}]}, {'predictions': [{'score': 0.37534332275390625}]}, {'predictions': [{'score': 0.2964801788330078}]}, {'predictions': [{'score': 0.5450210571289062}]}, {'predictions': [{'score': 0.47817039489746094}]}, {'predictions': [{'score': 0.3265190124511719}]}, {'predictions': [{'score': 0.6713924407958984}]}, {'predictions': [{'score': 0.5666332244873047}]}, {'predictions': [{'score': 0.7407169342041016}]}, {'predictions': [{'score': 0.6429538726806641}]}, {'predictions': [{'score': 0.5076045989990234}]}, {'predictions': [{'score': 0.68408203125}]}, {'predictions': [{'score': 0.4893207550048828}]}, {'predictions': [{'score': 0.4341106414794922}]}, {'predictions': [{'score': 0.5519466400146484}]}, {'predictions': [{'score': 0.5746383666992188}]}, {'predictions': [{'score': 0.0002994537353515625}]}, {'predictions': [{'score': 0.3714885711669922}]}, {'predictions': [{'score': 0.29044342041015625}]}, {'predictions': [{'score': 0.5587978363037109}]}, {'predictions': [{'score': 0.6129646301269531}]}, {'predictions': [{'score': 0.6038761138916016}]}, {'predictions': [{'score': 0.4453620910644531}]}, {'predictions': [{'score': 0.3805828094482422}]}, {'predictions': [{'score': 0.5250682830810547}]}, {'predictions': [{'score': 0.4569129943847656}]}, {'predictions': [{'score': 0.5670318603515625}]}, {'predictions': [{'score': 0.5187129974365234}]}, {'predictions': [{'score': 0.5804271697998047}]}, {'predictions': [{'score': 0.4838733673095703}]}, {'predictions': [{'score': 0.3624610900878906}]}, {'predictions': [{'score': 0.6266098022460938}]}, {'predictions': [{'score': 0.4303741455078125}]}, {'predictions': [{'score': 0.47983551025390625}]}, {'predictions': [{'score': 0.4264564514160156}]}, {'predictions': [{'score': 0.3237934112548828}]}, {'predictions': [{'score': 0.36529541015625}]}, {'predictions': [{'score': 0.350555419921875}]}, {'predictions': [{'score': 0.3915996551513672}]}, {'predictions': [{'score': 0.2472362518310547}]}, {'predictions': [{'score': 0.4116783142089844}]}, {'predictions': [{'score': 0.1180877685546875}]}, {'predictions': [{'score': 0.8626766204833984}]}, {'predictions': [{'score': 0.7749099731445312}]}, {'predictions': [{'score': 0.42923927307128906}]}, {'predictions': [{'score': 0.3985309600830078}]}, {'predictions': [{'score': 0.2389698028564453}]}, {'predictions': [{'score': 0.7529945373535156}]}, {'predictions': [{'score': 0.3109855651855469}]}, {'predictions': [{'score': 0.5405559539794922}]}, {'predictions': [{'score': 0.45905494689941406}]}, {'predictions': [{'score': 0.5847206115722656}]}, {'predictions': [{'score': 0.6236839294433594}]}, {'predictions': [{'score': 0.4322376251220703}]}, {'predictions': [{'score': 0.37848472595214844}]}, {'predictions': [{'score': 0.33054161071777344}]}, {'predictions': [{'score': 0.5500240325927734}]}, {'predictions': [{'score': 0.29543113708496094}]}, {'predictions': [{'score': 0.4303569793701172}]}, {'predictions': [{'score': 0.66864013671875}]}, {'predictions': [{'score': 0.30820274353027344}]}, {'predictions': [{'score': 0.02945709228515625}]}, {'predictions': [{'score': 0.2588787078857422}]}, {'predictions': [{'score': 0.3914642333984375}]}, {'predictions': [{'score': 0.6184673309326172}]}, {'predictions': [{'score': -0.06671142578125}]}, {'predictions': [{'score': 0.3865318298339844}]}, {'predictions': [{'score': 0.09495925903320312}]}, {'predictions': [{'score': 0.2343311309814453}]}, {'predictions': [{'score': 0.8048648834228516}]}, {'predictions': [{'score': 0.3934898376464844}]}, {'predictions': [{'score': 0.39994239807128906}]}, {'predictions': [{'score': 0.4706840515136719}]}, {'predictions': [{'score': 0.5859622955322266}]}, {'predictions': [{'score': 0.228790283203125}]}, {'predictions': [{'score': 0.2447509765625}]}, {'predictions': [{'score': 0.6261157989501953}]}, {'predictions': [{'score': 0.09665870666503906}]}, {'predictions': [{'score': 0.4838428497314453}]}, {'predictions': [{'score': 0.5304450988769531}]}, {'predictions': [{'score': 0.4039649963378906}]}, {'predictions': [{'score': 0.42842864990234375}]}, {'predictions': [{'score': 0.42634010314941406}]}, {'predictions': [{'score': 0.6798686981201172}]}, {'predictions': [{'score': 0.6917285919189453}]}, {'predictions': [{'score': 0.364227294921875}]}, {'predictions': [{'score': 0.27902793884277344}]}, {'predictions': [{'score': 0.3881797790527344}]}, {'predictions': [{'score': 0.7701454162597656}]}, {'predictions': [{'score': 0.4696693420410156}]}, {'predictions': [{'score': 0.45781707763671875}]}, {'predictions': [{'score': 0.43537139892578125}]}, {'predictions': [{'score': 0.021196365356445312}]}, {'predictions': [{'score': 0.48247528076171875}]}, {'predictions': [{'score': 0.6751422882080078}]}, {'predictions': [{'score': 0.42669677734375}]}, {'predictions': [{'score': 0.2880573272705078}]}, {'predictions': [{'score': 0.6575984954833984}]}, {'predictions': [{'score': 0.5027370452880859}]}, {'predictions': [{'score': 0.2207183837890625}]}, {'predictions': [{'score': 0.5210247039794922}]}, {'predictions': [{'score': 0.6816959381103516}]}, {'predictions': [{'score': 0.2876930236816406}]}, {'predictions': [{'score': 0.4602336883544922}]}, {'predictions': [{'score': -0.04894447326660156}]}, {'predictions': [{'score': 0.6342105865478516}]}, {'predictions': [{'score': 0.4206104278564453}]}, {'predictions': [{'score': 0.4282684326171875}]}, {'predictions': [{'score': 0.4372234344482422}]}, {'predictions': [{'score': 0.7300949096679688}]}, {'predictions': [{'score': 0.6765117645263672}]}, {'predictions': [{'score': 0.5061244964599609}]}, {'predictions': [{'score': 0.6604404449462891}]}, {'predictions': [{'score': 0.497802734375}]}, {'predictions': [{'score': 0.5821971893310547}]}, {'predictions': [{'score': 0.6035194396972656}]}, {'predictions': [{'score': 0.22985458374023438}]}, {'predictions': [{'score': 0.4759941101074219}]}, {'predictions': [{'score': 0.34345245361328125}]}, {'predictions': [{'score': 0.3769512176513672}]}, {'predictions': [{'score': 0.18768692016601562}]}, {'predictions': [{'score': 0.5743083953857422}]}, {'predictions': [{'score': 0.6207733154296875}]}, {'predictions': [{'score': 0.4919109344482422}]}, {'predictions': [{'score': 0.3904895782470703}]}, {'predictions': [{'score': 0.31760597229003906}]}, {'predictions': [{'score': 0.5326499938964844}]}, {'predictions': [{'score': 0.347808837890625}]}, {'predictions': [{'score': 0.6960906982421875}]}, {'predictions': [{'score': 0.3013496398925781}]}, {'predictions': [{'score': 0.4701995849609375}]}, {'predictions': [{'score': 0.28503990173339844}]}, {'predictions': [{'score': 0.42014503479003906}]}, {'predictions': [{'score': 0.5366554260253906}]}, {'predictions': [{'score': 0.5455608367919922}]}, {'predictions': [{'score': 0.3178558349609375}]}, {'predictions': [{'score': 0.5676193237304688}]}, {'predictions': [{'score': 0.00827789306640625}]}, {'predictions': [{'score': 0.4435997009277344}]}, {'predictions': [{'score': 0.5519943237304688}]}, {'predictions': [{'score': 0.4225025177001953}]}, {'predictions': [{'score': 0.4115734100341797}]}, {'predictions': [{'score': 0.6809616088867188}]}, {'predictions': [{'score': 0.5783615112304688}]}, {'predictions': [{'score': 0.730194091796875}]}, {'predictions': [{'score': 0.3336906433105469}]}, {'predictions': [{'score': 0.3108940124511719}]}, {'predictions': [{'score': 0.6516742706298828}]}, {'predictions': [{'score': 0.39187049865722656}]}, {'predictions': [{'score': 0.33916664123535156}]}, {'predictions': [{'score': 0.19786453247070312}]}, {'predictions': [{'score': 0.7895412445068359}]}, {'predictions': [{'score': 0.47864341735839844}]}, {'predictions': [{'score': 0.5204448699951172}]}, {'predictions': [{'score': 0.2794151306152344}]}, {'predictions': [{'score': 0.3498649597167969}]}, {'predictions': [{'score': 0.8346939086914062}]}, {'predictions': [{'score': 0.4964447021484375}]}, {'predictions': [{'score': 0.43978118896484375}]}, {'predictions': [{'score': 0.34032440185546875}]}, {'predictions': [{'score': 0.7378368377685547}]}, {'predictions': [{'score': 0.4622688293457031}]}, {'predictions': [{'score': 0.21805381774902344}]}, {'predictions': [{'score': 0.5001468658447266}]}, {'predictions': [{'score': 0.2677440643310547}]}, {'predictions': [{'score': 0.19200897216796875}]}, {'predictions': [{'score': 0.460693359375}]}, {'predictions': [{'score': 0.6174774169921875}]}, {'predictions': [{'score': 0.44510459899902344}]}, {'predictions': [{'score': 0.6672496795654297}]}, {'predictions': [{'score': 0.6482906341552734}]}, {'predictions': [{'score': 0.6038265228271484}]}, {'predictions': [{'score': 0.10332107543945312}]}, {'predictions': [{'score': 0.41393470764160156}]}, {'predictions': [{'score': 0.5673027038574219}]}, {'predictions': [{'score': 0.2777366638183594}]}, {'predictions': [{'score': 0.6336021423339844}]}, {'predictions': [{'score': 0.21906471252441406}]}, {'predictions': [{'score': 0.657867431640625}]}, {'predictions': [{'score': 0.4085540771484375}]}, {'predictions': [{'score': 0.5134105682373047}]}, {'predictions': [{'score': 0.6657962799072266}]}, {'predictions': [{'score': 0.5228614807128906}]}, {'predictions': [{'score': 0.5517959594726562}]}, {'predictions': [{'score': 0.6859245300292969}]}, {'predictions': [{'score': 0.43856239318847656}]}, {'predictions': [{'score': 0.4737358093261719}]}, {'predictions': [{'score': 0.5598087310791016}]}, {'predictions': [{'score': 0.5389537811279297}]}, {'predictions': [{'score': 0.6497669219970703}]}, {'predictions': [{'score': 0.26123619079589844}]}, {'predictions': [{'score': 0.4303417205810547}]}, {'predictions': [{'score': 0.6705741882324219}]}, {'predictions': [{'score': 0.7217731475830078}]}, {'predictions': [{'score': 0.5684013366699219}]}, {'predictions': [{'score': 0.4398994445800781}]}, {'predictions': [{'score': 0.6076164245605469}]}, {'predictions': [{'score': 0.4905204772949219}]}, {'predictions': [{'score': 0.30510902404785156}]}, {'predictions': [{'score': 0.2811851501464844}]}, {'predictions': [{'score': 0.6249160766601562}]}, {'predictions': [{'score': 0.29257965087890625}]}, {'predictions': [{'score': 0.5295429229736328}]}, {'predictions': [{'score': 0.3683204650878906}]}, {'predictions': [{'score': 0.4112224578857422}]}, {'predictions': [{'score': 0.7241249084472656}]}, {'predictions': [{'score': 0.49974822998046875}]}, {'predictions': [{'score': 0.5541191101074219}]}, {'predictions': [{'score': 0.5355396270751953}]}, {'predictions': [{'score': 0.43881797790527344}]}, {'predictions': [{'score': 0.6687736511230469}]}, {'predictions': [{'score': 0.5832386016845703}]}, {'predictions': [{'score': 0.2858238220214844}]}, {'predictions': [{'score': 0.3907814025878906}]}, {'predictions': [{'score': 0.8090591430664062}]}, {'predictions': [{'score': 0.7525615692138672}]}, {'predictions': [{'score': 0.3711414337158203}]}, {'predictions': [{'score': 0.09978485107421875}]}, {'predictions': [{'score': 0.4138832092285156}]}, {'predictions': [{'score': 0.33222198486328125}]}, {'predictions': [{'score': 0.5882320404052734}]}, {'predictions': [{'score': 0.3613758087158203}]}, {'predictions': [{'score': 0.27723121643066406}]}, {'predictions': [{'score': 0.4546661376953125}]}, {'predictions': [{'score': 0.4566326141357422}]}, {'predictions': [{'score': 0.6932144165039062}]}, {'predictions': [{'score': 0.08030509948730469}]}, {'predictions': [{'score': 0.38448333740234375}]}, {'predictions': [{'score': 0.2703971862792969}]}, {'predictions': [{'score': 0.8134651184082031}]}, {'predictions': [{'score': 0.49955177307128906}]}, {'predictions': [{'score': 0.5700931549072266}]}, {'predictions': [{'score': 0.5674724578857422}]}, {'predictions': [{'score': 0.3415546417236328}]}, {'predictions': [{'score': 0.6510448455810547}]}, {'predictions': [{'score': 0.5335540771484375}]}, {'predictions': [{'score': 0.2167682647705078}]}, {'predictions': [{'score': 0.6843376159667969}]}, {'predictions': [{'score': 0.27430152893066406}]}, {'predictions': [{'score': 0.12811660766601562}]}, {'predictions': [{'score': 0.5206699371337891}]}, {'predictions': [{'score': 0.44054603576660156}]}, {'predictions': [{'score': 0.6450519561767578}]}, {'predictions': [{'score': -0.024122238159179688}]}, {'predictions': [{'score': 0.9221363067626953}]}, {'predictions': [{'score': 0.42066001892089844}]}, {'predictions': [{'score': 0.456146240234375}]}, {'predictions': [{'score': 0.5456676483154297}]}, {'predictions': [{'score': 0.69464111328125}]}, {'predictions': [{'score': 0.6005783081054688}]}, {'predictions': [{'score': 0.5741081237792969}]}, {'predictions': [{'score': 0.37053871154785156}]}, {'predictions': [{'score': 0.5355262756347656}]}, {'predictions': [{'score': 0.6200523376464844}]}, {'predictions': [{'score': 0.11579513549804688}]}, {'predictions': [{'score': 0.15722084045410156}]}, {'predictions': [{'score': 0.4501171112060547}]}, {'predictions': [{'score': 0.6295299530029297}]}, {'predictions': [{'score': 0.6349353790283203}]}, {'predictions': [{'score': 0.5612735748291016}]}, {'predictions': [{'score': 0.6461105346679688}]}, {'predictions': [{'score': 0.5176239013671875}]}, {'predictions': [{'score': 0.5231208801269531}]}, {'predictions': [{'score': 0.5315628051757812}]}, {'predictions': [{'score': 0.5073471069335938}]}, {'predictions': [{'score': 0.08173942565917969}]}, {'predictions': [{'score': 0.6614341735839844}]}, {'predictions': [{'score': 0.195068359375}]}, {'predictions': [{'score': 0.33808326721191406}]}, {'predictions': [{'score': 0.09447669982910156}]}, {'predictions': [{'score': 0.5446434020996094}]}, {'predictions': [{'score': 0.6409969329833984}]}, {'predictions': [{'score': 0.3094940185546875}]}, {'predictions': [{'score': 0.09519386291503906}]}, {'predictions': [{'score': 0.8807392120361328}]}, {'predictions': [{'score': 0.5475406646728516}]}, {'predictions': [{'score': 0.442596435546875}]}, {'predictions': [{'score': 0.5037498474121094}]}, {'predictions': [{'score': 0.6827545166015625}]}, {'predictions': [{'score': 0.5477027893066406}]}, {'predictions': [{'score': 0.6591873168945312}]}, {'predictions': [{'score': 0.6861705780029297}]}, {'predictions': [{'score': 0.2460613250732422}]}, {'predictions': [{'score': 0.21916770935058594}]}, {'predictions': [{'score': 0.38748741149902344}]}, {'predictions': [{'score': 0.5886325836181641}]}, {'predictions': [{'score': 0.5077152252197266}]}, {'predictions': [{'score': 0.40999412536621094}]}, {'predictions': [{'score': 0.5733871459960938}]}, {'predictions': [{'score': 0.5731620788574219}]}, {'predictions': [{'score': 0.1687335968017578}]}, {'predictions': [{'score': 0.4452095031738281}]}, {'predictions': [{'score': 0.7183628082275391}]}, {'predictions': [{'score': 0.39727020263671875}]}, {'predictions': [{'score': 0.46128273010253906}]}, {'predictions': [{'score': 0.4372539520263672}]}, {'predictions': [{'score': 0.39679718017578125}]}, {'predictions': [{'score': 0.5530910491943359}]}, {'predictions': [{'score': 0.28716278076171875}]}, {'predictions': [{'score': 0.33407020568847656}]}, {'predictions': [{'score': 0.3826332092285156}]}, {'predictions': [{'score': 0.1629657745361328}]}, {'predictions': [{'score': 0.4962120056152344}]}, {'predictions': [{'score': 0.6705093383789062}]}, {'predictions': [{'score': 0.15711021423339844}]}, {'predictions': [{'score': 0.4438800811767578}]}, {'predictions': [{'score': 0.7485084533691406}]}, {'predictions': [{'score': 0.40850257873535156}]}, {'predictions': [{'score': 0.4759330749511719}]}, {'predictions': [{'score': 0.5323638916015625}]}, {'predictions': [{'score': 0.42774391174316406}]}, {'predictions': [{'score': 0.5250205993652344}]}, {'predictions': [{'score': 0.9168128967285156}]}, {'predictions': [{'score': 0.40123558044433594}]}, {'predictions': [{'score': 0.6188468933105469}]}, {'predictions': [{'score': 0.24476242065429688}]}, {'predictions': [{'score': 0.8058910369873047}]}, {'predictions': [{'score': 0.4153423309326172}]}, {'predictions': [{'score': 0.08731651306152344}]}, {'predictions': [{'score': 0.5779342651367188}]}, {'predictions': [{'score': 0.5598907470703125}]}, {'predictions': [{'score': 0.6765651702880859}]}, {'predictions': [{'score': 0.8023509979248047}]}, {'predictions': [{'score': 0.4850044250488281}]}, {'predictions': [{'score': 0.0811614990234375}]}, {'predictions': [{'score': 0.2520732879638672}]}, {'predictions': [{'score': 0.44220733642578125}]}, {'predictions': [{'score': 0.42032814025878906}]}, {'predictions': [{'score': 0.055206298828125}]}, {'predictions': [{'score': 0.35599708557128906}]}, {'predictions': [{'score': 0.4996929168701172}]}, {'predictions': [{'score': 0.6881160736083984}]}, {'predictions': [{'score': 0.5555419921875}]}, {'predictions': [{'score': 0.5242805480957031}]}, {'predictions': [{'score': 0.580474853515625}]}, {'predictions': [{'score': 0.15435409545898438}]}, {'predictions': [{'score': 0.6946811676025391}]}, {'predictions': [{'score': 0.5378608703613281}]}, {'predictions': [{'score': 0.6437149047851562}]}, {'predictions': [{'score': 0.320892333984375}]}, {'predictions': [{'score': 0.5505580902099609}]}, {'predictions': [{'score': 0.5946540832519531}]}, {'predictions': [{'score': 0.2689704895019531}]}, {'predictions': [{'score': 0.4356727600097656}]}, {'predictions': [{'score': 0.5970268249511719}]}, {'predictions': [{'score': 0.28259849548339844}]}, {'predictions': [{'score': 0.09701919555664062}]}, {'predictions': [{'score': 0.7385826110839844}]}, {'predictions': [{'score': 0.6097984313964844}]}, {'predictions': [{'score': -0.04796791076660156}]}, {'predictions': [{'score': 0.5186386108398438}]}, {'predictions': [{'score': 0.2078075408935547}]}, {'predictions': [{'score': 0.6285171508789062}]}, {'predictions': [{'score': 0.3637962341308594}]}, {'predictions': [{'score': 0.39331626892089844}]}, {'predictions': [{'score': 0.47867584228515625}]}, {'predictions': [{'score': 0.4446449279785156}]}, {'predictions': [{'score': 0.4834251403808594}]}, {'predictions': [{'score': 0.5307903289794922}]}, {'predictions': [{'score': 0.37052154541015625}]}, {'predictions': [{'score': 0.3389148712158203}]}, {'predictions': [{'score': 0.7890739440917969}]}, {'predictions': [{'score': 0.37168312072753906}]}, {'predictions': [{'score': 0.38504981994628906}]}, {'predictions': [{'score': 0.3156566619873047}]}, {'predictions': [{'score': 0.7237052917480469}]}, {'predictions': [{'score': 0.09134483337402344}]}, {'predictions': [{'score': 0.37804222106933594}]}, {'predictions': [{'score': 0.8563079833984375}]}, {'predictions': [{'score': 0.19934654235839844}]}, {'predictions': [{'score': 0.2084026336669922}]}, {'predictions': [{'score': 0.766021728515625}]}, {'predictions': [{'score': 0.22056198120117188}]}, {'predictions': [{'score': 0.5656833648681641}]}, {'predictions': [{'score': 0.34738731384277344}]}, {'predictions': [{'score': 0.4499931335449219}]}, {'predictions': [{'score': 0.2655448913574219}]}, {'predictions': [{'score': 0.3551826477050781}]}, {'predictions': [{'score': 0.2736625671386719}]}, {'predictions': [{'score': 0.3144397735595703}]}, {'predictions': [{'score': 0.5677070617675781}]}, {'predictions': [{'score': 0.4693450927734375}]}, {'predictions': [{'score': 0.3029499053955078}]}, {'predictions': [{'score': 0.2289752960205078}]}, {'predictions': [{'score': 0.584930419921875}]}, {'predictions': [{'score': 0.3838233947753906}]}, {'predictions': [{'score': 0.6156940460205078}]}, {'predictions': [{'score': 0.6480312347412109}]}, {'predictions': [{'score': 0.10212898254394531}]}, {'predictions': [{'score': 0.45183753967285156}]}, {'predictions': [{'score': 0.6356010437011719}]}, {'predictions': [{'score': 0.7606716156005859}]}, {'predictions': [{'score': 0.4369029998779297}]}, {'predictions': [{'score': 0.3607006072998047}]}, {'predictions': [{'score': 0.6355819702148438}]}, {'predictions': [{'score': 0.4851665496826172}]}, {'predictions': [{'score': 0.5234718322753906}]}, {'predictions': [{'score': 0.28795623779296875}]}, {'predictions': [{'score': 0.5396862030029297}]}, {'predictions': [{'score': 0.1660022735595703}]}, {'predictions': [{'score': 0.8144168853759766}]}, {'predictions': [{'score': 0.6652030944824219}]}, {'predictions': [{'score': 0.6247940063476562}]}, {'predictions': [{'score': 0.27379798889160156}]}, {'predictions': [{'score': 0.15281105041503906}]}, {'predictions': [{'score': 0.6070480346679688}]}, {'predictions': [{'score': 0.6823902130126953}]}, {'predictions': [{'score': 0.30373191833496094}]}, {'predictions': [{'score': 0.2895050048828125}]}, {'predictions': [{'score': 0.5014362335205078}]}, {'predictions': [{'score': 0.4228343963623047}]}, {'predictions': [{'score': 0.44339942932128906}]}, {'predictions': [{'score': 0.47076988220214844}]}, {'predictions': [{'score': 0.31025123596191406}]}, {'predictions': [{'score': 0.41049766540527344}]}, {'predictions': [{'score': 0.6028194427490234}]}, {'predictions': [{'score': 0.5837440490722656}]}, {'predictions': [{'score': 0.7675075531005859}]}, {'predictions': [{'score': 0.5066394805908203}]}, {'predictions': [{'score': 0.6284389495849609}]}, {'predictions': [{'score': 0.6427974700927734}]}, {'predictions': [{'score': 0.467620849609375}]}, {'predictions': [{'score': 0.5443000793457031}]}, {'predictions': [{'score': 0.48815345764160156}]}, {'predictions': [{'score': 0.5247383117675781}]}, {'predictions': [{'score': 0.48337745666503906}]}, {'predictions': [{'score': 0.4248847961425781}]}, {'predictions': [{'score': 0.2818756103515625}]}, {'predictions': [{'score': 0.4850273132324219}]}, {'predictions': [{'score': 0.472076416015625}]}, {'predictions': [{'score': 0.4144916534423828}]}, {'predictions': [{'score': 0.5382957458496094}]}, {'predictions': [{'score': 0.049976348876953125}]}, {'predictions': [{'score': 0.8058967590332031}]}, {'predictions': [{'score': 0.40793418884277344}]}, {'predictions': [{'score': 0.3231773376464844}]}, {'predictions': [{'score': 0.56976318359375}]}, {'predictions': [{'score': 0.4495048522949219}]}, {'predictions': [{'score': 0.30350303649902344}]}, {'predictions': [{'score': 0.15801048278808594}]}, {'predictions': [{'score': 0.6003456115722656}]}, {'predictions': [{'score': 0.45358848571777344}]}, {'predictions': [{'score': 0.6102142333984375}]}, {'predictions': [{'score': 0.35126686096191406}]}, {'predictions': [{'score': 0.42221832275390625}]}, {'predictions': [{'score': 0.5618324279785156}]}, {'predictions': [{'score': 0.3527240753173828}]}, {'predictions': [{'score': -0.06578254699707031}]}, {'predictions': [{'score': 0.1665363311767578}]}, {'predictions': [{'score': 0.63763427734375}]}, {'predictions': [{'score': 0.46727752685546875}]}, {'predictions': [{'score': 0.5988750457763672}]}, {'predictions': [{'score': 0.17609214782714844}]}, {'predictions': [{'score': 0.3995552062988281}]}, {'predictions': [{'score': 0.5822181701660156}]}, {'predictions': [{'score': 0.36771583557128906}]}, {'predictions': [{'score': 0.32806968688964844}]}, {'predictions': [{'score': 0.5161304473876953}]}, {'predictions': [{'score': 0.5672607421875}]}, {'predictions': [{'score': 0.7689590454101562}]}, {'predictions': [{'score': 0.5903587341308594}]}, {'predictions': [{'score': 0.4336128234863281}]}, {'predictions': [{'score': 0.48094940185546875}]}, {'predictions': [{'score': 0.3267230987548828}]}, {'predictions': [{'score': 0.38011932373046875}]}, {'predictions': [{'score': 0.6505966186523438}]}, {'predictions': [{'score': 0.3096275329589844}]}, {'predictions': [{'score': 0.6369533538818359}]}, {'predictions': [{'score': 0.6574745178222656}]}, {'predictions': [{'score': 0.5298614501953125}]}, {'predictions': [{'score': 0.5474815368652344}]}, {'predictions': [{'score': 0.34694480895996094}]}, {'predictions': [{'score': 0.4023571014404297}]}, {'predictions': [{'score': 0.4483604431152344}]}, {'predictions': [{'score': 0.2869720458984375}]}, {'predictions': [{'score': 0.4727134704589844}]}, {'predictions': [{'score': 0.22451210021972656}]}, {'predictions': [{'score': 0.3851585388183594}]}, {'predictions': [{'score': 0.24080276489257812}]}, {'predictions': [{'score': 0.4971485137939453}]}, {'predictions': [{'score': 0.5940780639648438}]}, {'predictions': [{'score': 0.3785724639892578}]}, {'predictions': [{'score': 0.4230175018310547}]}, {'predictions': [{'score': 0.11089706420898438}]}, {'predictions': [{'score': 0.5749988555908203}]}, {'predictions': [{'score': 0.4965801239013672}]}, {'predictions': [{'score': 0.5702915191650391}]}, {'predictions': [{'score': 0.356201171875}]}, {'predictions': [{'score': 0.13598060607910156}]}, {'predictions': [{'score': 0.39340972900390625}]}, {'predictions': [{'score': 0.39064979553222656}]}, {'predictions': [{'score': 0.4775657653808594}]}, {'predictions': [{'score': 0.15940284729003906}]}, {'predictions': [{'score': 0.4463672637939453}]}, {'predictions': [{'score': 0.3819561004638672}]}, {'predictions': [{'score': 0.20799827575683594}]}, {'predictions': [{'score': 0.5434932708740234}]}, {'predictions': [{'score': 0.6239433288574219}]}, {'predictions': [{'score': 0.26312828063964844}]}, {'predictions': [{'score': 0.30925559997558594}]}, {'predictions': [{'score': 0.7170639038085938}]}, {'predictions': [{'score': 0.7739334106445312}]}, {'predictions': [{'score': 0.5662441253662109}]}, {'predictions': [{'score': 0.5338478088378906}]}, {'predictions': [{'score': 0.4222831726074219}]}, {'predictions': [{'score': 0.48769569396972656}]}, {'predictions': [{'score': 0.3317832946777344}]}, {'predictions': [{'score': 0.6387100219726562}]}, {'predictions': [{'score': 0.2280445098876953}]}, {'predictions': [{'score': 0.6571807861328125}]}, {'predictions': [{'score': 0.2618980407714844}]}, {'predictions': [{'score': 0.40248680114746094}]}, {'predictions': [{'score': 0.4914665222167969}]}, {'predictions': [{'score': 0.6898841857910156}]}, {'predictions': [{'score': 0.6781806945800781}]}, {'predictions': [{'score': 0.4171276092529297}]}, {'predictions': [{'score': 0.3205413818359375}]}, {'predictions': [{'score': 0.6322441101074219}]}, {'predictions': [{'score': 0.349456787109375}]}, {'predictions': [{'score': 0.6444263458251953}]}, {'predictions': [{'score': 0.3864402770996094}]}, {'predictions': [{'score': 0.5072422027587891}]}, {'predictions': [{'score': 0.2804431915283203}]}, {'predictions': [{'score': 0.6053810119628906}]}, {'predictions': [{'score': 0.19385337829589844}]}, {'predictions': [{'score': 0.44397735595703125}]}, {'predictions': [{'score': 0.3129901885986328}]}, {'predictions': [{'score': 0.3353252410888672}]}, {'predictions': [{'score': 0.07074165344238281}]}, {'predictions': [{'score': -0.02989959716796875}]}, {'predictions': [{'score': 0.4161243438720703}]}, {'predictions': [{'score': 0.7590007781982422}]}, {'predictions': [{'score': 0.26697731018066406}]}, {'predictions': [{'score': 0.4471168518066406}]}, {'predictions': [{'score': 0.420989990234375}]}, {'predictions': [{'score': 0.20745468139648438}]}, {'predictions': [{'score': 0.39693260192871094}]}, {'predictions': [{'score': 0.4708881378173828}]}, {'predictions': [{'score': 0.6379470825195312}]}, {'predictions': [{'score': 0.473052978515625}]}, {'predictions': [{'score': 0.6514339447021484}]}, {'predictions': [{'score': 0.7757911682128906}]}, {'predictions': [{'score': 0.17557525634765625}]}, {'predictions': [{'score': 0.42856597900390625}]}, {'predictions': [{'score': 0.22074317932128906}]}, {'predictions': [{'score': 0.3887310028076172}]}, {'predictions': [{'score': 0.5488719940185547}]}, {'predictions': [{'score': 0.5176544189453125}]}, {'predictions': [{'score': 0.6829738616943359}]}, {'predictions': [{'score': 0.3593635559082031}]}, {'predictions': [{'score': 0.3675403594970703}]}, {'predictions': [{'score': 0.42861175537109375}]}, {'predictions': [{'score': 0.7169132232666016}]}, {'predictions': [{'score': 0.3372764587402344}]}, {'predictions': [{'score': 0.15759658813476562}]}, {'predictions': [{'score': 0.5842971801757812}]}, {'predictions': [{'score': 0.4481620788574219}]}, {'predictions': [{'score': 0.6984214782714844}]}, {'predictions': [{'score': 0.5106563568115234}]}, {'predictions': [{'score': 0.7230033874511719}]}, {'predictions': [{'score': 0.6511898040771484}]}, {'predictions': [{'score': 0.7947769165039062}]}, {'predictions': [{'score': 0.09995841979980469}]}, {'predictions': [{'score': 0.2291126251220703}]}, {'predictions': [{'score': 0.5801734924316406}]}, {'predictions': [{'score': 0.6614933013916016}]}, {'predictions': [{'score': 0.14166259765625}]}, {'predictions': [{'score': 0.1790943145751953}]}, {'predictions': [{'score': 0.3851890563964844}]}, {'predictions': [{'score': 0.15428733825683594}]}, {'predictions': [{'score': 0.14920806884765625}]}, {'predictions': [{'score': 0.26375579833984375}]}, {'predictions': [{'score': 0.3019886016845703}]}, {'predictions': [{'score': 0.7002696990966797}]}, {'predictions': [{'score': 0.6029586791992188}]}, {'predictions': [{'score': 0.6562652587890625}]}, {'predictions': [{'score': 0.7956161499023438}]}, {'predictions': [{'score': 0.5405826568603516}]}, {'predictions': [{'score': 0.1489410400390625}]}, {'predictions': [{'score': 0.23779869079589844}]}, {'predictions': [{'score': 0.7904853820800781}]}, {'predictions': [{'score': 0.5153598785400391}]}, {'predictions': [{'score': 0.7825832366943359}]}, {'predictions': [{'score': 0.18725204467773438}]}, {'predictions': [{'score': 0.4799976348876953}]}, {'predictions': [{'score': 0.3842964172363281}]}, {'predictions': [{'score': 0.4473896026611328}]}, {'predictions': [{'score': 0.5772819519042969}]}, {'predictions': [{'score': 0.1602039337158203}]}, {'predictions': [{'score': 0.45204925537109375}]}, {'predictions': [{'score': -0.041629791259765625}]}, {'predictions': [{'score': 0.28058624267578125}]}, {'predictions': [{'score': 0.13667869567871094}]}, {'predictions': [{'score': 0.7097110748291016}]}, {'predictions': [{'score': 0.24411773681640625}]}, {'predictions': [{'score': 0.45234107971191406}]}, {'predictions': [{'score': 0.6726188659667969}]}, {'predictions': [{'score': 0.22272491455078125}]}, {'predictions': [{'score': 0.49658203125}]}, {'predictions': [{'score': 0.7245292663574219}]}, {'predictions': [{'score': 0.21728897094726562}]}, {'predictions': [{'score': 0.4134941101074219}]}, {'predictions': [{'score': 0.4758796691894531}]}, {'predictions': [{'score': 0.3753623962402344}]}, {'predictions': [{'score': 0.3531990051269531}]}, {'predictions': [{'score': 0.3915119171142578}]}, {'predictions': [{'score': 0.6523952484130859}]}, {'predictions': [{'score': 0.5514411926269531}]}, {'predictions': [{'score': 0.6069126129150391}]}, {'predictions': [{'score': 0.2921123504638672}]}, {'predictions': [{'score': 0.3901233673095703}]}, {'predictions': [{'score': 0.5137443542480469}]}, {'predictions': [{'score': 0.3779125213623047}]}, {'predictions': [{'score': 0.3459129333496094}]}, {'predictions': [{'score': 0.5343513488769531}]}, {'predictions': [{'score': 0.5838794708251953}]}, {'predictions': [{'score': 0.5275917053222656}]}, {'predictions': [{'score': 0.05737495422363281}]}, {'predictions': [{'score': 0.3809051513671875}]}, {'predictions': [{'score': 0.21341896057128906}]}, {'predictions': [{'score': 0.8044166564941406}]}, {'predictions': [{'score': 0.2803001403808594}]}, {'predictions': [{'score': 0.4359912872314453}]}, {'predictions': [{'score': 0.6220073699951172}]}, {'predictions': [{'score': 0.46012115478515625}]}, {'predictions': [{'score': 0.439300537109375}]}, {'predictions': [{'score': 0.6156654357910156}]}, {'predictions': [{'score': 0.38529014587402344}]}, {'predictions': [{'score': 0.6876049041748047}]}, {'predictions': [{'score': 0.45908355712890625}]}, {'predictions': [{'score': 0.6055526733398438}]}, {'predictions': [{'score': 0.4015941619873047}]}, {'predictions': [{'score': 0.7904338836669922}]}, {'predictions': [{'score': 0.49985504150390625}]}, {'predictions': [{'score': 0.5288200378417969}]}, {'predictions': [{'score': 0.6188850402832031}]}, {'predictions': [{'score': 0.1292285919189453}]}, {'predictions': [{'score': 0.5387191772460938}]}, {'predictions': [{'score': 0.4230823516845703}]}, {'predictions': [{'score': 0.6947441101074219}]}, {'predictions': [{'score': 0.0953826904296875}]}, {'predictions': [{'score': 0.32988739013671875}]}, {'predictions': [{'score': 0.6321601867675781}]}, {'predictions': [{'score': -0.04361534118652344}]}, {'predictions': [{'score': 0.7008876800537109}]}, {'predictions': [{'score': 0.6424980163574219}]}, {'predictions': [{'score': 0.37286949157714844}]}, {'predictions': [{'score': 0.1721820831298828}]}, {'predictions': [{'score': 0.6470508575439453}]}, {'predictions': [{'score': 0.5540847778320312}]}, {'predictions': [{'score': 0.2503242492675781}]}, {'predictions': [{'score': 0.6111526489257812}]}, {'predictions': [{'score': 0.34177398681640625}]}, {'predictions': [{'score': 0.3597755432128906}]}, {'predictions': [{'score': 0.18598556518554688}]}, {'predictions': [{'score': 0.43564414978027344}]}, {'predictions': [{'score': 0.29723358154296875}]}, {'predictions': [{'score': 0.19501495361328125}]}, {'predictions': [{'score': 0.5277214050292969}]}, {'predictions': [{'score': 0.6479339599609375}]}, {'predictions': [{'score': 0.3544464111328125}]}, {'predictions': [{'score': 0.350311279296875}]}, {'predictions': [{'score': 0.8886337280273438}]}, {'predictions': [{'score': 0.6773014068603516}]}, {'predictions': [{'score': 0.6991062164306641}]}, {'predictions': [{'score': 0.26503944396972656}]}, {'predictions': [{'score': 0.6345443725585938}]}, {'predictions': [{'score': 0.07631301879882812}]}, {'predictions': [{'score': 0.6078529357910156}]}, {'predictions': [{'score': 0.7231960296630859}]}, {'predictions': [{'score': 0.2949657440185547}]}, {'predictions': [{'score': 0.2813682556152344}]}, {'predictions': [{'score': 0.5935039520263672}]}, {'predictions': [{'score': 0.4221630096435547}]}, {'predictions': [{'score': 0.5637130737304688}]}, {'predictions': [{'score': 0.5032844543457031}]}, {'predictions': [{'score': 0.3291130065917969}]}, {'predictions': [{'score': 0.49188804626464844}]}, {'predictions': [{'score': 0.5227317810058594}]}, {'predictions': [{'score': 0.4301643371582031}]}, {'predictions': [{'score': 0.4740772247314453}]}, {'predictions': [{'score': 0.13965415954589844}]}, {'predictions': [{'score': 0.5218715667724609}]}, {'predictions': [{'score': 0.5104045867919922}]}, {'predictions': [{'score': 0.3221302032470703}]}, {'predictions': [{'score': 0.291717529296875}]}, {'predictions': [{'score': 0.4642009735107422}]}, {'predictions': [{'score': 0.4822196960449219}]}, {'predictions': [{'score': 0.5057086944580078}]}, {'predictions': [{'score': 0.7243595123291016}]}, {'predictions': [{'score': 0.14786911010742188}]}, {'predictions': [{'score': 0.6003704071044922}]}, {'predictions': [{'score': 0.5173358917236328}]}, {'predictions': [{'score': 0.4102516174316406}]}, {'predictions': [{'score': 0.6194534301757812}]}, {'predictions': [{'score': 0.4158897399902344}]}, {'predictions': [{'score': 0.3989429473876953}]}, {'predictions': [{'score': 0.39014625549316406}]}, {'predictions': [{'score': 0.5252742767333984}]}, {'predictions': [{'score': 0.5123882293701172}]}, {'predictions': [{'score': 0.3506450653076172}]}, {'predictions': [{'score': 0.4287395477294922}]}, {'predictions': [{'score': 0.6963367462158203}]}, {'predictions': [{'score': 0.6555690765380859}]}, {'predictions': [{'score': 0.30621337890625}]}, {'predictions': [{'score': 0.45330047607421875}]}, {'predictions': [{'score': 0.5260219573974609}]}, {'predictions': [{'score': 0.5526390075683594}]}, {'predictions': [{'score': 0.3325157165527344}]}, {'predictions': [{'score': 0.5613555908203125}]}, {'predictions': [{'score': 0.4859294891357422}]}, {'predictions': [{'score': -0.019479751586914062}]}, {'predictions': [{'score': 0.4096527099609375}]}, {'predictions': [{'score': 0.3315601348876953}]}, {'predictions': [{'score': 0.13428497314453125}]}, {'predictions': [{'score': 0.5050525665283203}]}, {'predictions': [{'score': 0.49780845642089844}]}, {'predictions': [{'score': 0.25914955139160156}]}, {'predictions': [{'score': 0.3761615753173828}]}, {'predictions': [{'score': 0.20255088806152344}]}, {'predictions': [{'score': 0.6620578765869141}]}, {'predictions': [{'score': 0.5149803161621094}]}, {'predictions': [{'score': 0.48406219482421875}]}, {'predictions': [{'score': 0.7912502288818359}]}, {'predictions': [{'score': 0.3858489990234375}]}, {'predictions': [{'score': 0.43404197692871094}]}, {'predictions': [{'score': 0.2666912078857422}]}, {'predictions': [{'score': -0.07201576232910156}]}, {'predictions': [{'score': 0.1771984100341797}]}, {'predictions': [{'score': 0.6082401275634766}]}, {'predictions': [{'score': 0.5727386474609375}]}, {'predictions': [{'score': 0.1116485595703125}]}, {'predictions': [{'score': 0.24306106567382812}]}, {'predictions': [{'score': 0.18723487854003906}]}, {'predictions': [{'score': 0.5980415344238281}]}, {'predictions': [{'score': 0.571563720703125}]}, {'predictions': [{'score': 0.2971687316894531}]}, {'predictions': [{'score': 0.5216693878173828}]}, {'predictions': [{'score': 0.2143115997314453}]}, {'predictions': [{'score': 0.1691303253173828}]}, {'predictions': [{'score': 0.07566261291503906}]}, {'predictions': [{'score': 0.29693603515625}]}, {'predictions': [{'score': 0.5010528564453125}]}, {'predictions': [{'score': 0.37615203857421875}]}, {'predictions': [{'score': 0.6423606872558594}]}, {'predictions': [{'score': 0.23449325561523438}]}, {'predictions': [{'score': 0.28258514404296875}]}, {'predictions': [{'score': 0.5833797454833984}]}, {'predictions': [{'score': 0.3147773742675781}]}, {'predictions': [{'score': 0.4063873291015625}]}, {'predictions': [{'score': 0.22440147399902344}]}, {'predictions': [{'score': 0.2760181427001953}]}, {'predictions': [{'score': 0.3716716766357422}]}, {'predictions': [{'score': 0.12231826782226562}]}, {'predictions': [{'score': 0.1531543731689453}]}, {'predictions': [{'score': 0.5464496612548828}]}, {'predictions': [{'score': 0.5282726287841797}]}, {'predictions': [{'score': 0.7647552490234375}]}, {'predictions': [{'score': 0.32450294494628906}]}, {'predictions': [{'score': 0.16156005859375}]}, {'predictions': [{'score': 0.6681060791015625}]}, {'predictions': [{'score': 0.5915069580078125}]}, {'predictions': [{'score': 0.43012237548828125}]}, {'predictions': [{'score': 0.728179931640625}]}, {'predictions': [{'score': 0.14698410034179688}]}, {'predictions': [{'score': -0.06493568420410156}]}, {'predictions': [{'score': 0.4316825866699219}]}, {'predictions': [{'score': 0.15164947509765625}]}, {'predictions': [{'score': 0.10811424255371094}]}, {'predictions': [{'score': 0.39040184020996094}]}, {'predictions': [{'score': 0.24878311157226562}]}, {'predictions': [{'score': 0.372344970703125}]}, {'predictions': [{'score': -0.06682395935058594}]}, {'predictions': [{'score': 0.18552780151367188}]}, {'predictions': [{'score': 0.6539344787597656}]}, {'predictions': [{'score': 0.16248512268066406}]}, {'predictions': [{'score': 0.5363826751708984}]}, {'predictions': [{'score': 0.6213798522949219}]}, {'predictions': [{'score': 0.5005207061767578}]}, {'predictions': [{'score': 0.3698101043701172}]}, {'predictions': [{'score': 0.4472789764404297}]}, {'predictions': [{'score': 0.451141357421875}]}, {'predictions': [{'score': 0.5560073852539062}]}, {'predictions': [{'score': 0.36524009704589844}]}, {'predictions': [{'score': 0.6138954162597656}]}, {'predictions': [{'score': 0.47769737243652344}]}, {'predictions': [{'score': 0.5203342437744141}]}, {'predictions': [{'score': 0.5253982543945312}]}, {'predictions': [{'score': 0.7019062042236328}]}, {'predictions': [{'score': 0.6945056915283203}]}, {'predictions': [{'score': 0.32517433166503906}]}, {'predictions': [{'score': 0.36327171325683594}]}, {'predictions': [{'score': 0.6769447326660156}]}, {'predictions': [{'score': 0.7258949279785156}]}, {'predictions': [{'score': 0.46303558349609375}]}, {'predictions': [{'score': 0.7088565826416016}]}, {'predictions': [{'score': 0.37972259521484375}]}, {'predictions': [{'score': 0.31267356872558594}]}, {'predictions': [{'score': 0.7993907928466797}]}, {'predictions': [{'score': 0.3577899932861328}]}, {'predictions': [{'score': 0.7112541198730469}]}, {'predictions': [{'score': 0.5197658538818359}]}, {'predictions': [{'score': 0.23020553588867188}]}, {'predictions': [{'score': 0.6411666870117188}]}, {'predictions': [{'score': 0.1975555419921875}]}, {'predictions': [{'score': 0.41580772399902344}]}, {'predictions': [{'score': 0.6552677154541016}]}, {'predictions': [{'score': 0.38406944274902344}]}, {'predictions': [{'score': 0.4426536560058594}]}, {'predictions': [{'score': 0.31677818298339844}]}, {'predictions': [{'score': 0.4103240966796875}]}, {'predictions': [{'score': 0.43202781677246094}]}, {'predictions': [{'score': 0.39911460876464844}]}, {'predictions': [{'score': 0.18242454528808594}]}, {'predictions': [{'score': 0.4993438720703125}]}, {'predictions': [{'score': 0.6792755126953125}]}, {'predictions': [{'score': 0.3066673278808594}]}, {'predictions': [{'score': 0.4396800994873047}]}, {'predictions': [{'score': 0.42806434631347656}]}, {'predictions': [{'score': 0.7242279052734375}]}, {'predictions': [{'score': 0.4228496551513672}]}, {'predictions': [{'score': 0.40795326232910156}]}, {'predictions': [{'score': 0.5451564788818359}]}, {'predictions': [{'score': 0.5607013702392578}]}, {'predictions': [{'score': 0.24002456665039062}]}, {'predictions': [{'score': 0.4405555725097656}]}, {'predictions': [{'score': 0.3971538543701172}]}, {'predictions': [{'score': 0.263824462890625}]}, {'predictions': [{'score': 0.7727546691894531}]}, {'predictions': [{'score': 0.3935394287109375}]}, {'predictions': [{'score': 0.5406990051269531}]}, {'predictions': [{'score': 0.1484546661376953}]}, {'predictions': [{'score': 0.5811195373535156}]}, {'predictions': [{'score': 0.4707832336425781}]}, {'predictions': [{'score': 0.13631439208984375}]}, {'predictions': [{'score': 0.7382965087890625}]}, {'predictions': [{'score': 0.7871494293212891}]}, {'predictions': [{'score': 0.32927894592285156}]}, {'predictions': [{'score': 0.4376945495605469}]}, {'predictions': [{'score': 0.4449462890625}]}, {'predictions': [{'score': 0.28212738037109375}]}, {'predictions': [{'score': 0.6562843322753906}]}, {'predictions': [{'score': 0.21176528930664062}]}, {'predictions': [{'score': 0.26636695861816406}]}, {'predictions': [{'score': 0.6412487030029297}]}, {'predictions': [{'score': 0.6030006408691406}]}, {'predictions': [{'score': 0.700286865234375}]}, {'predictions': [{'score': 0.23549842834472656}]}, {'predictions': [{'score': 0.2563800811767578}]}, {'predictions': [{'score': 0.20937728881835938}]}, {'predictions': [{'score': 0.4281749725341797}]}, {'predictions': [{'score': 0.5222759246826172}]}, {'predictions': [{'score': 0.47206878662109375}]}, {'predictions': [{'score': 0.1602611541748047}]}, {'predictions': [{'score': 0.5817813873291016}]}, {'predictions': [{'score': 0.3579597473144531}]}, {'predictions': [{'score': 0.32501220703125}]}, {'predictions': [{'score': 0.37793922424316406}]}, {'predictions': [{'score': 0.6115798950195312}]}, {'predictions': [{'score': 0.30008888244628906}]}, {'predictions': [{'score': 0.689971923828125}]}, {'predictions': [{'score': 0.64520263671875}]}, {'predictions': [{'score': 0.369659423828125}]}, {'predictions': [{'score': 0.37999725341796875}]}, {'predictions': [{'score': 0.339599609375}]}, {'predictions': [{'score': 0.7296829223632812}]}, {'predictions': [{'score': 0.5442142486572266}]}, {'predictions': [{'score': 0.62689208984375}]}, {'predictions': [{'score': 0.4970359802246094}]}, {'predictions': [{'score': 0.38367462158203125}]}, {'predictions': [{'score': 0.131072998046875}]}, {'predictions': [{'score': 0.5899848937988281}]}, {'predictions': [{'score': 0.6091899871826172}]}, {'predictions': [{'score': 0.41510581970214844}]}, {'predictions': [{'score': 0.43731689453125}]}, {'predictions': [{'score': 0.5827751159667969}]}, {'predictions': [{'score': 0.26544189453125}]}, {'predictions': [{'score': 0.40589332580566406}]}, {'predictions': [{'score': 0.7792415618896484}]}, {'predictions': [{'score': 0.6708755493164062}]}, {'predictions': [{'score': 0.5245246887207031}]}, {'predictions': [{'score': 0.5921916961669922}]}, {'predictions': [{'score': -0.05702018737792969}]}, {'predictions': [{'score': 0.5590705871582031}]}, {'predictions': [{'score': 0.5308818817138672}]}, {'predictions': [{'score': 0.5536975860595703}]}, {'predictions': [{'score': 0.5640087127685547}]}, {'predictions': [{'score': 0.5830535888671875}]}, {'predictions': [{'score': 0.5001430511474609}]}, {'predictions': [{'score': 0.20055198669433594}]}, {'predictions': [{'score': 0.5038604736328125}]}, {'predictions': [{'score': 0.2550468444824219}]}, {'predictions': [{'score': 0.3329124450683594}]}, {'predictions': [{'score': 0.2640533447265625}]}, {'predictions': [{'score': 0.5700416564941406}]}, {'predictions': [{'score': 0.5548534393310547}]}, {'predictions': [{'score': 0.41364479064941406}]}, {'predictions': [{'score': 0.6115951538085938}]}, {'predictions': [{'score': 0.37112998962402344}]}, {'predictions': [{'score': 0.7647342681884766}]}, {'predictions': [{'score': 0.7765102386474609}]}, {'predictions': [{'score': 0.6035804748535156}]}, {'predictions': [{'score': 0.5361404418945312}]}, {'predictions': [{'score': 0.5894756317138672}]}, {'predictions': [{'score': 0.1939563751220703}]}, {'predictions': [{'score': 0.4056529998779297}]}, {'predictions': [{'score': 0.3722496032714844}]}, {'predictions': [{'score': 0.3422355651855469}]}, {'predictions': [{'score': 0.30793190002441406}]}, {'predictions': [{'score': 0.7203273773193359}]}, {'predictions': [{'score': 0.5962715148925781}]}, {'predictions': [{'score': 0.47339630126953125}]}, {'predictions': [{'score': 0.37763404846191406}]}, {'predictions': [{'score': 0.333892822265625}]}, {'predictions': [{'score': 0.4634132385253906}]}, {'predictions': [{'score': 0.6398029327392578}]}, {'predictions': [{'score': 0.47574806213378906}]}, {'predictions': [{'score': 0.3855438232421875}]}, {'predictions': [{'score': 0.3715839385986328}]}, {'predictions': [{'score': 0.5970954895019531}]}, {'predictions': [{'score': 0.5153751373291016}]}, {'predictions': [{'score': 0.4951019287109375}]}, {'predictions': [{'score': 0.09585762023925781}]}, {'predictions': [{'score': 0.45797157287597656}]}, {'predictions': [{'score': 0.7749004364013672}]}, {'predictions': [{'score': 0.5082645416259766}]}, {'predictions': [{'score': 0.2789745330810547}]}, {'predictions': [{'score': 0.108184814453125}]}, {'predictions': [{'score': 0.4548206329345703}]}, {'predictions': [{'score': 0.3229694366455078}]}, {'predictions': [{'score': 0.024929046630859375}]}, {'predictions': [{'score': 0.2522716522216797}]}, {'predictions': [{'score': 0.6470298767089844}]}, {'predictions': [{'score': 0.4941272735595703}]}, {'predictions': [{'score': 0.48886871337890625}]}, {'predictions': [{'score': 0.44687461853027344}]}, {'predictions': [{'score': 0.7236347198486328}]}, {'predictions': [{'score': 0.40242767333984375}]}, {'predictions': [{'score': 0.38464927673339844}]}, {'predictions': [{'score': 0.5093822479248047}]}, {'predictions': [{'score': -0.05940818786621094}]}, {'predictions': [{'score': 0.3870964050292969}]}, {'predictions': [{'score': 0.028360366821289062}]}, {'predictions': [{'score': 0.3127880096435547}]}, {'predictions': [{'score': 0.2898082733154297}]}, {'predictions': [{'score': 0.6291389465332031}]}, {'predictions': [{'score': 0.07326889038085938}]}, {'predictions': [{'score': 0.41752052307128906}]}, {'predictions': [{'score': 0.638580322265625}]}, {'predictions': [{'score': 0.3523731231689453}]}, {'predictions': [{'score': 0.09619903564453125}]}, {'predictions': [{'score': 0.46680450439453125}]}, {'predictions': [{'score': 0.1737995147705078}]}, {'predictions': [{'score': 0.4715919494628906}]}, {'predictions': [{'score': 0.6650295257568359}]}, {'predictions': [{'score': 0.5777969360351562}]}, {'predictions': [{'score': 0.2668113708496094}]}, {'predictions': [{'score': 0.22494125366210938}]}, {'predictions': [{'score': 0.39461517333984375}]}, {'predictions': [{'score': 0.37760353088378906}]}, {'predictions': [{'score': 0.8287792205810547}]}, {'predictions': [{'score': 0.8179512023925781}]}, {'predictions': [{'score': 0.1983013153076172}]}, {'predictions': [{'score': 0.2671699523925781}]}, {'predictions': [{'score': 0.6705818176269531}]}, {'predictions': [{'score': 0.7060070037841797}]}, {'predictions': [{'score': 0.49816131591796875}]}, {'predictions': [{'score': 0.375213623046875}]}, {'predictions': [{'score': 0.06883430480957031}]}, {'predictions': [{'score': 0.6842002868652344}]}, {'predictions': [{'score': 0.2541942596435547}]}, {'predictions': [{'score': 0.6137351989746094}]}, {'predictions': [{'score': 0.30313873291015625}]}, {'predictions': [{'score': 0.6717128753662109}]}, {'predictions': [{'score': 0.5237655639648438}]}, {'predictions': [{'score': 0.26704978942871094}]}, {'predictions': [{'score': 0.30976104736328125}]}, {'predictions': [{'score': 0.5163688659667969}]}, {'predictions': [{'score': 0.7220726013183594}]}, {'predictions': [{'score': 0.4466838836669922}]}, {'predictions': [{'score': 0.5610427856445312}]}, {'predictions': [{'score': 0.5049018859863281}]}, {'predictions': [{'score': 0.6186408996582031}]}, {'predictions': [{'score': 0.5197849273681641}]}, {'predictions': [{'score': 0.5514450073242188}]}, {'predictions': [{'score': 0.5964393615722656}]}, {'predictions': [{'score': 0.30158042907714844}]}, {'predictions': [{'score': 0.5505733489990234}]}, {'predictions': [{'score': 0.6400604248046875}]}, {'predictions': [{'score': 0.7611656188964844}]}, {'predictions': [{'score': 0.29298973083496094}]}, {'predictions': [{'score': 0.5331668853759766}]}, {'predictions': [{'score': 0.33972930908203125}]}, {'predictions': [{'score': 0.40294837951660156}]}, {'predictions': [{'score': 0.3104400634765625}]}, {'predictions': [{'score': -0.06731605529785156}]}, {'predictions': [{'score': 0.92657470703125}]}, {'predictions': [{'score': 0.4580879211425781}]}, {'predictions': [{'score': 0.3763427734375}]}, {'predictions': [{'score': 0.23827743530273438}]}, {'predictions': [{'score': 0.4859142303466797}]}, {'predictions': [{'score': 0.281036376953125}]}, {'predictions': [{'score': 0.5909767150878906}]}, {'predictions': [{'score': 0.4160118103027344}]}, {'predictions': [{'score': 0.03607940673828125}]}, {'predictions': [{'score': 0.5720634460449219}]}, {'predictions': [{'score': 0.2615642547607422}]}, {'predictions': [{'score': 0.26535606384277344}]}, {'predictions': [{'score': 0.34717369079589844}]}, {'predictions': [{'score': 0.5668106079101562}]}, {'predictions': [{'score': 0.3770599365234375}]}, {'predictions': [{'score': 0.5742626190185547}]}, {'predictions': [{'score': 0.5303802490234375}]}, {'predictions': [{'score': 0.4880504608154297}]}, {'predictions': [{'score': 0.30385780334472656}]}, {'predictions': [{'score': 0.4434986114501953}]}, {'predictions': [{'score': 0.6180744171142578}]}, {'predictions': [{'score': 0.22027587890625}]}, {'predictions': [{'score': 0.5254497528076172}]}, {'predictions': [{'score': 0.4002056121826172}]}, {'predictions': [{'score': 0.3303394317626953}]}, {'predictions': [{'score': 0.6431655883789062}]}, {'predictions': [{'score': 0.4871482849121094}]}, {'predictions': [{'score': 0.38289451599121094}]}, {'predictions': [{'score': 0.5583972930908203}]}, {'predictions': [{'score': 0.5839900970458984}]}, {'predictions': [{'score': 0.44260406494140625}]}, {'predictions': [{'score': 0.5264987945556641}]}, {'predictions': [{'score': 0.6002120971679688}]}, {'predictions': [{'score': 0.8814544677734375}]}, {'predictions': [{'score': 0.2662525177001953}]}, {'predictions': [{'score': 0.46484375}]}, {'predictions': [{'score': 0.3056621551513672}]}, {'predictions': [{'score': 0.6265468597412109}]}, {'predictions': [{'score': 0.18372344970703125}]}, {'predictions': [{'score': 0.6741657257080078}]}, {'predictions': [{'score': 0.37853431701660156}]}, {'predictions': [{'score': 0.6904449462890625}]}, {'predictions': [{'score': 0.25419044494628906}]}, {'predictions': [{'score': 0.1967182159423828}]}, {'predictions': [{'score': 0.5695056915283203}]}, {'predictions': [{'score': 0.07252311706542969}]}, {'predictions': [{'score': 0.4139080047607422}]}, {'predictions': [{'score': 0.4572467803955078}]}, {'predictions': [{'score': 0.6361179351806641}]}, {'predictions': [{'score': 0.4036369323730469}]}, {'predictions': [{'score': 0.33034515380859375}]}, {'predictions': [{'score': 0.18512725830078125}]}, {'predictions': [{'score': 0.5883007049560547}]}, {'predictions': [{'score': 0.5459632873535156}]}, {'predictions': [{'score': 0.3932991027832031}]}, {'predictions': [{'score': 0.4485015869140625}]}, {'predictions': [{'score': 0.5926895141601562}]}, {'predictions': [{'score': 0.42926979064941406}]}, {'predictions': [{'score': 0.1599750518798828}]}, {'predictions': [{'score': 0.48250770568847656}]}, {'predictions': [{'score': 0.5057506561279297}]}, {'predictions': [{'score': 0.4724445343017578}]}, {'predictions': [{'score': -0.05277442932128906}]}, {'predictions': [{'score': 0.31638336181640625}]}, {'predictions': [{'score': 0.44891357421875}]}, {'predictions': [{'score': 0.462066650390625}]}, {'predictions': [{'score': 0.34566307067871094}]}, {'predictions': [{'score': 0.6277484893798828}]}, {'predictions': [{'score': 0.7929744720458984}]}, {'predictions': [{'score': 0.5394344329833984}]}, {'predictions': [{'score': 0.49901390075683594}]}, {'predictions': [{'score': 0.4278125762939453}]}, {'predictions': [{'score': 0.30387306213378906}]}, {'predictions': [{'score': 0.3549957275390625}]}, {'predictions': [{'score': 0.26474571228027344}]}, {'predictions': [{'score': 0.39078330993652344}]}, {'predictions': [{'score': 0.666046142578125}]}, {'predictions': [{'score': 0.7946758270263672}]}, {'predictions': [{'score': 0.4933738708496094}]}, {'predictions': [{'score': 0.21072769165039062}]}, {'predictions': [{'score': 0.6436653137207031}]}, {'predictions': [{'score': 0.5875988006591797}]}, {'predictions': [{'score': 0.3869285583496094}]}, {'predictions': [{'score': 0.37014198303222656}]}, {'predictions': [{'score': 0.13315200805664062}]}, {'predictions': [{'score': 0.5181713104248047}]}, {'predictions': [{'score': 0.3113746643066406}]}, {'predictions': [{'score': 0.5044116973876953}]}, {'predictions': [{'score': 0.4285106658935547}]}, {'predictions': [{'score': 0.3485889434814453}]}, {'predictions': [{'score': 0.25112342834472656}]}, {'predictions': [{'score': 0.6480045318603516}]}, {'predictions': [{'score': 0.23558616638183594}]}, {'predictions': [{'score': 0.6579017639160156}]}, {'predictions': [{'score': 0.4687175750732422}]}, {'predictions': [{'score': 0.5557785034179688}]}, {'predictions': [{'score': 0.7311897277832031}]}, {'predictions': [{'score': 0.6120414733886719}]}, {'predictions': [{'score': 0.5291175842285156}]}, {'predictions': [{'score': 0.4264488220214844}]}, {'predictions': [{'score': 0.8721389770507812}]}, {'predictions': [{'score': -0.037273406982421875}]}, {'predictions': [{'score': 0.38590240478515625}]}, {'predictions': [{'score': 0.4739551544189453}]}, {'predictions': [{'score': 0.5143756866455078}]}, {'predictions': [{'score': 0.5160045623779297}]}, {'predictions': [{'score': 0.5618991851806641}]}, {'predictions': [{'score': 0.7517719268798828}]}, {'predictions': [{'score': 0.3042144775390625}]}, {'predictions': [{'score': 0.4764366149902344}]}, {'predictions': [{'score': 0.459747314453125}]}, {'predictions': [{'score': 0.4729290008544922}]}, {'predictions': [{'score': 0.1505146026611328}]}, {'predictions': [{'score': 0.6413440704345703}]}, {'predictions': [{'score': 0.7748737335205078}]}, {'predictions': [{'score': 0.3417034149169922}]}, {'predictions': [{'score': 0.5357799530029297}]}, {'predictions': [{'score': 0.5134029388427734}]}, {'predictions': [{'score': 0.1833629608154297}]}, {'predictions': [{'score': 0.25095176696777344}]}, {'predictions': [{'score': 0.6782932281494141}]}, {'predictions': [{'score': 0.4473400115966797}]}, {'predictions': [{'score': 0.5176353454589844}]}, {'predictions': [{'score': 0.6505870819091797}]}, {'predictions': [{'score': 0.43377113342285156}]}, {'predictions': [{'score': 0.7692661285400391}]}, {'predictions': [{'score': 0.6420097351074219}]}, {'predictions': [{'score': 0.3194389343261719}]}, {'predictions': [{'score': 0.4806861877441406}]}, {'predictions': [{'score': 0.3156623840332031}]}, {'predictions': [{'score': 0.6540908813476562}]}, {'predictions': [{'score': 0.46945953369140625}]}, {'predictions': [{'score': 0.5767555236816406}]}, {'predictions': [{'score': 0.17873573303222656}]}, {'predictions': [{'score': 0.23904800415039062}]}, {'predictions': [{'score': 0.5548515319824219}]}, {'predictions': [{'score': 0.2811565399169922}]}, {'predictions': [{'score': 0.8800086975097656}]}, {'predictions': [{'score': 0.4183673858642578}]}, {'predictions': [{'score': 0.5458564758300781}]}, {'predictions': [{'score': 0.47345733642578125}]}, {'predictions': [{'score': 0.45685577392578125}]}, {'predictions': [{'score': 0.46549415588378906}]}, {'predictions': [{'score': 0.5627937316894531}]}, {'predictions': [{'score': 0.7395210266113281}]}, {'predictions': [{'score': 0.6188945770263672}]}, {'predictions': [{'score': 0.8557052612304688}]}, {'predictions': [{'score': 0.6626300811767578}]}, {'predictions': [{'score': 0.3085651397705078}]}, {'predictions': [{'score': 0.4322834014892578}]}, {'predictions': [{'score': 0.8559112548828125}]}, {'predictions': [{'score': 0.7520313262939453}]}, {'predictions': [{'score': 0.411376953125}]}, {'predictions': [{'score': 0.43483734130859375}]}, {'predictions': [{'score': 0.4245338439941406}]}, {'predictions': [{'score': 0.35996246337890625}]}, {'predictions': [{'score': 0.23017120361328125}]}, {'predictions': [{'score': 0.6063556671142578}]}, {'predictions': [{'score': 0.6851940155029297}]}, {'predictions': [{'score': 0.36734580993652344}]}, {'predictions': [{'score': 0.3808250427246094}]}, {'predictions': [{'score': 0.33167076110839844}]}, {'predictions': [{'score': 0.764007568359375}]}, {'predictions': [{'score': 0.34014129638671875}]}, {'predictions': [{'score': 0.3847923278808594}]}, {'predictions': [{'score': 0.5648193359375}]}, {'predictions': [{'score': 0.48934364318847656}]}, {'predictions': [{'score': 0.5872459411621094}]}, {'predictions': [{'score': 0.3642845153808594}]}, {'predictions': [{'score': 0.3223724365234375}]}, {'predictions': [{'score': 0.0435028076171875}]}, {'predictions': [{'score': 0.3900318145751953}]}, {'predictions': [{'score': 0.4791698455810547}]}, {'predictions': [{'score': 0.4573841094970703}]}, {'predictions': [{'score': 0.5716209411621094}]}, {'predictions': [{'score': 0.7201156616210938}]}, {'predictions': [{'score': 0.35408973693847656}]}, {'predictions': [{'score': -0.03333473205566406}]}, {'predictions': [{'score': 0.11622238159179688}]}, {'predictions': [{'score': 0.38214683532714844}]}, {'predictions': [{'score': 0.44417381286621094}]}, {'predictions': [{'score': 0.48705101013183594}]}, {'predictions': [{'score': 0.8020305633544922}]}, {'predictions': [{'score': 0.6523818969726562}]}, {'predictions': [{'score': 0.625732421875}]}, {'predictions': [{'score': 0.4075641632080078}]}, {'predictions': [{'score': 0.46525001525878906}]}, {'predictions': [{'score': 0.14825057983398438}]}, {'predictions': [{'score': 0.3548088073730469}]}, {'predictions': [{'score': 0.6918525695800781}]}, {'predictions': [{'score': 0.2568225860595703}]}, {'predictions': [{'score': 0.03644752502441406}]}, {'predictions': [{'score': 0.5146312713623047}]}, {'predictions': [{'score': 0.2729206085205078}]}, {'predictions': [{'score': 0.8104820251464844}]}, {'predictions': [{'score': 0.5373992919921875}]}, {'predictions': [{'score': 0.33942413330078125}]}, {'predictions': [{'score': 0.27962303161621094}]}, {'predictions': [{'score': 0.5237655639648438}]}, {'predictions': [{'score': 0.22563743591308594}]}, {'predictions': [{'score': 0.41135597229003906}]}, {'predictions': [{'score': 0.44879913330078125}]}, {'predictions': [{'score': 0.43712615966796875}]}, {'predictions': [{'score': 0.18337059020996094}]}, {'predictions': [{'score': 0.5345535278320312}]}, {'predictions': [{'score': 0.6286125183105469}]}, {'predictions': [{'score': 0.7564640045166016}]}, {'predictions': [{'score': 0.5796089172363281}]}, {'predictions': [{'score': 0.7021541595458984}]}, {'predictions': [{'score': 0.5155620574951172}]}, {'predictions': [{'score': 0.36079978942871094}]}, {'predictions': [{'score': 0.5905361175537109}]}, {'predictions': [{'score': 0.13276290893554688}]}, {'predictions': [{'score': 0.40489768981933594}]}, {'predictions': [{'score': 0.4537334442138672}]}, {'predictions': [{'score': 0.7153453826904297}]}, {'predictions': [{'score': 0.4467792510986328}]}, {'predictions': [{'score': 0.4162616729736328}]}, {'predictions': [{'score': 0.38506317138671875}]}, {'predictions': [{'score': 0.3855628967285156}]}, {'predictions': [{'score': 0.43955039978027344}]}, {'predictions': [{'score': 0.5380630493164062}]}, {'predictions': [{'score': 0.26258277893066406}]}, {'predictions': [{'score': 0.4788360595703125}]}, {'predictions': [{'score': 0.1803417205810547}]}, {'predictions': [{'score': 0.5704364776611328}]}, {'predictions': [{'score': 0.23535537719726562}]}, {'predictions': [{'score': 0.556121826171875}]}, {'predictions': [{'score': 0.14793014526367188}]}, {'predictions': [{'score': 0.4712066650390625}]}, {'predictions': [{'score': 0.38983154296875}]}, {'predictions': [{'score': 0.6359939575195312}]}, {'predictions': [{'score': 0.47713661193847656}]}, {'predictions': [{'score': 0.271240234375}]}, {'predictions': [{'score': 0.47382164001464844}]}, {'predictions': [{'score': 0.5838680267333984}]}, {'predictions': [{'score': 0.46728515625}]}, {'predictions': [{'score': 0.31087303161621094}]}, {'predictions': [{'score': 0.3013591766357422}]}, {'predictions': [{'score': 0.5943889617919922}]}, {'predictions': [{'score': 0.6806831359863281}]}, {'predictions': [{'score': 0.36182212829589844}]}, {'predictions': [{'score': 0.6619720458984375}]}, {'predictions': [{'score': 0.25251007080078125}]}, {'predictions': [{'score': 0.8097934722900391}]}, {'predictions': [{'score': 0.33431053161621094}]}, {'predictions': [{'score': 0.306243896484375}]}, {'predictions': [{'score': 0.4364166259765625}]}, {'predictions': [{'score': 0.6878528594970703}]}, {'predictions': [{'score': 0.39395904541015625}]}, {'predictions': [{'score': 0.5061454772949219}]}, {'predictions': [{'score': 0.3667030334472656}]}, {'predictions': [{'score': 0.8945446014404297}]}, {'predictions': [{'score': 0.06737136840820312}]}, {'predictions': [{'score': 0.7196369171142578}]}, {'predictions': [{'score': 0.2633819580078125}]}, {'predictions': [{'score': 0.2610607147216797}]}, {'predictions': [{'score': 0.25122833251953125}]}, {'predictions': [{'score': 0.7112808227539062}]}, {'predictions': [{'score': 0.6940479278564453}]}, {'predictions': [{'score': 0.2672882080078125}]}, {'predictions': [{'score': 0.35821533203125}]}, {'predictions': [{'score': 0.0988006591796875}]}, {'predictions': [{'score': 0.7068710327148438}]}, {'predictions': [{'score': 0.44864845275878906}]}, {'predictions': [{'score': 0.360565185546875}]}, {'predictions': [{'score': 0.6568260192871094}]}, {'predictions': [{'score': 0.31496429443359375}]}, {'predictions': [{'score': 0.3171405792236328}]}, {'predictions': [{'score': 0.7294349670410156}]}, {'predictions': [{'score': 0.6424980163574219}]}, {'predictions': [{'score': 0.46002769470214844}]}, {'predictions': [{'score': 0.5060234069824219}]}, {'predictions': [{'score': 0.3994312286376953}]}, {'predictions': [{'score': 0.3102836608886719}]}, {'predictions': [{'score': 0.7587451934814453}]}, {'predictions': [{'score': 0.386260986328125}]}, {'predictions': [{'score': 0.6819610595703125}]}, {'predictions': [{'score': 0.4173145294189453}]}, {'predictions': [{'score': 0.43489646911621094}]}, {'predictions': [{'score': 0.4852142333984375}]}, {'predictions': [{'score': 0.012393951416015625}]}, {'predictions': [{'score': 0.6738605499267578}]}, {'predictions': [{'score': 0.4675273895263672}]}, {'predictions': [{'score': 0.3573112487792969}]}, {'predictions': [{'score': 0.4847698211669922}]}, {'predictions': [{'score': 0.35889434814453125}]}, {'predictions': [{'score': 0.5057144165039062}]}, {'predictions': [{'score': 0.8768310546875}]}, {'predictions': [{'score': 0.282958984375}]}, {'predictions': [{'score': 0.28598594665527344}]}, {'predictions': [{'score': 0.32728004455566406}]}, {'predictions': [{'score': 0.6406574249267578}]}, {'predictions': [{'score': 0.09699058532714844}]}, {'predictions': [{'score': 0.09494590759277344}]}, {'predictions': [{'score': 0.5817337036132812}]}, {'predictions': [{'score': 0.2971477508544922}]}, {'predictions': [{'score': 0.2510089874267578}]}, {'predictions': [{'score': 0.48632049560546875}]}, {'predictions': [{'score': 0.47336578369140625}]}, {'predictions': [{'score': 0.16794204711914062}]}, {'predictions': [{'score': 0.46364784240722656}]}, {'predictions': [{'score': 0.3267688751220703}]}, {'predictions': [{'score': 0.514739990234375}]}, {'predictions': [{'score': 0.33046913146972656}]}, {'predictions': [{'score': 0.4480762481689453}]}, {'predictions': [{'score': 0.208343505859375}]}, {'predictions': [{'score': 0.2677116394042969}]}, {'predictions': [{'score': 0.30087852478027344}]}, {'predictions': [{'score': 0.5262260437011719}]}, {'predictions': [{'score': 0.5739479064941406}]}, {'predictions': [{'score': 0.4993419647216797}]}, {'predictions': [{'score': 0.08311080932617188}]}, {'predictions': [{'score': 0.4300403594970703}]}, {'predictions': [{'score': 0.41014671325683594}]}, {'predictions': [{'score': 0.3487205505371094}]}, {'predictions': [{'score': 0.8038730621337891}]}, {'predictions': [{'score': 0.5723781585693359}]}, {'predictions': [{'score': 0.21724891662597656}]}, {'predictions': [{'score': 0.4521636962890625}]}, {'predictions': [{'score': 0.1850261688232422}]}, {'predictions': [{'score': 0.5012550354003906}]}, {'predictions': [{'score': 0.6037693023681641}]}, {'predictions': [{'score': 0.5615634918212891}]}, {'predictions': [{'score': 0.4568367004394531}]}, {'predictions': [{'score': 0.47611236572265625}]}, {'predictions': [{'score': 0.5599021911621094}]}, {'predictions': [{'score': 0.5217380523681641}]}, {'predictions': [{'score': 0.6262779235839844}]}, {'predictions': [{'score': 0.3173961639404297}]}, {'predictions': [{'score': 0.5476341247558594}]}, {'predictions': [{'score': 0.4909648895263672}]}, {'predictions': [{'score': 0.22611618041992188}]}, {'predictions': [{'score': 0.7319297790527344}]}, {'predictions': [{'score': 0.6107101440429688}]}, {'predictions': [{'score': 0.38611602783203125}]}, {'predictions': [{'score': 0.8168277740478516}]}, {'predictions': [{'score': 0.3681926727294922}]}, {'predictions': [{'score': 0.5820159912109375}]}, {'predictions': [{'score': 0.7086677551269531}]}, {'predictions': [{'score': 0.44232940673828125}]}, {'predictions': [{'score': 0.3761100769042969}]}, {'predictions': [{'score': 0.19912147521972656}]}, {'predictions': [{'score': 0.22921371459960938}]}, {'predictions': [{'score': 0.5741386413574219}]}, {'predictions': [{'score': 0.3405876159667969}]}, {'predictions': [{'score': -0.05482292175292969}]}, {'predictions': [{'score': 0.5802402496337891}]}, {'predictions': [{'score': 0.47658729553222656}]}, {'predictions': [{'score': 0.4172515869140625}]}, {'predictions': [{'score': 0.3580493927001953}]}, {'predictions': [{'score': 0.3117942810058594}]}, {'predictions': [{'score': 0.6386985778808594}]}, {'predictions': [{'score': 0.30695343017578125}]}, {'predictions': [{'score': 0.3781700134277344}]}, {'predictions': [{'score': 0.6631546020507812}]}, {'predictions': [{'score': 0.4721546173095703}]}, {'predictions': [{'score': 0.4040851593017578}]}, {'predictions': [{'score': 0.3487205505371094}]}, {'predictions': [{'score': 0.5384311676025391}]}, {'predictions': [{'score': 0.5896091461181641}]}, {'predictions': [{'score': 0.7007923126220703}]}, {'predictions': [{'score': 0.0732879638671875}]}, {'predictions': [{'score': 0.642578125}]}, {'predictions': [{'score': 0.6030788421630859}]}, {'predictions': [{'score': 0.34552001953125}]}, {'predictions': [{'score': 0.3074817657470703}]}, {'predictions': [{'score': 0.36905479431152344}]}, {'predictions': [{'score': 0.3612079620361328}]}, {'predictions': [{'score': 0.2280902862548828}]}, {'predictions': [{'score': 0.3854694366455078}]}, {'predictions': [{'score': 0.39952659606933594}]}, {'predictions': [{'score': 0.24271202087402344}]}, {'predictions': [{'score': 0.5983066558837891}]}, {'predictions': [{'score': 0.36611366271972656}]}, {'predictions': [{'score': 0.2958240509033203}]}, {'predictions': [{'score': 0.16808700561523438}]}, {'predictions': [{'score': 0.2980194091796875}]}, {'predictions': [{'score': 0.5608596801757812}]}, {'predictions': [{'score': 0.49599647521972656}]}, {'predictions': [{'score': 0.4857921600341797}]}, {'predictions': [{'score': 0.8909969329833984}]}, {'predictions': [{'score': 0.5954761505126953}]}, {'predictions': [{'score': 0.176910400390625}]}, {'predictions': [{'score': 0.4575786590576172}]}, {'predictions': [{'score': 0.4018898010253906}]}]\n"
     ]
    }
   ],
   "source": [
    "actual_values = y_test.tolist()\n",
    "\n",
    "X_test_list = X_test.values.tolist()\n",
    "\n",
    "query_data_csv = []\n",
    "for point in X_test_list:\n",
    "    query = ','.join([str(item) for item in point])\n",
    "    query_data_csv.append(query)\n",
    "\n",
    "predicted_values = []\n",
    "for query in query_data_csv:\n",
    "    prediction = linear_predictor.predict(query)\n",
    "    predicted_values.append(prediction)\n",
    "print(predicted_values)\n"
   ]
  },
  {
   "cell_type": "markdown",
   "id": "0ffbdda8-17fb-4547-9857-935d9504e8e1",
   "metadata": {
    "tags": []
   },
   "source": [
    "## Delete the Endpoint and Config"
   ]
  },
  {
   "cell_type": "code",
   "execution_count": 117,
   "id": "8bf73a31-8288-4160-a2f9-be07a1f322ea",
   "metadata": {
    "tags": []
   },
   "outputs": [
    {
     "name": "stdout",
     "output_type": "stream",
     "text": [
      "Endpoint configuration 'regression-linear-learner-endpoint' has been deleted.\n",
      "Endpoint 'regression-linear-learner-endpoint' has been deleted.\n",
      "Success!\n"
     ]
    }
   ],
   "source": [
    "# Delete the Endpoint and Config\n",
    "result_endpoint_config = delete_sagemaker_endpoint_config(Endpoint)\n",
    "result_endpoint = delete_sagemaker_endpoint(Endpoint)\n",
    "\n",
    "if result_endpoint_config and result_endpoint:\n",
    "    print(\"Success!\")\n",
    "else:\n",
    "    print(\"Failure.\")"
   ]
  },
  {
   "cell_type": "code",
   "execution_count": null,
   "id": "9f9ed1fe-87c5-4a7f-9aea-bb87bd78d63e",
   "metadata": {},
   "outputs": [],
   "source": []
  }
 ],
 "metadata": {
  "kernelspec": {
   "display_name": "conda_python3",
   "language": "python",
   "name": "conda_python3"
  },
  "language_info": {
   "codemirror_mode": {
    "name": "ipython",
    "version": 3
   },
   "file_extension": ".py",
   "mimetype": "text/x-python",
   "name": "python",
   "nbconvert_exporter": "python",
   "pygments_lexer": "ipython3",
   "version": "3.10.13"
  }
 },
 "nbformat": 4,
 "nbformat_minor": 5
}
